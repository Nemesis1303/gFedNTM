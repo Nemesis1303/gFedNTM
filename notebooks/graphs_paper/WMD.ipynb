{
 "cells": [
  {
   "cell_type": "code",
   "execution_count": 1,
   "id": "dc4ce6c8",
   "metadata": {
    "tags": []
   },
   "outputs": [],
   "source": [
    "# To visualize plots in the notebook\n",
    "%matplotlib inline\n",
    "\n",
    "# Imported libraries\n",
    "import csv\n",
    "import random\n",
    "import matplotlib\n",
    "import matplotlib.pyplot as plt\n",
    "import pylab\n",
    "import numpy as np\n",
    "from pathlib import Path\n",
    "from tqdm import tqdm\n",
    "import pandas as pd\n",
    "\n",
    "%config InlineBackend.figure_format = 'retina' "
   ]
  },
  {
   "cell_type": "code",
   "execution_count": 2,
   "id": "dc171131",
   "metadata": {
    "tags": []
   },
   "outputs": [],
   "source": [
    "# Define the figure size and dpi\n",
    "fig_width = 6.9  # inches\n",
    "fig_height = 3.5  # inches\n",
    "fig_dpi = 300\n",
    "\n",
    "plt.rcParams.update({\n",
    "    'figure.figsize': (fig_width, fig_height),\n",
    "    'figure.dpi': fig_dpi,\n",
    "    \n",
    "    # Fonts\n",
    "    'font.size': 10,\n",
    "    \n",
    "    # Axes\n",
    "    'axes.labelsize': 10,\n",
    "    'axes.titlesize': 10,\n",
    "    'axes.linewidth': 0.5,\n",
    "    'axes.grid': True,\n",
    "    'grid.linestyle': ':',\n",
    "    'grid.linewidth': 0.5,\n",
    "    'grid.color': 'gray',\n",
    "    \n",
    "    # Legend\n",
    "    'legend.fontsize': 8,\n",
    "    'legend.frameon': True,\n",
    "    'legend.framealpha': 0.8,\n",
    "    'legend.fancybox': False,\n",
    "    'legend.edgecolor': 'gray',\n",
    "    'legend.facecolor': 'white',\n",
    "    'legend.borderaxespad': 0.5,\n",
    "    'legend.borderpad': 0.4,\n",
    "    'legend.labelspacing': 0.5,\n",
    "    \n",
    "    # Lines\n",
    "   'lines.linewidth': 1.0, # set the default linewidth for plot lines to 1.0 points\n",
    "   'lines.markersize': 4, # set the default marker size for plot markers to 6 points\n",
    "    \n",
    "    'axes.labelsize': 10, # set the font size of the axis labels to 10 points\n",
    "    'axes.titlesize': 12, # set the font size of the plot title to 12 points\n",
    "    'xtick.labelsize': 8, # set the font size of the x-axis tick labels to 8 points\n",
    "    'ytick.labelsize': 8, # set the font size of the y-axis tick labels to 8 points\n",
    "})"
   ]
  },
  {
   "cell_type": "code",
   "execution_count": 17,
   "id": "f9632ccd-cad1-498f-89fd-3d95c2e985d0",
   "metadata": {
    "tags": []
   },
   "outputs": [],
   "source": [
    "import matplotlib.colors\n",
    "cmap = matplotlib.colors.LinearSegmentedColormap.from_list(\"\", [\"#5398E6\",\"#E6695E\",\"#48E4E5\",\n",
    "                                                                \"#E6A430\",\"#3CE685\",\"#E6E05A\",\n",
    "                                                                \"#8D55E6\"])"
   ]
  },
  {
   "cell_type": "code",
   "execution_count": 25,
   "id": "1f4aa213-7406-4d96-8ef5-9d02197444ad",
   "metadata": {
    "tags": []
   },
   "outputs": [],
   "source": [
    "def plot_graph(df):\n",
    "    ax = df.plot(kind='bar', rot=30, width=0.8, colormap=cmap)\n",
    "    handles, labels = ax.get_legend_handles_labels()\n",
    "    labels= ['NC Node 1', 'NC Node 2', 'NC Node 3', 'NC Node 4', 'NC Node 5']\n",
    "    ax.legend(handles, labels, loc='lower center', bbox_to_anchor=(0.5, -0.4), ncol=4, frameon=True, borderpad=1, labelspacing=1)\n",
    "    ax.set_ylabel(\"Average min WMD\")"
   ]
  },
  {
   "cell_type": "markdown",
   "id": "485e8a25-d541-443d-8bef-e0e1ce3f62f6",
   "metadata": {},
   "source": [
    "#### Import TMmodel from repo"
   ]
  },
  {
   "cell_type": "code",
   "execution_count": 3,
   "id": "3a800e69-5a05-4b8f-b3c6-d9ba6e53e070",
   "metadata": {
    "tags": []
   },
   "outputs": [],
   "source": [
    "import sys\n",
    "sys.path.append('../..')\n",
    "from src.aux_modules.topicmodeler.src.topicmodeling.manageModels import TMmodel"
   ]
  },
  {
   "cell_type": "markdown",
   "id": "efb41fbc-a179-4cb9-9d6a-d61203d04b72",
   "metadata": {},
   "source": [
    "#### Load Word2Vec model"
   ]
  },
  {
   "cell_type": "code",
   "execution_count": 4,
   "id": "865e811e",
   "metadata": {
    "tags": []
   },
   "outputs": [],
   "source": [
    "import gensim.downloader as api\n",
    "model = api.load('word2vec-google-news-300')"
   ]
  },
  {
   "cell_type": "code",
   "execution_count": 5,
   "id": "d633cb76",
   "metadata": {
    "tags": []
   },
   "outputs": [
    {
     "name": "stderr",
     "output_type": "stream",
     "text": [
      "/tmp/ipykernel_1178321/3215191999.py:1: DeprecationWarning: Call to deprecated `init_sims` (Use fill_norms() instead. See https://github.com/RaRe-Technologies/gensim/wiki/Migrating-from-Gensim-3.x-to-4).\n",
      "  model.init_sims(replace=True)  # Normalizes the vectors in the word2vec class.\n"
     ]
    }
   ],
   "source": [
    "model.init_sims(replace=True)  # Normalizes the vectors in the word2vec class."
   ]
  },
  {
   "cell_type": "markdown",
   "id": "80aa6df0-e24e-40cb-bb24-70a504d64e82",
   "metadata": {},
   "source": [
    "#### Get non-collaborative and centralized models"
   ]
  },
  {
   "cell_type": "code",
   "execution_count": 6,
   "id": "c4fe87f3-5bd1-4ef3-bd48-61d74591fd01",
   "metadata": {
    "tags": []
   },
   "outputs": [],
   "source": [
    "path_models = Path(\"/export/usuarios_ml4ds/lbartolome/Repos/my_repos/gFedNTM/experiments/collab_vs_non_collab/results/models\")"
   ]
  },
  {
   "cell_type": "code",
   "execution_count": 7,
   "id": "78918087",
   "metadata": {
    "tags": []
   },
   "outputs": [
    {
     "name": "stdout",
     "output_type": "stream",
     "text": [
      "[PosixPath('/export/usuarios_ml4ds/lbartolome/Repos/my_repos/gFedNTM/experiments/collab_vs_non_collab/results/models/non_collaborative_computer_science_0_20230918'), PosixPath('/export/usuarios_ml4ds/lbartolome/Repos/my_repos/gFedNTM/experiments/collab_vs_non_collab/results/models/non_collaborative_economics_0_20230918'), PosixPath('/export/usuarios_ml4ds/lbartolome/Repos/my_repos/gFedNTM/experiments/collab_vs_non_collab/results/models/non_collaborative_philosophy_0_20230918'), PosixPath('/export/usuarios_ml4ds/lbartolome/Repos/my_repos/gFedNTM/experiments/collab_vs_non_collab/results/models/non_collaborative_political_science_0_20230918'), PosixPath('/export/usuarios_ml4ds/lbartolome/Repos/my_repos/gFedNTM/experiments/collab_vs_non_collab/results/models/non_collaborative_sociology_0_20230918')]\n"
     ]
    }
   ],
   "source": [
    "node_models = sorted([el for el in path_models.iterdir() if el.name.startswith('non_collaborativ')], key=lambda el: el.name)\n",
    "print(node_models)"
   ]
  },
  {
   "cell_type": "code",
   "execution_count": 8,
   "id": "0775ab2e",
   "metadata": {
    "tags": []
   },
   "outputs": [
    {
     "name": "stdout",
     "output_type": "stream",
     "text": [
      "[PosixPath('/export/usuarios_ml4ds/lbartolome/Repos/my_repos/gFedNTM/experiments/collab_vs_non_collab/results/models/centralied_10_0_20230918')]\n"
     ]
    }
   ],
   "source": [
    "centralized_models = sorted([el for el in path_models.iterdir() if el.name.startswith('centralied')], key=lambda el: el.name)\n",
    "#centralized_models = centralized_models[0:-1]\n",
    "print(centralized_models)"
   ]
  },
  {
   "cell_type": "code",
   "execution_count": 9,
   "id": "232f7922",
   "metadata": {
    "tags": []
   },
   "outputs": [],
   "source": [
    "all_models = node_models + centralized_models"
   ]
  },
  {
   "cell_type": "code",
   "execution_count": null,
   "id": "f4206d09-d55e-424f-8093-a9474133c05f",
   "metadata": {},
   "outputs": [],
   "source": [
    "# creating a list of index names\n",
    "index_values = ['Node ' + str(el+1) for el in range(5)]\n",
    "# creating a list of column names\n",
    "column_values = index_values + ['Fed 10']#, 'Fed 25', 'Fed 50'  "
   ]
  },
  {
   "cell_type": "markdown",
   "id": "0a65d74b-0d6e-4a2a-b42d-8805e160ec47",
   "metadata": {},
   "source": [
    "#### Topn = 10"
   ]
  },
  {
   "cell_type": "code",
   "execution_count": null,
   "id": "9047f23a",
   "metadata": {
    "tags": []
   },
   "outputs": [],
   "source": [
    "n_words = 10\n",
    "tfidf = True\n",
    "\n",
    "distances = np.zeros((len(node_models), len(all_models)))\n",
    "\n",
    "for idx_ref, ref_model in enumerate(node_models):\n",
    "    this_topic_dst = []\n",
    "    ref_topics = [el[1].split(', ') for el in TMmodel(ref_model.joinpath('TMmodel')).get_tpc_word_descriptions(n_words=n_words, tfidf=tfidf)]\n",
    "    for idx_comp, comp_model in enumerate(all_models):\n",
    "        comp_topics = [el[1].split(', ') for el in TMmodel(comp_model.joinpath('TMmodel')).get_tpc_word_descriptions(n_words=n_words, tfidf=tfidf)]\n",
    "        all_dist = np.zeros((len(ref_topics), len(comp_topics)))\n",
    "        for idx1,tpc1 in enumerate(ref_topics):\n",
    "            for idx2,tpc2 in enumerate(comp_topics):\n",
    "                all_dist[idx1,idx2] = model.wmdistance(tpc1[:n_words], tpc2[:n_words])\n",
    "        distances[idx_ref, idx_comp] = np.mean(np.min(all_dist,axis=1))"
   ]
  },
  {
   "cell_type": "code",
   "execution_count": 16,
   "id": "bd02c472",
   "metadata": {
    "tags": []
   },
   "outputs": [],
   "source": [
    "# creating the dataframe\n",
    "df10 = pd.DataFrame(data = distances, \n",
    "                  index = index_values, \n",
    "                  columns = column_values)\n",
    "# plot graph\n",
    "plot_graph(df10)"
   ]
  },
  {
   "cell_type": "markdown",
   "id": "849668a8",
   "metadata": {},
   "source": [
    "#### Topn = 50"
   ]
  },
  {
   "cell_type": "code",
   "execution_count": null,
   "id": "70aa8199",
   "metadata": {},
   "outputs": [],
   "source": [
    "n_words = 50\n",
    "tfidf = True\n",
    "\n",
    "distances = np.zeros((len(node_models), len(all_models)))\n",
    "\n",
    "for idx_ref, ref_model in enumerate(node_models):\n",
    "    this_topic_dst = []\n",
    "    ref_topics = [el[1].split(', ') for el in TMmodel(ref_model.joinpath('TMmodel')).get_tpc_word_descriptions(n_words=n_words, tfidf=tfidf)]\n",
    "    for idx_comp, comp_model in enumerate(all_models):\n",
    "        comp_topics = [el[1].split(', ') for el in TMmodel(comp_model.joinpath('TMmodel')).get_tpc_word_descriptions(n_words=n_words, tfidf=tfidf)]\n",
    "        all_dist = np.zeros((len(ref_topics), len(comp_topics)))\n",
    "        for idx1,tpc1 in enumerate(ref_topics):\n",
    "            for idx2,tpc2 in enumerate(comp_topics):\n",
    "                all_dist[idx1,idx2] = model.wmdistance(tpc1[:n_words], tpc2[:n_words])\n",
    "        distances[idx_ref, idx_comp] = np.mean(np.min(all_dist,axis=1))"
   ]
  },
  {
   "cell_type": "code",
   "execution_count": null,
   "id": "6fcc203d",
   "metadata": {},
   "outputs": [],
   "source": [
    "# creating the dataframe\n",
    "df50 = pd.DataFrame(data = distances, \n",
    "                  index = index_values, \n",
    "                  columns = column_values)\n",
    "# plot graph\n",
    "plot_graph(df50)"
   ]
  },
  {
   "cell_type": "markdown",
   "id": "d2096216",
   "metadata": {},
   "source": [
    "#### Topn = 100"
   ]
  },
  {
   "cell_type": "code",
   "execution_count": null,
   "id": "265825f7",
   "metadata": {},
   "outputs": [],
   "source": [
    "n_words = 100\n",
    "tfidf = True\n",
    "\n",
    "distances = np.zeros((len(node_models), len(all_models)))\n",
    "\n",
    "for idx_ref, ref_model in enumerate(node_models):\n",
    "    this_topic_dst = []\n",
    "    ref_topics = [el[1].split(', ') for el in TMmodel(ref_model.joinpath('TMmodel')).get_tpc_word_descriptions(n_words=n_words, tfidf=tfidf)]\n",
    "    for idx_comp, comp_model in enumerate(all_models):\n",
    "        comp_topics = [el[1].split(', ') for el in TMmodel(comp_model.joinpath('TMmodel')).get_tpc_word_descriptions(n_words=n_words, tfidf=tfidf)]\n",
    "        all_dist = np.zeros((len(ref_topics), len(comp_topics)))\n",
    "        for idx1,tpc1 in enumerate(ref_topics):\n",
    "            for idx2,tpc2 in enumerate(comp_topics):\n",
    "                all_dist[idx1,idx2] = model.wmdistance(tpc1[:n_words], tpc2[:n_words])\n",
    "        distances[idx_ref, idx_comp] = np.mean(np.min(all_dist,axis=1))"
   ]
  },
  {
   "cell_type": "code",
   "execution_count": null,
   "id": "eaba5924",
   "metadata": {},
   "outputs": [],
   "source": [
    "# creating the dataframe\n",
    "df100 = pd.DataFrame(data = distances, \n",
    "                  index = index_values, \n",
    "                  columns = column_values)\n",
    "# plot graph\n",
    "plot_graph(df100)"
   ]
  },
  {
   "cell_type": "markdown",
   "id": "e9eb9e3e",
   "metadata": {},
   "source": [
    "#### Topn = 200"
   ]
  },
  {
   "cell_type": "code",
   "execution_count": null,
   "id": "35cbfcf1",
   "metadata": {},
   "outputs": [],
   "source": [
    "n_words = 200\n",
    "tfidf = True\n",
    "\n",
    "distances = np.zeros((len(node_models), len(all_models)))\n",
    "\n",
    "for idx_ref, ref_model in enumerate(node_models):\n",
    "    this_topic_dst = []\n",
    "    ref_topics = [el[1].split(', ') for el in TMmodel(ref_model.joinpath('TMmodel')).get_tpc_word_descriptions(n_words=n_words, tfidf=tfidf)]\n",
    "    for idx_comp, comp_model in enumerate(all_models):\n",
    "        comp_topics = [el[1].split(', ') for el in TMmodel(comp_model.joinpath('TMmodel')).get_tpc_word_descriptions(n_words=n_words, tfidf=tfidf)]\n",
    "        all_dist = np.zeros((len(ref_topics), len(comp_topics)))\n",
    "        for idx1,tpc1 in enumerate(ref_topics):\n",
    "            for idx2,tpc2 in enumerate(comp_topics):\n",
    "                all_dist[idx1,idx2] = model.wmdistance(tpc1[:n_words], tpc2[:n_words])\n",
    "        distances[idx_ref, idx_comp] = np.mean(np.min(all_dist,axis=1))"
   ]
  },
  {
   "cell_type": "code",
   "execution_count": null,
   "id": "8e4863c6",
   "metadata": {},
   "outputs": [],
   "source": [
    "# creating the dataframe\n",
    "df200 = pd.DataFrame(data = distances, \n",
    "                  index = index_values, \n",
    "                  columns = column_values)\n",
    "# plot graph\n",
    "plot_graph(df200)"
   ]
  },
  {
   "cell_type": "markdown",
   "id": "9ad79e8d",
   "metadata": {},
   "source": [
    "#### Topn = 300"
   ]
  },
  {
   "cell_type": "code",
   "execution_count": null,
   "id": "d6552976",
   "metadata": {},
   "outputs": [],
   "source": [
    "n_words = 300\n",
    "tfidf = True\n",
    "\n",
    "distances = np.zeros((len(node_models), len(all_models)))\n",
    "\n",
    "for idx_ref, ref_model in enumerate(node_models):\n",
    "    this_topic_dst = []\n",
    "    ref_topics = [el[1].split(', ') for el in TMmodel(ref_model.joinpath('TMmodel')).get_tpc_word_descriptions(n_words=n_words, tfidf=tfidf)]\n",
    "    for idx_comp, comp_model in enumerate(all_models):\n",
    "        comp_topics = [el[1].split(', ') for el in TMmodel(comp_model.joinpath('TMmodel')).get_tpc_word_descriptions(n_words=n_words, tfidf=tfidf)]\n",
    "        all_dist = np.zeros((len(ref_topics), len(comp_topics)))\n",
    "        for idx1,tpc1 in enumerate(ref_topics):\n",
    "            for idx2,tpc2 in enumerate(comp_topics):\n",
    "                all_dist[idx1,idx2] = model.wmdistance(tpc1[:n_words], tpc2[:n_words])\n",
    "        distances[idx_ref, idx_comp] = np.mean(np.min(all_dist,axis=1))"
   ]
  },
  {
   "cell_type": "code",
   "execution_count": null,
   "id": "d7d656d5",
   "metadata": {},
   "outputs": [],
   "source": [
    "# creating the dataframe\n",
    "df300 = pd.DataFrame(data = distances, \n",
    "                  index = index_values, \n",
    "                  columns = column_values)\n",
    "# plot graph\n",
    "plot_graph(df300)"
   ]
  }
 ],
 "metadata": {
  "kernelspec": {
   "display_name": "prueba",
   "language": "python",
   "name": "prueba"
  },
  "language_info": {
   "codemirror_mode": {
    "name": "ipython",
    "version": 3
   },
   "file_extension": ".py",
   "mimetype": "text/x-python",
   "name": "python",
   "nbconvert_exporter": "python",
   "pygments_lexer": "ipython3",
   "version": "3.10.9"
  }
 },
 "nbformat": 4,
 "nbformat_minor": 5
}

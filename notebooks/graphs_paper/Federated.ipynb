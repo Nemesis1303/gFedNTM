{
 "cells": [
  {
   "cell_type": "code",
   "execution_count": 1,
   "id": "5f24b1c6-4f30-40af-9222-af1ef7f78aa8",
   "metadata": {
    "tags": []
   },
   "outputs": [],
   "source": [
    "import numpy as np\n",
    "import pandas as pd\n",
    "from functools import reduce\n",
    "import pathlib\n",
    "import matplotlib.pyplot as plt\n",
    "import gzip\n",
    "import scipy.sparse as sparse\n",
    "import pickle\n",
    "import warnings\n",
    "warnings.filterwarnings(\"ignore\", category=RuntimeWarning) \n",
    "\n",
    "%matplotlib inline\n",
    "%config InlineBackend.figure_format = 'retina'"
   ]
  },
  {
   "cell_type": "code",
   "execution_count": 2,
   "id": "c71da731-bb10-43ae-b86b-50cd371113e0",
   "metadata": {},
   "outputs": [],
   "source": [
    "# Define the figure size and dpi\n",
    "fig_width = 6.9  # inches\n",
    "fig_height = 3.5  # inches\n",
    "fig_dpi = 300\n",
    "\n",
    "plt.rcParams.update({\n",
    "    'figure.figsize': (fig_width, fig_height),\n",
    "    'figure.dpi': fig_dpi,\n",
    "    \n",
    "    # Fonts\n",
    "    'font.size': 10,\n",
    "    \n",
    "    # Axes\n",
    "    'axes.labelsize': 10,\n",
    "    'axes.titlesize': 10,\n",
    "    'axes.linewidth': 0.5,\n",
    "    'axes.grid': True,\n",
    "    'grid.linestyle': ':',\n",
    "    'grid.linewidth': 0.5,\n",
    "    'grid.color': 'gray',\n",
    "    \n",
    "    # Legend\n",
    "    'legend.fontsize': 8,\n",
    "    'legend.frameon': True,\n",
    "    'legend.framealpha': 0.8,\n",
    "    'legend.fancybox': False,\n",
    "    'legend.edgecolor': 'gray',\n",
    "    'legend.facecolor': 'white',\n",
    "    'legend.borderaxespad': 0.5,\n",
    "    'legend.borderpad': 0.4,\n",
    "    'legend.labelspacing': 0.5,\n",
    "    \n",
    "    # Lines\n",
    "   'lines.linewidth': 1.0, # set the default linewidth for plot lines to 1.0 points\n",
    "   'lines.markersize': 4, # set the default marker size for plot markers to 6 points\n",
    "    \n",
    "    'axes.labelsize': 10, # set the font size of the axis labels to 10 points\n",
    "    'axes.titlesize': 12, # set the font size of the plot title to 12 points\n",
    "    'xtick.labelsize': 8, # set the font size of the x-axis tick labels to 8 points\n",
    "    'ytick.labelsize': 8, # set the font size of the y-axis tick labels to 8 points\n",
    "})"
   ]
  },
  {
   "cell_type": "code",
   "execution_count": 27,
   "id": "4ac4f35c-808c-466f-bd55-5fda6fb4bd9f",
   "metadata": {
    "tags": []
   },
   "outputs": [
    {
     "data": {
      "text/plain": [
       "[PosixPath('/export/usuarios_ml4ds/lbartolome/Repos/my_repos/gFedNTM/static/output_models/client1'),\n",
       " PosixPath('/export/usuarios_ml4ds/lbartolome/Repos/my_repos/gFedNTM/static/output_models/client2'),\n",
       " PosixPath('/export/usuarios_ml4ds/lbartolome/Repos/my_repos/gFedNTM/static/output_models/client3'),\n",
       " PosixPath('/export/usuarios_ml4ds/lbartolome/Repos/my_repos/gFedNTM/static/output_models/client4'),\n",
       " PosixPath('/export/usuarios_ml4ds/lbartolome/Repos/my_repos/gFedNTM/static/output_models/client5'),\n",
       " PosixPath('/export/usuarios_ml4ds/lbartolome/Repos/my_repos/gFedNTM/static/output_models/server')]"
      ]
     },
     "execution_count": 27,
     "metadata": {},
     "output_type": "execute_result"
    }
   ],
   "source": [
    "output_models_path = pathlib.Path(\"/export/usuarios_ml4ds/lbartolome/Repos/my_repos/gFedNTM/static/output_models\")\n",
    "n_clients = 5\n",
    "models = ['client' + str(i+1) for i in range(n_clients)] + ['server']\n",
    "output_models = [output_models_path.joinpath(model_i) for model_i in models]\n",
    "output_models"
   ]
  },
  {
   "cell_type": "code",
   "execution_count": 28,
   "id": "c91b96a0-c2d0-445c-b76d-7a484c42c8e9",
   "metadata": {
    "tags": []
   },
   "outputs": [
    {
     "data": {
      "text/plain": [
       "[PosixPath('/export/usuarios_ml4ds/lbartolome/Repos/my_repos/gFedNTM/static/output_models/client1/model_1_20230926.npz'),\n",
       " PosixPath('/export/usuarios_ml4ds/lbartolome/Repos/my_repos/gFedNTM/static/output_models/client2/model_2_20230926.npz'),\n",
       " PosixPath('/export/usuarios_ml4ds/lbartolome/Repos/my_repos/gFedNTM/static/output_models/client3/model_3_20230926.npz'),\n",
       " PosixPath('/export/usuarios_ml4ds/lbartolome/Repos/my_repos/gFedNTM/static/output_models/client4/model_4_20230926.npz'),\n",
       " PosixPath('/export/usuarios_ml4ds/lbartolome/Repos/my_repos/gFedNTM/static/output_models/client5/model_5_20230926.npz'),\n",
       " PosixPath('/export/usuarios_ml4ds/lbartolome/Repos/my_repos/gFedNTM/static/output_models/server/global_model_20230926.npz')]"
      ]
     },
     "execution_count": 28,
     "metadata": {},
     "output_type": "execute_result"
    }
   ],
   "source": [
    "final_output_models = [output_models[i].joinpath(f\"model_{(i+1)}_20230926.npz\") for i in range(n_clients)] + [output_models[-1].joinpath(\"global_model_20230926.npz\")]\n",
    "final_output_models"
   ]
  },
  {
   "cell_type": "code",
   "execution_count": 33,
   "id": "e5f72923-21a2-43c1-8fd0-08df4f1781dd",
   "metadata": {},
   "outputs": [
    {
     "name": "stdout",
     "output_type": "stream",
     "text": [
      "['betas', 'thetas', 'ntopics', 'topics']\n"
     ]
    },
    {
     "data": {
      "text/plain": [
       "array(None, dtype=object)"
      ]
     },
     "execution_count": 33,
     "metadata": {},
     "output_type": "execute_result"
    }
   ],
   "source": [
    "data = np.load(final_output_models[-1], allow_pickle=True)\n",
    "print(list(data.keys()))\n",
    "data['topics']"
   ]
  }
 ],
 "metadata": {
  "kernelspec": {
   "display_name": "prueba",
   "language": "python",
   "name": "prueba"
  },
  "language_info": {
   "codemirror_mode": {
    "name": "ipython",
    "version": 3
   },
   "file_extension": ".py",
   "mimetype": "text/x-python",
   "name": "python",
   "nbconvert_exporter": "python",
   "pygments_lexer": "ipython3",
   "version": "3.10.9"
  }
 },
 "nbformat": 4,
 "nbformat_minor": 5
}

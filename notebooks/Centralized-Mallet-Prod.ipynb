{
 "cells": [
  {
   "cell_type": "code",
   "execution_count": 1,
   "id": "5d3de101",
   "metadata": {},
   "outputs": [
    {
     "name": "stderr",
     "output_type": "stream",
     "text": [
      "/export/usuarios_ml4ds/lbartolome/topicmodeler/.venv/lib/python3.8/site-packages/gensim/similarities/__init__.py:15: UserWarning: The gensim.similarities.levenshtein submodule is disabled, because the optional Levenshtein package <https://pypi.org/project/python-Levenshtein/> is unavailable. Install Levenhstein (e.g. `pip install python-Levenshtein`) to suppress this warning.\n",
      "  warnings.warn(msg)\n"
     ]
    }
   ],
   "source": [
    "import numpy as np\n",
    "import pandas as pd\n",
    "import zipfile as zp\n",
    "from pathlib import Path\n",
    "from gensim.utils import check_output\n",
    "from sklearn.preprocessing import normalize\n",
    "from scipy.special import softmax\n",
    "import shutil\n",
    "from subprocess import check_output\n",
    "import torch\n",
    "from tqdm import tqdm"
   ]
  },
  {
   "cell_type": "code",
   "execution_count": 2,
   "id": "85c9d940",
   "metadata": {},
   "outputs": [],
   "source": [
    "mallet_path = '/export/usuarios_ml4ds/jarenas/github/IntelComp/ITMT/topicmodeler/src/topicmodeling/mallet-2.0.8/bin/mallet'"
   ]
  },
  {
   "cell_type": "markdown",
   "id": "d9d35200",
   "metadata": {},
   "source": [
    "# 1. Creation of synthetic corpus\n",
    "We consider a scenario with n parties, each of them as an associated corpus.\n",
    "To generate the corpus associated with each of the parties, we consider a common beta distribution (word-topic distribution), but we freeze different topics/ assign different asymmetric Dirichlet priors favoring different topics at the time of generating the document that composes each party's corpus."
   ]
  },
  {
   "cell_type": "code",
   "execution_count": 3,
   "id": "e7e965f1",
   "metadata": {},
   "outputs": [],
   "source": [
    "def rotateArray(arr, n, d):\n",
    "    temp = []\n",
    "    i = 0\n",
    "    while (i < d):\n",
    "        temp.append(arr[i])\n",
    "        i = i + 1\n",
    "    i = 0\n",
    "    while (d < n):\n",
    "        arr[i] = arr[d]\n",
    "        i = i + 1\n",
    "        d = d + 1\n",
    "    arr[:] = arr[: i] + temp\n",
    "    return arr"
   ]
  },
  {
   "cell_type": "code",
   "execution_count": 24,
   "id": "49efd077",
   "metadata": {},
   "outputs": [],
   "source": [
    "# Topic modeling settings\n",
    "vocab_size = 5000\n",
    "n_topics = 50\n",
    "beta = 1e-2\n",
    "alpha = 1/n_topics\n",
    "n_docs = 10000\n",
    "n_docs_inf = 10000\n",
    "n_docs += n_docs_inf\n",
    "nwords = (150, 250) #Min and max lengths of the documents\n",
    "alg = \"lda\" #\"prod\""
   ]
  },
  {
   "cell_type": "code",
   "execution_count": 5,
   "id": "a6c8a1b8",
   "metadata": {},
   "outputs": [],
   "source": [
    "# Nodes settings\n",
    "n_nodes = 5\n",
    "frozen_topics = 5\n",
    "prior_frozen = frozen_topics * [alpha]\n",
    "own_topics = int((n_topics-frozen_topics)/n_nodes)\n",
    "prior_nofrozen = own_topics * [alpha] + (n_topics-frozen_topics-own_topics) * [alpha/10000]"
   ]
  },
  {
   "cell_type": "code",
   "execution_count": 6,
   "id": "0394717c",
   "metadata": {},
   "outputs": [
    {
     "name": "stdout",
     "output_type": "stream",
     "text": [
      "Probabilidades ordenadas para el primer vector de tópicos:\n",
      "[6.93194658e-002 4.44549314e-002 4.36735821e-002 ... 1.38660722e-312\n",
      " 0.00000000e+000 0.00000000e+000]\n",
      "(50, 5000)\n"
     ]
    }
   ],
   "source": [
    "# Step 1 - generation of topics\n",
    "topic_vectors = np.random.dirichlet(vocab_size*[beta], n_topics)\n",
    "print('Probabilidades ordenadas para el primer vector de tópicos:')\n",
    "print(np.sort(topic_vectors[0])[::-1])\n",
    "print(topic_vectors.shape)"
   ]
  },
  {
   "cell_type": "code",
   "execution_count": 7,
   "id": "207e51b0",
   "metadata": {},
   "outputs": [
    {
     "name": "stdout",
     "output_type": "stream",
     "text": [
      "Tópicos (equivalentes) identificados correctamente (true): 50.00000000000004\n",
      "Tópicos (equivalentes) identificados correctamente (random): 3.692321484117879\n"
     ]
    }
   ],
   "source": [
    "#Here we compare alignment of the topic_vector matrix with itself and with another randomly generated matrix\n",
    "print('Tópicos (equivalentes) identificados correctamente (true):', np.sum(np.max(np.sqrt(topic_vectors).dot(np.sqrt(topic_vectors.T)), axis=0)))\n",
    "topic_vectors2 = np.random.dirichlet(vocab_size*[beta], n_topics)\n",
    "print('Tópicos (equivalentes) identificados correctamente (random):', np.sum(np.max(np.sqrt(topic_vectors2).dot(np.sqrt(topic_vectors.T)), axis=0)))"
   ]
  },
  {
   "cell_type": "code",
   "execution_count": 8,
   "id": "31a99517",
   "metadata": {},
   "outputs": [],
   "source": [
    "# Step 2 - generation of document topic proportions\n",
    "doc_topics_all = []\n",
    "for i in np.arange(n_nodes):\n",
    "    doc_topics = np.random.dirichlet(prior_frozen + prior_nofrozen, n_docs)\n",
    "    prior_nofrozen = rotateArray(prior_nofrozen, len(prior_nofrozen), own_topics)\n",
    "    doc_topics_all.append(doc_topics)"
   ]
  },
  {
   "cell_type": "markdown",
   "id": "16d8169f",
   "metadata": {},
   "source": [
    "## According to LDA's generative process\n",
    "**for** each document $d$ **do**  \n",
    "&nbsp;&nbsp;Draw topic distribution $\\theta \\sim Dirichlet(\\alpha)$  \n",
    "&nbsp;&nbsp;&nbsp;&nbsp;**for** each word at position $n$ **do**  \n",
    "&nbsp;&nbsp;&nbsp;&nbsp;&nbsp;&nbsp;Sample topic $z_n \\sim Multinomial(1,\\theta)$  \n",
    "&nbsp;&nbsp;&nbsp;&nbsp;&nbsp;&nbsp;Sample word $w_n \\sim Multinomial(1, \\beta_{z_n})$  \n",
    "&nbsp;&nbsp;&nbsp;&nbsp;**end**  \n",
    "**end**\n",
    "\n",
    "where the distribution of $w_n \\sim \\beta$, $\\theta$ is $Multinomial(1, \\beta\\theta)$\n",
    "\n",
    "## According to ProdLDA generative process\n",
    "In comparisson to LDA's generative process:\n",
    "- $\\beta$ is **unnormalized**\n",
    "- the conditional distribution of wn is defined as $w_n \\mid \\beta, \\theta \\sim Multinomial(1, \\sigma(\\beta\\theta))$"
   ]
  },
  {
   "cell_type": "code",
   "execution_count": 9,
   "id": "b7245516",
   "metadata": {},
   "outputs": [
    {
     "name": "stdout",
     "output_type": "stream",
     "text": [
      "Generating document words for node  0\n"
     ]
    },
    {
     "name": "stderr",
     "output_type": "stream",
     "text": [
      "100%|███████████████████████████████████████████████████████████████████████| 20000/20000 [08:01<00:00, 41.57it/s]\n"
     ]
    },
    {
     "name": "stdout",
     "output_type": "stream",
     "text": [
      "Generating document words for node  1\n"
     ]
    },
    {
     "name": "stderr",
     "output_type": "stream",
     "text": [
      "100%|███████████████████████████████████████████████████████████████████████| 20000/20000 [08:00<00:00, 41.59it/s]\n"
     ]
    },
    {
     "name": "stdout",
     "output_type": "stream",
     "text": [
      "Generating document words for node  2\n"
     ]
    },
    {
     "name": "stderr",
     "output_type": "stream",
     "text": [
      "100%|███████████████████████████████████████████████████████████████████████| 20000/20000 [08:14<00:00, 40.45it/s]\n"
     ]
    },
    {
     "name": "stdout",
     "output_type": "stream",
     "text": [
      "Generating document words for node  3\n"
     ]
    },
    {
     "name": "stderr",
     "output_type": "stream",
     "text": [
      "100%|███████████████████████████████████████████████████████████████████████| 20000/20000 [08:08<00:00, 40.97it/s]\n"
     ]
    },
    {
     "name": "stdout",
     "output_type": "stream",
     "text": [
      "Generating document words for node  4\n"
     ]
    },
    {
     "name": "stderr",
     "output_type": "stream",
     "text": [
      "100%|███████████████████████████████████████████████████████████████████████| 20000/20000 [08:06<00:00, 41.14it/s]\n"
     ]
    }
   ],
   "source": [
    "# Step 3 - Document generation\n",
    "documents_all = []\n",
    "z_all = []\n",
    "\n",
    "for i in np.arange(n_nodes):\n",
    "    print(\"Generating document words for node \", str(i))\n",
    "    documents = [] # Document words\n",
    "    #z = [] # Assignments\n",
    "    for docid in tqdm(np.arange(n_docs)):\n",
    "        doc_len = np.random.randint(low=nwords[0], high=nwords[1])\n",
    "        this_doc_words = []\n",
    "        #this_doc_assigns = []\n",
    "        for wd_idx in np.arange(doc_len):\n",
    "            \n",
    "            tpc = np.nonzero(np.random.multinomial(1, doc_topics_all[i][docid]))[0][0]\n",
    "            #this_doc_assigns.append(tpc)\n",
    "            if alg == \"lda\":\n",
    "                word = np.nonzero(np.random.multinomial(1, topic_vectors[tpc]))[0][0]\n",
    "            else: #prodlda\n",
    "                pval = np.power(topic_vectors[tpc], doc_topics_all[i][docid][tpc])\n",
    "                weights = torch.tensor(pval, dtype=torch.float) # create a tensor of weights\n",
    "                word = torch.multinomial(weights, 1).numpy()[0]\n",
    "                #pval = normalize(pval[:,np.newaxis], norm='l1', axis=0).ravel()\n",
    "                #word = np.nonzero(np.random.multinomial(1, b))[0][0]\n",
    "            this_doc_words.append('wd'+str(word))\n",
    "        #z.append(this_doc_assigns)\n",
    "        documents.append(this_doc_words)\n",
    "    documents_all.append(documents)\n",
    "    #z_all.append(z)"
   ]
  },
  {
   "cell_type": "markdown",
   "id": "470bc0ef",
   "metadata": {},
   "source": [
    "## Generation of second corpus for validation with different generative process from that of the training corpus"
   ]
  },
  {
   "cell_type": "code",
   "execution_count": 10,
   "id": "571e885a",
   "metadata": {},
   "outputs": [],
   "source": [
    "n_docs_inf2 = 10000"
   ]
  },
  {
   "cell_type": "code",
   "execution_count": 11,
   "id": "ae78fc59",
   "metadata": {},
   "outputs": [
    {
     "name": "stdout",
     "output_type": "stream",
     "text": [
      "Probabilidades ordenadas para el primer vector de tópicos:\n",
      "[0.04373123 0.03963138 0.03749698 ... 0.         0.         0.        ]\n",
      "(50, 5000)\n"
     ]
    }
   ],
   "source": [
    "# Step 1 - generation of topics\n",
    "topic_vectors2 = np.random.dirichlet(vocab_size*[beta], n_topics)\n",
    "print('Probabilidades ordenadas para el primer vector de tópicos:')\n",
    "print(np.sort(topic_vectors2[0])[::-1])\n",
    "print(topic_vectors2.shape)"
   ]
  },
  {
   "cell_type": "code",
   "execution_count": 12,
   "id": "19cf0198",
   "metadata": {},
   "outputs": [],
   "source": [
    "# Step 2 - generation of document topic proportions\n",
    "doc_topics_all2 = []\n",
    "for i in np.arange(n_nodes):\n",
    "    doc_topics = np.random.dirichlet(prior_frozen + prior_nofrozen, n_docs_inf2)\n",
    "    prior_nofrozen = rotateArray(prior_nofrozen, len(prior_nofrozen), own_topics)\n",
    "    doc_topics_all2.append(doc_topics)"
   ]
  },
  {
   "cell_type": "code",
   "execution_count": 13,
   "id": "d1181e47",
   "metadata": {},
   "outputs": [
    {
     "name": "stdout",
     "output_type": "stream",
     "text": [
      "Generating document words for node  0\n"
     ]
    },
    {
     "name": "stderr",
     "output_type": "stream",
     "text": [
      "100%|███████████████████████████████████████████████████████████████████████| 10000/10000 [04:01<00:00, 41.47it/s]\n"
     ]
    },
    {
     "name": "stdout",
     "output_type": "stream",
     "text": [
      "Generating document words for node  1\n"
     ]
    },
    {
     "name": "stderr",
     "output_type": "stream",
     "text": [
      "100%|███████████████████████████████████████████████████████████████████████| 10000/10000 [04:00<00:00, 41.64it/s]\n"
     ]
    },
    {
     "name": "stdout",
     "output_type": "stream",
     "text": [
      "Generating document words for node  2\n"
     ]
    },
    {
     "name": "stderr",
     "output_type": "stream",
     "text": [
      "100%|███████████████████████████████████████████████████████████████████████| 10000/10000 [04:07<00:00, 40.40it/s]\n"
     ]
    },
    {
     "name": "stdout",
     "output_type": "stream",
     "text": [
      "Generating document words for node  3\n"
     ]
    },
    {
     "name": "stderr",
     "output_type": "stream",
     "text": [
      "100%|███████████████████████████████████████████████████████████████████████| 10000/10000 [04:03<00:00, 41.07it/s]\n"
     ]
    },
    {
     "name": "stdout",
     "output_type": "stream",
     "text": [
      "Generating document words for node  4\n"
     ]
    },
    {
     "name": "stderr",
     "output_type": "stream",
     "text": [
      "100%|███████████████████████████████████████████████████████████████████████| 10000/10000 [04:02<00:00, 41.19it/s]\n"
     ]
    }
   ],
   "source": [
    "# Step 3 - Document generation\n",
    "documents_all2 = []\n",
    "z_all2 = []\n",
    "\n",
    "for i in np.arange(n_nodes):\n",
    "    print(\"Generating document words for node \", str(i))\n",
    "    documents = [] # Document words\n",
    "    #z = [] # Assignments\n",
    "    for docid in tqdm(np.arange(n_docs_inf2)):\n",
    "        doc_len = np.random.randint(low=nwords[0], high=nwords[1])\n",
    "        this_doc_words = []\n",
    "        #this_doc_assigns = []\n",
    "        for wd_idx in np.arange(doc_len):\n",
    "            tpc = np.nonzero(np.random.multinomial(1, doc_topics_all[i][docid]))[0][0]\n",
    "            #this_doc_assigns.append(tpc)\n",
    "            if alg == \"lda\":\n",
    "                word = np.nonzero(np.random.multinomial(1, topic_vectors[tpc]))[0][0]\n",
    "            else: #prodlda\n",
    "                pval = np.power(topic_vectors[tpc], doc_topics_all[i][docid][tpc])\n",
    "                weights = torch.tensor(pval, dtype=torch.float) # create a tensor of weights\n",
    "                word = torch.multinomial(weights, 1).numpy()[0]\n",
    "                #pval = normalize(pval[:,np.newaxis], norm='l1', axis=0).ravel()\n",
    "                #word = np.nonzero(np.random.multinomial(1, b))[0][0]\n",
    "            this_doc_words.append('wd'+str(word))\n",
    "        #z.append(this_doc_assigns)\n",
    "        documents.append(this_doc_words)\n",
    "    documents_all2.append(documents)\n",
    "    #z_all.append(z)"
   ]
  },
  {
   "cell_type": "markdown",
   "id": "9260e293",
   "metadata": {},
   "source": [
    "# 2. Mallet"
   ]
  },
  {
   "cell_type": "code",
   "execution_count": 14,
   "id": "5049d1fd",
   "metadata": {},
   "outputs": [],
   "source": [
    "def extractPipe(modeldir):\n",
    "    \n",
    "    path_corpus = modeldir.joinpath('corpus.mallet')\n",
    "    if not path_corpus.is_file():\n",
    "        print('-- Pipe extraction: Could not locate corpus file')\n",
    "        return\n",
    "\n",
    "    # Create auxiliary file with only first line from the original corpus file\n",
    "    path_txt = modeldir.joinpath('corpus.txt')\n",
    "    with path_txt.open('r', encoding='utf8') as f:\n",
    "        first_line = f.readline()\n",
    "        \n",
    "    path_aux = modeldir.joinpath('corpus_aux.txt')\n",
    "    with path_aux.open('w', encoding='utf8') as fout:\n",
    "        fout.write(first_line + '\\n')\n",
    "\n",
    "    # We perform the import with the only goal to keep a small file containing the pipe\n",
    "    print('-- Extracting pipeline')\n",
    "    path_pipe = modeldir.joinpath('import.pipe')\n",
    "    \n",
    "    cmd = mallet_path + \\\n",
    "        ' import-file --use-pipe-from %s --input %s --output %s'   \n",
    "    cmd = cmd % (path_corpus, path_aux, path_pipe)\n",
    "\n",
    "    try:\n",
    "        print(f'-- Running command {cmd}')\n",
    "        check_output(args=cmd, shell=True)\n",
    "    except:\n",
    "        print('-- Failed to extract pipeline. Revise command')\n",
    "\n",
    "    # Remove auxiliary file\n",
    "    path_aux.unlink()\n",
    "\n",
    "    return"
   ]
  },
  {
   "cell_type": "code",
   "execution_count": 15,
   "id": "e942c533",
   "metadata": {},
   "outputs": [],
   "source": [
    "def inference(modeldir):\n",
    "\n",
    "    # A proper corpus should exist with the corresponding ipmortation pipe\n",
    "    path_pipe = modeldir.joinpath('import.pipe')\n",
    "    if not path_pipe.is_file():\n",
    "        print('-- Inference error. Importation pipeline not found')\n",
    "        return\n",
    "\n",
    "    # Get inferencer\n",
    "    inferencer = modeldir.joinpath('inferencer.mallet')\n",
    "    \n",
    "    # File for performing inference on\n",
    "    corpus_file = modeldir.joinpath('corpus_inf.txt')\n",
    "    if not corpus_file.is_file():\n",
    "        print('-- Inference error. File to perform the inference on not found')\n",
    "        return\n",
    "\n",
    "    # The following files will be generated in the same folder\n",
    "    corpus_mallet_inf = modeldir.joinpath('corpus_inf.mallet')  # mallet serialized\n",
    "    doc_topics_file = modeldir.joinpath('doc-topics-inf.txt')\n",
    "\n",
    "    # Import data to mallet\n",
    "    print('-- Inference: Mallet Data Import')\n",
    "   \n",
    "    cmd = mallet_path + \\\n",
    "        ' import-file --use-pipe-from %s --input %s --output %s'\n",
    "    cmd = cmd % (path_pipe, corpus_file, corpus_mallet_inf)\n",
    "\n",
    "    try:\n",
    "        print(f'-- Running command {cmd}')\n",
    "        check_output(args=cmd, shell=True)\n",
    "    except:\n",
    "        print(\n",
    "            '-- Mallet failed to import data. Revise command')\n",
    "        return\n",
    "\n",
    "    # Get topic proportions\n",
    "    print('-- Inference: Inferring Topic Proportions')\n",
    "    num_iterations = 100\n",
    "    doc_topic_thr = 0\n",
    "\n",
    "    cmd = mallet_path + \\\n",
    "        ' infer-topics --inferencer %s --input %s --output-doc-topics %s ' + \\\n",
    "        ' --doc-topics-threshold ' + str(doc_topic_thr) + \\\n",
    "        ' --num-iterations ' + str(num_iterations)\n",
    "    cmd = cmd % (inferencer, corpus_mallet_inf, doc_topics_file)\n",
    "\n",
    "    try:\n",
    "        print(f'-- Running command {cmd}')\n",
    "        check_output(args=cmd, shell=True)\n",
    "    except:\n",
    "        print('-- Mallet inference failed. Revise command')\n",
    "        return\n",
    "\n",
    "    return"
   ]
  },
  {
   "cell_type": "markdown",
   "id": "5bd9fabc",
   "metadata": {},
   "source": [
    "## 2.1. Centralized approach"
   ]
  },
  {
   "cell_type": "code",
   "execution_count": 16,
   "id": "1f8a7a85",
   "metadata": {},
   "outputs": [
    {
     "name": "stdout",
     "output_type": "stream",
     "text": [
      "-- -- Creating backup of existing model in /export/usuarios_ml4ds/lbartolome/data/project_folder/TMmodels/Federated_test/mallet_centralized_old\n"
     ]
    }
   ],
   "source": [
    "# Create model folder and save model training configuration\n",
    "modelname = \"mallet_centralized\"\n",
    "modeldir = Path(\"/export/usuarios_ml4ds/lbartolome/data/project_folder/TMmodels/Federated_test\").joinpath(modelname)\n",
    "if modeldir.exists():\n",
    "\n",
    "    # Remove current backup folder, if it exists\n",
    "    old_model_dir = Path(str(modeldir) + '_old/')\n",
    "    if old_model_dir.exists():\n",
    "        shutil.rmtree(old_model_dir)\n",
    "\n",
    "    # Copy current model folder to the backup folder.\n",
    "    shutil.move(modeldir, old_model_dir)\n",
    "    print(f'-- -- Creating backup of existing model in {old_model_dir}')\n",
    "\n",
    "modeldir.mkdir()\n",
    "configFile = modeldir.joinpath('trainconfig.json')"
   ]
  },
  {
   "cell_type": "code",
   "execution_count": 26,
   "id": "dd61031e",
   "metadata": {},
   "outputs": [
    {
     "name": "stdout",
     "output_type": "stream",
     "text": [
      "50000\n"
     ]
    }
   ],
   "source": [
    "# Corpus for centralized approach\n",
    "my_corpus = [doc for docs_node in documents_all for doc in docs_node[0:(n_docs-n_docs_inf)]]\n",
    "print(len(my_corpus))"
   ]
  },
  {
   "cell_type": "code",
   "execution_count": 27,
   "id": "f1a0d9bb",
   "metadata": {},
   "outputs": [],
   "source": [
    "corpusFile = modeldir.joinpath(\"corpus.txt\")\n",
    "with open(corpusFile, 'w') as fout:\n",
    "    [fout.write(str(idx) + ' 0 ' + ' '.join(doc) + '\\n') for idx,doc in enumerate(my_corpus)]"
   ]
  },
  {
   "cell_type": "code",
   "execution_count": 28,
   "id": "53647a5e",
   "metadata": {},
   "outputs": [
    {
     "name": "stdout",
     "output_type": "stream",
     "text": [
      "-- -- Running command /export/usuarios_ml4ds/jarenas/github/IntelComp/ITMT/topicmodeler/src/topicmodeling/mallet-2.0.8/bin/mallet import-file --preserve-case --keep-sequence --remove-stopwords --token-regex \"[\\p{L}\\p{N}][\\p{L}\\p{N}\\p{P}]*\" --input /export/usuarios_ml4ds/lbartolome/data/project_folder/TMmodels/Federated_test/mallet_centralized/corpus.txt --output /export/usuarios_ml4ds/lbartolome/data/project_folder/TMmodels/Federated_test/mallet_centralized/corpus.mallet\n"
     ]
    }
   ],
   "source": [
    "corpusMallet = modeldir.joinpath('corpus.mallet')\n",
    "\n",
    "cmd = mallet_path + \\\n",
    "    ' import-file --preserve-case --keep-sequence ' + \\\n",
    "    '--remove-stopwords --token-regex \"' + '[\\p{L}\\p{N}][\\p{L}\\p{N}\\p{P}]*' + \\\n",
    "    '\" --input %s --output %s'\n",
    "cmd = cmd % (corpusFile, corpusMallet)\n",
    "\n",
    "try:\n",
    "    print(f'-- -- Running command {cmd}')\n",
    "    check_output(args=cmd, shell=True)\n",
    "except:\n",
    "    print('-- -- Mallet failed to import data. Revise command')"
   ]
  },
  {
   "cell_type": "code",
   "execution_count": 29,
   "id": "702f2819",
   "metadata": {},
   "outputs": [
    {
     "name": "stdout",
     "output_type": "stream",
     "text": [
      "/export/usuarios_ml4ds/jarenas/github/IntelComp/ITMT/topicmodeler/src/topicmodeling/mallet-2.0.8/bin/mallet train-topics --config /export/usuarios_ml4ds/lbartolome/data/project_folder/TMmodels/Federated_test/mallet_centralized/trainconfig.json\n",
      "-- -- Training mallet topic model. Command is /export/usuarios_ml4ds/jarenas/github/IntelComp/ITMT/topicmodeler/src/topicmodeling/mallet-2.0.8/bin/mallet train-topics --config /export/usuarios_ml4ds/lbartolome/data/project_folder/TMmodels/Federated_test/mallet_centralized/trainconfig.json\n"
     ]
    },
    {
     "name": "stderr",
     "output_type": "stream",
     "text": [
      "Mallet LDA: 50 topics, 6 topic bits, 111111 topic mask\n",
      "Data loaded.\n",
      "max tokens: 249\n",
      "total tokens: 9975625\n",
      "<10> LL/token: -5.75279\n",
      "<20> LL/token: -5.33538\n",
      "<30> LL/token: -5.17453\n",
      "<40> LL/token: -5.09724\n",
      "\n",
      "0\t0.02\twd1535 wd4319 wd622 wd3749 wd109 wd2749 wd2036 wd1894 wd3899 wd904 wd1063 wd4845 wd1492 wd1962 wd4540 wd2065 wd4908 wd1217 wd2793 wd2687 \n",
      "1\t0.02\twd4257 wd649 wd3714 wd2947 wd1760 wd2902 wd3489 wd4410 wd4854 wd3227 wd1573 wd3643 wd3725 wd4713 wd2650 wd3357 wd4162 wd3590 wd2676 wd792 \n",
      "2\t0.02\twd3245 wd1961 wd2772 wd818 wd1192 wd1641 wd30 wd4946 wd592 wd3138 wd3497 wd3049 wd435 wd2132 wd120 wd3311 wd974 wd894 wd2511 wd674 \n",
      "3\t0.02\twd3909 wd1371 wd2180 wd1862 wd311 wd1606 wd240 wd1673 wd1373 wd1065 wd1813 wd2978 wd1514 wd4163 wd3108 wd1710 wd2111 wd3620 wd3282 wd329 \n",
      "4\t0.02\twd3522 wd4169 wd3607 wd2632 wd2795 wd472 wd1666 wd3037 wd4374 wd4421 wd2691 wd824 wd2504 wd3400 wd2822 wd3835 wd1432 wd980 wd4158 wd4423 \n",
      "5\t0.02\twd2266 wd4288 wd931 wd515 wd2274 wd962 wd1228 wd4604 wd3089 wd2421 wd3316 wd4164 wd4993 wd17 wd4850 wd2889 wd1315 wd4601 wd4401 wd4605 \n",
      "6\t0.02\twd4809 wd2505 wd1067 wd4182 wd133 wd1214 wd390 wd2461 wd3551 wd2292 wd394 wd3393 wd3496 wd689 wd956 wd4206 wd1943 wd1750 wd1559 wd753 \n",
      "7\t0.02\twd309 wd2859 wd3519 wd1487 wd771 wd2052 wd1165 wd4592 wd1391 wd3719 wd1728 wd293 wd2200 wd967 wd3493 wd156 wd3671 wd3887 wd2424 wd3803 \n",
      "8\t0.02\twd2927 wd1815 wd4312 wd1342 wd202 wd4409 wd2982 wd1357 wd1280 wd1748 wd2557 wd3275 wd1049 wd4459 wd4077 wd4912 wd3363 wd2382 wd919 wd315 \n",
      "9\t0.02\twd639 wd2561 wd363 wd1075 wd2910 wd4554 wd4660 wd1866 wd2107 wd4893 wd2637 wd1927 wd4569 wd679 wd627 wd2123 wd3638 wd4267 wd3090 wd1558 \n",
      "10\t0.02\twd3934 wd3747 wd1625 wd2222 wd1903 wd3422 wd3526 wd54 wd218 wd648 wd201 wd4773 wd2315 wd316 wd1966 wd3262 wd732 wd4061 wd4784 wd4957 \n",
      "11\t0.02\twd3626 wd3624 wd3557 wd1541 wd1041 wd3379 wd1124 wd2247 wd1058 wd1286 wd150 wd3587 wd1471 wd807 wd1750 wd84 wd3401 wd4778 wd933 wd2881 \n",
      "12\t0.02\twd565 wd2636 wd1795 wd1988 wd802 wd154 wd2745 wd2567 wd765 wd3559 wd3454 wd4646 wd1803 wd1760 wd2412 wd2548 wd4380 wd636 wd3004 wd619 \n",
      "13\t0.02\twd343 wd3958 wd4577 wd4259 wd4009 wd1022 wd4531 wd757 wd2048 wd2304 wd4037 wd1757 wd4909 wd637 wd4915 wd3957 wd1865 wd144 wd1453 wd3081 \n",
      "14\t0.02\twd2823 wd1819 wd1535 wd4479 wd4328 wd418 wd267 wd1787 wd3517 wd1600 wd2165 wd881 wd995 wd1599 wd824 wd3182 wd790 wd170 wd4644 wd4035 \n",
      "15\t0.02\twd1796 wd4512 wd3323 wd3231 wd697 wd1257 wd2984 wd3005 wd4390 wd4580 wd674 wd3949 wd3569 wd4963 wd1818 wd4585 wd1976 wd2582 wd2995 wd2211 \n",
      "16\t0.02\twd3486 wd2431 wd3257 wd1235 wd215 wd1360 wd2972 wd2641 wd3943 wd759 wd142 wd1609 wd3408 wd2859 wd4111 wd2653 wd2732 wd1484 wd2710 wd1041 \n",
      "17\t0.02\twd3826 wd812 wd1703 wd2975 wd3037 wd3824 wd4160 wd1426 wd1674 wd3672 wd4151 wd3766 wd4907 wd3277 wd1727 wd2199 wd4934 wd1907 wd2328 wd1205 \n",
      "18\t0.02\twd2310 wd2372 wd1306 wd3748 wd4241 wd939 wd1143 wd4587 wd1799 wd3441 wd3644 wd1286 wd2154 wd1742 wd1919 wd3988 wd756 wd1222 wd1338 wd4468 \n",
      "19\t0.02\twd3934 wd3747 wd2222 wd1625 wd1903 wd3422 wd3526 wd648 wd54 wd218 wd4773 wd1819 wd1535 wd201 wd2315 wd732 wd316 wd4957 wd1966 wd3262 \n",
      "20\t0.02\twd405 wd32 wd1226 wd3437 wd4467 wd1409 wd4954 wd2561 wd4802 wd1579 wd4306 wd3572 wd2434 wd582 wd1522 wd2690 wd4394 wd2014 wd2760 wd1726 \n",
      "21\t0.02\twd1786 wd2511 wd560 wd2752 wd4459 wd3909 wd1371 wd113 wd3735 wd2180 wd311 wd1862 wd2820 wd1606 wd240 wd1373 wd3397 wd1673 wd2608 wd788 \n",
      "22\t0.02\twd3934 wd3747 wd1625 wd2222 wd1903 wd3422 wd3526 wd648 wd54 wd218 wd201 wd4773 wd2315 wd316 wd732 wd3262 wd1966 wd4061 wd4957 wd4784 \n",
      "23\t0.02\twd1469 wd2867 wd2562 wd1209 wd3840 wd154 wd1541 wd984 wd2006 wd1913 wd943 wd2157 wd400 wd2311 wd2344 wd4803 wd1458 wd2289 wd4437 wd1191 \n",
      "24\t0.02\twd3349 wd300 wd3878 wd1696 wd1886 wd4482 wd2504 wd2577 wd729 wd4560 wd2286 wd3370 wd16 wd503 wd316 wd4619 wd4642 wd1898 wd1126 wd3624 \n",
      "25\t0.02\twd3486 wd2431 wd3257 wd1235 wd215 wd1360 wd2972 wd2641 wd759 wd3943 wd142 wd1609 wd3408 wd2859 wd2653 wd4111 wd2732 wd1484 wd1041 wd2710 \n",
      "26\t0.02\twd1706 wd2137 wd1079 wd3662 wd1818 wd3356 wd3975 wd3697 wd4413 wd283 wd1904 wd3852 wd2671 wd3445 wd2991 wd4775 wd3679 wd3376 wd3144 wd3239 \n",
      "27\t0.02\twd280 wd2268 wd4078 wd3925 wd1068 wd1204 wd3037 wd1626 wd1439 wd4827 wd2364 wd1198 wd1830 wd3896 wd688 wd1686 wd1059 wd180 wd4429 wd2954 \n",
      "28\t0.02\twd384 wd3179 wd1690 wd547 wd3276 wd3726 wd1070 wd1721 wd2310 wd4563 wd2173 wd632 wd4961 wd4774 wd4397 wd4200 wd4357 wd1892 wd4847 wd921 \n",
      "29\t0.02\twd1609 wd111 wd334 wd894 wd4530 wd4171 wd4100 wd3827 wd3831 wd4610 wd2740 wd1813 wd3542 wd2847 wd2867 wd1206 wd929 wd1582 wd1672 wd1857 \n",
      "30\t0.02\twd2507 wd137 wd4803 wd1020 wd4920 wd1264 wd3714 wd4252 wd340 wd164 wd585 wd835 wd3044 wd1711 wd4795 wd3159 wd2262 wd902 wd1112 wd3277 \n",
      "31\t0.02\twd384 wd3179 wd1690 wd547 wd3726 wd3276 wd1070 wd2310 wd1721 wd4563 wd2173 wd632 wd4961 wd4774 wd4200 wd4397 wd4357 wd1892 wd4847 wd921 \n",
      "32\t0.02\twd2964 wd2910 wd893 wd97 wd4485 wd2165 wd2901 wd4468 wd2487 wd3417 wd164 wd1908 wd4211 wd4441 wd1351 wd886 wd3181 wd1916 wd181 wd4833 \n",
      "33\t0.02\twd160 wd4558 wd1678 wd1999 wd1157 wd4065 wd3355 wd1916 wd2838 wd3388 wd3 wd4824 wd181 wd212 wd4679 wd2969 wd758 wd4659 wd3726 wd3420 \n",
      "34\t0.02\twd1139 wd3009 wd1996 wd4879 wd1988 wd1208 wd1477 wd755 wd4167 wd509 wd4427 wd3369 wd2617 wd790 wd4684 wd4097 wd340 wd789 wd934 wd3784 \n",
      "35\t0.02\twd1692 wd588 wd4564 wd2076 wd649 wd1310 wd4648 wd2441 wd1886 wd4891 wd3666 wd133 wd2311 wd3148 wd2822 wd4512 wd651 wd2366 wd154 wd4183 \n",
      "36\t0.02\twd1248 wd3266 wd2013 wd1451 wd1435 wd3496 wd1562 wd1103 wd462 wd3151 wd1167 wd2911 wd2049 wd1055 wd2633 wd808 wd3591 wd4182 wd437 wd1626 \n",
      "37\t0.02\twd4783 wd4610 wd2933 wd3310 wd157 wd4432 wd28 wd3649 wd4521 wd3176 wd1091 wd2941 wd3478 wd468 wd4878 wd318 wd2329 wd3562 wd221 wd479 \n",
      "38\t0.02\twd1874 wd1831 wd4254 wd77 wd2677 wd1031 wd3636 wd2759 wd2998 wd2932 wd3202 wd3545 wd2929 wd2630 wd1782 wd4118 wd3892 wd365 wd4151 wd1667 \n",
      "39\t0.02\twd4337 wd188 wd4887 wd4958 wd902 wd388 wd1454 wd2902 wd282 wd2805 wd267 wd3841 wd3584 wd4604 wd205 wd4007 wd1677 wd4352 wd2714 wd4230 \n",
      "40\t0.02\twd3224 wd630 wd1487 wd3286 wd3482 wd2880 wd241 wd3426 wd158 wd3921 wd952 wd4352 wd627 wd361 wd1833 wd2899 wd3323 wd1033 wd1971 wd3017 \n",
      "41\t0.02\twd3621 wd1726 wd3110 wd1520 wd2882 wd3395 wd2291 wd321 wd912 wd1760 wd3941 wd3742 wd4955 wd1182 wd1776 wd427 wd4735 wd2969 wd3448 wd45 \n",
      "42\t0.02\twd4337 wd188 wd4887 wd4958 wd902 wd1454 wd388 wd205 wd2902 wd267 wd282 wd2805 wd3584 wd3841 wd4604 wd4007 wd1677 wd4352 wd2714 wd2757 \n",
      "43\t0.02\twd4094 wd165 wd3583 wd1336 wd4569 wd4794 wd3491 wd4388 wd1999 wd4037 wd2423 wd1300 wd1276 wd548 wd3938 wd3687 wd1939 wd3584 wd414 wd2140 \n",
      "44\t0.02\twd2266 wd4288 wd931 wd515 wd2274 wd1228 wd962 wd4604 wd2421 wd3089 wd3316 wd4850 wd4164 wd4993 wd17 wd2889 wd4601 wd4401 wd4605 wd1315 \n",
      "45\t0.02\twd61 wd3117 wd2907 wd781 wd2836 wd1801 wd1031 wd1095 wd3383 wd1334 wd2295 wd4461 wd1854 wd3766 wd2663 wd2182 wd2652 wd4573 wd57 wd1102 \n",
      "46\t0.02\twd1219 wd2392 wd562 wd973 wd4579 wd2311 wd3188 wd2701 wd1915 wd3366 wd2051 wd2935 wd4759 wd220 wd3967 wd3121 wd1954 wd3145 wd2706 wd477 \n",
      "47\t0.02\twd4783 wd4610 wd2933 wd3310 wd157 wd4432 wd28 wd3649 wd4521 wd3176 wd1091 wd2941 wd3478 wd4878 wd468 wd318 wd2329 wd3562 wd479 wd221 \n",
      "48\t0.02\twd938 wd225 wd988 wd1880 wd2410 wd4586 wd4447 wd205 wd3251 wd2218 wd2296 wd1330 wd893 wd71 wd4960 wd916 wd1654 wd4838 wd2080 wd4485 \n",
      "49\t0.02\twd3776 wd132 wd1361 wd224 wd2474 wd979 wd285 wd1561 wd3142 wd2182 wd4569 wd135 wd2689 wd4119 wd2122 wd1804 wd3886 wd255 wd2379 wd3729 \n",
      "\n",
      "<50> LL/token: -5.07034\n",
      "<60> LL/token: -5.0579\n",
      "<70> LL/token: -5.05227\n",
      "<80> LL/token: -5.04393\n",
      "<90> LL/token: -5.04354\n",
      "\n",
      "0\t0.02\twd1535 wd4319 wd3749 wd622 wd109 wd2749 wd2036 wd1894 wd3899 wd904 wd1063 wd4845 wd1492 wd1962 wd4540 wd2065 wd4908 wd1217 wd2793 wd2687 \n",
      "1\t0.02\twd4257 wd649 wd3714 wd2947 wd1760 wd2902 wd3489 wd4410 wd4854 wd3227 wd1573 wd3643 wd3725 wd4713 wd2650 wd3357 wd4162 wd3590 wd2676 wd792 \n",
      "2\t0.02\twd3245 wd1961 wd2772 wd818 wd1192 wd1641 wd30 wd4946 wd592 wd3138 wd3497 wd3049 wd435 wd2132 wd120 wd3311 wd974 wd894 wd2511 wd674 \n",
      "3\t0.02\twd3909 wd1371 wd2180 wd311 wd1862 wd1606 wd240 wd1373 wd1673 wd2978 wd1065 wd1813 wd1514 wd3108 wd1710 wd4163 wd2111 wd3620 wd329 wd4222 \n",
      "4\t0.02\twd3522 wd4169 wd3607 wd2632 wd2795 wd472 wd1666 wd3037 wd4374 wd4421 wd2691 wd824 wd2504 wd3400 wd2822 wd3835 wd1432 wd980 wd4158 wd4423 \n",
      "5\t0.02\twd2266 wd4288 wd931 wd515 wd2274 wd962 wd1228 wd4604 wd3089 wd2421 wd3316 wd4164 wd4993 wd4850 wd17 wd2889 wd1315 wd4601 wd4401 wd4605 \n",
      "6\t0.02\twd4809 wd2505 wd1067 wd4182 wd133 wd1214 wd390 wd2461 wd3551 wd2292 wd394 wd3393 wd3496 wd689 wd4206 wd956 wd1943 wd1750 wd1559 wd753 \n",
      "7\t0.02\twd309 wd2859 wd3519 wd1487 wd771 wd2052 wd1165 wd4592 wd1391 wd3719 wd1728 wd293 wd2200 wd967 wd3493 wd156 wd3671 wd3887 wd2424 wd3803 \n",
      "8\t0.02\twd2927 wd1815 wd4312 wd1342 wd202 wd4409 wd2982 wd1357 wd1280 wd1748 wd2557 wd3275 wd1049 wd4077 wd4912 wd4459 wd3363 wd2382 wd919 wd315 \n",
      "9\t0.02\twd639 wd2561 wd363 wd1075 wd2910 wd4554 wd4660 wd1866 wd2107 wd4893 wd2637 wd1927 wd4569 wd679 wd627 wd2123 wd3638 wd4267 wd3090 wd1558 \n",
      "10\t0.02\twd3934 wd3747 wd1625 wd2222 wd1903 wd3422 wd3526 wd54 wd218 wd648 wd201 wd4773 wd2315 wd316 wd1966 wd3262 wd732 wd4061 wd4784 wd4957 \n",
      "11\t0.02\twd3626 wd3624 wd3557 wd1541 wd1041 wd3379 wd1124 wd2247 wd1058 wd1286 wd150 wd3587 wd1471 wd807 wd1750 wd84 wd3401 wd4778 wd933 wd2881 \n",
      "12\t0.02\twd565 wd2636 wd1795 wd1988 wd802 wd154 wd2745 wd2567 wd765 wd3559 wd3454 wd4646 wd1803 wd1760 wd2412 wd2548 wd4380 wd636 wd3004 wd619 \n",
      "13\t0.02\twd343 wd3958 wd4577 wd4259 wd4009 wd1022 wd4531 wd757 wd2048 wd2304 wd4037 wd1757 wd4909 wd637 wd4915 wd3957 wd1865 wd144 wd1453 wd3081 \n",
      "14\t0.02\twd1819 wd1535 wd2823 wd4479 wd418 wd4328 wd267 wd1787 wd1600 wd2165 wd881 wd3517 wd995 wd1599 wd170 wd4035 wd824 wd4644 wd3182 wd790 \n",
      "15\t0.02\twd1796 wd4512 wd3323 wd3231 wd697 wd1257 wd2984 wd3005 wd4390 wd4580 wd674 wd3949 wd3569 wd4963 wd1818 wd4585 wd1976 wd2582 wd2995 wd2211 \n",
      "16\t0.02\twd3486 wd2431 wd3257 wd1235 wd215 wd1360 wd2972 wd2641 wd3943 wd759 wd142 wd1609 wd3408 wd2859 wd4111 wd2653 wd2732 wd1484 wd2710 wd1041 \n",
      "17\t0.02\twd3826 wd812 wd1703 wd2975 wd3037 wd3824 wd4160 wd1426 wd1674 wd3672 wd4151 wd3766 wd4907 wd3277 wd1727 wd2199 wd4934 wd1907 wd2328 wd1205 \n",
      "18\t0.02\twd2310 wd2372 wd1306 wd3748 wd4241 wd939 wd1143 wd4587 wd1799 wd3441 wd3644 wd1286 wd2154 wd1742 wd1919 wd3988 wd756 wd1222 wd1338 wd4468 \n",
      "19\t0.02\twd3934 wd3747 wd1625 wd2222 wd1903 wd3422 wd3526 wd648 wd4773 wd218 wd54 wd2315 wd201 wd316 wd4061 wd732 wd1966 wd4957 wd4784 wd3262 \n",
      "20\t0.02\twd405 wd32 wd1226 wd3437 wd4467 wd1409 wd4954 wd2561 wd4802 wd1579 wd4306 wd3572 wd2434 wd582 wd1522 wd2690 wd4394 wd2014 wd1726 wd2760 \n",
      "21\t0.02\twd1786 wd2511 wd560 wd2752 wd4459 wd113 wd3735 wd2820 wd3397 wd2608 wd788 wd4624 wd1425 wd4528 wd2435 wd3917 wd4095 wd3429 wd1356 wd3309 \n",
      "22\t0.02\twd3934 wd3747 wd1625 wd2222 wd1903 wd3422 wd3526 wd54 wd648 wd218 wd201 wd4773 wd2315 wd316 wd732 wd3262 wd1966 wd4957 wd4061 wd4784 \n",
      "23\t0.02\twd1469 wd2867 wd2562 wd1209 wd3840 wd154 wd1541 wd984 wd2006 wd1913 wd943 wd2157 wd400 wd2311 wd2344 wd4803 wd1458 wd2289 wd4437 wd1191 \n",
      "24\t0.02\twd3349 wd300 wd3878 wd1696 wd1886 wd4482 wd2504 wd2577 wd729 wd4560 wd2286 wd3370 wd16 wd503 wd316 wd4619 wd4642 wd1898 wd1126 wd3624 \n",
      "25\t0.02\twd3486 wd2431 wd3257 wd1235 wd215 wd1360 wd2972 wd2641 wd759 wd3943 wd142 wd1609 wd3408 wd2859 wd4111 wd2653 wd2732 wd1484 wd1041 wd2710 \n",
      "26\t0.02\twd1706 wd2137 wd1079 wd3662 wd1818 wd3356 wd3975 wd3697 wd4413 wd283 wd1904 wd3852 wd2671 wd3445 wd2991 wd4775 wd3679 wd3376 wd3144 wd3239 \n",
      "27\t0.02\twd280 wd2268 wd4078 wd3925 wd1068 wd1204 wd3037 wd1626 wd1439 wd4827 wd2364 wd1198 wd1830 wd3896 wd688 wd1686 wd1059 wd180 wd4429 wd2954 \n",
      "28\t0.02\twd384 wd3179 wd1690 wd547 wd3276 wd3726 wd1070 wd1721 wd2310 wd4563 wd2173 wd632 wd4961 wd4774 wd4397 wd4200 wd4357 wd4847 wd1892 wd921 \n",
      "29\t0.02\twd1609 wd111 wd334 wd894 wd4530 wd4171 wd4100 wd3827 wd3831 wd4610 wd2740 wd1813 wd3542 wd2847 wd2867 wd1206 wd929 wd1582 wd1672 wd1857 \n",
      "30\t0.02\twd2507 wd137 wd4803 wd1020 wd4920 wd1264 wd3714 wd4252 wd340 wd164 wd585 wd3044 wd835 wd1711 wd4795 wd3159 wd2262 wd902 wd1112 wd3277 \n",
      "31\t0.02\twd384 wd3179 wd1690 wd547 wd3726 wd3276 wd1070 wd2310 wd1721 wd4563 wd2173 wd632 wd4961 wd4774 wd4397 wd4200 wd4357 wd1892 wd4847 wd921 \n",
      "32\t0.02\twd2964 wd2910 wd893 wd97 wd4485 wd2165 wd2901 wd4468 wd2487 wd3417 wd164 wd1908 wd4211 wd4441 wd1351 wd886 wd3181 wd1916 wd181 wd4833 \n",
      "33\t0.02\twd160 wd4558 wd1678 wd1999 wd1157 wd4065 wd3355 wd1916 wd2838 wd3388 wd3 wd4824 wd181 wd212 wd2969 wd4679 wd758 wd4659 wd3726 wd3420 \n",
      "34\t0.02\twd1139 wd3009 wd1996 wd4879 wd1988 wd1208 wd1477 wd755 wd4167 wd509 wd4427 wd3369 wd2617 wd790 wd4684 wd4097 wd340 wd789 wd934 wd3784 \n",
      "35\t0.02\twd1692 wd588 wd4564 wd2076 wd649 wd1310 wd4648 wd2441 wd1886 wd4891 wd3666 wd133 wd2311 wd3148 wd2822 wd4512 wd651 wd2366 wd154 wd4183 \n",
      "36\t0.02\twd1248 wd3266 wd2013 wd1451 wd1435 wd3496 wd1562 wd1103 wd462 wd1167 wd3151 wd2911 wd2049 wd1055 wd2633 wd808 wd3591 wd4182 wd437 wd1626 \n",
      "37\t0.02\twd4783 wd4610 wd2933 wd3310 wd157 wd4432 wd28 wd3649 wd4521 wd3176 wd1091 wd3478 wd2941 wd468 wd4878 wd318 wd2329 wd3562 wd221 wd479 \n",
      "38\t0.02\twd1874 wd1831 wd4254 wd77 wd2677 wd1031 wd3636 wd2759 wd2998 wd2932 wd3202 wd3545 wd2929 wd2630 wd1782 wd4118 wd3892 wd365 wd4151 wd1667 \n",
      "39\t0.02\twd4337 wd188 wd4887 wd4958 wd902 wd388 wd1454 wd2902 wd282 wd2805 wd267 wd3841 wd3584 wd4604 wd205 wd4007 wd1677 wd4352 wd2714 wd4230 \n",
      "40\t0.02\twd3224 wd630 wd1487 wd3286 wd3482 wd2880 wd241 wd3426 wd158 wd3921 wd952 wd4352 wd627 wd361 wd1833 wd2899 wd3323 wd1033 wd1971 wd3017 \n",
      "41\t0.02\twd3621 wd1726 wd3110 wd1520 wd2882 wd3395 wd2291 wd321 wd912 wd1760 wd3941 wd3742 wd4955 wd1182 wd1776 wd427 wd4735 wd2969 wd3448 wd45 \n",
      "42\t0.02\twd4337 wd188 wd4887 wd4958 wd902 wd1454 wd388 wd2902 wd267 wd282 wd2805 wd3584 wd3841 wd205 wd4604 wd4007 wd1677 wd4352 wd2714 wd4230 \n",
      "43\t0.02\twd4094 wd165 wd3583 wd1336 wd4569 wd4794 wd3491 wd4388 wd1999 wd4037 wd2423 wd1300 wd1276 wd548 wd3938 wd3687 wd1939 wd3584 wd2140 wd414 \n",
      "44\t0.02\twd2266 wd4288 wd931 wd515 wd2274 wd1228 wd962 wd4604 wd3089 wd2421 wd3316 wd4850 wd4993 wd17 wd4164 wd4601 wd2889 wd4605 wd1315 wd4401 \n",
      "45\t0.02\twd61 wd3117 wd2907 wd781 wd2836 wd1801 wd1031 wd1095 wd3383 wd1334 wd2295 wd4461 wd1854 wd3766 wd2663 wd2182 wd2652 wd4573 wd57 wd1102 \n",
      "46\t0.02\twd1219 wd2392 wd562 wd973 wd4579 wd2311 wd3188 wd2701 wd1915 wd3366 wd2051 wd2935 wd4759 wd220 wd3967 wd3121 wd1954 wd3145 wd2706 wd477 \n",
      "47\t0.02\twd4783 wd4610 wd2933 wd3310 wd157 wd4432 wd28 wd3649 wd4521 wd3176 wd1091 wd2941 wd3478 wd4878 wd468 wd318 wd2329 wd3562 wd221 wd479 \n",
      "48\t0.02\twd225 wd938 wd988 wd2410 wd1880 wd205 wd4586 wd4447 wd3251 wd1330 wd71 wd2218 wd4960 wd1654 wd2296 wd4879 wd893 wd1366 wd916 wd4838 \n",
      "49\t0.02\twd3776 wd132 wd1361 wd224 wd2474 wd979 wd285 wd1561 wd3142 wd2182 wd4569 wd135 wd2689 wd4119 wd2122 wd1804 wd3886 wd255 wd2379 wd3729 \n",
      "\n"
     ]
    },
    {
     "name": "stderr",
     "output_type": "stream",
     "text": [
      "<100> LL/token: -5.04355\n",
      "<110> LL/token: -5.04376\n",
      "<120> LL/token: -5.04402\n",
      "<130> LL/token: -5.04422\n",
      "<140> LL/token: -5.04425\n",
      "\n",
      "0\t0.02\twd1535 wd4319 wd3749 wd622 wd109 wd2749 wd2036 wd1894 wd3899 wd904 wd1063 wd4845 wd1492 wd1962 wd4540 wd2065 wd4908 wd1217 wd2793 wd2687 \n",
      "1\t0.02\twd4257 wd649 wd3714 wd2947 wd1760 wd2902 wd3489 wd4410 wd4854 wd3227 wd1573 wd3643 wd3725 wd4713 wd2650 wd3357 wd4162 wd3590 wd2676 wd792 \n",
      "2\t0.02\twd3245 wd1961 wd2772 wd818 wd1192 wd1641 wd30 wd4946 wd592 wd3138 wd3497 wd3049 wd435 wd2132 wd120 wd3311 wd974 wd894 wd2511 wd674 \n",
      "3\t0.02\twd3909 wd1371 wd2180 wd311 wd1862 wd1606 wd240 wd1373 wd1673 wd2978 wd1065 wd1813 wd3108 wd1514 wd1710 wd4163 wd2111 wd3620 wd329 wd4222 \n",
      "4\t0.02\twd3522 wd4169 wd3607 wd2632 wd2795 wd472 wd1666 wd3037 wd4374 wd4421 wd2691 wd824 wd2504 wd3400 wd2822 wd3835 wd1432 wd980 wd4158 wd4423 \n",
      "5\t0.02\twd2266 wd4288 wd931 wd515 wd2274 wd962 wd1228 wd4604 wd3089 wd2421 wd3316 wd4164 wd4850 wd4993 wd17 wd2889 wd1315 wd4601 wd4401 wd4605 \n",
      "6\t0.02\twd4809 wd2505 wd1067 wd4182 wd133 wd1214 wd390 wd2461 wd3551 wd2292 wd394 wd3393 wd3496 wd689 wd4206 wd1943 wd956 wd1750 wd1559 wd753 \n",
      "7\t0.02\twd309 wd2859 wd3519 wd1487 wd771 wd2052 wd1165 wd4592 wd1391 wd3719 wd1728 wd293 wd2200 wd967 wd3493 wd156 wd3671 wd3887 wd2424 wd3803 \n",
      "8\t0.02\twd2927 wd1815 wd4312 wd1342 wd202 wd4409 wd2982 wd1357 wd1280 wd1748 wd2557 wd3275 wd1049 wd4077 wd4459 wd4912 wd3363 wd2382 wd919 wd315 \n",
      "9\t0.02\twd639 wd2561 wd363 wd1075 wd2910 wd4554 wd4660 wd1866 wd2107 wd4893 wd2637 wd1927 wd4569 wd679 wd627 wd2123 wd3638 wd4267 wd3090 wd1558 \n",
      "10\t0.02\twd3934 wd3747 wd1625 wd2222 wd1903 wd3422 wd3526 wd54 wd648 wd218 wd201 wd4773 wd2315 wd316 wd1966 wd3262 wd732 wd4784 wd4061 wd4957 \n",
      "11\t0.02\twd3626 wd3624 wd3557 wd1541 wd1041 wd3379 wd1124 wd2247 wd1058 wd1286 wd150 wd3587 wd1471 wd807 wd1750 wd84 wd3401 wd4778 wd933 wd2881 \n",
      "12\t0.02\twd565 wd2636 wd1795 wd1988 wd802 wd154 wd2745 wd2567 wd765 wd3559 wd3454 wd4646 wd1803 wd1760 wd2412 wd4380 wd2548 wd636 wd3004 wd619 \n",
      "13\t0.02\twd343 wd3958 wd4577 wd4259 wd4009 wd1022 wd4531 wd757 wd2048 wd2304 wd1757 wd4037 wd4909 wd637 wd4915 wd3957 wd1865 wd144 wd1453 wd3081 \n",
      "14\t0.02\twd1819 wd1535 wd2823 wd4479 wd418 wd4328 wd267 wd1787 wd1600 wd2165 wd881 wd3517 wd995 wd170 wd1599 wd4035 wd4644 wd824 wd3182 wd790 \n",
      "15\t0.02\twd1796 wd4512 wd3323 wd3231 wd697 wd1257 wd2984 wd3005 wd4390 wd4580 wd674 wd3949 wd3569 wd4963 wd1818 wd4585 wd1976 wd2582 wd2995 wd2211 \n",
      "16\t0.02\twd3486 wd2431 wd3257 wd1235 wd215 wd1360 wd2972 wd2641 wd3943 wd759 wd142 wd1609 wd3408 wd2859 wd4111 wd2653 wd1484 wd2732 wd1041 wd2710 \n",
      "17\t0.02\twd3826 wd812 wd1703 wd2975 wd3037 wd3824 wd4160 wd1426 wd1674 wd3672 wd4151 wd3766 wd4907 wd3277 wd1727 wd2199 wd4934 wd1907 wd2328 wd1205 \n",
      "18\t0.02\twd2310 wd2372 wd1306 wd3748 wd4241 wd939 wd1143 wd4587 wd1799 wd3441 wd3644 wd1286 wd2154 wd1742 wd1919 wd3988 wd756 wd1222 wd1338 wd4468 \n",
      "19\t0.02\twd3934 wd3747 wd2222 wd1625 wd1903 wd3422 wd3526 wd54 wd648 wd4773 wd218 wd2315 wd201 wd316 wd4061 wd732 wd1966 wd4957 wd3262 wd4784 \n",
      "20\t0.02\twd405 wd32 wd1226 wd3437 wd4467 wd1409 wd4954 wd2561 wd4802 wd1579 wd4306 wd3572 wd2434 wd582 wd1522 wd2690 wd4394 wd2014 wd1726 wd2760 \n",
      "21\t0.02\twd1786 wd2511 wd560 wd2752 wd4459 wd113 wd3735 wd2820 wd3397 wd2608 wd788 wd4624 wd1425 wd4528 wd2435 wd3917 wd4095 wd3429 wd1356 wd3309 \n",
      "22\t0.02\twd3934 wd3747 wd1625 wd2222 wd1903 wd3422 wd3526 wd54 wd648 wd218 wd4773 wd201 wd2315 wd316 wd732 wd3262 wd1966 wd4957 wd4061 wd4784 \n",
      "23\t0.02\twd1469 wd2867 wd2562 wd1209 wd3840 wd154 wd1541 wd984 wd2006 wd1913 wd943 wd2157 wd400 wd2311 wd2344 wd4803 wd1458 wd2289 wd4437 wd1191 \n",
      "24\t0.02\twd3349 wd300 wd3878 wd1696 wd1886 wd4482 wd2504 wd2577 wd729 wd4560 wd2286 wd3370 wd16 wd503 wd316 wd4619 wd4642 wd1898 wd1126 wd3624 \n",
      "25\t0.02\twd3486 wd2431 wd3257 wd1235 wd215 wd1360 wd2972 wd2641 wd759 wd3943 wd142 wd1609 wd3408 wd2859 wd2732 wd4111 wd2653 wd1484 wd2710 wd1041 \n",
      "26\t0.02\twd1706 wd2137 wd1079 wd3662 wd1818 wd3356 wd3975 wd3697 wd4413 wd283 wd1904 wd3852 wd2671 wd3445 wd2991 wd4775 wd3679 wd3376 wd3144 wd3239 \n",
      "27\t0.02\twd280 wd2268 wd4078 wd3925 wd1068 wd1204 wd3037 wd1626 wd1439 wd4827 wd2364 wd1198 wd1830 wd3896 wd688 wd1686 wd1059 wd180 wd4429 wd2954 \n",
      "28\t0.02\twd384 wd3179 wd1690 wd547 wd3276 wd3726 wd1070 wd1721 wd2310 wd4563 wd2173 wd632 wd4961 wd4774 wd4397 wd4200 wd4357 wd4847 wd1892 wd921 \n",
      "29\t0.02\twd1609 wd111 wd334 wd894 wd4530 wd4171 wd4100 wd3827 wd3831 wd4610 wd2740 wd1813 wd3542 wd2847 wd2867 wd1206 wd929 wd1582 wd1672 wd1857 \n",
      "30\t0.02\twd2507 wd137 wd4803 wd1020 wd4920 wd1264 wd3714 wd4252 wd340 wd164 wd585 wd3044 wd835 wd1711 wd4795 wd3159 wd902 wd2262 wd1112 wd3277 \n",
      "31\t0.02\twd384 wd3179 wd1690 wd547 wd3726 wd3276 wd1070 wd1721 wd2310 wd4563 wd2173 wd632 wd4961 wd4774 wd4397 wd4200 wd1892 wd4357 wd4847 wd921 \n",
      "32\t0.02\twd2964 wd2910 wd893 wd97 wd4485 wd2165 wd2901 wd4468 wd2487 wd3417 wd164 wd1908 wd4211 wd4441 wd1351 wd886 wd3181 wd1916 wd181 wd4833 \n",
      "33\t0.02\twd160 wd4558 wd1678 wd1999 wd1157 wd4065 wd3355 wd1916 wd2838 wd3388 wd3 wd4824 wd181 wd212 wd4679 wd2969 wd758 wd4659 wd3726 wd3420 \n",
      "34\t0.02\twd1139 wd3009 wd1996 wd4879 wd1988 wd1208 wd1477 wd755 wd4167 wd509 wd4427 wd3369 wd2617 wd790 wd4684 wd4097 wd340 wd789 wd934 wd3784 \n",
      "35\t0.02\twd1692 wd588 wd4564 wd2076 wd649 wd1310 wd4648 wd2441 wd1886 wd4891 wd3666 wd133 wd2311 wd3148 wd2822 wd4512 wd651 wd2366 wd154 wd4183 \n",
      "36\t0.02\twd1248 wd3266 wd2013 wd1451 wd1435 wd3496 wd1562 wd1103 wd462 wd3151 wd1167 wd2911 wd2049 wd1055 wd2633 wd808 wd3591 wd4182 wd437 wd1626 \n",
      "37\t0.02\twd4783 wd4610 wd2933 wd3310 wd157 wd4432 wd28 wd3649 wd4521 wd3176 wd2941 wd1091 wd468 wd3478 wd4878 wd2329 wd318 wd3562 wd221 wd479 \n",
      "38\t0.02\twd1874 wd1831 wd4254 wd77 wd2677 wd1031 wd3636 wd2759 wd2998 wd2932 wd3202 wd3545 wd2929 wd2630 wd1782 wd4118 wd3892 wd365 wd4151 wd1667 \n",
      "39\t0.02\twd4337 wd188 wd4887 wd4958 wd902 wd388 wd1454 wd2902 wd282 wd2805 wd267 wd3841 wd3584 wd4604 wd205 wd4007 wd1677 wd4352 wd2714 wd4230 \n",
      "40\t0.02\twd3224 wd630 wd1487 wd3286 wd3482 wd2880 wd241 wd3426 wd158 wd3921 wd952 wd4352 wd627 wd361 wd1833 wd2899 wd3323 wd1033 wd1971 wd3017 \n",
      "41\t0.02\twd3621 wd1726 wd3110 wd1520 wd2882 wd3395 wd2291 wd321 wd912 wd1760 wd3941 wd3742 wd4955 wd1182 wd1776 wd427 wd4735 wd2969 wd3448 wd45 \n",
      "42\t0.02\twd4337 wd188 wd4887 wd4958 wd902 wd1454 wd388 wd2902 wd267 wd282 wd2805 wd3584 wd3841 wd205 wd4604 wd4007 wd1677 wd4352 wd2714 wd4230 \n",
      "43\t0.02\twd4094 wd165 wd3583 wd1336 wd4569 wd4794 wd3491 wd4388 wd1999 wd4037 wd2423 wd1300 wd1276 wd548 wd3938 wd3687 wd1939 wd3584 wd414 wd2140 \n",
      "44\t0.02\twd2266 wd4288 wd931 wd515 wd2274 wd1228 wd962 wd4604 wd3089 wd2421 wd3316 wd4850 wd4993 wd4164 wd4601 wd17 wd2889 wd4401 wd4605 wd1315 \n",
      "45\t0.02\twd61 wd3117 wd2907 wd781 wd2836 wd1801 wd1031 wd1095 wd3383 wd1334 wd2295 wd4461 wd1854 wd3766 wd2663 wd2182 wd2652 wd4573 wd57 wd1102 \n",
      "46\t0.02\twd1219 wd2392 wd562 wd973 wd4579 wd2311 wd2701 wd3188 wd1915 wd3366 wd2051 wd2935 wd4759 wd220 wd3967 wd3121 wd1954 wd3145 wd2706 wd477 \n",
      "47\t0.02\twd4783 wd4610 wd2933 wd3310 wd157 wd4432 wd28 wd3649 wd4521 wd3176 wd1091 wd2941 wd3478 wd4878 wd468 wd318 wd2329 wd3562 wd479 wd221 \n",
      "48\t0.02\twd225 wd938 wd988 wd2410 wd1880 wd205 wd4586 wd4447 wd3251 wd1330 wd71 wd2218 wd4960 wd1654 wd2296 wd4879 wd893 wd1366 wd916 wd4838 \n",
      "49\t0.02\twd3776 wd132 wd1361 wd224 wd2474 wd979 wd285 wd1561 wd3142 wd2182 wd4569 wd135 wd2689 wd4119 wd2122 wd1804 wd255 wd3886 wd2379 wd3729 \n",
      "\n",
      "<150> LL/token: -5.04397\n",
      "<160> LL/token: -5.04403\n",
      "<170> LL/token: -5.04403\n",
      "<180> LL/token: -5.04377\n",
      "<190> LL/token: -5.04402\n",
      "\n",
      "0\t0.02\twd1535 wd4319 wd3749 wd622 wd109 wd2749 wd2036 wd1894 wd3899 wd904 wd1063 wd4845 wd1492 wd1962 wd4540 wd2065 wd4908 wd1217 wd2793 wd2687 \n",
      "1\t0.02\twd4257 wd649 wd3714 wd2947 wd1760 wd2902 wd3489 wd4410 wd4854 wd3227 wd1573 wd3643 wd3725 wd4713 wd2650 wd3357 wd4162 wd3590 wd2676 wd792 \n",
      "2\t0.02\twd3245 wd1961 wd2772 wd818 wd1192 wd1641 wd30 wd4946 wd592 wd3138 wd3497 wd3049 wd435 wd2132 wd120 wd3311 wd974 wd894 wd2511 wd674 \n",
      "3\t0.02\twd3909 wd1371 wd2180 wd311 wd1862 wd1606 wd240 wd1373 wd1673 wd2978 wd1065 wd1813 wd1514 wd3108 wd1710 wd4163 wd2111 wd3620 wd329 wd4222 \n",
      "4\t0.02\twd3522 wd4169 wd3607 wd2632 wd2795 wd472 wd1666 wd3037 wd4374 wd4421 wd2691 wd824 wd2504 wd3400 wd2822 wd3835 wd1432 wd980 wd4158 wd4423 \n",
      "5\t0.02\twd2266 wd4288 wd931 wd515 wd2274 wd962 wd1228 wd4604 wd3089 wd2421 wd3316 wd4164 wd4850 wd4993 wd17 wd2889 wd1315 wd4601 wd4401 wd4605 \n",
      "6\t0.02\twd4809 wd2505 wd1067 wd4182 wd133 wd1214 wd390 wd2461 wd3551 wd2292 wd394 wd3393 wd3496 wd689 wd4206 wd956 wd1943 wd1750 wd1559 wd753 \n",
      "7\t0.02\twd309 wd2859 wd3519 wd1487 wd771 wd2052 wd1165 wd4592 wd1391 wd3719 wd1728 wd293 wd2200 wd967 wd3493 wd156 wd3671 wd3887 wd2424 wd3803 \n",
      "8\t0.02\twd2927 wd1815 wd4312 wd1342 wd202 wd4409 wd2982 wd1357 wd1280 wd1748 wd2557 wd3275 wd1049 wd4077 wd4912 wd4459 wd3363 wd2382 wd919 wd4397 \n",
      "9\t0.02\twd639 wd2561 wd363 wd1075 wd2910 wd4554 wd4660 wd1866 wd2107 wd4893 wd2637 wd1927 wd4569 wd679 wd627 wd2123 wd3638 wd4267 wd3090 wd1558 \n",
      "10\t0.02\twd3934 wd3747 wd1625 wd2222 wd1903 wd3422 wd3526 wd54 wd218 wd648 wd201 wd4773 wd2315 wd316 wd1966 wd732 wd3262 wd4061 wd4784 wd4957 \n",
      "11\t0.02\twd3626 wd3624 wd3557 wd1541 wd1041 wd3379 wd1124 wd2247 wd1058 wd1286 wd150 wd3587 wd1471 wd807 wd1750 wd84 wd3401 wd4778 wd933 wd2881 \n",
      "12\t0.02\twd565 wd2636 wd1795 wd1988 wd802 wd154 wd2745 wd2567 wd765 wd3559 wd3454 wd4646 wd1803 wd1760 wd2412 wd4380 wd2548 wd636 wd3004 wd619 \n",
      "13\t0.02\twd343 wd3958 wd4577 wd4259 wd4009 wd1022 wd4531 wd757 wd2048 wd2304 wd4037 wd1757 wd4909 wd637 wd4915 wd3957 wd1865 wd144 wd1453 wd3081 \n",
      "14\t0.02\twd1819 wd1535 wd2823 wd4479 wd418 wd4328 wd267 wd1787 wd1600 wd2165 wd881 wd3517 wd995 wd1599 wd170 wd4035 wd4644 wd824 wd3182 wd790 \n",
      "15\t0.02\twd1796 wd4512 wd3323 wd3231 wd697 wd1257 wd2984 wd3005 wd4390 wd4580 wd674 wd3949 wd3569 wd4963 wd1818 wd4585 wd1976 wd2582 wd2995 wd2211 \n",
      "16\t0.02\twd3486 wd2431 wd3257 wd1235 wd215 wd1360 wd2972 wd2641 wd3943 wd759 wd142 wd1609 wd3408 wd2859 wd2653 wd4111 wd1484 wd2732 wd2710 wd1041 \n",
      "17\t0.02\twd3826 wd812 wd1703 wd2975 wd3037 wd3824 wd4160 wd1426 wd1674 wd3672 wd4151 wd3766 wd4907 wd3277 wd1727 wd2199 wd4934 wd1907 wd2328 wd1205 \n",
      "18\t0.02\twd2310 wd2372 wd1306 wd3748 wd4241 wd939 wd1143 wd4587 wd1799 wd3441 wd3644 wd1286 wd2154 wd1742 wd1919 wd3988 wd756 wd1222 wd1338 wd4468 \n",
      "19\t0.02\twd3934 wd3747 wd2222 wd1625 wd1903 wd3422 wd3526 wd648 wd54 wd4773 wd2315 wd218 wd201 wd4061 wd316 wd1966 wd3262 wd732 wd4957 wd4784 \n",
      "20\t0.02\twd405 wd32 wd1226 wd3437 wd4467 wd1409 wd4954 wd2561 wd4802 wd1579 wd4306 wd3572 wd2434 wd582 wd1522 wd2690 wd4394 wd2014 wd1726 wd2760 \n",
      "21\t0.02\twd1786 wd2511 wd560 wd2752 wd4459 wd113 wd3735 wd2820 wd3397 wd2608 wd788 wd4624 wd1425 wd4528 wd2435 wd3917 wd4095 wd3429 wd1356 wd3309 \n",
      "22\t0.02\twd3934 wd3747 wd1625 wd2222 wd1903 wd3422 wd3526 wd54 wd648 wd218 wd4773 wd201 wd2315 wd316 wd732 wd3262 wd1966 wd4957 wd4061 wd4784 \n",
      "23\t0.02\twd1469 wd2867 wd2562 wd1209 wd3840 wd154 wd1541 wd984 wd2006 wd1913 wd943 wd2157 wd400 wd2311 wd2344 wd4803 wd1458 wd2289 wd4437 wd1191 \n",
      "24\t0.02\twd3349 wd300 wd3878 wd1696 wd1886 wd4482 wd2504 wd2577 wd729 wd4560 wd2286 wd3370 wd16 wd503 wd316 wd4619 wd4642 wd1898 wd1126 wd3624 \n",
      "25\t0.02\twd3486 wd2431 wd3257 wd1235 wd215 wd1360 wd2972 wd2641 wd759 wd3943 wd142 wd1609 wd3408 wd2859 wd4111 wd2732 wd2653 wd1484 wd2710 wd1041 \n",
      "26\t0.02\twd1706 wd2137 wd1079 wd3662 wd1818 wd3356 wd3975 wd3697 wd4413 wd283 wd1904 wd3852 wd2671 wd3445 wd2991 wd4775 wd3679 wd3376 wd3144 wd3239 \n",
      "27\t0.02\twd280 wd2268 wd4078 wd3925 wd1068 wd1204 wd3037 wd1626 wd1439 wd4827 wd2364 wd1198 wd1830 wd3896 wd688 wd1686 wd1059 wd180 wd4429 wd2954 \n",
      "28\t0.02\twd384 wd3179 wd1690 wd547 wd3276 wd3726 wd1070 wd1721 wd2310 wd4563 wd2173 wd632 wd4961 wd4774 wd4397 wd4200 wd4357 wd4847 wd1892 wd921 \n",
      "29\t0.02\twd1609 wd111 wd334 wd894 wd4530 wd4171 wd4100 wd3827 wd3831 wd4610 wd2740 wd1813 wd3542 wd2847 wd2867 wd1206 wd929 wd1582 wd1672 wd1857 \n",
      "30\t0.02\twd2507 wd137 wd4803 wd1020 wd4920 wd1264 wd3714 wd4252 wd340 wd164 wd585 wd3044 wd835 wd1711 wd4795 wd3159 wd902 wd2262 wd1112 wd3277 \n",
      "31\t0.02\twd384 wd3179 wd1690 wd547 wd3726 wd3276 wd1070 wd2310 wd1721 wd4563 wd2173 wd632 wd4961 wd4774 wd4397 wd4200 wd4357 wd1892 wd4847 wd921 \n",
      "32\t0.02\twd2964 wd2910 wd893 wd97 wd4485 wd2165 wd2901 wd4468 wd2487 wd3417 wd164 wd1908 wd4211 wd4441 wd1351 wd886 wd3181 wd1916 wd181 wd4833 \n",
      "33\t0.02\twd160 wd4558 wd1678 wd1999 wd1157 wd4065 wd3355 wd1916 wd2838 wd3388 wd3 wd4824 wd181 wd212 wd2969 wd4679 wd758 wd4659 wd3726 wd3420 \n",
      "34\t0.02\twd1139 wd3009 wd1996 wd4879 wd1988 wd1208 wd1477 wd755 wd4167 wd509 wd4427 wd3369 wd2617 wd790 wd4684 wd4097 wd340 wd789 wd934 wd3784 \n",
      "35\t0.02\twd1692 wd588 wd4564 wd2076 wd649 wd1310 wd4648 wd2441 wd1886 wd4891 wd3666 wd133 wd2311 wd3148 wd2822 wd4512 wd651 wd2366 wd154 wd4183 \n",
      "36\t0.02\twd1248 wd3266 wd2013 wd1451 wd1435 wd3496 wd1562 wd1103 wd462 wd3151 wd1167 wd2911 wd2049 wd1055 wd2633 wd808 wd3591 wd4182 wd437 wd1626 \n",
      "37\t0.02\twd4783 wd4610 wd2933 wd3310 wd157 wd4432 wd28 wd3649 wd4521 wd3176 wd1091 wd2941 wd3478 wd468 wd4878 wd2329 wd318 wd3562 wd221 wd479 \n",
      "38\t0.02\twd1874 wd1831 wd4254 wd77 wd2677 wd1031 wd3636 wd2759 wd2998 wd2932 wd3202 wd3545 wd2929 wd2630 wd1782 wd4118 wd3892 wd365 wd4151 wd1667 \n",
      "39\t0.02\twd4337 wd188 wd4887 wd4958 wd902 wd388 wd1454 wd2902 wd282 wd2805 wd267 wd3841 wd3584 wd205 wd4604 wd4007 wd1677 wd4352 wd2714 wd4230 \n",
      "40\t0.02\twd3224 wd630 wd1487 wd3286 wd3482 wd2880 wd241 wd3426 wd158 wd3921 wd952 wd4352 wd627 wd361 wd1833 wd2899 wd3323 wd1033 wd1971 wd3017 \n",
      "41\t0.02\twd3621 wd1726 wd3110 wd1520 wd2882 wd3395 wd2291 wd321 wd912 wd1760 wd3941 wd3742 wd4955 wd1182 wd1776 wd427 wd4735 wd2969 wd3448 wd45 \n",
      "42\t0.02\twd4337 wd188 wd4887 wd4958 wd902 wd1454 wd388 wd2902 wd267 wd282 wd2805 wd3584 wd3841 wd205 wd4604 wd4007 wd1677 wd4352 wd2714 wd2757 \n",
      "43\t0.02\twd4094 wd165 wd3583 wd1336 wd4569 wd4794 wd3491 wd4388 wd1999 wd4037 wd2423 wd1300 wd1276 wd548 wd3938 wd3687 wd1939 wd3584 wd414 wd2140 \n",
      "44\t0.02\twd2266 wd931 wd4288 wd515 wd2274 wd1228 wd962 wd4604 wd2421 wd3316 wd3089 wd4850 wd4993 wd4601 wd17 wd4164 wd2889 wd4401 wd4605 wd1315 \n",
      "45\t0.02\twd61 wd3117 wd2907 wd781 wd2836 wd1801 wd1031 wd1095 wd3383 wd1334 wd2295 wd4461 wd1854 wd3766 wd2663 wd2182 wd2652 wd4573 wd57 wd1102 \n",
      "46\t0.02\twd1219 wd2392 wd562 wd973 wd4579 wd2311 wd3188 wd2701 wd1915 wd3366 wd2051 wd2935 wd4759 wd220 wd3967 wd3121 wd1954 wd3145 wd2706 wd477 \n",
      "47\t0.02\twd4783 wd4610 wd2933 wd3310 wd157 wd4432 wd28 wd3649 wd4521 wd3176 wd1091 wd2941 wd3478 wd4878 wd468 wd318 wd2329 wd3562 wd479 wd221 \n",
      "48\t0.02\twd225 wd938 wd988 wd1880 wd2410 wd205 wd4586 wd4447 wd3251 wd1330 wd71 wd2218 wd4960 wd1654 wd2296 wd4879 wd893 wd1366 wd916 wd4838 \n",
      "49\t0.02\twd3776 wd132 wd1361 wd224 wd2474 wd979 wd285 wd1561 wd3142 wd2182 wd4569 wd135 wd2689 wd4119 wd2122 wd1804 wd255 wd3886 wd2379 wd3729 \n",
      "\n"
     ]
    },
    {
     "name": "stderr",
     "output_type": "stream",
     "text": [
      "<200> LL/token: -5.04389\n",
      "[beta: 0.0102] \n",
      "<210> LL/token: -5.03608\n",
      "[beta: 0.01092] \n",
      "<220> LL/token: -5.03123\n",
      "[beta: 0.01135] \n",
      "<230> LL/token: -5.02933\n",
      "[beta: 0.01152] \n",
      "<240> LL/token: -5.02789\n",
      "\n",
      "0\t0.00395\twd1535 wd4319 wd622 wd3749 wd109 wd2749 wd2036 wd1894 wd3899 wd904 wd1063 wd4845 wd1492 wd1962 wd4540 wd2065 wd4908 wd1217 wd2793 wd2687 \n",
      "1\t0.00382\twd4257 wd649 wd3714 wd2947 wd1760 wd2902 wd3489 wd4410 wd4854 wd3227 wd1573 wd3643 wd3725 wd4713 wd2650 wd3357 wd4162 wd3590 wd2676 wd792 \n",
      "2\t0.00386\twd3245 wd1961 wd2772 wd818 wd1192 wd1641 wd30 wd4946 wd592 wd3138 wd3497 wd3049 wd435 wd120 wd2132 wd3311 wd974 wd894 wd2511 wd674 \n",
      "3\t0.00375\twd3909 wd1371 wd2180 wd311 wd1862 wd1606 wd240 wd1373 wd1673 wd2978 wd1065 wd1813 wd1514 wd3108 wd1710 wd4163 wd2111 wd3620 wd329 wd4222 \n",
      "4\t0.00402\twd3522 wd4169 wd3607 wd2632 wd2795 wd472 wd1666 wd3037 wd4374 wd4421 wd2691 wd824 wd2504 wd3400 wd2822 wd3835 wd1432 wd980 wd4158 wd4423 \n",
      "5\t0.00335\twd2266 wd4288 wd931 wd515 wd2274 wd962 wd1228 wd4604 wd3089 wd2421 wd3316 wd4164 wd4850 wd17 wd4993 wd2889 wd1315 wd4601 wd4401 wd4605 \n",
      "6\t0.00388\twd4809 wd2505 wd1067 wd4182 wd133 wd1214 wd390 wd2461 wd3551 wd2292 wd394 wd3393 wd3496 wd689 wd4206 wd1943 wd956 wd1750 wd1559 wd753 \n",
      "7\t0.00373\twd309 wd2859 wd3519 wd1487 wd771 wd2052 wd1165 wd4592 wd1391 wd3719 wd1728 wd293 wd2200 wd967 wd3493 wd156 wd3671 wd3887 wd2424 wd3803 \n",
      "8\t0.0036\twd2927 wd1815 wd4312 wd1342 wd202 wd4409 wd2982 wd1357 wd1280 wd1748 wd2557 wd3275 wd1049 wd4077 wd4459 wd4912 wd3363 wd2382 wd919 wd315 \n",
      "9\t0.00377\twd639 wd2561 wd363 wd1075 wd2910 wd4554 wd4660 wd1866 wd2107 wd4893 wd2637 wd1927 wd4569 wd679 wd627 wd2123 wd3638 wd4267 wd3090 wd1558 \n",
      "10\t0.00848\twd3934 wd3747 wd1625 wd2222 wd1903 wd3422 wd3526 wd54 wd218 wd648 wd201 wd4773 wd2315 wd316 wd1966 wd3262 wd732 wd4061 wd4784 wd4957 \n",
      "11\t0.00733\twd3626 wd3624 wd3557 wd1541 wd1041 wd3379 wd1124 wd2247 wd1286 wd1058 wd150 wd3587 wd1471 wd807 wd1750 wd84 wd3401 wd4778 wd933 wd2881 \n",
      "12\t0.00398\twd565 wd2636 wd1795 wd1988 wd802 wd154 wd2745 wd2567 wd765 wd3559 wd3454 wd4646 wd1803 wd1760 wd2412 wd4380 wd2548 wd636 wd3004 wd619 \n",
      "13\t0.00787\twd343 wd3958 wd4577 wd4259 wd4009 wd1022 wd4531 wd757 wd2048 wd2304 wd4037 wd1757 wd4909 wd637 wd4915 wd3957 wd1865 wd144 wd1453 wd3081 \n",
      "14\t0.00821\twd1819 wd1535 wd2823 wd4479 wd418 wd4328 wd267 wd1787 wd1600 wd2165 wd881 wd3517 wd995 wd170 wd1599 wd4035 wd4644 wd824 wd3182 wd790 \n",
      "15\t0.00782\twd1796 wd4512 wd3323 wd3231 wd697 wd1257 wd2984 wd3005 wd4390 wd4580 wd674 wd3949 wd3569 wd4963 wd1818 wd4585 wd1976 wd2582 wd2995 wd2211 \n",
      "16\t0.01327\twd3486 wd2431 wd3257 wd1235 wd215 wd1360 wd2972 wd2641 wd3943 wd759 wd142 wd1609 wd3408 wd2859 wd4111 wd2653 wd2732 wd1484 wd1041 wd2710 \n",
      "17\t0.00398\twd3826 wd812 wd1703 wd2975 wd3037 wd3824 wd4160 wd1426 wd1674 wd3672 wd4151 wd3766 wd4907 wd3277 wd1727 wd2199 wd4934 wd1907 wd2328 wd1205 \n",
      "18\t0.00401\twd2310 wd2372 wd1306 wd3748 wd4241 wd939 wd1143 wd4587 wd1799 wd3441 wd3644 wd1286 wd2154 wd1742 wd1919 wd3988 wd756 wd1222 wd1338 wd4468 \n",
      "19\t0.00317\twd3934 wd3747 wd2222 wd1625 wd1903 wd3422 wd3526 wd54 wd648 wd218 wd4773 wd2315 wd201 wd316 wd4061 wd3262 wd732 wd4784 wd4957 wd1966 \n",
      "20\t0.00395\twd405 wd32 wd1226 wd3437 wd4467 wd1409 wd4954 wd2561 wd4802 wd1579 wd4306 wd3572 wd2434 wd582 wd1522 wd2690 wd4394 wd2014 wd1726 wd2760 \n",
      "21\t0.00399\twd1786 wd2511 wd560 wd2752 wd4459 wd113 wd3735 wd2820 wd3397 wd2608 wd788 wd4624 wd1425 wd4528 wd2435 wd3917 wd4095 wd3429 wd1356 wd3309 \n",
      "22\t0.01019\twd3934 wd3747 wd1625 wd2222 wd1903 wd3422 wd3526 wd648 wd54 wd218 wd4773 wd201 wd2315 wd316 wd732 wd3262 wd1966 wd4957 wd4061 wd4784 \n",
      "23\t0.00735\twd1469 wd2867 wd2562 wd1209 wd3840 wd154 wd1541 wd984 wd2006 wd1913 wd943 wd2157 wd400 wd2311 wd2344 wd4803 wd1458 wd2289 wd4437 wd1191 \n",
      "24\t0.00392\twd3349 wd300 wd3878 wd1696 wd1886 wd4482 wd2504 wd2577 wd729 wd4560 wd2286 wd3370 wd16 wd503 wd316 wd4619 wd4642 wd1898 wd1126 wd3624 \n",
      "25\t0.00769\twd3486 wd2431 wd3257 wd1235 wd215 wd1360 wd2972 wd2641 wd759 wd3943 wd142 wd1609 wd3408 wd2859 wd2653 wd4111 wd2732 wd1484 wd2710 wd1041 \n",
      "26\t0.00391\twd1706 wd2137 wd1079 wd3662 wd1818 wd3356 wd3975 wd3697 wd4413 wd283 wd1904 wd3852 wd2671 wd3445 wd2991 wd4775 wd3679 wd3376 wd3144 wd3239 \n",
      "27\t0.00822\twd280 wd2268 wd4078 wd3925 wd1068 wd1204 wd3037 wd1626 wd1439 wd4827 wd2364 wd1198 wd1830 wd3896 wd688 wd1686 wd1059 wd180 wd4429 wd2954 \n",
      "28\t0.01388\twd384 wd3179 wd1690 wd547 wd3276 wd3726 wd1070 wd1721 wd2310 wd4563 wd2173 wd632 wd4961 wd4774 wd4397 wd4200 wd4357 wd4847 wd1892 wd921 \n",
      "29\t0.00386\twd1609 wd111 wd334 wd894 wd4530 wd4171 wd4100 wd3827 wd3831 wd4610 wd2740 wd1813 wd3542 wd2847 wd2867 wd1206 wd929 wd1582 wd1672 wd1857 \n",
      "30\t0.00395\twd2507 wd137 wd4803 wd1020 wd4920 wd1264 wd3714 wd4252 wd340 wd164 wd585 wd3044 wd835 wd1711 wd4795 wd3159 wd2262 wd902 wd1112 wd3277 \n",
      "31\t0.00696\twd384 wd3179 wd1690 wd547 wd3726 wd3276 wd1070 wd2310 wd1721 wd4563 wd2173 wd632 wd4961 wd4774 wd4397 wd4200 wd4357 wd1892 wd4847 wd921 \n",
      "32\t0.00399\twd2964 wd2910 wd893 wd97 wd4485 wd2901 wd2165 wd4468 wd2487 wd3417 wd164 wd1908 wd4211 wd4441 wd1351 wd886 wd3181 wd1916 wd181 wd4833 \n",
      "33\t0.00389\twd160 wd4558 wd1678 wd1999 wd1157 wd4065 wd3355 wd1916 wd2838 wd3388 wd3 wd4824 wd181 wd212 wd4679 wd2969 wd758 wd4659 wd3726 wd3420 \n",
      "34\t0.00393\twd1139 wd3009 wd1996 wd4879 wd1988 wd1208 wd1477 wd755 wd4167 wd509 wd4427 wd3369 wd2617 wd790 wd4684 wd4097 wd340 wd789 wd934 wd3784 \n",
      "35\t0.00393\twd1692 wd588 wd4564 wd2076 wd649 wd1310 wd4648 wd2441 wd1886 wd4891 wd3666 wd133 wd2311 wd3148 wd2822 wd4512 wd651 wd2366 wd154 wd4183 \n",
      "36\t0.00367\twd1248 wd3266 wd2013 wd1451 wd1435 wd3496 wd1562 wd1103 wd462 wd3151 wd1167 wd2911 wd2049 wd1055 wd2633 wd808 wd3591 wd4182 wd437 wd1626 \n",
      "37\t0.00749\twd4783 wd4610 wd2933 wd3310 wd157 wd4432 wd28 wd3649 wd4521 wd3176 wd1091 wd2941 wd3478 wd468 wd4878 wd318 wd2329 wd3562 wd221 wd479 \n",
      "38\t0.00401\twd1874 wd1831 wd4254 wd77 wd2677 wd1031 wd3636 wd2759 wd2998 wd2932 wd3202 wd3545 wd2929 wd2630 wd1782 wd4118 wd3892 wd365 wd4151 wd1667 \n",
      "39\t0.01264\twd4337 wd188 wd4887 wd4958 wd902 wd388 wd1454 wd2902 wd282 wd2805 wd267 wd3841 wd3584 wd4604 wd205 wd4007 wd1677 wd4352 wd2714 wd4230 \n",
      "40\t0.00381\twd3224 wd630 wd1487 wd3286 wd3482 wd2880 wd241 wd3426 wd158 wd3921 wd952 wd4352 wd627 wd361 wd1833 wd2899 wd3323 wd1033 wd1971 wd3017 \n",
      "41\t0.0039\twd3621 wd1726 wd3110 wd1520 wd2882 wd3395 wd2291 wd321 wd912 wd1760 wd3941 wd3742 wd4955 wd1182 wd1776 wd427 wd4735 wd2969 wd3448 wd45 \n",
      "42\t0.00831\twd4337 wd188 wd4887 wd4958 wd902 wd1454 wd388 wd2902 wd267 wd282 wd2805 wd3584 wd3841 wd205 wd4604 wd4007 wd1677 wd4352 wd2714 wd4230 \n",
      "43\t0.00389\twd4094 wd165 wd3583 wd1336 wd4569 wd4794 wd3491 wd4388 wd1999 wd4037 wd2423 wd1300 wd1276 wd548 wd3938 wd3687 wd1939 wd3584 wd414 wd2140 \n",
      "44\t0.00085\twd2266 wd931 wd4288 wd515 wd2274 wd1228 wd962 wd2421 wd4604 wd3316 wd3089 wd4993 wd4850 wd4164 wd17 wd4601 wd4401 wd4605 wd1315 wd2889 \n",
      "45\t0.00392\twd61 wd3117 wd2907 wd781 wd2836 wd1801 wd1031 wd1095 wd3383 wd1334 wd2295 wd4461 wd1854 wd3766 wd2663 wd2182 wd2652 wd4573 wd57 wd1102 \n",
      "46\t0.00391\twd1219 wd2392 wd562 wd973 wd4579 wd2311 wd3188 wd2701 wd1915 wd3366 wd2051 wd2935 wd4759 wd220 wd3967 wd3121 wd1954 wd3145 wd2706 wd477 \n",
      "47\t0.01362\twd4783 wd4610 wd2933 wd3310 wd157 wd4432 wd28 wd3649 wd4521 wd3176 wd1091 wd2941 wd3478 wd4878 wd468 wd318 wd2329 wd3562 wd479 wd221 \n",
      "48\t0.00759\twd225 wd938 wd988 wd1880 wd2410 wd205 wd4586 wd4447 wd3251 wd1330 wd71 wd2218 wd4960 wd1654 wd2296 wd4879 wd893 wd916 wd1366 wd4838 \n",
      "49\t0.0039\twd3776 wd132 wd1361 wd224 wd2474 wd979 wd285 wd1561 wd3142 wd2182 wd4569 wd135 wd2689 wd4119 wd2122 wd1804 wd255 wd3886 wd2379 wd3729 \n",
      "\n",
      "[beta: 0.01164] \n",
      "<250> LL/token: -5.02664\n",
      "[beta: 0.01171] \n",
      "<260> LL/token: -5.02573\n",
      "[beta: 0.01175] \n",
      "<270> LL/token: -5.0251\n",
      "[beta: 0.01179] \n",
      "<280> LL/token: -5.02467\n",
      "[beta: 0.01181] \n",
      "<290> LL/token: -5.02399\n",
      "\n",
      "0\t0.00368\twd1535 wd4319 wd3749 wd622 wd109 wd2749 wd2036 wd1894 wd3899 wd904 wd1063 wd4845 wd1492 wd1962 wd4540 wd2065 wd4908 wd1217 wd2793 wd2687 \n",
      "1\t0.00348\twd4257 wd649 wd3714 wd2947 wd2902 wd1760 wd3489 wd4410 wd4854 wd3227 wd1573 wd3643 wd3725 wd4713 wd2650 wd3357 wd4162 wd3590 wd2676 wd792 \n",
      "2\t0.00361\twd3245 wd1961 wd2772 wd818 wd1192 wd1641 wd30 wd4946 wd592 wd3138 wd3497 wd3049 wd435 wd120 wd2132 wd3311 wd974 wd894 wd2511 wd674 \n",
      "3\t0.00346\twd3909 wd1371 wd2180 wd311 wd1862 wd1606 wd240 wd1373 wd1673 wd2978 wd1065 wd1813 wd1514 wd3108 wd1710 wd4163 wd2111 wd3620 wd329 wd4222 \n",
      "4\t0.00374\twd3522 wd4169 wd3607 wd2632 wd2795 wd472 wd1666 wd3037 wd4374 wd4421 wd2691 wd824 wd2504 wd3400 wd2822 wd3835 wd1432 wd980 wd4158 wd4423 \n",
      "5\t0.00309\twd2266 wd4288 wd931 wd515 wd2274 wd962 wd1228 wd4604 wd3089 wd2421 wd3316 wd4164 wd4850 wd17 wd4993 wd2889 wd1315 wd4601 wd4401 wd4605 \n",
      "6\t0.00358\twd4809 wd2505 wd1067 wd4182 wd133 wd1214 wd390 wd2461 wd3551 wd2292 wd394 wd3393 wd3496 wd689 wd4206 wd1943 wd956 wd1750 wd1559 wd753 \n",
      "7\t0.00345\twd309 wd2859 wd3519 wd1487 wd771 wd2052 wd1165 wd4592 wd1391 wd3719 wd1728 wd293 wd2200 wd967 wd3493 wd156 wd3671 wd3887 wd2424 wd3803 \n",
      "8\t0.00335\twd2927 wd1815 wd4312 wd1342 wd202 wd4409 wd2982 wd1357 wd1280 wd1748 wd2557 wd3275 wd1049 wd4077 wd4459 wd4912 wd3363 wd2382 wd919 wd4397 \n",
      "9\t0.00349\twd639 wd2561 wd363 wd1075 wd2910 wd4554 wd4660 wd1866 wd2107 wd4893 wd2637 wd1927 wd4569 wd679 wd627 wd2123 wd3638 wd4267 wd3090 wd1558 \n",
      "10\t0.00774\twd3934 wd3747 wd2222 wd1625 wd1903 wd3422 wd3526 wd54 wd218 wd648 wd201 wd4773 wd2315 wd316 wd1966 wd3262 wd732 wd4061 wd4784 wd4957 \n",
      "11\t0.00676\twd3626 wd3624 wd3557 wd1541 wd1041 wd3379 wd1124 wd2247 wd1058 wd1286 wd150 wd3587 wd1471 wd807 wd1750 wd84 wd3401 wd4778 wd933 wd2881 \n",
      "12\t0.00363\twd565 wd2636 wd1795 wd1988 wd802 wd154 wd2745 wd2567 wd765 wd3559 wd3454 wd4646 wd1803 wd1760 wd2412 wd4380 wd2548 wd636 wd3004 wd619 \n",
      "13\t0.00726\twd343 wd3958 wd4577 wd4259 wd4009 wd1022 wd4531 wd757 wd2048 wd2304 wd4037 wd1757 wd4909 wd637 wd4915 wd3957 wd1865 wd144 wd1453 wd3081 \n",
      "14\t0.0076\twd1819 wd1535 wd2823 wd4479 wd418 wd4328 wd267 wd1787 wd1600 wd2165 wd881 wd3517 wd995 wd1599 wd170 wd4035 wd4644 wd824 wd3182 wd790 \n",
      "15\t0.00721\twd1796 wd4512 wd3323 wd3231 wd697 wd1257 wd2984 wd3005 wd4390 wd4580 wd674 wd3949 wd3569 wd4963 wd1818 wd4585 wd1976 wd2582 wd2995 wd2211 \n",
      "16\t0.01247\twd3486 wd2431 wd3257 wd1235 wd215 wd1360 wd2972 wd2641 wd3943 wd759 wd1609 wd142 wd3408 wd2859 wd2653 wd4111 wd2732 wd1484 wd1041 wd2710 \n",
      "17\t0.00369\twd3826 wd812 wd1703 wd2975 wd3037 wd3824 wd4160 wd1426 wd1674 wd3672 wd4151 wd3766 wd4907 wd3277 wd1727 wd2199 wd4934 wd1907 wd2328 wd1205 \n",
      "18\t0.0038\twd2310 wd2372 wd1306 wd3748 wd4241 wd939 wd1143 wd4587 wd1799 wd3441 wd3644 wd1286 wd2154 wd1742 wd1919 wd3988 wd756 wd1222 wd1338 wd4468 \n",
      "19\t0.00253\twd3934 wd3747 wd2222 wd1625 wd1903 wd3422 wd3526 wd54 wd648 wd218 wd4773 wd2315 wd201 wd316 wd3262 wd4061 wd732 wd4784 wd4957 wd1966 \n",
      "20\t0.00368\twd405 wd32 wd1226 wd3437 wd4467 wd1409 wd4954 wd2561 wd4802 wd1579 wd4306 wd3572 wd2434 wd582 wd1522 wd2690 wd4394 wd2014 wd1726 wd2760 \n",
      "21\t0.00371\twd1786 wd2511 wd560 wd2752 wd4459 wd113 wd3735 wd2820 wd3397 wd2608 wd788 wd4624 wd1425 wd4528 wd2435 wd3917 wd4095 wd3429 wd1356 wd3309 \n",
      "22\t0.00952\twd3934 wd3747 wd1625 wd2222 wd1903 wd3422 wd3526 wd648 wd54 wd218 wd4773 wd201 wd2315 wd316 wd732 wd3262 wd1966 wd4957 wd4061 wd4784 \n",
      "23\t0.00688\twd1469 wd2867 wd2562 wd1209 wd3840 wd154 wd1541 wd984 wd2006 wd1913 wd943 wd2157 wd400 wd2311 wd2344 wd4803 wd1458 wd2289 wd4437 wd1191 \n",
      "24\t0.00368\twd3349 wd300 wd3878 wd1696 wd1886 wd4482 wd2504 wd2577 wd729 wd4560 wd2286 wd3370 wd16 wd503 wd316 wd4619 wd4642 wd1898 wd1126 wd3624 \n",
      "25\t0.0068\twd3486 wd2431 wd3257 wd1235 wd215 wd1360 wd2972 wd2641 wd759 wd3943 wd142 wd1609 wd3408 wd2859 wd4111 wd2732 wd2653 wd1484 wd2710 wd1041 \n",
      "26\t0.00358\twd1706 wd2137 wd1079 wd3662 wd1818 wd3356 wd3975 wd3697 wd4413 wd283 wd1904 wd3852 wd2671 wd3445 wd2991 wd4775 wd3679 wd3376 wd3144 wd3239 \n",
      "27\t0.00757\twd280 wd2268 wd4078 wd3925 wd1068 wd1204 wd3037 wd1626 wd1439 wd4827 wd2364 wd1198 wd1830 wd3896 wd688 wd1686 wd1059 wd180 wd4429 wd2954 \n",
      "28\t0.01309\twd384 wd3179 wd1690 wd547 wd3276 wd3726 wd1070 wd1721 wd2310 wd4563 wd2173 wd632 wd4961 wd4774 wd4397 wd4200 wd4357 wd4847 wd1892 wd921 \n",
      "29\t0.00361\twd1609 wd111 wd334 wd894 wd4530 wd4171 wd4100 wd3827 wd3831 wd4610 wd2740 wd1813 wd3542 wd2847 wd2867 wd1206 wd929 wd1582 wd1672 wd1857 \n",
      "30\t0.00369\twd2507 wd137 wd4803 wd1020 wd4920 wd1264 wd3714 wd4252 wd340 wd164 wd585 wd3044 wd835 wd1711 wd4795 wd3159 wd2262 wd902 wd1112 wd3277 \n",
      "31\t0.00612\twd384 wd3179 wd1690 wd547 wd3276 wd3726 wd1070 wd2310 wd1721 wd4563 wd2173 wd632 wd4961 wd4774 wd4397 wd4200 wd4357 wd1892 wd4847 wd921 \n",
      "32\t0.00365\twd2964 wd2910 wd893 wd97 wd4485 wd2165 wd2901 wd4468 wd2487 wd3417 wd164 wd1908 wd4211 wd4441 wd1351 wd886 wd3181 wd1916 wd181 wd4833 \n",
      "33\t0.00368\twd160 wd4558 wd1678 wd1999 wd1157 wd4065 wd3355 wd1916 wd2838 wd3388 wd3 wd4824 wd181 wd212 wd2969 wd4679 wd758 wd4659 wd3726 wd3420 \n",
      "34\t0.00363\twd1139 wd3009 wd1996 wd4879 wd1988 wd1208 wd1477 wd755 wd4167 wd509 wd4427 wd3369 wd2617 wd790 wd4684 wd4097 wd340 wd789 wd934 wd3784 \n",
      "35\t0.00364\twd1692 wd588 wd4564 wd2076 wd649 wd1310 wd4648 wd2441 wd1886 wd4891 wd3666 wd133 wd2311 wd3148 wd2822 wd4512 wd651 wd2366 wd154 wd4183 \n",
      "36\t0.00341\twd1248 wd3266 wd2013 wd1451 wd1435 wd3496 wd1562 wd1103 wd462 wd3151 wd1167 wd2911 wd2049 wd1055 wd2633 wd808 wd3591 wd4182 wd437 wd1626 \n",
      "37\t0.00652\twd4783 wd4610 wd2933 wd3310 wd157 wd4432 wd28 wd3649 wd4521 wd3176 wd1091 wd2941 wd3478 wd468 wd4878 wd2329 wd318 wd3562 wd221 wd479 \n",
      "38\t0.00371\twd1874 wd1831 wd4254 wd77 wd2677 wd1031 wd3636 wd2759 wd2998 wd2932 wd3202 wd3545 wd2929 wd2630 wd1782 wd4118 wd3892 wd365 wd4151 wd1667 \n",
      "39\t0.01177\twd4337 wd188 wd4887 wd4958 wd902 wd388 wd1454 wd2902 wd282 wd2805 wd267 wd3841 wd3584 wd4604 wd205 wd4007 wd1677 wd4352 wd2714 wd4230 \n",
      "40\t0.00356\twd3224 wd630 wd1487 wd3286 wd3482 wd2880 wd241 wd3426 wd158 wd3921 wd952 wd4352 wd627 wd361 wd1833 wd2899 wd3323 wd1033 wd1971 wd3017 \n",
      "41\t0.00364\twd3621 wd1726 wd3110 wd1520 wd2882 wd3395 wd2291 wd321 wd912 wd1760 wd3941 wd3742 wd4955 wd1182 wd1776 wd427 wd4735 wd2969 wd3448 wd45 \n",
      "42\t0.00746\twd4337 wd188 wd4887 wd4958 wd902 wd1454 wd388 wd2902 wd267 wd282 wd2805 wd3584 wd3841 wd205 wd4604 wd4007 wd1677 wd4352 wd2714 wd4230 \n",
      "43\t0.00365\twd4094 wd165 wd3583 wd1336 wd4569 wd4794 wd3491 wd4388 wd1999 wd4037 wd2423 wd1300 wd1276 wd548 wd3938 wd3687 wd1939 wd3584 wd414 wd2140 \n",
      "44\t0.00071\twd2266 wd931 wd4288 wd515 wd2274 wd1228 wd962 wd2421 wd4604 wd3316 wd3089 wd4993 wd4850 wd4164 wd17 wd4601 wd1315 wd4401 wd2889 wd4605 \n",
      "45\t0.00363\twd61 wd3117 wd2907 wd781 wd2836 wd1801 wd1031 wd1095 wd3383 wd1334 wd2295 wd4461 wd1854 wd3766 wd2663 wd2182 wd2652 wd4573 wd57 wd1102 \n",
      "46\t0.00361\twd1219 wd2392 wd562 wd973 wd4579 wd2311 wd3188 wd2701 wd1915 wd3366 wd2051 wd2935 wd4759 wd220 wd3967 wd3121 wd1954 wd3145 wd2706 wd477 \n",
      "47\t0.01275\twd4783 wd4610 wd2933 wd3310 wd157 wd4432 wd28 wd3649 wd4521 wd3176 wd1091 wd2941 wd3478 wd4878 wd468 wd318 wd2329 wd3562 wd479 wd221 \n",
      "48\t0.00701\twd225 wd938 wd988 wd1880 wd2410 wd205 wd4586 wd4447 wd3251 wd1330 wd71 wd2218 wd4960 wd1654 wd2296 wd4879 wd893 wd1366 wd916 wd4838 \n",
      "49\t0.00368\twd3776 wd132 wd1361 wd224 wd2474 wd979 wd285 wd1561 wd3142 wd2182 wd4569 wd135 wd2689 wd4119 wd2122 wd1804 wd255 wd3886 wd2379 wd3729 \n",
      "\n"
     ]
    },
    {
     "name": "stderr",
     "output_type": "stream",
     "text": [
      "[beta: 0.01179] \n",
      "<300> LL/token: -5.02355\n",
      "[beta: 0.01176] \n",
      "<310> LL/token: -5.02318\n",
      "[beta: 0.01174] \n",
      "<320> LL/token: -5.02299\n",
      "[beta: 0.01179] \n",
      "<330> LL/token: -5.02241\n",
      "[beta: 0.01179] \n",
      "<340> LL/token: -5.02225\n",
      "\n",
      "0\t0.00366\twd1535 wd4319 wd3749 wd622 wd109 wd2749 wd2036 wd1894 wd3899 wd904 wd1063 wd4845 wd1492 wd1962 wd4540 wd2065 wd4908 wd1217 wd2793 wd2687 \n",
      "1\t0.00352\twd4257 wd649 wd3714 wd2947 wd1760 wd2902 wd3489 wd4410 wd4854 wd3227 wd1573 wd3643 wd3725 wd4713 wd2650 wd3357 wd4162 wd3590 wd2676 wd792 \n",
      "2\t0.00358\twd3245 wd1961 wd2772 wd818 wd1192 wd1641 wd30 wd4946 wd592 wd3138 wd3497 wd3049 wd435 wd2132 wd120 wd3311 wd974 wd894 wd2511 wd674 \n",
      "3\t0.00348\twd3909 wd1371 wd2180 wd311 wd1862 wd1606 wd240 wd1373 wd1673 wd2978 wd1065 wd1813 wd1514 wd3108 wd1710 wd4163 wd2111 wd3620 wd329 wd4222 \n",
      "4\t0.00371\twd3522 wd4169 wd3607 wd2632 wd2795 wd472 wd1666 wd3037 wd4374 wd4421 wd2691 wd824 wd2504 wd3400 wd2822 wd3835 wd1432 wd980 wd4158 wd4423 \n",
      "5\t0.00309\twd2266 wd4288 wd931 wd515 wd2274 wd962 wd1228 wd4604 wd3089 wd2421 wd3316 wd4164 wd17 wd4850 wd4993 wd2889 wd1315 wd4601 wd4401 wd4605 \n",
      "6\t0.00356\twd4809 wd2505 wd1067 wd4182 wd133 wd1214 wd390 wd2461 wd3551 wd2292 wd394 wd3393 wd3496 wd689 wd4206 wd1943 wd956 wd1750 wd1559 wd753 \n",
      "7\t0.00348\twd309 wd2859 wd3519 wd1487 wd771 wd2052 wd1165 wd4592 wd1391 wd3719 wd1728 wd293 wd2200 wd967 wd3493 wd156 wd3671 wd3887 wd2424 wd3803 \n",
      "8\t0.0033\twd2927 wd1815 wd4312 wd1342 wd202 wd4409 wd2982 wd1357 wd1280 wd1748 wd2557 wd3275 wd1049 wd4077 wd4459 wd4912 wd3363 wd2382 wd919 wd361 \n",
      "9\t0.0035\twd639 wd2561 wd363 wd1075 wd2910 wd4554 wd4660 wd1866 wd2107 wd4893 wd2637 wd1927 wd4569 wd679 wd627 wd2123 wd3638 wd4267 wd3090 wd1558 \n",
      "10\t0.00768\twd3934 wd3747 wd1625 wd2222 wd1903 wd3422 wd3526 wd54 wd218 wd648 wd201 wd4773 wd2315 wd1966 wd316 wd3262 wd732 wd4061 wd4784 wd4957 \n",
      "11\t0.00671\twd3626 wd3624 wd3557 wd1541 wd1041 wd3379 wd1124 wd2247 wd1058 wd1286 wd150 wd3587 wd1471 wd807 wd1750 wd84 wd3401 wd4778 wd933 wd2881 \n",
      "12\t0.00367\twd2636 wd565 wd1795 wd1988 wd802 wd154 wd2745 wd2567 wd765 wd3559 wd3454 wd4646 wd1803 wd1760 wd2412 wd4380 wd2548 wd636 wd3004 wd619 \n",
      "13\t0.00725\twd343 wd3958 wd4577 wd4259 wd4009 wd1022 wd4531 wd757 wd2048 wd2304 wd4037 wd1757 wd4909 wd637 wd4915 wd3957 wd1865 wd144 wd1453 wd3081 \n",
      "14\t0.00762\twd1819 wd1535 wd2823 wd4479 wd418 wd4328 wd267 wd1787 wd1600 wd2165 wd881 wd3517 wd995 wd170 wd1599 wd4035 wd4644 wd824 wd3182 wd790 \n",
      "15\t0.00721\twd1796 wd4512 wd3323 wd3231 wd697 wd1257 wd2984 wd3005 wd4390 wd4580 wd674 wd3949 wd3569 wd4963 wd1818 wd4585 wd1976 wd2582 wd2995 wd2211 \n",
      "16\t0.01246\twd3486 wd2431 wd3257 wd1235 wd215 wd1360 wd2972 wd2641 wd3943 wd759 wd142 wd1609 wd3408 wd2859 wd4111 wd2653 wd2732 wd1484 wd1041 wd2710 \n",
      "17\t0.0037\twd3826 wd812 wd1703 wd2975 wd3037 wd3824 wd4160 wd1426 wd1674 wd3672 wd4151 wd3766 wd4907 wd3277 wd1727 wd2199 wd4934 wd1907 wd2328 wd1205 \n",
      "18\t0.00372\twd2310 wd2372 wd1306 wd3748 wd4241 wd939 wd1143 wd4587 wd1799 wd3441 wd3644 wd1286 wd2154 wd1742 wd1919 wd3988 wd756 wd1222 wd1338 wd4468 \n",
      "19\t0.00229\twd3934 wd3747 wd2222 wd1625 wd1903 wd3422 wd3526 wd54 wd218 wd648 wd4773 wd2315 wd201 wd316 wd3262 wd4061 wd732 wd4957 wd4784 wd1966 \n",
      "20\t0.00362\twd405 wd32 wd1226 wd3437 wd4467 wd1409 wd4954 wd2561 wd4802 wd1579 wd4306 wd3572 wd2434 wd582 wd1522 wd2690 wd4394 wd2014 wd1726 wd2760 \n",
      "21\t0.00372\twd1786 wd2511 wd560 wd2752 wd4459 wd113 wd3735 wd2820 wd3397 wd2608 wd788 wd4624 wd1425 wd4528 wd2435 wd3917 wd4095 wd3429 wd1356 wd3309 \n",
      "22\t0.00956\twd3934 wd3747 wd1625 wd2222 wd1903 wd3422 wd3526 wd648 wd54 wd218 wd4773 wd201 wd2315 wd316 wd732 wd3262 wd1966 wd4957 wd4061 wd4784 \n",
      "23\t0.00684\twd1469 wd2867 wd2562 wd1209 wd3840 wd154 wd1541 wd984 wd2006 wd1913 wd943 wd2157 wd400 wd2311 wd2344 wd4803 wd1458 wd2289 wd4437 wd1191 \n",
      "24\t0.00366\twd3349 wd300 wd3878 wd1696 wd1886 wd4482 wd2504 wd2577 wd729 wd4560 wd2286 wd3370 wd16 wd503 wd316 wd4619 wd4642 wd1898 wd1126 wd3624 \n",
      "25\t0.00658\twd3486 wd2431 wd3257 wd1235 wd215 wd1360 wd2972 wd2641 wd759 wd3943 wd142 wd1609 wd3408 wd2859 wd4111 wd2653 wd2732 wd1484 wd2710 wd3085 \n",
      "26\t0.00356\twd1706 wd2137 wd1079 wd3662 wd1818 wd3356 wd3975 wd3697 wd4413 wd283 wd1904 wd3852 wd2671 wd3445 wd2991 wd4775 wd3679 wd3376 wd3144 wd3239 \n",
      "27\t0.00756\twd280 wd2268 wd4078 wd3925 wd1068 wd1204 wd3037 wd1626 wd1439 wd4827 wd2364 wd1198 wd1830 wd3896 wd688 wd1686 wd1059 wd180 wd4429 wd2954 \n",
      "28\t0.01318\twd384 wd3179 wd1690 wd547 wd3276 wd3726 wd1070 wd1721 wd2310 wd4563 wd2173 wd632 wd4961 wd4774 wd4397 wd4200 wd4357 wd4847 wd1892 wd921 \n",
      "29\t0.00357\twd1609 wd111 wd334 wd894 wd4530 wd4171 wd4100 wd3827 wd3831 wd4610 wd2740 wd1813 wd3542 wd2847 wd2867 wd1206 wd929 wd1582 wd1672 wd1857 \n",
      "30\t0.00367\twd2507 wd137 wd4803 wd1020 wd4920 wd1264 wd3714 wd4252 wd340 wd164 wd585 wd3044 wd835 wd1711 wd4795 wd3159 wd2262 wd902 wd1112 wd3277 \n",
      "31\t0.00583\twd384 wd3179 wd1690 wd547 wd3276 wd3726 wd1070 wd2310 wd1721 wd4563 wd2173 wd632 wd4961 wd4774 wd4397 wd4200 wd4357 wd1892 wd4847 wd921 \n",
      "32\t0.00367\twd2964 wd2910 wd893 wd97 wd4485 wd2901 wd2165 wd4468 wd2487 wd3417 wd164 wd1908 wd4211 wd4441 wd1351 wd886 wd3181 wd1916 wd181 wd4833 \n",
      "33\t0.00362\twd160 wd4558 wd1678 wd1999 wd1157 wd4065 wd3355 wd1916 wd2838 wd3388 wd3 wd4824 wd181 wd212 wd4679 wd2969 wd758 wd4659 wd3726 wd3420 \n",
      "34\t0.00358\twd1139 wd3009 wd1996 wd4879 wd1988 wd1208 wd1477 wd755 wd4167 wd509 wd4427 wd3369 wd2617 wd790 wd4684 wd4097 wd340 wd789 wd934 wd3784 \n",
      "35\t0.0036\twd1692 wd588 wd4564 wd2076 wd649 wd1310 wd4648 wd2441 wd1886 wd4891 wd3666 wd133 wd2311 wd3148 wd2822 wd4512 wd651 wd2366 wd154 wd4183 \n",
      "36\t0.00344\twd1248 wd3266 wd2013 wd1451 wd1435 wd3496 wd1562 wd1103 wd462 wd1167 wd3151 wd2911 wd2049 wd1055 wd2633 wd808 wd3591 wd4182 wd437 wd1626 \n",
      "37\t0.00643\twd4783 wd4610 wd2933 wd3310 wd157 wd4432 wd28 wd3649 wd4521 wd3176 wd1091 wd2941 wd3478 wd468 wd4878 wd318 wd2329 wd3562 wd221 wd479 \n",
      "38\t0.00368\twd1874 wd1831 wd4254 wd77 wd2677 wd1031 wd3636 wd2759 wd2998 wd2932 wd3202 wd3545 wd2929 wd2630 wd1782 wd4118 wd3892 wd365 wd4151 wd1667 \n",
      "39\t0.01161\twd4337 wd188 wd4887 wd4958 wd902 wd388 wd1454 wd2902 wd282 wd2805 wd267 wd3841 wd3584 wd4604 wd205 wd4007 wd1677 wd4352 wd2714 wd4230 \n",
      "40\t0.00352\twd3224 wd630 wd1487 wd3286 wd3482 wd2880 wd241 wd3426 wd158 wd3921 wd952 wd4352 wd627 wd361 wd1833 wd2899 wd3323 wd1033 wd1971 wd3017 \n",
      "41\t0.00361\twd3621 wd1726 wd3110 wd1520 wd2882 wd3395 wd2291 wd321 wd912 wd1760 wd3941 wd3742 wd4955 wd1182 wd1776 wd427 wd4735 wd2969 wd3448 wd45 \n",
      "42\t0.00731\twd4337 wd188 wd4887 wd4958 wd902 wd1454 wd388 wd2902 wd267 wd282 wd2805 wd3584 wd3841 wd205 wd4604 wd4007 wd1677 wd4352 wd2714 wd4230 \n",
      "43\t0.00356\twd4094 wd165 wd3583 wd1336 wd4569 wd4794 wd3491 wd4388 wd1999 wd4037 wd2423 wd1300 wd1276 wd548 wd3938 wd3687 wd1939 wd3584 wd414 wd2140 \n",
      "44\t0.0007\twd2266 wd931 wd4288 wd515 wd2274 wd1228 wd962 wd4604 wd2421 wd3089 wd3316 wd4993 wd4850 wd4164 wd1315 wd17 wd4601 wd4401 wd4605 wd2889 \n",
      "45\t0.00363\twd61 wd3117 wd2907 wd781 wd2836 wd1801 wd1031 wd1095 wd3383 wd1334 wd2295 wd4461 wd1854 wd3766 wd2663 wd2182 wd2652 wd4573 wd57 wd1102 \n",
      "46\t0.00358\twd1219 wd2392 wd562 wd973 wd4579 wd2311 wd3188 wd2701 wd1915 wd3366 wd2051 wd2935 wd4759 wd220 wd3967 wd3121 wd1954 wd3145 wd2706 wd477 \n",
      "47\t0.01265\twd4783 wd4610 wd2933 wd3310 wd157 wd4432 wd28 wd3649 wd4521 wd3176 wd1091 wd2941 wd3478 wd4878 wd468 wd318 wd2329 wd3562 wd221 wd479 \n",
      "48\t0.00695\twd225 wd938 wd988 wd2410 wd1880 wd205 wd4586 wd4447 wd3251 wd1330 wd71 wd2218 wd4960 wd1654 wd2296 wd4879 wd893 wd1366 wd916 wd4838 \n",
      "49\t0.00368\twd3776 wd132 wd1361 wd224 wd2474 wd979 wd285 wd1561 wd3142 wd2182 wd4569 wd135 wd2689 wd4119 wd2122 wd1804 wd255 wd3886 wd2379 wd3729 \n",
      "\n",
      "[beta: 0.0118] \n",
      "<350> LL/token: -5.02218\n",
      "[beta: 0.01175] \n",
      "<360> LL/token: -5.02218\n",
      "[beta: 0.01173] \n",
      "<370> LL/token: -5.02215\n",
      "[beta: 0.01179] \n",
      "<380> LL/token: -5.02259\n",
      "[beta: 0.0118] \n",
      "<390> LL/token: -5.02217\n",
      "\n",
      "0\t0.00368\twd1535 wd4319 wd3749 wd622 wd109 wd2749 wd2036 wd1894 wd3899 wd904 wd1063 wd4845 wd1492 wd1962 wd4540 wd2065 wd4908 wd1217 wd2793 wd2687 \n",
      "1\t0.00351\twd4257 wd649 wd3714 wd2947 wd1760 wd2902 wd3489 wd4410 wd4854 wd3227 wd1573 wd3643 wd3725 wd4713 wd2650 wd3357 wd4162 wd3590 wd2676 wd792 \n",
      "2\t0.0036\twd3245 wd1961 wd2772 wd818 wd1192 wd1641 wd30 wd4946 wd592 wd3138 wd3497 wd3049 wd435 wd2132 wd120 wd3311 wd974 wd894 wd2511 wd674 \n",
      "3\t0.00347\twd3909 wd1371 wd2180 wd311 wd1862 wd1606 wd240 wd1373 wd1673 wd2978 wd1065 wd1813 wd1514 wd3108 wd1710 wd4163 wd2111 wd3620 wd329 wd4222 \n",
      "4\t0.00372\twd3522 wd4169 wd3607 wd2632 wd2795 wd472 wd1666 wd3037 wd4374 wd4421 wd2691 wd824 wd2504 wd3400 wd2822 wd3835 wd1432 wd980 wd4158 wd4423 \n",
      "5\t0.00314\twd2266 wd4288 wd931 wd515 wd2274 wd962 wd1228 wd4604 wd3089 wd2421 wd3316 wd4164 wd17 wd4850 wd4993 wd2889 wd1315 wd4601 wd4401 wd4605 \n",
      "6\t0.00355\twd4809 wd2505 wd1067 wd4182 wd133 wd1214 wd390 wd2461 wd3551 wd2292 wd394 wd3393 wd3496 wd689 wd4206 wd1943 wd956 wd1750 wd1559 wd753 \n",
      "7\t0.00344\twd309 wd2859 wd3519 wd1487 wd771 wd2052 wd1165 wd4592 wd1391 wd3719 wd1728 wd293 wd2200 wd967 wd3493 wd156 wd3671 wd3887 wd2424 wd3803 \n",
      "8\t0.0033\twd2927 wd1815 wd4312 wd1342 wd202 wd4409 wd2982 wd1357 wd1280 wd1748 wd2557 wd3275 wd1049 wd4077 wd4459 wd4912 wd3363 wd2382 wd919 wd361 \n",
      "9\t0.00351\twd639 wd2561 wd363 wd1075 wd2910 wd4554 wd4660 wd1866 wd2107 wd4893 wd2637 wd1927 wd4569 wd679 wd627 wd2123 wd3638 wd4267 wd3090 wd1558 \n",
      "10\t0.00756\twd3934 wd3747 wd1625 wd2222 wd1903 wd3422 wd3526 wd54 wd648 wd218 wd201 wd4773 wd2315 wd1966 wd316 wd732 wd3262 wd4061 wd4784 wd4957 \n",
      "11\t0.00676\twd3626 wd3624 wd3557 wd1541 wd1041 wd3379 wd1124 wd2247 wd1058 wd1286 wd150 wd3587 wd1471 wd807 wd1750 wd84 wd3401 wd4778 wd933 wd2881 \n",
      "12\t0.00361\twd565 wd2636 wd1795 wd1988 wd802 wd2745 wd154 wd2567 wd765 wd3559 wd3454 wd4646 wd1803 wd1760 wd2412 wd4380 wd2548 wd636 wd3004 wd619 \n",
      "13\t0.00718\twd343 wd3958 wd4577 wd4259 wd4009 wd1022 wd4531 wd757 wd2048 wd2304 wd4037 wd1757 wd4909 wd637 wd4915 wd3957 wd1865 wd144 wd1453 wd3081 \n",
      "14\t0.00759\twd1819 wd1535 wd2823 wd4479 wd418 wd4328 wd267 wd1787 wd1600 wd2165 wd881 wd3517 wd995 wd170 wd1599 wd4035 wd4644 wd824 wd3182 wd790 \n",
      "15\t0.00717\twd1796 wd4512 wd3323 wd3231 wd697 wd1257 wd2984 wd3005 wd4390 wd4580 wd674 wd3949 wd3569 wd4963 wd1818 wd4585 wd1976 wd2582 wd2995 wd2211 \n",
      "16\t0.01267\twd3486 wd2431 wd3257 wd1235 wd215 wd1360 wd2972 wd2641 wd3943 wd759 wd142 wd1609 wd3408 wd2859 wd2653 wd4111 wd2732 wd1484 wd1041 wd2710 \n",
      "17\t0.00368\twd3826 wd812 wd1703 wd2975 wd3037 wd3824 wd4160 wd1426 wd1674 wd3672 wd4151 wd3766 wd4907 wd3277 wd1727 wd2199 wd4934 wd1907 wd2328 wd1205 \n",
      "18\t0.00373\twd2310 wd2372 wd1306 wd3748 wd4241 wd939 wd1143 wd4587 wd1799 wd3441 wd3644 wd1286 wd2154 wd1742 wd1919 wd3988 wd756 wd1222 wd1338 wd4468 \n",
      "19\t0.00212\twd3934 wd3747 wd2222 wd1625 wd1903 wd3422 wd3526 wd54 wd218 wd4773 wd648 wd2315 wd201 wd316 wd3262 wd4061 wd732 wd4957 wd4784 wd1966 \n",
      "20\t0.00362\twd405 wd32 wd1226 wd3437 wd4467 wd1409 wd4954 wd2561 wd4802 wd1579 wd4306 wd3572 wd2434 wd582 wd1522 wd2690 wd4394 wd2014 wd1726 wd2760 \n",
      "21\t0.00367\twd1786 wd2511 wd560 wd2752 wd4459 wd113 wd3735 wd2820 wd3397 wd2608 wd788 wd4624 wd1425 wd4528 wd2435 wd3917 wd4095 wd3429 wd1356 wd3309 \n",
      "22\t0.00979\twd3934 wd3747 wd1625 wd2222 wd1903 wd3422 wd3526 wd648 wd54 wd218 wd4773 wd201 wd2315 wd316 wd732 wd3262 wd1966 wd4957 wd4061 wd4784 \n",
      "23\t0.00685\twd1469 wd2867 wd2562 wd1209 wd3840 wd154 wd1541 wd984 wd2006 wd1913 wd943 wd2157 wd400 wd2311 wd2344 wd4803 wd1458 wd2289 wd4437 wd1191 \n",
      "24\t0.00364\twd3349 wd300 wd3878 wd1696 wd1886 wd4482 wd2504 wd2577 wd729 wd4560 wd2286 wd3370 wd16 wd503 wd316 wd4619 wd4642 wd1898 wd1126 wd3624 \n",
      "25\t0.00642\twd3486 wd2431 wd3257 wd1235 wd215 wd1360 wd2972 wd2641 wd759 wd3943 wd142 wd1609 wd3408 wd2859 wd4111 wd2732 wd2653 wd1484 wd2710 wd1041 \n",
      "26\t0.00357\twd1706 wd2137 wd1079 wd3662 wd1818 wd3356 wd3975 wd3697 wd4413 wd283 wd1904 wd3852 wd2671 wd3445 wd2991 wd4775 wd3679 wd3376 wd3239 wd3144 \n",
      "27\t0.00747\twd280 wd2268 wd4078 wd3925 wd1068 wd1204 wd3037 wd1626 wd1439 wd4827 wd2364 wd1198 wd1830 wd3896 wd688 wd1686 wd1059 wd180 wd4429 wd2954 \n",
      "28\t0.01326\twd384 wd3179 wd1690 wd547 wd3276 wd3726 wd1070 wd1721 wd2310 wd4563 wd2173 wd632 wd4961 wd4774 wd4397 wd4200 wd4357 wd4847 wd1892 wd921 \n",
      "29\t0.0036\twd1609 wd111 wd334 wd894 wd4530 wd4171 wd4100 wd3827 wd3831 wd4610 wd2740 wd1813 wd3542 wd2847 wd2867 wd1206 wd929 wd1582 wd1672 wd1857 \n",
      "30\t0.00366\twd2507 wd137 wd4803 wd1020 wd4920 wd1264 wd3714 wd4252 wd340 wd164 wd585 wd3044 wd835 wd1711 wd4795 wd3159 wd2262 wd902 wd1112 wd3277 \n",
      "31\t0.00571\twd384 wd3179 wd1690 wd547 wd3276 wd3726 wd1070 wd2310 wd1721 wd4563 wd2173 wd632 wd4961 wd4774 wd4397 wd4200 wd4357 wd1892 wd4847 wd507 \n",
      "32\t0.00369\twd2964 wd2910 wd893 wd97 wd4485 wd2165 wd2901 wd4468 wd2487 wd3417 wd164 wd1908 wd4211 wd4441 wd1351 wd886 wd3181 wd1916 wd181 wd4833 \n",
      "33\t0.00365\twd160 wd4558 wd1678 wd1999 wd1157 wd4065 wd3355 wd1916 wd2838 wd3388 wd3 wd4824 wd181 wd212 wd4679 wd2969 wd758 wd4659 wd3726 wd3420 \n",
      "34\t0.00359\twd1139 wd3009 wd1996 wd4879 wd1988 wd1208 wd1477 wd755 wd4167 wd509 wd4427 wd3369 wd2617 wd790 wd4684 wd4097 wd340 wd789 wd934 wd3784 \n",
      "35\t0.00361\twd1692 wd588 wd4564 wd2076 wd649 wd1310 wd4648 wd2441 wd1886 wd4891 wd3666 wd133 wd2311 wd3148 wd2822 wd4512 wd651 wd2366 wd154 wd4183 \n",
      "36\t0.00342\twd1248 wd3266 wd2013 wd1451 wd1435 wd3496 wd1562 wd1103 wd462 wd3151 wd1167 wd2911 wd2049 wd1055 wd2633 wd808 wd3591 wd4182 wd437 wd1626 \n",
      "37\t0.00637\twd4783 wd4610 wd2933 wd3310 wd157 wd4432 wd28 wd3649 wd4521 wd3176 wd1091 wd2941 wd3478 wd468 wd4878 wd2329 wd318 wd3562 wd221 wd479 \n",
      "38\t0.00368\twd1874 wd1831 wd4254 wd77 wd2677 wd1031 wd3636 wd2759 wd2998 wd2932 wd3202 wd3545 wd2929 wd2630 wd1782 wd4118 wd3892 wd365 wd4151 wd1667 \n",
      "39\t0.01174\twd4337 wd188 wd4887 wd4958 wd902 wd388 wd1454 wd2902 wd282 wd2805 wd267 wd3841 wd3584 wd4604 wd205 wd4007 wd1677 wd4352 wd2714 wd4230 \n",
      "40\t0.00354\twd3224 wd630 wd1487 wd3286 wd3482 wd2880 wd241 wd3426 wd158 wd3921 wd952 wd4352 wd627 wd361 wd1833 wd2899 wd3323 wd1033 wd1971 wd3017 \n",
      "41\t0.00356\twd3621 wd1726 wd3110 wd1520 wd2882 wd3395 wd2291 wd321 wd912 wd1760 wd3941 wd3742 wd4955 wd1182 wd1776 wd427 wd4735 wd2969 wd3448 wd45 \n",
      "42\t0.00716\twd4337 wd188 wd4887 wd4958 wd902 wd1454 wd388 wd2902 wd267 wd282 wd2805 wd3584 wd3841 wd205 wd4604 wd4007 wd1677 wd4352 wd2714 wd4230 \n",
      "43\t0.00358\twd4094 wd165 wd3583 wd1336 wd4569 wd4794 wd3491 wd4388 wd1999 wd4037 wd2423 wd1300 wd1276 wd548 wd3938 wd3687 wd1939 wd3584 wd414 wd2140 \n",
      "44\t0.00067\twd2266 wd931 wd4288 wd515 wd2274 wd1228 wd962 wd4604 wd2421 wd3089 wd3316 wd4993 wd4850 wd4164 wd4601 wd1315 wd17 wd4605 wd4401 wd2889 \n",
      "45\t0.00359\twd61 wd3117 wd2907 wd781 wd2836 wd1801 wd1031 wd1095 wd3383 wd1334 wd2295 wd4461 wd1854 wd3766 wd2663 wd2182 wd2652 wd4573 wd57 wd1102 \n",
      "46\t0.00357\twd1219 wd2392 wd562 wd973 wd4579 wd2311 wd3188 wd2701 wd1915 wd3366 wd2051 wd2935 wd4759 wd220 wd3967 wd3121 wd1954 wd3145 wd2706 wd477 \n",
      "47\t0.01283\twd4783 wd4610 wd2933 wd3310 wd157 wd4432 wd28 wd3649 wd4521 wd3176 wd1091 wd2941 wd3478 wd468 wd4878 wd318 wd2329 wd3562 wd221 wd479 \n",
      "48\t0.00701\twd225 wd938 wd988 wd1880 wd2410 wd205 wd4586 wd4447 wd3251 wd1330 wd71 wd2218 wd4960 wd1654 wd2296 wd4879 wd893 wd1366 wd916 wd4838 \n",
      "49\t0.00361\twd3776 wd132 wd1361 wd224 wd2474 wd979 wd285 wd1561 wd3142 wd2182 wd4569 wd135 wd2689 wd4119 wd2122 wd1804 wd255 wd3886 wd2379 wd3729 \n",
      "\n"
     ]
    },
    {
     "name": "stderr",
     "output_type": "stream",
     "text": [
      "[beta: 0.01177] \n",
      "<400> LL/token: -5.02226\n",
      "[beta: 0.01183] \n",
      "<410> LL/token: -5.0224\n",
      "[beta: 0.01177] \n",
      "<420> LL/token: -5.02226\n",
      "[beta: 0.01177] \n",
      "<430> LL/token: -5.0223\n",
      "[beta: 0.01175] \n",
      "<440> LL/token: -5.0222\n",
      "\n",
      "0\t0.00366\twd1535 wd4319 wd3749 wd622 wd109 wd2749 wd2036 wd1894 wd3899 wd904 wd1063 wd4845 wd1492 wd1962 wd4540 wd2065 wd4908 wd1217 wd2793 wd2687 \n",
      "1\t0.00349\twd4257 wd649 wd3714 wd2947 wd1760 wd2902 wd3489 wd4410 wd4854 wd3227 wd1573 wd3643 wd3725 wd4713 wd2650 wd3357 wd4162 wd3590 wd2676 wd792 \n",
      "2\t0.00359\twd3245 wd1961 wd2772 wd818 wd1192 wd1641 wd30 wd4946 wd592 wd3138 wd3497 wd3049 wd435 wd120 wd2132 wd3311 wd974 wd894 wd2511 wd674 \n",
      "3\t0.00347\twd3909 wd1371 wd2180 wd311 wd1862 wd1606 wd240 wd1373 wd1673 wd2978 wd1065 wd1813 wd3108 wd1514 wd1710 wd4163 wd2111 wd3620 wd329 wd4222 \n",
      "4\t0.00369\twd3522 wd4169 wd3607 wd2632 wd2795 wd472 wd1666 wd3037 wd4374 wd4421 wd2691 wd824 wd2504 wd3400 wd2822 wd3835 wd1432 wd980 wd4158 wd4423 \n",
      "5\t0.00314\twd2266 wd4288 wd931 wd515 wd2274 wd962 wd1228 wd4604 wd3089 wd2421 wd3316 wd4164 wd17 wd4850 wd4993 wd2889 wd1315 wd4601 wd4401 wd4605 \n",
      "6\t0.00356\twd4809 wd2505 wd1067 wd4182 wd133 wd1214 wd390 wd2461 wd3551 wd2292 wd394 wd3393 wd3496 wd689 wd4206 wd956 wd1943 wd1750 wd1559 wd753 \n",
      "7\t0.00351\twd309 wd2859 wd3519 wd1487 wd771 wd2052 wd1165 wd4592 wd1391 wd3719 wd1728 wd293 wd2200 wd967 wd3493 wd156 wd3671 wd3887 wd2424 wd3803 \n",
      "8\t0.00337\twd2927 wd1815 wd4312 wd1342 wd202 wd4409 wd2982 wd1357 wd1280 wd1748 wd2557 wd3275 wd1049 wd4077 wd4459 wd4912 wd3363 wd2382 wd919 wd315 \n",
      "9\t0.00348\twd639 wd2561 wd363 wd1075 wd2910 wd4554 wd4660 wd1866 wd2107 wd4893 wd2637 wd1927 wd4569 wd679 wd627 wd2123 wd3638 wd4267 wd3090 wd1558 \n",
      "10\t0.00773\twd3934 wd3747 wd1625 wd2222 wd1903 wd3422 wd3526 wd54 wd218 wd648 wd201 wd4773 wd2315 wd1966 wd316 wd3262 wd732 wd4061 wd4784 wd4957 \n",
      "11\t0.00676\twd3626 wd3624 wd3557 wd1541 wd1041 wd3379 wd1124 wd2247 wd1058 wd1286 wd150 wd3587 wd1471 wd807 wd1750 wd84 wd3401 wd4778 wd933 wd2881 \n",
      "12\t0.00363\twd565 wd2636 wd1795 wd1988 wd802 wd154 wd2745 wd2567 wd765 wd3559 wd3454 wd4646 wd1803 wd1760 wd2412 wd2548 wd4380 wd636 wd3004 wd619 \n",
      "13\t0.00719\twd343 wd3958 wd4577 wd4259 wd4009 wd1022 wd4531 wd757 wd2048 wd2304 wd4037 wd1757 wd4909 wd637 wd4915 wd3957 wd1865 wd144 wd1453 wd3081 \n",
      "14\t0.00756\twd1819 wd1535 wd2823 wd4479 wd418 wd4328 wd267 wd1787 wd1600 wd2165 wd881 wd3517 wd995 wd1599 wd170 wd4035 wd4644 wd824 wd3182 wd790 \n",
      "15\t0.00719\twd1796 wd4512 wd3323 wd3231 wd697 wd1257 wd2984 wd3005 wd4390 wd4580 wd674 wd3949 wd3569 wd4963 wd1818 wd4585 wd1976 wd2582 wd2995 wd2211 \n",
      "16\t0.01268\twd3486 wd2431 wd3257 wd1235 wd215 wd1360 wd2972 wd2641 wd3943 wd759 wd142 wd1609 wd3408 wd2859 wd2653 wd4111 wd2732 wd1484 wd1041 wd2710 \n",
      "17\t0.00369\twd3826 wd812 wd1703 wd2975 wd3037 wd3824 wd4160 wd1426 wd1674 wd3672 wd4151 wd3766 wd4907 wd3277 wd1727 wd2199 wd4934 wd1907 wd2328 wd1205 \n",
      "18\t0.00369\twd2310 wd2372 wd1306 wd3748 wd4241 wd939 wd1143 wd4587 wd1799 wd3441 wd3644 wd1286 wd2154 wd1742 wd1919 wd3988 wd756 wd1222 wd1338 wd4468 \n",
      "19\t0.00197\twd3934 wd3747 wd2222 wd1625 wd1903 wd3422 wd3526 wd54 wd218 wd4773 wd648 wd2315 wd201 wd316 wd3262 wd4061 wd732 wd4957 wd4784 wd1966 \n",
      "20\t0.00362\twd405 wd32 wd1226 wd3437 wd4467 wd1409 wd4954 wd2561 wd4802 wd1579 wd4306 wd3572 wd2434 wd582 wd1522 wd2690 wd4394 wd2014 wd1726 wd2760 \n",
      "21\t0.00368\twd1786 wd2511 wd560 wd2752 wd4459 wd113 wd3735 wd2820 wd3397 wd2608 wd788 wd4624 wd1425 wd4528 wd2435 wd3917 wd4095 wd3429 wd1356 wd3309 \n",
      "22\t0.00979\twd3934 wd3747 wd1625 wd2222 wd1903 wd3422 wd3526 wd648 wd54 wd218 wd4773 wd201 wd2315 wd316 wd732 wd3262 wd1966 wd4957 wd4061 wd4784 \n",
      "23\t0.00685\twd1469 wd2867 wd2562 wd1209 wd3840 wd154 wd1541 wd984 wd2006 wd1913 wd943 wd2157 wd400 wd2311 wd2344 wd4803 wd1458 wd2289 wd4437 wd1191 \n",
      "24\t0.00362\twd3349 wd300 wd3878 wd1696 wd1886 wd4482 wd2504 wd2577 wd729 wd4560 wd2286 wd3370 wd16 wd503 wd316 wd4619 wd4642 wd1898 wd1126 wd3624 \n",
      "25\t0.00646\twd3486 wd2431 wd3257 wd1235 wd215 wd1360 wd2972 wd2641 wd759 wd3943 wd142 wd1609 wd3408 wd2859 wd4111 wd2653 wd2732 wd1484 wd2710 wd3085 \n",
      "26\t0.00355\twd1706 wd2137 wd1079 wd3662 wd1818 wd3356 wd3975 wd3697 wd4413 wd283 wd1904 wd3852 wd2671 wd3445 wd2991 wd4775 wd3679 wd3376 wd3144 wd3239 \n",
      "27\t0.00749\twd280 wd2268 wd4078 wd3925 wd1068 wd1204 wd3037 wd1626 wd1439 wd4827 wd2364 wd1198 wd1830 wd3896 wd688 wd1686 wd1059 wd180 wd4429 wd2954 \n",
      "28\t0.01353\twd384 wd3179 wd1690 wd547 wd3276 wd3726 wd1070 wd1721 wd2310 wd4563 wd2173 wd632 wd4961 wd4774 wd4397 wd4200 wd4357 wd4847 wd1892 wd921 \n",
      "29\t0.00358\twd1609 wd111 wd894 wd334 wd4530 wd4171 wd4100 wd3827 wd3831 wd4610 wd2740 wd1813 wd3542 wd2847 wd2867 wd1206 wd929 wd1582 wd1672 wd1857 \n",
      "30\t0.00369\twd2507 wd137 wd4803 wd1020 wd4920 wd1264 wd3714 wd4252 wd340 wd164 wd585 wd3044 wd835 wd1711 wd4795 wd3159 wd2262 wd902 wd1112 wd3277 \n",
      "31\t0.00547\twd384 wd3179 wd1690 wd547 wd3276 wd3726 wd1070 wd2310 wd1721 wd4563 wd2173 wd632 wd4961 wd4774 wd4397 wd4357 wd4200 wd1892 wd4847 wd507 \n",
      "32\t0.0037\twd2964 wd2910 wd893 wd97 wd4485 wd2901 wd2165 wd4468 wd2487 wd3417 wd164 wd1908 wd4211 wd4441 wd1351 wd886 wd3181 wd1916 wd181 wd4833 \n",
      "33\t0.00365\twd160 wd4558 wd1678 wd1999 wd1157 wd4065 wd3355 wd1916 wd2838 wd3388 wd3 wd181 wd4824 wd212 wd2969 wd4679 wd758 wd4659 wd3726 wd3420 \n",
      "34\t0.00358\twd1139 wd3009 wd1996 wd4879 wd1988 wd1208 wd1477 wd755 wd4167 wd509 wd4427 wd3369 wd2617 wd790 wd4684 wd4097 wd340 wd789 wd934 wd3784 \n",
      "35\t0.0036\twd1692 wd588 wd4564 wd2076 wd649 wd1310 wd4648 wd2441 wd1886 wd4891 wd3666 wd133 wd2311 wd3148 wd2822 wd4512 wd651 wd2366 wd154 wd4183 \n",
      "36\t0.00344\twd1248 wd3266 wd2013 wd1451 wd1435 wd3496 wd1562 wd1103 wd462 wd3151 wd1167 wd2911 wd2049 wd1055 wd2633 wd808 wd3591 wd4182 wd437 wd1626 \n",
      "37\t0.00624\twd4783 wd4610 wd2933 wd3310 wd157 wd4432 wd28 wd3649 wd4521 wd3176 wd1091 wd2941 wd3478 wd468 wd4878 wd318 wd2329 wd3562 wd221 wd479 \n",
      "38\t0.00366\twd1874 wd1831 wd4254 wd77 wd2677 wd1031 wd3636 wd2759 wd2998 wd2932 wd3202 wd3545 wd2929 wd2630 wd1782 wd4118 wd3892 wd365 wd4151 wd1667 \n",
      "39\t0.01169\twd4337 wd188 wd4887 wd4958 wd902 wd388 wd1454 wd2902 wd282 wd2805 wd267 wd3841 wd3584 wd4604 wd205 wd4007 wd1677 wd4352 wd2714 wd4230 \n",
      "40\t0.00351\twd3224 wd630 wd1487 wd3286 wd3482 wd2880 wd241 wd3426 wd158 wd3921 wd952 wd4352 wd627 wd361 wd1833 wd2899 wd3323 wd1033 wd1971 wd3017 \n",
      "41\t0.00355\twd3621 wd1726 wd3110 wd1520 wd2882 wd3395 wd2291 wd321 wd912 wd1760 wd3941 wd3742 wd4955 wd1182 wd1776 wd427 wd4735 wd2969 wd3448 wd45 \n",
      "42\t0.00725\twd4337 wd188 wd4887 wd4958 wd902 wd1454 wd388 wd2902 wd267 wd282 wd2805 wd3584 wd3841 wd205 wd4604 wd4007 wd1677 wd4352 wd2714 wd4230 \n",
      "43\t0.00358\twd4094 wd165 wd3583 wd1336 wd4569 wd4794 wd3491 wd4388 wd1999 wd4037 wd2423 wd1300 wd1276 wd548 wd3938 wd3687 wd1939 wd3584 wd414 wd2140 \n",
      "44\t0.00061\twd2266 wd931 wd4288 wd515 wd2274 wd1228 wd962 wd4604 wd2421 wd3089 wd3316 wd4993 wd4164 wd4850 wd4601 wd1315 wd17 wd2889 wd4401 wd4605 \n",
      "45\t0.00359\twd61 wd3117 wd2907 wd781 wd2836 wd1801 wd1031 wd1095 wd3383 wd1334 wd2295 wd4461 wd1854 wd3766 wd2663 wd2182 wd2652 wd4573 wd57 wd1102 \n",
      "46\t0.0036\twd1219 wd2392 wd562 wd973 wd4579 wd2311 wd3188 wd2701 wd1915 wd3366 wd2051 wd2935 wd4759 wd220 wd3967 wd3121 wd1954 wd3145 wd2706 wd477 \n",
      "47\t0.01286\twd4783 wd4610 wd2933 wd3310 wd157 wd4432 wd28 wd3649 wd4521 wd3176 wd1091 wd2941 wd3478 wd468 wd4878 wd318 wd2329 wd3562 wd221 wd479 \n",
      "48\t0.00699\twd225 wd938 wd988 wd1880 wd2410 wd205 wd4586 wd4447 wd3251 wd1330 wd71 wd2218 wd4960 wd1654 wd2296 wd4879 wd893 wd916 wd1366 wd4838 \n",
      "49\t0.00363\twd3776 wd132 wd1361 wd224 wd2474 wd979 wd285 wd1561 wd3142 wd2182 wd4569 wd135 wd2689 wd4119 wd2122 wd1804 wd3886 wd255 wd2379 wd3729 \n",
      "\n",
      "[beta: 0.01173] \n",
      "<450> LL/token: -5.02185\n",
      "[beta: 0.01176] \n",
      "<460> LL/token: -5.02195\n",
      "[beta: 0.01177] \n",
      "<470> LL/token: -5.02197\n",
      "[beta: 0.01177] \n",
      "<480> LL/token: -5.02212\n",
      "[beta: 0.01177] \n",
      "<490> LL/token: -5.02196\n",
      "\n",
      "0\t0.00364\twd1535 wd4319 wd622 wd3749 wd109 wd2749 wd2036 wd1894 wd3899 wd904 wd1063 wd4845 wd1492 wd1962 wd4540 wd2065 wd4908 wd1217 wd2793 wd2687 \n",
      "1\t0.0035\twd4257 wd649 wd3714 wd2947 wd1760 wd2902 wd3489 wd4410 wd4854 wd3227 wd1573 wd3643 wd3725 wd4713 wd2650 wd3357 wd4162 wd3590 wd2676 wd792 \n",
      "2\t0.00359\twd3245 wd1961 wd2772 wd818 wd1192 wd1641 wd30 wd4946 wd592 wd3138 wd3497 wd3049 wd435 wd2132 wd120 wd3311 wd974 wd894 wd2511 wd674 \n",
      "3\t0.00346\twd3909 wd1371 wd2180 wd311 wd1862 wd1606 wd240 wd1373 wd1673 wd2978 wd1065 wd1813 wd1514 wd3108 wd1710 wd4163 wd2111 wd3620 wd329 wd4222 \n",
      "4\t0.00373\twd3522 wd4169 wd3607 wd2632 wd2795 wd472 wd1666 wd3037 wd4374 wd4421 wd2691 wd824 wd2504 wd3400 wd2822 wd3835 wd1432 wd980 wd4158 wd4423 \n",
      "5\t0.00314\twd2266 wd4288 wd931 wd515 wd2274 wd962 wd1228 wd4604 wd3089 wd2421 wd3316 wd4164 wd4850 wd17 wd4993 wd2889 wd1315 wd4601 wd4401 wd4605 \n",
      "6\t0.00357\twd4809 wd2505 wd1067 wd4182 wd133 wd1214 wd390 wd2461 wd3551 wd2292 wd394 wd3393 wd3496 wd689 wd4206 wd1943 wd956 wd1750 wd1559 wd753 \n",
      "7\t0.00347\twd309 wd2859 wd3519 wd1487 wd771 wd2052 wd1165 wd4592 wd1391 wd3719 wd1728 wd293 wd2200 wd967 wd3493 wd156 wd3671 wd3887 wd2424 wd3803 \n",
      "8\t0.00338\twd2927 wd1815 wd4312 wd1342 wd202 wd4409 wd2982 wd1357 wd1280 wd1748 wd2557 wd3275 wd1049 wd4459 wd4077 wd4912 wd3363 wd2382 wd919 wd315 \n",
      "9\t0.00352\twd639 wd2561 wd363 wd1075 wd2910 wd4554 wd4660 wd1866 wd2107 wd4893 wd2637 wd1927 wd4569 wd679 wd627 wd2123 wd3638 wd4267 wd3090 wd1558 \n",
      "10\t0.00767\twd3934 wd3747 wd1625 wd2222 wd1903 wd3422 wd3526 wd54 wd648 wd218 wd201 wd4773 wd2315 wd1966 wd316 wd3262 wd732 wd4784 wd4061 wd4957 \n",
      "11\t0.00678\twd3626 wd3624 wd3557 wd1541 wd1041 wd3379 wd1124 wd2247 wd1058 wd1286 wd150 wd3587 wd1471 wd807 wd1750 wd84 wd3401 wd4778 wd933 wd2881 \n",
      "12\t0.0036\twd565 wd2636 wd1795 wd1988 wd802 wd2745 wd154 wd2567 wd765 wd3559 wd3454 wd4646 wd1803 wd1760 wd2412 wd4380 wd2548 wd636 wd3004 wd619 \n",
      "13\t0.00718\twd343 wd3958 wd4577 wd4259 wd4009 wd1022 wd4531 wd757 wd2048 wd2304 wd4037 wd1757 wd4909 wd637 wd4915 wd3957 wd1865 wd144 wd1453 wd3081 \n",
      "14\t0.00752\twd1819 wd1535 wd2823 wd4479 wd418 wd4328 wd267 wd1787 wd1600 wd2165 wd881 wd3517 wd995 wd1599 wd170 wd4035 wd4644 wd824 wd3182 wd790 \n",
      "15\t0.00718\twd1796 wd4512 wd3323 wd3231 wd697 wd1257 wd2984 wd3005 wd4390 wd4580 wd674 wd3949 wd3569 wd4963 wd1818 wd4585 wd1976 wd2582 wd2995 wd2211 \n",
      "16\t0.01264\twd3486 wd2431 wd3257 wd1235 wd215 wd1360 wd2972 wd2641 wd3943 wd759 wd142 wd1609 wd3408 wd2859 wd4111 wd2653 wd2732 wd1484 wd1041 wd2710 \n",
      "17\t0.00366\twd3826 wd812 wd1703 wd2975 wd3037 wd3824 wd4160 wd1426 wd1674 wd3672 wd4151 wd3766 wd4907 wd3277 wd1727 wd2199 wd4934 wd1907 wd2328 wd1205 \n",
      "18\t0.00372\twd2310 wd2372 wd1306 wd3748 wd4241 wd939 wd1143 wd4587 wd1799 wd3441 wd3644 wd1286 wd2154 wd1742 wd1919 wd3988 wd756 wd1222 wd1338 wd4468 \n",
      "19\t0.00197\twd3934 wd3747 wd2222 wd1625 wd1903 wd3422 wd3526 wd54 wd4773 wd218 wd648 wd2315 wd201 wd316 wd3262 wd4061 wd732 wd4957 wd4784 wd1966 \n",
      "20\t0.0036\twd405 wd32 wd1226 wd3437 wd4467 wd1409 wd4954 wd2561 wd4802 wd1579 wd4306 wd3572 wd2434 wd582 wd1522 wd2690 wd4394 wd2014 wd1726 wd2760 \n",
      "21\t0.00364\twd1786 wd2511 wd560 wd2752 wd4459 wd113 wd3735 wd2820 wd3397 wd2608 wd788 wd4624 wd1425 wd4528 wd2435 wd3917 wd4095 wd3429 wd1356 wd3309 \n",
      "22\t0.0099\twd3934 wd3747 wd1625 wd2222 wd1903 wd3422 wd3526 wd54 wd648 wd218 wd4773 wd201 wd2315 wd316 wd732 wd3262 wd1966 wd4957 wd4061 wd4784 \n",
      "23\t0.00679\twd1469 wd2867 wd2562 wd1209 wd3840 wd154 wd1541 wd984 wd2006 wd1913 wd943 wd2157 wd400 wd2311 wd2344 wd4803 wd1458 wd2289 wd4437 wd1191 \n",
      "24\t0.00364\twd3349 wd300 wd3878 wd1696 wd1886 wd4482 wd2504 wd2577 wd729 wd4560 wd2286 wd3370 wd16 wd503 wd316 wd4619 wd4642 wd1898 wd1126 wd3624 \n",
      "25\t0.00642\twd3486 wd2431 wd3257 wd1235 wd215 wd1360 wd2972 wd2641 wd759 wd3943 wd142 wd1609 wd3408 wd2859 wd4111 wd2653 wd2732 wd1484 wd2710 wd3085 \n",
      "26\t0.00356\twd1706 wd2137 wd1079 wd3662 wd1818 wd3356 wd3975 wd3697 wd4413 wd283 wd1904 wd3852 wd2671 wd3445 wd2991 wd4775 wd3679 wd3376 wd3144 wd3239 \n",
      "27\t0.00745\twd280 wd2268 wd4078 wd3925 wd1068 wd1204 wd3037 wd1626 wd1439 wd4827 wd2364 wd1198 wd1830 wd3896 wd688 wd1686 wd1059 wd180 wd4429 wd2954 \n",
      "28\t0.01355\twd384 wd3179 wd1690 wd547 wd3276 wd3726 wd1070 wd1721 wd2310 wd4563 wd2173 wd632 wd4961 wd4774 wd4397 wd4200 wd4357 wd4847 wd1892 wd921 \n",
      "29\t0.00357\twd1609 wd111 wd334 wd894 wd4530 wd4171 wd4100 wd3827 wd3831 wd4610 wd2740 wd1813 wd3542 wd2847 wd2867 wd1206 wd929 wd1582 wd1672 wd1857 \n",
      "30\t0.00364\twd2507 wd137 wd4803 wd1020 wd4920 wd1264 wd3714 wd4252 wd340 wd164 wd585 wd3044 wd835 wd1711 wd4795 wd3159 wd902 wd2262 wd1112 wd3277 \n",
      "31\t0.0055\twd384 wd3179 wd1690 wd547 wd3276 wd3726 wd1070 wd2310 wd1721 wd4563 wd2173 wd632 wd4961 wd4774 wd4397 wd4200 wd4357 wd1892 wd4847 wd921 \n",
      "32\t0.00364\twd2964 wd2910 wd893 wd97 wd4485 wd2901 wd2165 wd4468 wd2487 wd3417 wd164 wd1908 wd4211 wd4441 wd1351 wd886 wd3181 wd1916 wd181 wd4833 \n",
      "33\t0.00363\twd160 wd4558 wd1678 wd1999 wd1157 wd4065 wd3355 wd1916 wd2838 wd3388 wd3 wd4824 wd181 wd212 wd2969 wd4679 wd758 wd4659 wd3726 wd3420 \n",
      "34\t0.00359\twd1139 wd3009 wd1996 wd4879 wd1988 wd1208 wd1477 wd755 wd4167 wd509 wd4427 wd3369 wd2617 wd790 wd4684 wd4097 wd340 wd789 wd934 wd3784 \n",
      "35\t0.00361\twd1692 wd588 wd4564 wd2076 wd649 wd1310 wd4648 wd2441 wd1886 wd4891 wd3666 wd133 wd2311 wd3148 wd2822 wd4512 wd651 wd2366 wd154 wd4183 \n",
      "36\t0.00346\twd1248 wd3266 wd2013 wd1451 wd1435 wd3496 wd1562 wd1103 wd462 wd3151 wd1167 wd2911 wd2049 wd1055 wd2633 wd808 wd3591 wd4182 wd437 wd1626 \n",
      "37\t0.00614\twd4783 wd4610 wd2933 wd3310 wd157 wd4432 wd28 wd3649 wd4521 wd3176 wd1091 wd3478 wd2941 wd468 wd4878 wd318 wd2329 wd3562 wd479 wd221 \n",
      "38\t0.00372\twd1874 wd1831 wd4254 wd77 wd2677 wd1031 wd3636 wd2759 wd2998 wd2932 wd3202 wd3545 wd2929 wd2630 wd1782 wd4118 wd3892 wd365 wd4151 wd1667 \n",
      "39\t0.01184\twd4337 wd188 wd4887 wd4958 wd902 wd388 wd1454 wd2902 wd282 wd2805 wd267 wd3841 wd3584 wd4604 wd205 wd4007 wd1677 wd4352 wd2714 wd4230 \n",
      "40\t0.00354\twd3224 wd630 wd1487 wd3286 wd3482 wd2880 wd241 wd3426 wd158 wd3921 wd952 wd4352 wd627 wd361 wd1833 wd2899 wd3323 wd1033 wd1971 wd3017 \n",
      "41\t0.00354\twd3621 wd1726 wd3110 wd1520 wd2882 wd3395 wd2291 wd321 wd912 wd1760 wd3941 wd3742 wd4955 wd1182 wd1776 wd427 wd4735 wd2969 wd3448 wd45 \n",
      "42\t0.00714\twd4337 wd188 wd4887 wd4958 wd902 wd1454 wd388 wd2902 wd267 wd282 wd2805 wd3584 wd3841 wd205 wd4604 wd4007 wd1677 wd4352 wd2714 wd3622 \n",
      "43\t0.00357\twd4094 wd165 wd3583 wd1336 wd4569 wd4794 wd3491 wd4388 wd1999 wd4037 wd2423 wd1300 wd1276 wd548 wd3938 wd3687 wd1939 wd3584 wd414 wd2140 \n",
      "44\t0.0006\twd2266 wd931 wd4288 wd515 wd2274 wd1228 wd962 wd4604 wd2421 wd3316 wd3089 wd4993 wd4850 wd4164 wd4601 wd1315 wd17 wd4401 wd4605 wd2889 \n",
      "45\t0.00368\twd61 wd3117 wd2907 wd781 wd2836 wd1801 wd1031 wd1095 wd3383 wd1334 wd2295 wd4461 wd1854 wd3766 wd2663 wd2182 wd2652 wd4573 wd57 wd1102 \n",
      "46\t0.00361\twd1219 wd2392 wd562 wd973 wd4579 wd2311 wd3188 wd2701 wd1915 wd3366 wd2051 wd2935 wd4759 wd220 wd3967 wd3121 wd1954 wd3145 wd2706 wd477 \n",
      "47\t0.013\twd4783 wd4610 wd2933 wd3310 wd157 wd4432 wd28 wd3649 wd4521 wd3176 wd1091 wd2941 wd3478 wd4878 wd468 wd318 wd2329 wd3562 wd221 wd479 \n",
      "48\t0.00699\twd225 wd938 wd988 wd1880 wd2410 wd205 wd4586 wd4447 wd3251 wd1330 wd71 wd2218 wd4960 wd1654 wd2296 wd4879 wd893 wd1366 wd916 wd4838 \n",
      "49\t0.00362\twd3776 wd132 wd1361 wd224 wd2474 wd979 wd285 wd1561 wd3142 wd2182 wd4569 wd135 wd2689 wd4119 wd2122 wd1804 wd3886 wd255 wd2379 wd3729 \n",
      "\n"
     ]
    },
    {
     "name": "stderr",
     "output_type": "stream",
     "text": [
      "[beta: 0.01178] \n",
      "<500> LL/token: -5.02189\n",
      "[beta: 0.01177] \n",
      "<510> LL/token: -5.02196\n",
      "[beta: 0.01177] \n",
      "<520> LL/token: -5.02195\n",
      "[beta: 0.01176] \n",
      "<530> LL/token: -5.0218\n",
      "[beta: 0.01175] \n",
      "<540> LL/token: -5.02188\n",
      "\n",
      "0\t0.00366\twd1535 wd4319 wd622 wd3749 wd109 wd2749 wd2036 wd1894 wd3899 wd904 wd1063 wd4845 wd1492 wd1962 wd4540 wd2065 wd4908 wd1217 wd2793 wd2687 \n",
      "1\t0.00348\twd4257 wd649 wd3714 wd2947 wd1760 wd2902 wd3489 wd4410 wd4854 wd3227 wd1573 wd3643 wd3725 wd4713 wd2650 wd3357 wd4162 wd3590 wd2676 wd792 \n",
      "2\t0.00354\twd3245 wd1961 wd2772 wd818 wd1192 wd1641 wd30 wd4946 wd592 wd3138 wd3497 wd3049 wd435 wd120 wd2132 wd3311 wd974 wd2511 wd894 wd674 \n",
      "3\t0.00349\twd3909 wd1371 wd2180 wd311 wd1862 wd1606 wd240 wd1373 wd1673 wd2978 wd1065 wd1813 wd3108 wd1514 wd1710 wd4163 wd2111 wd3620 wd329 wd4222 \n",
      "4\t0.00373\twd3522 wd4169 wd3607 wd2632 wd2795 wd472 wd1666 wd3037 wd4374 wd4421 wd2691 wd824 wd2504 wd3400 wd2822 wd3835 wd1432 wd980 wd4158 wd4423 \n",
      "5\t0.00318\twd2266 wd4288 wd931 wd515 wd2274 wd962 wd1228 wd4604 wd3089 wd2421 wd3316 wd4164 wd4850 wd17 wd4993 wd2889 wd1315 wd4601 wd4401 wd4605 \n",
      "6\t0.00358\twd4809 wd2505 wd1067 wd4182 wd133 wd1214 wd390 wd2461 wd3551 wd2292 wd394 wd3393 wd3496 wd689 wd1943 wd4206 wd956 wd1750 wd1559 wd753 \n",
      "7\t0.00343\twd309 wd2859 wd3519 wd1487 wd771 wd2052 wd1165 wd4592 wd1391 wd3719 wd1728 wd293 wd2200 wd967 wd3493 wd156 wd3671 wd3887 wd2424 wd3803 \n",
      "8\t0.00331\twd2927 wd1815 wd4312 wd1342 wd202 wd4409 wd2982 wd1357 wd1280 wd1748 wd2557 wd3275 wd1049 wd4077 wd4459 wd4912 wd3363 wd2382 wd919 wd4397 \n",
      "9\t0.0035\twd639 wd2561 wd363 wd1075 wd2910 wd4554 wd4660 wd1866 wd2107 wd4893 wd2637 wd1927 wd4569 wd679 wd627 wd2123 wd3638 wd4267 wd3090 wd1558 \n",
      "10\t0.00772\twd3934 wd3747 wd1625 wd2222 wd1903 wd3422 wd3526 wd54 wd648 wd218 wd201 wd4773 wd2315 wd1966 wd316 wd3262 wd732 wd4061 wd4784 wd4957 \n",
      "11\t0.00675\twd3626 wd3624 wd3557 wd1541 wd1041 wd3379 wd1124 wd2247 wd1058 wd1286 wd150 wd3587 wd1471 wd807 wd1750 wd84 wd3401 wd4778 wd933 wd2881 \n",
      "12\t0.00357\twd565 wd2636 wd1795 wd1988 wd802 wd154 wd2745 wd2567 wd765 wd3559 wd3454 wd4646 wd1803 wd1760 wd2412 wd4380 wd2548 wd636 wd3004 wd619 \n",
      "13\t0.00723\twd343 wd3958 wd4577 wd4259 wd4009 wd1022 wd4531 wd757 wd2048 wd2304 wd4037 wd1757 wd4909 wd637 wd4915 wd3957 wd1865 wd144 wd1453 wd3081 \n",
      "14\t0.00752\twd1819 wd1535 wd2823 wd4479 wd418 wd4328 wd267 wd1787 wd1600 wd2165 wd881 wd3517 wd995 wd170 wd1599 wd4035 wd4644 wd824 wd3182 wd790 \n",
      "15\t0.00719\twd1796 wd4512 wd3323 wd3231 wd697 wd1257 wd2984 wd3005 wd4390 wd4580 wd674 wd3949 wd3569 wd4963 wd1818 wd4585 wd1976 wd2582 wd2995 wd2211 \n",
      "16\t0.01265\twd3486 wd2431 wd3257 wd1235 wd215 wd1360 wd2972 wd2641 wd3943 wd142 wd759 wd1609 wd3408 wd2859 wd4111 wd2653 wd2732 wd1484 wd2710 wd1041 \n",
      "17\t0.00365\twd3826 wd812 wd1703 wd2975 wd3037 wd3824 wd4160 wd1426 wd1674 wd3672 wd4151 wd3766 wd4907 wd3277 wd1727 wd2199 wd4934 wd1907 wd2328 wd1205 \n",
      "18\t0.00374\twd2310 wd2372 wd1306 wd3748 wd4241 wd939 wd1143 wd4587 wd1799 wd3441 wd3644 wd1286 wd2154 wd1742 wd1919 wd3988 wd756 wd1222 wd1338 wd4468 \n",
      "19\t0.00188\twd3934 wd3747 wd2222 wd1625 wd1903 wd3422 wd3526 wd54 wd4773 wd218 wd648 wd2315 wd201 wd316 wd3262 wd4061 wd732 wd4957 wd4784 wd1966 \n",
      "20\t0.00357\twd405 wd32 wd1226 wd3437 wd4467 wd1409 wd4954 wd2561 wd4802 wd1579 wd4306 wd3572 wd2434 wd582 wd1522 wd2690 wd4394 wd2014 wd1726 wd2760 \n",
      "21\t0.00368\twd1786 wd2511 wd560 wd2752 wd4459 wd113 wd3735 wd2820 wd3397 wd2608 wd788 wd4624 wd1425 wd4528 wd2435 wd3917 wd4095 wd3429 wd1356 wd3309 \n",
      "22\t0.00986\twd3934 wd3747 wd1625 wd2222 wd1903 wd3422 wd3526 wd648 wd54 wd218 wd4773 wd201 wd2315 wd316 wd732 wd3262 wd1966 wd4957 wd4061 wd4784 \n",
      "23\t0.00679\twd1469 wd2867 wd2562 wd1209 wd3840 wd154 wd1541 wd984 wd2006 wd1913 wd943 wd2157 wd400 wd2311 wd2344 wd4803 wd1458 wd2289 wd4437 wd1191 \n",
      "24\t0.00367\twd3349 wd300 wd3878 wd1696 wd1886 wd4482 wd2504 wd2577 wd729 wd4560 wd2286 wd3370 wd16 wd503 wd316 wd4619 wd4642 wd1898 wd1126 wd3624 \n",
      "25\t0.00648\twd3486 wd2431 wd3257 wd1235 wd215 wd1360 wd2972 wd2641 wd759 wd3943 wd142 wd1609 wd3408 wd2859 wd4111 wd2653 wd2732 wd1484 wd1041 wd2710 \n",
      "26\t0.00358\twd1706 wd2137 wd1079 wd3662 wd1818 wd3356 wd3975 wd3697 wd4413 wd283 wd1904 wd3852 wd2671 wd3445 wd2991 wd4775 wd3679 wd3376 wd3144 wd3239 \n",
      "27\t0.00745\twd280 wd2268 wd4078 wd3925 wd1068 wd1204 wd3037 wd1626 wd1439 wd4827 wd2364 wd1198 wd1830 wd3896 wd688 wd1686 wd1059 wd180 wd4429 wd2954 \n",
      "28\t0.01362\twd384 wd3179 wd1690 wd547 wd3276 wd3726 wd1070 wd1721 wd2310 wd4563 wd2173 wd632 wd4961 wd4774 wd4397 wd4200 wd4357 wd4847 wd1892 wd921 \n",
      "29\t0.00357\twd1609 wd111 wd894 wd334 wd4530 wd4171 wd4100 wd3827 wd3831 wd4610 wd2740 wd1813 wd3542 wd2847 wd2867 wd1206 wd929 wd1582 wd1672 wd1857 \n",
      "30\t0.00366\twd2507 wd137 wd4803 wd1020 wd4920 wd1264 wd3714 wd4252 wd340 wd164 wd585 wd3044 wd835 wd1711 wd4795 wd3159 wd2262 wd902 wd1112 wd3277 \n",
      "31\t0.00544\twd384 wd3179 wd1690 wd547 wd3276 wd3726 wd1070 wd2310 wd1721 wd4563 wd2173 wd632 wd4961 wd4774 wd4397 wd4357 wd4200 wd1892 wd4847 wd921 \n",
      "32\t0.00363\twd2964 wd2910 wd893 wd97 wd4485 wd2165 wd2901 wd4468 wd2487 wd3417 wd164 wd1908 wd4211 wd4441 wd1351 wd886 wd3181 wd1916 wd181 wd4833 \n",
      "33\t0.00364\twd160 wd4558 wd1678 wd1999 wd1157 wd4065 wd3355 wd1916 wd2838 wd3388 wd3 wd181 wd4824 wd212 wd4679 wd2969 wd758 wd4659 wd3726 wd3420 \n",
      "34\t0.00357\twd1139 wd3009 wd1996 wd4879 wd1988 wd1208 wd1477 wd755 wd4167 wd509 wd4427 wd3369 wd2617 wd790 wd4684 wd4097 wd340 wd789 wd934 wd3784 \n",
      "35\t0.00359\twd1692 wd588 wd4564 wd2076 wd649 wd1310 wd4648 wd2441 wd1886 wd4891 wd3666 wd133 wd2311 wd3148 wd2822 wd4512 wd651 wd2366 wd154 wd4183 \n",
      "36\t0.00345\twd1248 wd3266 wd2013 wd1451 wd1435 wd3496 wd1562 wd1103 wd462 wd3151 wd1167 wd2911 wd2049 wd1055 wd2633 wd808 wd3591 wd4182 wd437 wd1626 \n",
      "37\t0.00615\twd4783 wd4610 wd2933 wd3310 wd157 wd4432 wd28 wd3649 wd4521 wd3176 wd1091 wd2941 wd3478 wd468 wd4878 wd318 wd2329 wd3562 wd479 wd221 \n",
      "38\t0.00369\twd1874 wd1831 wd4254 wd77 wd2677 wd1031 wd3636 wd2759 wd2998 wd2932 wd3202 wd3545 wd2929 wd2630 wd1782 wd4118 wd3892 wd365 wd4151 wd1667 \n",
      "39\t0.01169\twd4337 wd188 wd4887 wd4958 wd902 wd388 wd1454 wd2902 wd282 wd2805 wd267 wd3841 wd3584 wd4604 wd4007 wd205 wd1677 wd4352 wd2714 wd4230 \n",
      "40\t0.00354\twd3224 wd630 wd1487 wd3286 wd3482 wd2880 wd241 wd3426 wd158 wd3921 wd952 wd4352 wd627 wd361 wd1833 wd2899 wd3323 wd1033 wd1971 wd3017 \n",
      "41\t0.00357\twd3621 wd1726 wd3110 wd1520 wd2882 wd3395 wd2291 wd321 wd912 wd1760 wd3941 wd3742 wd4955 wd1182 wd1776 wd427 wd4735 wd2969 wd3448 wd45 \n",
      "42\t0.0073\twd4337 wd188 wd4887 wd4958 wd902 wd1454 wd388 wd2902 wd267 wd282 wd2805 wd3584 wd3841 wd205 wd4604 wd4007 wd1677 wd4352 wd2714 wd4230 \n",
      "43\t0.00361\twd4094 wd165 wd3583 wd1336 wd4569 wd4794 wd3491 wd4388 wd1999 wd4037 wd2423 wd1300 wd1276 wd548 wd3938 wd3687 wd1939 wd3584 wd2140 wd414 \n",
      "44\t0.00059\twd2266 wd931 wd4288 wd515 wd2274 wd1228 wd962 wd4604 wd2421 wd3316 wd4993 wd3089 wd4850 wd4164 wd1315 wd4601 wd17 wd4401 wd4605 wd2889 \n",
      "45\t0.00361\twd61 wd3117 wd2907 wd781 wd2836 wd1801 wd1031 wd1095 wd3383 wd1334 wd2295 wd4461 wd1854 wd3766 wd2663 wd2182 wd2652 wd4573 wd57 wd1102 \n",
      "46\t0.00359\twd1219 wd2392 wd562 wd973 wd4579 wd2311 wd3188 wd2701 wd1915 wd3366 wd2051 wd2935 wd4759 wd220 wd3967 wd3121 wd1954 wd3145 wd2706 wd477 \n",
      "47\t0.01293\twd4783 wd4610 wd2933 wd3310 wd157 wd4432 wd28 wd3649 wd4521 wd3176 wd1091 wd2941 wd3478 wd4878 wd468 wd318 wd2329 wd3562 wd221 wd479 \n",
      "48\t0.00689\twd225 wd938 wd988 wd1880 wd2410 wd205 wd4586 wd4447 wd3251 wd1330 wd71 wd2218 wd4960 wd1654 wd2296 wd4879 wd893 wd1366 wd916 wd4838 \n",
      "49\t0.00363\twd3776 wd132 wd1361 wd224 wd2474 wd979 wd285 wd1561 wd3142 wd2182 wd4569 wd135 wd2689 wd4119 wd2122 wd1804 wd3886 wd255 wd2379 wd3729 \n",
      "\n",
      "[beta: 0.01177] \n",
      "<550> LL/token: -5.02195\n",
      "[beta: 0.01171] \n",
      "<560> LL/token: -5.02205\n",
      "[beta: 0.01174] \n",
      "<570> LL/token: -5.02203\n",
      "[beta: 0.01178] \n",
      "<580> LL/token: -5.02234\n",
      "[beta: 0.0118] \n",
      "<590> LL/token: -5.02228\n",
      "\n",
      "0\t0.00365\twd1535 wd4319 wd3749 wd622 wd109 wd2749 wd2036 wd1894 wd3899 wd904 wd1063 wd4845 wd1492 wd1962 wd4540 wd2065 wd4908 wd1217 wd2793 wd2687 \n",
      "1\t0.00347\twd4257 wd649 wd3714 wd2947 wd1760 wd2902 wd3489 wd4410 wd4854 wd3227 wd1573 wd3643 wd3725 wd4713 wd2650 wd3357 wd4162 wd3590 wd2676 wd792 \n",
      "2\t0.00362\twd3245 wd1961 wd2772 wd818 wd1192 wd1641 wd30 wd4946 wd592 wd3138 wd3497 wd3049 wd435 wd120 wd2132 wd3311 wd974 wd894 wd2511 wd674 \n",
      "3\t0.00346\twd3909 wd1371 wd2180 wd311 wd1862 wd1606 wd240 wd1373 wd1673 wd2978 wd1065 wd1813 wd3108 wd1514 wd1710 wd4163 wd2111 wd3620 wd329 wd4222 \n",
      "4\t0.00371\twd3522 wd4169 wd3607 wd2632 wd2795 wd472 wd1666 wd3037 wd4374 wd4421 wd2691 wd824 wd2504 wd3400 wd2822 wd3835 wd1432 wd980 wd4158 wd4423 \n",
      "5\t0.00322\twd2266 wd4288 wd931 wd515 wd2274 wd962 wd1228 wd4604 wd3089 wd2421 wd3316 wd4164 wd17 wd4850 wd4993 wd2889 wd1315 wd4601 wd4401 wd4605 \n",
      "6\t0.00353\twd4809 wd2505 wd1067 wd4182 wd133 wd1214 wd390 wd2461 wd3551 wd2292 wd394 wd3393 wd3496 wd689 wd4206 wd1943 wd956 wd1750 wd1559 wd753 \n",
      "7\t0.0035\twd309 wd2859 wd3519 wd1487 wd771 wd2052 wd1165 wd4592 wd1391 wd3719 wd1728 wd293 wd2200 wd967 wd3493 wd156 wd3671 wd3887 wd2424 wd3803 \n",
      "8\t0.00331\twd2927 wd1815 wd4312 wd1342 wd202 wd4409 wd2982 wd1357 wd1280 wd1748 wd2557 wd3275 wd1049 wd4077 wd4459 wd4912 wd3363 wd2382 wd919 wd4397 \n",
      "9\t0.00351\twd639 wd2561 wd363 wd1075 wd2910 wd4554 wd4660 wd1866 wd2107 wd4893 wd2637 wd1927 wd4569 wd679 wd627 wd2123 wd3638 wd4267 wd3090 wd1558 \n",
      "10\t0.00775\twd3934 wd3747 wd1625 wd2222 wd1903 wd3422 wd3526 wd54 wd648 wd218 wd201 wd4773 wd2315 wd1966 wd316 wd3262 wd732 wd4061 wd4784 wd4957 \n",
      "11\t0.00671\twd3626 wd3624 wd3557 wd1541 wd1041 wd3379 wd1124 wd2247 wd1286 wd1058 wd150 wd3587 wd1471 wd807 wd1750 wd84 wd3401 wd4778 wd933 wd2881 \n",
      "12\t0.00363\twd565 wd2636 wd1795 wd1988 wd802 wd154 wd2745 wd2567 wd765 wd3559 wd3454 wd4646 wd1803 wd1760 wd2412 wd2548 wd4380 wd636 wd3004 wd619 \n",
      "13\t0.00716\twd343 wd3958 wd4577 wd4259 wd4009 wd1022 wd4531 wd757 wd2048 wd2304 wd4037 wd1757 wd4909 wd637 wd4915 wd3957 wd1865 wd144 wd1453 wd3081 \n",
      "14\t0.00755\twd1819 wd1535 wd2823 wd4479 wd418 wd4328 wd267 wd1787 wd1600 wd2165 wd881 wd3517 wd995 wd1599 wd170 wd4035 wd4644 wd824 wd3182 wd790 \n",
      "15\t0.00712\twd1796 wd4512 wd3323 wd3231 wd697 wd1257 wd2984 wd3005 wd4390 wd4580 wd674 wd3949 wd3569 wd4963 wd1818 wd4585 wd1976 wd2582 wd2995 wd2211 \n",
      "16\t0.01266\twd3486 wd2431 wd3257 wd1235 wd215 wd1360 wd2972 wd2641 wd3943 wd759 wd142 wd1609 wd3408 wd2859 wd4111 wd2653 wd2732 wd1484 wd2710 wd1041 \n",
      "17\t0.00368\twd3826 wd812 wd1703 wd2975 wd3037 wd3824 wd4160 wd1426 wd1674 wd3672 wd4151 wd3766 wd4907 wd3277 wd1727 wd2199 wd4934 wd1907 wd2328 wd1205 \n",
      "18\t0.00376\twd2310 wd2372 wd1306 wd3748 wd4241 wd939 wd1143 wd4587 wd1799 wd3441 wd3644 wd1286 wd2154 wd1742 wd1919 wd3988 wd756 wd1222 wd1338 wd4468 \n",
      "19\t0.00182\twd3934 wd3747 wd2222 wd1625 wd1903 wd3422 wd3526 wd54 wd4773 wd218 wd201 wd2315 wd648 wd3262 wd316 wd732 wd4061 wd4957 wd4784 wd1966 \n",
      "20\t0.00364\twd405 wd32 wd1226 wd3437 wd4467 wd1409 wd4954 wd2561 wd4802 wd1579 wd4306 wd3572 wd2434 wd582 wd1522 wd2690 wd4394 wd2014 wd1726 wd2760 \n",
      "21\t0.00367\twd1786 wd2511 wd560 wd2752 wd4459 wd113 wd3735 wd2820 wd3397 wd2608 wd788 wd4624 wd1425 wd4528 wd2435 wd3917 wd4095 wd3429 wd1356 wd3309 \n",
      "22\t0.00993\twd3934 wd3747 wd1625 wd2222 wd1903 wd3422 wd3526 wd54 wd648 wd218 wd4773 wd201 wd2315 wd316 wd732 wd3262 wd1966 wd4957 wd4061 wd4784 \n",
      "23\t0.0068\twd1469 wd2867 wd2562 wd1209 wd3840 wd154 wd1541 wd984 wd2006 wd1913 wd943 wd2157 wd400 wd2311 wd2344 wd4803 wd1458 wd2289 wd4437 wd1191 \n",
      "24\t0.00368\twd3349 wd300 wd3878 wd1696 wd1886 wd4482 wd2504 wd2577 wd729 wd4560 wd2286 wd3370 wd16 wd503 wd316 wd4619 wd4642 wd1898 wd1126 wd3624 \n",
      "25\t0.00642\twd3486 wd2431 wd3257 wd1235 wd215 wd1360 wd2972 wd2641 wd759 wd3943 wd142 wd1609 wd3408 wd2859 wd4111 wd2732 wd2653 wd1484 wd2710 wd3085 \n",
      "26\t0.0036\twd1706 wd2137 wd1079 wd3662 wd1818 wd3356 wd3975 wd3697 wd4413 wd283 wd1904 wd3852 wd2671 wd3445 wd2991 wd4775 wd3679 wd3376 wd3144 wd3239 \n",
      "27\t0.00742\twd280 wd2268 wd4078 wd3925 wd1068 wd1204 wd3037 wd1626 wd1439 wd4827 wd2364 wd1198 wd1830 wd3896 wd688 wd1686 wd1059 wd180 wd4429 wd2954 \n",
      "28\t0.0136\twd384 wd3179 wd1690 wd547 wd3276 wd3726 wd1070 wd1721 wd2310 wd4563 wd2173 wd632 wd4961 wd4774 wd4397 wd4200 wd4357 wd4847 wd1892 wd921 \n",
      "29\t0.0036\twd1609 wd111 wd334 wd894 wd4530 wd4171 wd4100 wd3827 wd3831 wd4610 wd2740 wd1813 wd3542 wd2847 wd2867 wd1206 wd929 wd1582 wd1672 wd1857 \n",
      "30\t0.00371\twd2507 wd137 wd4803 wd1020 wd4920 wd1264 wd3714 wd4252 wd340 wd164 wd585 wd3044 wd835 wd1711 wd4795 wd3159 wd2262 wd902 wd1112 wd3277 \n",
      "31\t0.00541\twd384 wd3179 wd1690 wd547 wd3276 wd3726 wd1070 wd2310 wd1721 wd4563 wd2173 wd632 wd4961 wd4774 wd4397 wd4357 wd4200 wd1892 wd4847 wd507 \n",
      "32\t0.00365\twd2964 wd2910 wd893 wd97 wd4485 wd2165 wd2901 wd4468 wd2487 wd3417 wd164 wd1908 wd4211 wd4441 wd1351 wd886 wd3181 wd1916 wd181 wd4833 \n",
      "33\t0.0036\twd160 wd4558 wd1678 wd1999 wd1157 wd4065 wd3355 wd1916 wd2838 wd3388 wd3 wd181 wd4824 wd212 wd4679 wd2969 wd758 wd4659 wd3726 wd3420 \n",
      "34\t0.00362\twd1139 wd3009 wd1996 wd4879 wd1988 wd1208 wd1477 wd755 wd4167 wd509 wd4427 wd3369 wd2617 wd790 wd4684 wd4097 wd340 wd789 wd934 wd3784 \n",
      "35\t0.0036\twd1692 wd588 wd4564 wd2076 wd649 wd1310 wd4648 wd2441 wd1886 wd4891 wd3666 wd133 wd2311 wd3148 wd2822 wd4512 wd651 wd2366 wd154 wd4183 \n",
      "36\t0.00342\twd1248 wd3266 wd2013 wd1451 wd1435 wd3496 wd1562 wd1103 wd462 wd3151 wd1167 wd2911 wd2049 wd1055 wd2633 wd808 wd3591 wd4182 wd437 wd1626 \n",
      "37\t0.00605\twd4783 wd4610 wd2933 wd3310 wd157 wd4432 wd28 wd3649 wd4521 wd3176 wd1091 wd2941 wd3478 wd468 wd4878 wd318 wd2329 wd3562 wd479 wd221 \n",
      "38\t0.0037\twd1874 wd1831 wd4254 wd77 wd2677 wd1031 wd3636 wd2759 wd2998 wd2932 wd3202 wd3545 wd2929 wd2630 wd1782 wd4118 wd3892 wd365 wd4151 wd1667 \n",
      "39\t0.0118\twd4337 wd188 wd4887 wd4958 wd902 wd388 wd1454 wd2902 wd282 wd2805 wd267 wd3841 wd3584 wd4604 wd205 wd4007 wd1677 wd4352 wd2714 wd4230 \n",
      "40\t0.00354\twd3224 wd630 wd1487 wd3286 wd3482 wd2880 wd241 wd3426 wd158 wd3921 wd952 wd4352 wd627 wd361 wd1833 wd2899 wd3323 wd1033 wd1971 wd3017 \n",
      "41\t0.00357\twd3621 wd1726 wd3110 wd1520 wd2882 wd3395 wd2291 wd321 wd912 wd1760 wd3941 wd3742 wd4955 wd1182 wd1776 wd427 wd4735 wd2969 wd3448 wd45 \n",
      "42\t0.00718\twd4337 wd188 wd4887 wd4958 wd902 wd1454 wd388 wd2902 wd267 wd282 wd2805 wd3584 wd3841 wd205 wd4604 wd4007 wd1677 wd4352 wd2714 wd4230 \n",
      "43\t0.00354\twd4094 wd165 wd3583 wd1336 wd4569 wd4794 wd3491 wd4388 wd1999 wd4037 wd2423 wd1300 wd1276 wd548 wd3938 wd3687 wd1939 wd3584 wd414 wd2140 \n",
      "44\t0.00057\twd2266 wd931 wd4288 wd515 wd2274 wd1228 wd962 wd2421 wd4604 wd3316 wd4993 wd3089 wd4850 wd4164 wd17 wd1315 wd4601 wd4401 wd4605 wd2889 \n",
      "45\t0.0036\twd61 wd3117 wd2907 wd781 wd2836 wd1801 wd1031 wd1095 wd3383 wd1334 wd2295 wd4461 wd1854 wd3766 wd2663 wd2182 wd2652 wd4573 wd57 wd1102 \n",
      "46\t0.00362\twd1219 wd2392 wd562 wd973 wd4579 wd2311 wd3188 wd2701 wd1915 wd3366 wd2051 wd2935 wd4759 wd220 wd3967 wd3121 wd1954 wd3145 wd2706 wd477 \n",
      "47\t0.01308\twd4783 wd4610 wd2933 wd3310 wd157 wd4432 wd28 wd3649 wd4521 wd3176 wd1091 wd2941 wd3478 wd468 wd4878 wd318 wd2329 wd3562 wd221 wd479 \n",
      "48\t0.00692\twd225 wd938 wd988 wd2410 wd1880 wd205 wd4586 wd4447 wd3251 wd1330 wd71 wd2218 wd4960 wd1654 wd2296 wd4879 wd893 wd916 wd1366 wd4838 \n",
      "49\t0.00367\twd3776 wd132 wd1361 wd224 wd2474 wd979 wd285 wd1561 wd3142 wd2182 wd4569 wd135 wd2689 wd4119 wd2122 wd1804 wd3886 wd255 wd2379 wd3729 \n",
      "\n"
     ]
    },
    {
     "name": "stderr",
     "output_type": "stream",
     "text": [
      "[beta: 0.01175] \n",
      "<600> LL/token: -5.0222\n",
      "[beta: 0.01176] \n",
      "<610> LL/token: -5.02194\n",
      "[beta: 0.01171] \n",
      "<620> LL/token: -5.02187\n",
      "[beta: 0.01175] \n",
      "<630> LL/token: -5.02189\n",
      "[beta: 0.01171] \n",
      "<640> LL/token: -5.02151\n",
      "\n",
      "0\t0.00363\twd1535 wd4319 wd622 wd3749 wd109 wd2749 wd2036 wd1894 wd3899 wd904 wd1063 wd4845 wd1492 wd1962 wd4540 wd2065 wd4908 wd1217 wd2793 wd2687 \n",
      "1\t0.00344\twd4257 wd649 wd3714 wd2947 wd1760 wd2902 wd3489 wd4410 wd4854 wd3227 wd1573 wd3643 wd3725 wd4713 wd2650 wd3357 wd4162 wd3590 wd2676 wd792 \n",
      "2\t0.00361\twd3245 wd1961 wd2772 wd818 wd1192 wd1641 wd30 wd4946 wd592 wd3138 wd3497 wd3049 wd435 wd2132 wd120 wd3311 wd974 wd894 wd2511 wd674 \n",
      "3\t0.00346\twd3909 wd1371 wd2180 wd311 wd1862 wd1606 wd240 wd1373 wd1673 wd2978 wd1065 wd1514 wd1813 wd3108 wd1710 wd4163 wd2111 wd3620 wd329 wd4222 \n",
      "4\t0.0037\twd3522 wd4169 wd3607 wd2632 wd2795 wd472 wd1666 wd3037 wd4374 wd4421 wd2691 wd824 wd2504 wd3400 wd2822 wd3835 wd1432 wd980 wd4158 wd4423 \n",
      "5\t0.00322\twd2266 wd4288 wd931 wd515 wd2274 wd962 wd1228 wd4604 wd3089 wd2421 wd3316 wd4164 wd4850 wd17 wd4993 wd2889 wd1315 wd4601 wd4401 wd4605 \n",
      "6\t0.00355\twd4809 wd2505 wd1067 wd4182 wd133 wd1214 wd390 wd2461 wd3551 wd2292 wd394 wd3393 wd3496 wd689 wd4206 wd956 wd1943 wd1750 wd1559 wd753 \n",
      "7\t0.00347\twd309 wd2859 wd3519 wd1487 wd771 wd2052 wd1165 wd4592 wd1391 wd3719 wd1728 wd293 wd2200 wd967 wd3493 wd156 wd3671 wd3887 wd2424 wd3803 \n",
      "8\t0.00333\twd2927 wd1815 wd4312 wd1342 wd202 wd4409 wd2982 wd1357 wd1280 wd1748 wd2557 wd3275 wd1049 wd4077 wd4459 wd4912 wd3363 wd2382 wd919 wd315 \n",
      "9\t0.0035\twd639 wd2561 wd363 wd1075 wd2910 wd4554 wd4660 wd1866 wd2107 wd4893 wd2637 wd1927 wd4569 wd679 wd627 wd2123 wd3638 wd4267 wd3090 wd1558 \n",
      "10\t0.00764\twd3934 wd3747 wd1625 wd2222 wd1903 wd3422 wd3526 wd54 wd648 wd218 wd201 wd4773 wd2315 wd1966 wd316 wd3262 wd732 wd4061 wd4784 wd4957 \n",
      "11\t0.00682\twd3626 wd3624 wd3557 wd1541 wd1041 wd3379 wd1124 wd2247 wd1286 wd1058 wd150 wd3587 wd1471 wd807 wd1750 wd84 wd3401 wd4778 wd933 wd2881 \n",
      "12\t0.00364\twd565 wd2636 wd1795 wd1988 wd802 wd154 wd2745 wd2567 wd765 wd3559 wd3454 wd4646 wd1803 wd1760 wd2412 wd4380 wd2548 wd636 wd3004 wd619 \n",
      "13\t0.00719\twd343 wd3958 wd4577 wd4259 wd4009 wd1022 wd4531 wd757 wd2048 wd2304 wd4037 wd1757 wd4909 wd637 wd4915 wd3957 wd1865 wd144 wd1453 wd3081 \n",
      "14\t0.00753\twd1819 wd1535 wd2823 wd4479 wd418 wd4328 wd267 wd1787 wd1600 wd2165 wd881 wd3517 wd995 wd170 wd1599 wd4035 wd4644 wd824 wd3182 wd790 \n",
      "15\t0.00716\twd1796 wd4512 wd3323 wd3231 wd697 wd1257 wd2984 wd3005 wd4390 wd4580 wd674 wd3949 wd3569 wd4963 wd1818 wd4585 wd1976 wd2582 wd2995 wd2211 \n",
      "16\t0.01279\twd3486 wd2431 wd3257 wd1235 wd215 wd1360 wd2972 wd2641 wd3943 wd759 wd142 wd1609 wd3408 wd2859 wd4111 wd2653 wd1484 wd2732 wd2710 wd1041 \n",
      "17\t0.00365\twd3826 wd812 wd1703 wd2975 wd3037 wd3824 wd4160 wd1426 wd1674 wd3672 wd4151 wd3766 wd4907 wd3277 wd1727 wd2199 wd4934 wd1907 wd2328 wd1205 \n",
      "18\t0.00372\twd2310 wd2372 wd1306 wd3748 wd4241 wd939 wd1143 wd4587 wd1799 wd3441 wd3644 wd1286 wd2154 wd1742 wd3988 wd1919 wd756 wd1222 wd1338 wd4468 \n",
      "19\t0.00172\twd3934 wd3747 wd2222 wd1625 wd1903 wd3422 wd3526 wd54 wd218 wd4773 wd648 wd2315 wd201 wd3262 wd316 wd732 wd4061 wd4957 wd4784 wd1966 \n",
      "20\t0.00363\twd405 wd32 wd1226 wd3437 wd4467 wd1409 wd4954 wd2561 wd4802 wd1579 wd4306 wd3572 wd2434 wd582 wd1522 wd2690 wd4394 wd2014 wd1726 wd2760 \n",
      "21\t0.00375\twd1786 wd2511 wd560 wd2752 wd4459 wd113 wd3735 wd2820 wd3397 wd2608 wd788 wd4624 wd1425 wd4528 wd2435 wd3917 wd4095 wd3429 wd1356 wd3309 \n",
      "22\t0.01\twd3934 wd3747 wd1625 wd2222 wd1903 wd3422 wd3526 wd648 wd54 wd218 wd4773 wd201 wd2315 wd316 wd732 wd3262 wd1966 wd4957 wd4061 wd4784 \n",
      "23\t0.00682\twd1469 wd2867 wd2562 wd1209 wd3840 wd154 wd1541 wd984 wd2006 wd1913 wd943 wd2157 wd400 wd2311 wd2344 wd4803 wd1458 wd2289 wd4437 wd1191 \n",
      "24\t0.00363\twd3349 wd300 wd3878 wd1696 wd1886 wd4482 wd2504 wd2577 wd729 wd4560 wd2286 wd3370 wd16 wd503 wd316 wd4619 wd4642 wd1898 wd1126 wd3624 \n",
      "25\t0.00632\twd3486 wd2431 wd3257 wd1235 wd215 wd1360 wd2972 wd2641 wd759 wd3943 wd142 wd1609 wd3408 wd2859 wd2653 wd4111 wd2732 wd1484 wd3085 wd2710 \n",
      "26\t0.00354\twd1706 wd2137 wd1079 wd3662 wd1818 wd3356 wd3975 wd3697 wd4413 wd283 wd1904 wd3852 wd2671 wd3445 wd2991 wd4775 wd3679 wd3376 wd3144 wd3239 \n",
      "27\t0.0075\twd280 wd2268 wd4078 wd3925 wd1068 wd1204 wd3037 wd1626 wd1439 wd4827 wd2364 wd1198 wd1830 wd3896 wd688 wd1686 wd1059 wd180 wd4429 wd2954 \n",
      "28\t0.01358\twd384 wd3179 wd1690 wd547 wd3276 wd3726 wd1070 wd1721 wd2310 wd4563 wd2173 wd632 wd4961 wd4774 wd4397 wd4200 wd4357 wd1892 wd4847 wd921 \n",
      "29\t0.00358\twd1609 wd111 wd334 wd894 wd4530 wd4171 wd4100 wd3827 wd3831 wd4610 wd2740 wd1813 wd3542 wd2847 wd1206 wd2867 wd929 wd1582 wd1672 wd1857 \n",
      "30\t0.00366\twd2507 wd137 wd4803 wd1020 wd4920 wd1264 wd3714 wd4252 wd340 wd164 wd585 wd3044 wd835 wd1711 wd4795 wd3159 wd2262 wd902 wd1112 wd3277 \n",
      "31\t0.00546\twd384 wd3179 wd1690 wd547 wd3276 wd3726 wd1070 wd1721 wd2310 wd4563 wd2173 wd632 wd4961 wd4774 wd4357 wd4397 wd4200 wd1892 wd4847 wd507 \n",
      "32\t0.00372\twd2964 wd2910 wd893 wd97 wd4485 wd2901 wd2165 wd4468 wd2487 wd3417 wd164 wd1908 wd4211 wd4441 wd1351 wd886 wd3181 wd1916 wd181 wd4833 \n",
      "33\t0.0036\twd160 wd4558 wd1678 wd1999 wd1157 wd4065 wd3355 wd1916 wd2838 wd3388 wd3 wd4824 wd181 wd212 wd4679 wd2969 wd758 wd4659 wd3726 wd3420 \n",
      "34\t0.00364\twd1139 wd3009 wd1996 wd4879 wd1988 wd1208 wd1477 wd755 wd4167 wd509 wd4427 wd3369 wd2617 wd790 wd4684 wd4097 wd340 wd789 wd934 wd3784 \n",
      "35\t0.00365\twd1692 wd588 wd4564 wd2076 wd649 wd1310 wd4648 wd2441 wd1886 wd4891 wd3666 wd133 wd2311 wd3148 wd2822 wd4512 wd651 wd2366 wd154 wd4183 \n",
      "36\t0.00341\twd1248 wd3266 wd2013 wd1451 wd1435 wd3496 wd1562 wd1103 wd462 wd3151 wd1167 wd2911 wd2049 wd1055 wd2633 wd808 wd3591 wd4182 wd437 wd1626 \n",
      "37\t0.00597\twd4783 wd4610 wd2933 wd3310 wd157 wd4432 wd28 wd3649 wd4521 wd3176 wd1091 wd2941 wd3478 wd468 wd4878 wd2329 wd318 wd3562 wd221 wd479 \n",
      "38\t0.00368\twd1874 wd1831 wd4254 wd77 wd2677 wd1031 wd3636 wd2759 wd2998 wd2932 wd3202 wd3545 wd2929 wd2630 wd1782 wd4118 wd3892 wd365 wd4151 wd1667 \n",
      "39\t0.01185\twd4337 wd188 wd4887 wd4958 wd902 wd388 wd1454 wd2902 wd282 wd2805 wd267 wd3841 wd3584 wd4604 wd205 wd4007 wd1677 wd4352 wd2714 wd4230 \n",
      "40\t0.00353\twd3224 wd630 wd1487 wd3286 wd3482 wd2880 wd241 wd3426 wd158 wd3921 wd952 wd4352 wd627 wd361 wd1833 wd2899 wd3323 wd1033 wd1971 wd3017 \n",
      "41\t0.00357\twd3621 wd1726 wd3110 wd1520 wd2882 wd3395 wd2291 wd321 wd912 wd1760 wd3941 wd3742 wd4955 wd1182 wd1776 wd427 wd4735 wd2969 wd3448 wd45 \n",
      "42\t0.00716\twd4337 wd188 wd4887 wd4958 wd902 wd1454 wd388 wd2902 wd267 wd282 wd2805 wd3584 wd3841 wd205 wd4604 wd4007 wd1677 wd4352 wd2714 wd4230 \n",
      "43\t0.00361\twd4094 wd165 wd3583 wd1336 wd4569 wd4794 wd3491 wd4388 wd1999 wd4037 wd2423 wd1300 wd1276 wd548 wd3938 wd3687 wd1939 wd3584 wd414 wd2140 \n",
      "44\t0.00052\twd2266 wd931 wd4288 wd515 wd2274 wd1228 wd962 wd4604 wd2421 wd3316 wd4993 wd3089 wd4850 wd4164 wd1315 wd17 wd4601 wd4605 wd4401 wd2889 \n",
      "45\t0.00362\twd61 wd3117 wd2907 wd781 wd2836 wd1801 wd1031 wd1095 wd3383 wd1334 wd2295 wd4461 wd1854 wd3766 wd2663 wd2182 wd2652 wd4573 wd57 wd1102 \n",
      "46\t0.00362\twd1219 wd2392 wd562 wd973 wd4579 wd2311 wd3188 wd2701 wd1915 wd3366 wd2051 wd2935 wd4759 wd220 wd3967 wd3121 wd1954 wd3145 wd2706 wd477 \n",
      "47\t0.01311\twd4783 wd4610 wd2933 wd3310 wd157 wd4432 wd28 wd3649 wd4521 wd3176 wd1091 wd2941 wd3478 wd468 wd4878 wd318 wd2329 wd3562 wd221 wd479 \n",
      "48\t0.007\twd225 wd938 wd988 wd1880 wd2410 wd205 wd4586 wd4447 wd3251 wd1330 wd71 wd2218 wd4960 wd1654 wd2296 wd4879 wd893 wd916 wd1366 wd4838 \n",
      "49\t0.00363\twd3776 wd132 wd1361 wd224 wd2474 wd979 wd285 wd1561 wd3142 wd2182 wd4569 wd135 wd2689 wd4119 wd2122 wd1804 wd3886 wd255 wd2379 wd3729 \n",
      "\n",
      "[beta: 0.01177] \n",
      "<650> LL/token: -5.02169\n",
      "[beta: 0.01182] \n",
      "<660> LL/token: -5.02202\n",
      "[beta: 0.01179] \n",
      "<670> LL/token: -5.02183\n",
      "[beta: 0.01175] \n",
      "<680> LL/token: -5.02188\n",
      "[beta: 0.01178] \n",
      "<690> LL/token: -5.02208\n",
      "\n",
      "0\t0.00364\twd1535 wd4319 wd3749 wd622 wd109 wd2749 wd2036 wd1894 wd3899 wd904 wd1063 wd4845 wd1492 wd1962 wd4540 wd2065 wd4908 wd1217 wd2793 wd2687 \n",
      "1\t0.0035\twd4257 wd649 wd3714 wd2947 wd1760 wd2902 wd3489 wd4410 wd4854 wd3227 wd1573 wd3643 wd3725 wd4713 wd2650 wd3357 wd4162 wd3590 wd2676 wd792 \n",
      "2\t0.00359\twd3245 wd1961 wd2772 wd818 wd1192 wd1641 wd30 wd4946 wd592 wd3138 wd3497 wd3049 wd435 wd120 wd2132 wd3311 wd974 wd894 wd2511 wd674 \n",
      "3\t0.00346\twd3909 wd1371 wd2180 wd311 wd1862 wd1606 wd240 wd1373 wd1673 wd2978 wd1065 wd1813 wd1514 wd3108 wd1710 wd4163 wd2111 wd3620 wd329 wd4222 \n",
      "4\t0.00372\twd3522 wd4169 wd3607 wd2632 wd2795 wd472 wd1666 wd3037 wd4374 wd4421 wd2691 wd824 wd2504 wd3400 wd2822 wd3835 wd1432 wd980 wd4158 wd4423 \n",
      "5\t0.00317\twd2266 wd4288 wd931 wd515 wd2274 wd962 wd1228 wd4604 wd3089 wd2421 wd3316 wd4164 wd17 wd4850 wd4993 wd2889 wd1315 wd4601 wd4401 wd4605 \n",
      "6\t0.00353\twd4809 wd2505 wd1067 wd4182 wd133 wd1214 wd390 wd2461 wd3551 wd2292 wd394 wd3393 wd3496 wd689 wd4206 wd1943 wd956 wd1750 wd1559 wd753 \n",
      "7\t0.00347\twd309 wd2859 wd3519 wd1487 wd771 wd2052 wd1165 wd4592 wd1391 wd3719 wd1728 wd293 wd2200 wd967 wd3493 wd156 wd3671 wd3887 wd2424 wd3803 \n",
      "8\t0.00327\twd2927 wd1815 wd4312 wd1342 wd202 wd4409 wd2982 wd1357 wd1280 wd1748 wd2557 wd3275 wd1049 wd4077 wd4459 wd4912 wd3363 wd2382 wd919 wd315 \n",
      "9\t0.0035\twd639 wd2561 wd363 wd1075 wd2910 wd4554 wd4660 wd1866 wd2107 wd4893 wd2637 wd1927 wd4569 wd679 wd627 wd2123 wd3638 wd4267 wd3090 wd1558 \n",
      "10\t0.00768\twd3934 wd3747 wd1625 wd2222 wd1903 wd3422 wd3526 wd54 wd218 wd648 wd201 wd4773 wd2315 wd1966 wd316 wd3262 wd732 wd4061 wd4784 wd4957 \n",
      "11\t0.00672\twd3626 wd3624 wd3557 wd1541 wd1041 wd3379 wd1124 wd2247 wd1286 wd1058 wd150 wd3587 wd1471 wd807 wd1750 wd84 wd3401 wd4778 wd933 wd2881 \n",
      "12\t0.00362\twd565 wd2636 wd1795 wd1988 wd802 wd154 wd2745 wd2567 wd765 wd3559 wd3454 wd4646 wd1803 wd1760 wd2412 wd2548 wd4380 wd636 wd3004 wd619 \n",
      "13\t0.00724\twd343 wd3958 wd4577 wd4259 wd4009 wd1022 wd4531 wd757 wd2048 wd2304 wd4037 wd1757 wd4909 wd637 wd4915 wd3957 wd1865 wd144 wd1453 wd3081 \n",
      "14\t0.00758\twd1819 wd1535 wd2823 wd4479 wd418 wd4328 wd267 wd1787 wd1600 wd2165 wd881 wd3517 wd995 wd1599 wd170 wd4035 wd4644 wd824 wd3182 wd790 \n",
      "15\t0.00718\twd1796 wd4512 wd3323 wd3231 wd697 wd1257 wd2984 wd3005 wd4390 wd4580 wd674 wd3949 wd3569 wd4963 wd1818 wd4585 wd1976 wd2582 wd2995 wd2211 \n",
      "16\t0.01289\twd3486 wd2431 wd3257 wd1235 wd215 wd1360 wd2972 wd2641 wd3943 wd759 wd142 wd1609 wd3408 wd2859 wd4111 wd2653 wd1484 wd2732 wd1041 wd2710 \n",
      "17\t0.00365\twd3826 wd812 wd1703 wd2975 wd3037 wd3824 wd4160 wd1426 wd1674 wd3672 wd4151 wd3766 wd4907 wd3277 wd1727 wd2199 wd4934 wd1907 wd2328 wd1205 \n",
      "18\t0.00373\twd2310 wd2372 wd1306 wd3748 wd4241 wd939 wd1143 wd4587 wd1799 wd3441 wd3644 wd1286 wd2154 wd1742 wd1919 wd3988 wd756 wd1222 wd1338 wd4468 \n",
      "19\t0.00171\twd3934 wd3747 wd2222 wd1625 wd1903 wd3422 wd3526 wd54 wd218 wd4773 wd648 wd2315 wd201 wd316 wd732 wd3262 wd4061 wd4957 wd1966 wd4784 \n",
      "20\t0.00361\twd405 wd32 wd1226 wd3437 wd4467 wd1409 wd4954 wd2561 wd4802 wd1579 wd4306 wd3572 wd2434 wd582 wd1522 wd2690 wd4394 wd2014 wd1726 wd2760 \n",
      "21\t0.00369\twd1786 wd2511 wd560 wd2752 wd4459 wd113 wd3735 wd2820 wd3397 wd2608 wd788 wd4624 wd1425 wd4528 wd2435 wd3917 wd4095 wd3429 wd1356 wd3309 \n",
      "22\t0.01013\twd3934 wd3747 wd1625 wd2222 wd1903 wd3422 wd3526 wd648 wd54 wd218 wd4773 wd201 wd2315 wd316 wd732 wd3262 wd1966 wd4957 wd4061 wd4784 \n",
      "23\t0.00675\twd1469 wd2867 wd2562 wd1209 wd3840 wd154 wd1541 wd984 wd2006 wd1913 wd943 wd2157 wd400 wd2311 wd2344 wd4803 wd1458 wd2289 wd4437 wd1191 \n",
      "24\t0.0036\twd3349 wd300 wd3878 wd1696 wd1886 wd4482 wd2504 wd2577 wd729 wd4560 wd2286 wd3370 wd16 wd503 wd316 wd4619 wd4642 wd1898 wd1126 wd3624 \n",
      "25\t0.00634\twd3486 wd2431 wd3257 wd1235 wd215 wd1360 wd2972 wd2641 wd759 wd3943 wd142 wd1609 wd3408 wd2859 wd2653 wd4111 wd2732 wd1484 wd2710 wd1041 \n",
      "26\t0.00359\twd1706 wd2137 wd1079 wd3662 wd1818 wd3356 wd3975 wd3697 wd4413 wd283 wd1904 wd3852 wd2671 wd3445 wd2991 wd4775 wd3679 wd3376 wd3144 wd3239 \n",
      "27\t0.00753\twd280 wd2268 wd4078 wd3925 wd1068 wd1204 wd3037 wd1626 wd1439 wd4827 wd2364 wd1198 wd1830 wd3896 wd688 wd1686 wd1059 wd180 wd4429 wd2954 \n",
      "28\t0.01363\twd384 wd3179 wd1690 wd547 wd3276 wd3726 wd1070 wd1721 wd2310 wd4563 wd2173 wd632 wd4961 wd4774 wd4397 wd4200 wd4357 wd4847 wd1892 wd921 \n",
      "29\t0.00362\twd1609 wd111 wd334 wd894 wd4530 wd4171 wd4100 wd3827 wd3831 wd4610 wd2740 wd1813 wd3542 wd2847 wd2867 wd1206 wd929 wd1582 wd1672 wd1857 \n",
      "30\t0.00366\twd2507 wd137 wd4803 wd1020 wd4920 wd1264 wd3714 wd4252 wd340 wd164 wd585 wd3044 wd835 wd1711 wd4795 wd3159 wd2262 wd902 wd1112 wd3277 \n",
      "31\t0.00544\twd384 wd3179 wd1690 wd547 wd3276 wd3726 wd1070 wd2310 wd1721 wd4563 wd2173 wd632 wd4961 wd4774 wd4357 wd4397 wd4200 wd1892 wd4847 wd921 \n",
      "32\t0.00367\twd2964 wd2910 wd893 wd97 wd4485 wd2901 wd2165 wd4468 wd2487 wd3417 wd164 wd1908 wd4211 wd4441 wd1351 wd886 wd3181 wd1916 wd181 wd4833 \n",
      "33\t0.0036\twd160 wd4558 wd1678 wd1999 wd1157 wd4065 wd3355 wd1916 wd2838 wd3388 wd3 wd181 wd4824 wd212 wd4679 wd2969 wd758 wd4659 wd3726 wd3420 \n",
      "34\t0.0036\twd1139 wd3009 wd1996 wd4879 wd1988 wd1208 wd1477 wd755 wd4167 wd509 wd4427 wd3369 wd2617 wd790 wd4684 wd4097 wd340 wd789 wd934 wd3784 \n",
      "35\t0.00361\twd1692 wd588 wd4564 wd2076 wd649 wd1310 wd4648 wd2441 wd1886 wd4891 wd3666 wd133 wd2311 wd3148 wd2822 wd4512 wd651 wd2366 wd154 wd4183 \n",
      "36\t0.00342\twd1248 wd3266 wd2013 wd1451 wd1435 wd3496 wd1562 wd1103 wd462 wd3151 wd1167 wd2911 wd2049 wd1055 wd2633 wd808 wd3591 wd4182 wd437 wd1626 \n",
      "37\t0.00596\twd4783 wd4610 wd2933 wd3310 wd157 wd4432 wd28 wd3649 wd4521 wd3176 wd1091 wd2941 wd3478 wd4878 wd468 wd2329 wd318 wd3562 wd479 wd221 \n",
      "38\t0.00369\twd1874 wd1831 wd4254 wd77 wd2677 wd1031 wd3636 wd2759 wd2998 wd2932 wd3202 wd3545 wd2929 wd2630 wd1782 wd4118 wd3892 wd365 wd4151 wd1667 \n",
      "39\t0.01184\twd4337 wd188 wd4887 wd4958 wd902 wd388 wd1454 wd2902 wd282 wd2805 wd267 wd3841 wd3584 wd4604 wd205 wd4007 wd1677 wd4352 wd2714 wd4230 \n",
      "40\t0.00354\twd3224 wd630 wd1487 wd3286 wd3482 wd2880 wd241 wd3426 wd158 wd3921 wd952 wd4352 wd627 wd361 wd1833 wd2899 wd3323 wd1033 wd1971 wd3017 \n",
      "41\t0.00358\twd3621 wd1726 wd3110 wd1520 wd2882 wd3395 wd2291 wd321 wd912 wd1760 wd3941 wd3742 wd4955 wd1182 wd1776 wd427 wd4735 wd2969 wd3448 wd45 \n",
      "42\t0.00713\twd4337 wd188 wd4887 wd4958 wd902 wd1454 wd388 wd2902 wd267 wd282 wd2805 wd3584 wd3841 wd205 wd4604 wd4007 wd1677 wd4352 wd2714 wd4230 \n",
      "43\t0.00359\twd4094 wd165 wd3583 wd1336 wd4569 wd4794 wd3491 wd4388 wd1999 wd4037 wd2423 wd1300 wd1276 wd548 wd3938 wd3687 wd1939 wd3584 wd414 wd2140 \n",
      "44\t0.00056\twd2266 wd931 wd4288 wd515 wd2274 wd1228 wd962 wd3316 wd4604 wd2421 wd4993 wd3089 wd4850 wd4164 wd1315 wd17 wd4605 wd4601 wd4401 wd2889 \n",
      "45\t0.00362\twd61 wd3117 wd2907 wd781 wd2836 wd1801 wd1031 wd1095 wd3383 wd1334 wd2295 wd4461 wd1854 wd3766 wd2663 wd2182 wd2652 wd4573 wd57 wd1102 \n",
      "46\t0.00358\twd1219 wd2392 wd562 wd973 wd4579 wd2311 wd3188 wd2701 wd1915 wd3366 wd2051 wd2935 wd4759 wd220 wd3967 wd3121 wd1954 wd3145 wd2706 wd477 \n",
      "47\t0.01314\twd4783 wd4610 wd2933 wd3310 wd157 wd4432 wd28 wd3649 wd4521 wd3176 wd1091 wd2941 wd3478 wd468 wd4878 wd318 wd2329 wd3562 wd221 wd479 \n",
      "48\t0.0069\twd225 wd938 wd988 wd1880 wd2410 wd205 wd4586 wd4447 wd3251 wd1330 wd71 wd2218 wd4960 wd1654 wd2296 wd4879 wd893 wd916 wd1366 wd4838 \n",
      "49\t0.00365\twd3776 wd132 wd1361 wd224 wd2474 wd979 wd285 wd1561 wd3142 wd2182 wd4569 wd135 wd2689 wd4119 wd2122 wd1804 wd255 wd3886 wd2379 wd3729 \n",
      "\n"
     ]
    },
    {
     "name": "stderr",
     "output_type": "stream",
     "text": [
      "[beta: 0.01179] \n",
      "<700> LL/token: -5.02187\n",
      "[beta: 0.01175] \n",
      "<710> LL/token: -5.02183\n",
      "[beta: 0.01174] \n",
      "<720> LL/token: -5.02168\n",
      "[beta: 0.01172] \n",
      "<730> LL/token: -5.02152\n",
      "[beta: 0.01174] \n",
      "<740> LL/token: -5.02147\n",
      "\n",
      "0\t0.00365\twd1535 wd4319 wd3749 wd622 wd109 wd2749 wd2036 wd1894 wd3899 wd904 wd1063 wd4845 wd1492 wd1962 wd4540 wd2065 wd4908 wd1217 wd2793 wd2687 \n",
      "1\t0.0035\twd4257 wd649 wd3714 wd2947 wd1760 wd2902 wd3489 wd4410 wd4854 wd3227 wd1573 wd3643 wd3725 wd4713 wd2650 wd3357 wd4162 wd3590 wd2676 wd792 \n",
      "2\t0.0036\twd3245 wd1961 wd2772 wd818 wd1192 wd1641 wd30 wd4946 wd592 wd3138 wd3497 wd3049 wd435 wd2132 wd120 wd3311 wd974 wd894 wd2511 wd674 \n",
      "3\t0.00354\twd3909 wd1371 wd2180 wd311 wd1862 wd1606 wd240 wd1373 wd1673 wd2978 wd1065 wd1813 wd1514 wd3108 wd1710 wd4163 wd2111 wd3620 wd329 wd4222 \n",
      "4\t0.00368\twd3522 wd4169 wd3607 wd2632 wd2795 wd472 wd1666 wd3037 wd4374 wd4421 wd2691 wd824 wd2504 wd3400 wd2822 wd3835 wd1432 wd980 wd4158 wd4423 \n",
      "5\t0.00326\twd2266 wd4288 wd931 wd515 wd2274 wd962 wd1228 wd4604 wd3089 wd2421 wd3316 wd4164 wd4850 wd17 wd4993 wd2889 wd1315 wd4601 wd4401 wd4605 \n",
      "6\t0.00358\twd4809 wd2505 wd1067 wd4182 wd133 wd1214 wd390 wd2461 wd3551 wd2292 wd394 wd3393 wd3496 wd689 wd4206 wd956 wd1943 wd1750 wd1559 wd753 \n",
      "7\t0.00345\twd309 wd2859 wd3519 wd1487 wd771 wd2052 wd1165 wd4592 wd1391 wd3719 wd1728 wd293 wd2200 wd967 wd3493 wd156 wd3671 wd3887 wd2424 wd3803 \n",
      "8\t0.00335\twd2927 wd1815 wd4312 wd1342 wd202 wd4409 wd2982 wd1357 wd1280 wd1748 wd2557 wd3275 wd1049 wd4459 wd4077 wd4912 wd3363 wd2382 wd919 wd315 \n",
      "9\t0.00351\twd639 wd2561 wd363 wd1075 wd2910 wd4554 wd4660 wd1866 wd2107 wd4893 wd2637 wd1927 wd4569 wd679 wd627 wd2123 wd3638 wd4267 wd3090 wd1558 \n",
      "10\t0.00765\twd3934 wd3747 wd1625 wd2222 wd1903 wd3422 wd3526 wd54 wd218 wd648 wd201 wd4773 wd2315 wd1966 wd316 wd3262 wd732 wd4061 wd4784 wd4957 \n",
      "11\t0.00679\twd3626 wd3624 wd3557 wd1541 wd1041 wd3379 wd1124 wd2247 wd1058 wd1286 wd150 wd3587 wd1471 wd807 wd1750 wd84 wd3401 wd4778 wd933 wd2881 \n",
      "12\t0.00363\twd565 wd2636 wd1795 wd1988 wd802 wd154 wd2745 wd2567 wd765 wd3559 wd3454 wd4646 wd1803 wd1760 wd2412 wd2548 wd4380 wd636 wd3004 wd619 \n",
      "13\t0.00718\twd343 wd3958 wd4577 wd4259 wd4009 wd1022 wd4531 wd757 wd2048 wd2304 wd4037 wd1757 wd4909 wd637 wd4915 wd3957 wd1865 wd144 wd1453 wd3081 \n",
      "14\t0.0076\twd1819 wd1535 wd2823 wd4479 wd418 wd4328 wd267 wd1787 wd1600 wd2165 wd881 wd3517 wd995 wd1599 wd170 wd4035 wd4644 wd824 wd3182 wd790 \n",
      "15\t0.0072\twd1796 wd4512 wd3323 wd3231 wd697 wd1257 wd2984 wd3005 wd4390 wd4580 wd674 wd3949 wd3569 wd4963 wd1818 wd4585 wd1976 wd2582 wd2995 wd2211 \n",
      "16\t0.01287\twd3486 wd2431 wd3257 wd1235 wd215 wd1360 wd2972 wd2641 wd3943 wd759 wd142 wd1609 wd3408 wd2859 wd4111 wd2653 wd1484 wd2732 wd2710 wd1041 \n",
      "17\t0.00368\twd3826 wd812 wd1703 wd2975 wd3037 wd3824 wd4160 wd1426 wd1674 wd3672 wd4151 wd3766 wd4907 wd3277 wd1727 wd2199 wd4934 wd1907 wd2328 wd1205 \n",
      "18\t0.00374\twd2310 wd2372 wd1306 wd3748 wd4241 wd939 wd1143 wd4587 wd1799 wd3441 wd3644 wd1286 wd2154 wd1742 wd1919 wd3988 wd756 wd1222 wd1338 wd4468 \n",
      "19\t0.00166\twd3934 wd3747 wd2222 wd1625 wd1903 wd3422 wd3526 wd54 wd218 wd4773 wd648 wd2315 wd201 wd732 wd316 wd3262 wd4061 wd4957 wd1966 wd4784 \n",
      "20\t0.00359\twd405 wd32 wd1226 wd3437 wd4467 wd1409 wd4954 wd2561 wd4802 wd1579 wd4306 wd3572 wd2434 wd582 wd1522 wd2690 wd4394 wd2014 wd1726 wd2760 \n",
      "21\t0.00366\twd1786 wd2511 wd560 wd2752 wd4459 wd113 wd3735 wd2820 wd3397 wd2608 wd788 wd4624 wd1425 wd4528 wd2435 wd3917 wd4095 wd3429 wd1356 wd3309 \n",
      "22\t0.01013\twd3934 wd3747 wd1625 wd2222 wd1903 wd3422 wd3526 wd648 wd54 wd218 wd4773 wd201 wd2315 wd316 wd732 wd3262 wd1966 wd4957 wd4061 wd4784 \n",
      "23\t0.00681\twd1469 wd2867 wd2562 wd1209 wd3840 wd154 wd1541 wd984 wd2006 wd1913 wd943 wd2157 wd400 wd2311 wd2344 wd4803 wd1458 wd2289 wd4437 wd1191 \n",
      "24\t0.00366\twd3349 wd300 wd3878 wd1696 wd1886 wd4482 wd2504 wd2577 wd729 wd4560 wd2286 wd3370 wd16 wd503 wd316 wd4619 wd4642 wd1898 wd1126 wd3624 \n",
      "25\t0.00612\twd3486 wd2431 wd3257 wd1235 wd215 wd1360 wd2972 wd2641 wd759 wd3943 wd142 wd1609 wd3408 wd2859 wd2653 wd4111 wd2732 wd1484 wd2710 wd1041 \n",
      "26\t0.00355\twd1706 wd2137 wd1079 wd3662 wd1818 wd3356 wd3975 wd3697 wd4413 wd283 wd1904 wd3852 wd2671 wd3445 wd2991 wd4775 wd3679 wd3376 wd3144 wd3239 \n",
      "27\t0.00746\twd280 wd2268 wd4078 wd3925 wd1068 wd1204 wd3037 wd1626 wd1439 wd4827 wd2364 wd1198 wd1830 wd3896 wd688 wd1686 wd1059 wd180 wd4429 wd2954 \n",
      "28\t0.0137\twd384 wd3179 wd1690 wd547 wd3276 wd3726 wd1070 wd1721 wd2310 wd4563 wd2173 wd632 wd4961 wd4774 wd4397 wd4200 wd4357 wd4847 wd1892 wd921 \n",
      "29\t0.00357\twd1609 wd111 wd334 wd894 wd4530 wd4171 wd4100 wd3827 wd3831 wd4610 wd2740 wd1813 wd3542 wd2847 wd2867 wd1206 wd929 wd1582 wd1672 wd1857 \n",
      "30\t0.00368\twd2507 wd137 wd4803 wd1020 wd4920 wd1264 wd3714 wd4252 wd340 wd164 wd585 wd3044 wd835 wd1711 wd4795 wd3159 wd2262 wd902 wd1112 wd3277 \n",
      "31\t0.00533\twd384 wd3179 wd1690 wd547 wd3726 wd3276 wd1070 wd2310 wd1721 wd4563 wd2173 wd632 wd4961 wd4774 wd4357 wd4397 wd4200 wd1892 wd4847 wd921 \n",
      "32\t0.00372\twd2964 wd2910 wd893 wd97 wd4485 wd2901 wd2165 wd4468 wd2487 wd3417 wd164 wd1908 wd4211 wd4441 wd1351 wd886 wd3181 wd1916 wd181 wd4833 \n",
      "33\t0.00367\twd160 wd4558 wd1678 wd1999 wd1157 wd4065 wd3355 wd1916 wd2838 wd3388 wd3 wd4824 wd181 wd212 wd4679 wd2969 wd758 wd4659 wd3726 wd3420 \n",
      "34\t0.0036\twd1139 wd3009 wd1996 wd4879 wd1988 wd1208 wd1477 wd755 wd4167 wd509 wd4427 wd3369 wd2617 wd790 wd4684 wd4097 wd340 wd789 wd934 wd3784 \n",
      "35\t0.00364\twd1692 wd588 wd4564 wd2076 wd649 wd1310 wd4648 wd2441 wd1886 wd4891 wd3666 wd133 wd2311 wd3148 wd2822 wd4512 wd651 wd2366 wd154 wd4183 \n",
      "36\t0.00344\twd1248 wd3266 wd2013 wd1451 wd1435 wd3496 wd1562 wd1103 wd462 wd3151 wd1167 wd2911 wd2049 wd1055 wd2633 wd808 wd3591 wd4182 wd437 wd1626 \n",
      "37\t0.00584\twd4783 wd4610 wd2933 wd3310 wd157 wd4432 wd28 wd3649 wd4521 wd3176 wd1091 wd3478 wd2941 wd4878 wd468 wd318 wd2329 wd3562 wd479 wd221 \n",
      "38\t0.00363\twd1874 wd1831 wd4254 wd77 wd2677 wd1031 wd3636 wd2759 wd2998 wd2932 wd3202 wd3545 wd2929 wd2630 wd1782 wd4118 wd3892 wd365 wd4151 wd1667 \n",
      "39\t0.01181\twd4337 wd188 wd4887 wd4958 wd902 wd388 wd1454 wd2902 wd282 wd2805 wd267 wd3841 wd3584 wd4604 wd205 wd4007 wd1677 wd4352 wd2714 wd4230 \n",
      "40\t0.00351\twd3224 wd630 wd1487 wd3286 wd3482 wd2880 wd241 wd3426 wd158 wd3921 wd952 wd4352 wd627 wd361 wd1833 wd2899 wd3323 wd1033 wd1971 wd3017 \n",
      "41\t0.00362\twd3621 wd1726 wd3110 wd1520 wd2882 wd3395 wd2291 wd321 wd912 wd1760 wd3941 wd3742 wd4955 wd1182 wd1776 wd427 wd4735 wd2969 wd3448 wd45 \n",
      "42\t0.00719\twd4337 wd188 wd4887 wd4958 wd902 wd1454 wd388 wd2902 wd267 wd282 wd2805 wd3584 wd3841 wd205 wd4604 wd4007 wd1677 wd4352 wd2714 wd4230 \n",
      "43\t0.00361\twd4094 wd165 wd3583 wd1336 wd4569 wd4794 wd3491 wd4388 wd1999 wd4037 wd2423 wd1300 wd1276 wd548 wd3938 wd3687 wd1939 wd3584 wd414 wd2140 \n",
      "44\t0.00054\twd2266 wd931 wd4288 wd515 wd2274 wd1228 wd962 wd4604 wd2421 wd3316 wd3089 wd4993 wd4850 wd4164 wd17 wd1315 wd4401 wd4605 wd4601 wd2889 \n",
      "45\t0.00363\twd61 wd3117 wd2907 wd781 wd2836 wd1801 wd1031 wd1095 wd3383 wd1334 wd2295 wd4461 wd1854 wd3766 wd2663 wd2182 wd2652 wd4573 wd57 wd1102 \n",
      "46\t0.00357\twd1219 wd2392 wd562 wd973 wd4579 wd2311 wd3188 wd2701 wd1915 wd3366 wd2051 wd2935 wd4759 wd220 wd3967 wd3121 wd1954 wd3145 wd2706 wd477 \n",
      "47\t0.01314\twd4783 wd4610 wd2933 wd3310 wd157 wd4432 wd28 wd3649 wd4521 wd3176 wd1091 wd2941 wd3478 wd468 wd4878 wd318 wd2329 wd3562 wd221 wd479 \n",
      "48\t0.00695\twd225 wd938 wd988 wd1880 wd2410 wd205 wd4586 wd4447 wd3251 wd1330 wd71 wd2218 wd4960 wd1654 wd2296 wd4879 wd893 wd916 wd1366 wd4838 \n",
      "49\t0.00362\twd3776 wd132 wd1361 wd224 wd2474 wd979 wd285 wd1561 wd3142 wd2182 wd4569 wd135 wd2689 wd4119 wd2122 wd1804 wd255 wd3886 wd2379 wd3729 \n",
      "\n",
      "[beta: 0.01173] \n",
      "<750> LL/token: -5.0213\n",
      "[beta: 0.01175] \n",
      "<760> LL/token: -5.02118\n",
      "[beta: 0.01176] \n",
      "<770> LL/token: -5.02111\n",
      "[beta: 0.01181] \n",
      "<780> LL/token: -5.02127\n",
      "[beta: 0.01179] \n",
      "<790> LL/token: -5.02139\n",
      "\n",
      "0\t0.00366\twd1535 wd4319 wd3749 wd622 wd109 wd2749 wd2036 wd1894 wd3899 wd904 wd1063 wd4845 wd1492 wd1962 wd4540 wd2065 wd4908 wd1217 wd2793 wd2687 \n",
      "1\t0.00347\twd4257 wd649 wd3714 wd2947 wd1760 wd2902 wd3489 wd4410 wd4854 wd3227 wd1573 wd3643 wd3725 wd4713 wd2650 wd3357 wd4162 wd3590 wd2676 wd792 \n",
      "2\t0.00359\twd3245 wd1961 wd2772 wd818 wd1192 wd1641 wd30 wd4946 wd592 wd3138 wd3497 wd3049 wd435 wd2132 wd120 wd3311 wd974 wd894 wd2511 wd674 \n",
      "3\t0.00352\twd3909 wd1371 wd2180 wd311 wd1862 wd1606 wd240 wd1373 wd1673 wd2978 wd1065 wd1813 wd1514 wd3108 wd1710 wd4163 wd2111 wd3620 wd329 wd4222 \n",
      "4\t0.0037\twd3522 wd4169 wd3607 wd2632 wd2795 wd472 wd1666 wd3037 wd4374 wd4421 wd2691 wd824 wd2504 wd3400 wd2822 wd3835 wd1432 wd980 wd4158 wd4423 \n",
      "5\t0.00324\twd2266 wd4288 wd931 wd515 wd2274 wd962 wd1228 wd4604 wd3089 wd2421 wd3316 wd4164 wd4850 wd17 wd4993 wd2889 wd1315 wd4601 wd4401 wd4605 \n",
      "6\t0.00353\twd4809 wd2505 wd1067 wd4182 wd133 wd1214 wd390 wd2461 wd3551 wd2292 wd394 wd3393 wd3496 wd689 wd4206 wd1943 wd956 wd1750 wd1559 wd753 \n",
      "7\t0.00342\twd309 wd2859 wd3519 wd1487 wd771 wd2052 wd1165 wd4592 wd1391 wd3719 wd1728 wd293 wd2200 wd967 wd3493 wd156 wd3671 wd3887 wd2424 wd3803 \n",
      "8\t0.00328\twd2927 wd1815 wd4312 wd1342 wd202 wd4409 wd2982 wd1357 wd1280 wd1748 wd2557 wd3275 wd1049 wd4077 wd4459 wd4912 wd3363 wd2382 wd919 wd315 \n",
      "9\t0.00349\twd639 wd2561 wd363 wd1075 wd2910 wd4554 wd4660 wd1866 wd2107 wd4893 wd2637 wd1927 wd4569 wd679 wd627 wd2123 wd3638 wd4267 wd3090 wd1558 \n",
      "10\t0.00764\twd3934 wd3747 wd1625 wd2222 wd1903 wd3422 wd3526 wd54 wd218 wd648 wd201 wd4773 wd2315 wd1966 wd316 wd3262 wd732 wd4061 wd4784 wd4957 \n",
      "11\t0.00676\twd3626 wd3624 wd3557 wd1541 wd1041 wd3379 wd1124 wd2247 wd1058 wd1286 wd150 wd3587 wd1471 wd807 wd1750 wd84 wd3401 wd4778 wd933 wd2881 \n",
      "12\t0.00363\twd565 wd2636 wd1795 wd1988 wd802 wd154 wd2745 wd2567 wd765 wd3559 wd3454 wd4646 wd1803 wd1760 wd2412 wd4380 wd2548 wd636 wd3004 wd619 \n",
      "13\t0.00722\twd343 wd3958 wd4577 wd4259 wd4009 wd1022 wd4531 wd757 wd2048 wd2304 wd4037 wd1757 wd4909 wd637 wd4915 wd3957 wd1865 wd144 wd1453 wd3081 \n",
      "14\t0.00754\twd1819 wd1535 wd2823 wd4479 wd418 wd4328 wd267 wd1787 wd1600 wd2165 wd881 wd3517 wd995 wd1599 wd170 wd4035 wd4644 wd824 wd3182 wd790 \n",
      "15\t0.00719\twd1796 wd4512 wd3323 wd3231 wd697 wd1257 wd2984 wd3005 wd4390 wd4580 wd674 wd3949 wd3569 wd4963 wd1818 wd4585 wd1976 wd2582 wd2995 wd2211 \n",
      "16\t0.01291\twd3486 wd2431 wd3257 wd1235 wd215 wd1360 wd2972 wd2641 wd3943 wd759 wd142 wd1609 wd3408 wd2859 wd4111 wd2653 wd1484 wd2732 wd2710 wd1041 \n",
      "17\t0.00368\twd3826 wd812 wd1703 wd2975 wd3037 wd3824 wd4160 wd1426 wd1674 wd3672 wd4151 wd3766 wd4907 wd3277 wd1727 wd2199 wd4934 wd1907 wd2328 wd1205 \n",
      "18\t0.00375\twd2310 wd2372 wd1306 wd3748 wd4241 wd939 wd1143 wd4587 wd1799 wd3441 wd3644 wd1286 wd2154 wd1742 wd1919 wd3988 wd756 wd1222 wd1338 wd4468 \n",
      "19\t0.00161\twd3934 wd3747 wd2222 wd1625 wd1903 wd3422 wd3526 wd54 wd218 wd4773 wd648 wd2315 wd201 wd732 wd316 wd3262 wd4061 wd4957 wd1966 wd4784 \n",
      "20\t0.0036\twd405 wd32 wd1226 wd3437 wd4467 wd1409 wd4954 wd2561 wd4802 wd1579 wd4306 wd3572 wd2434 wd582 wd1522 wd2690 wd4394 wd2014 wd1726 wd2760 \n",
      "21\t0.00364\twd1786 wd2511 wd560 wd2752 wd4459 wd113 wd3735 wd2820 wd3397 wd2608 wd788 wd4624 wd1425 wd4528 wd2435 wd3917 wd4095 wd3429 wd1356 wd3309 \n",
      "22\t0.0102\twd3934 wd3747 wd1625 wd2222 wd1903 wd3422 wd3526 wd648 wd54 wd218 wd4773 wd201 wd2315 wd316 wd732 wd3262 wd1966 wd4957 wd4061 wd4784 \n",
      "23\t0.00682\twd1469 wd2867 wd2562 wd1209 wd3840 wd154 wd1541 wd984 wd2006 wd1913 wd943 wd2157 wd400 wd2311 wd2344 wd4803 wd1458 wd2289 wd4437 wd1191 \n",
      "24\t0.00367\twd3349 wd300 wd3878 wd1696 wd1886 wd4482 wd2504 wd2577 wd729 wd4560 wd2286 wd3370 wd16 wd503 wd316 wd4619 wd4642 wd1898 wd1126 wd3624 \n",
      "25\t0.00616\twd3486 wd2431 wd3257 wd1235 wd215 wd1360 wd2972 wd2641 wd759 wd3943 wd142 wd1609 wd3408 wd2859 wd2653 wd4111 wd2732 wd1484 wd2710 wd1041 \n",
      "26\t0.00354\twd1706 wd2137 wd1079 wd3662 wd1818 wd3356 wd3975 wd3697 wd4413 wd283 wd1904 wd3852 wd2671 wd3445 wd2991 wd4775 wd3679 wd3376 wd3144 wd3239 \n",
      "27\t0.00746\twd280 wd2268 wd4078 wd3925 wd1068 wd1204 wd3037 wd1626 wd1439 wd4827 wd2364 wd1198 wd1830 wd3896 wd688 wd1686 wd1059 wd180 wd4429 wd2954 \n",
      "28\t0.01377\twd384 wd3179 wd1690 wd547 wd3276 wd3726 wd1070 wd1721 wd2310 wd4563 wd2173 wd632 wd4961 wd4774 wd4397 wd4200 wd4357 wd4847 wd1892 wd921 \n",
      "29\t0.00357\twd1609 wd111 wd334 wd894 wd4530 wd4171 wd4100 wd3827 wd3831 wd4610 wd2740 wd1813 wd3542 wd2847 wd2867 wd1206 wd929 wd1582 wd1672 wd1857 \n",
      "30\t0.00372\twd2507 wd137 wd4803 wd1020 wd4920 wd1264 wd3714 wd4252 wd340 wd164 wd585 wd3044 wd835 wd1711 wd4795 wd3159 wd2262 wd902 wd1112 wd3277 \n",
      "31\t0.00523\twd384 wd3179 wd1690 wd547 wd3726 wd3276 wd1070 wd1721 wd2310 wd4563 wd2173 wd632 wd4961 wd4774 wd4357 wd4397 wd4200 wd1892 wd4847 wd921 \n",
      "32\t0.00364\twd2964 wd2910 wd893 wd97 wd4485 wd2901 wd2165 wd4468 wd2487 wd3417 wd164 wd1908 wd4211 wd4441 wd1351 wd886 wd3181 wd1916 wd181 wd4833 \n",
      "33\t0.00362\twd160 wd4558 wd1678 wd1999 wd1157 wd4065 wd3355 wd1916 wd2838 wd3388 wd3 wd4824 wd181 wd212 wd4679 wd2969 wd758 wd4659 wd3726 wd3420 \n",
      "34\t0.00357\twd1139 wd3009 wd1996 wd4879 wd1988 wd1208 wd1477 wd755 wd4167 wd509 wd4427 wd3369 wd2617 wd790 wd4684 wd4097 wd340 wd789 wd934 wd3784 \n",
      "35\t0.00359\twd1692 wd588 wd4564 wd2076 wd649 wd1310 wd4648 wd2441 wd1886 wd4891 wd3666 wd133 wd2311 wd3148 wd2822 wd4512 wd651 wd2366 wd154 wd4183 \n",
      "36\t0.00342\twd1248 wd3266 wd2013 wd1451 wd1435 wd3496 wd1562 wd1103 wd462 wd3151 wd1167 wd2911 wd2049 wd1055 wd2633 wd808 wd3591 wd4182 wd437 wd1626 \n",
      "37\t0.00588\twd4783 wd4610 wd2933 wd3310 wd157 wd4432 wd28 wd3649 wd4521 wd3176 wd1091 wd3478 wd2941 wd468 wd4878 wd318 wd2329 wd3562 wd479 wd221 \n",
      "38\t0.00362\twd1874 wd1831 wd4254 wd77 wd2677 wd1031 wd3636 wd2759 wd2998 wd2932 wd3202 wd3545 wd2929 wd2630 wd1782 wd4118 wd3892 wd365 wd4151 wd1667 \n",
      "39\t0.01181\twd4337 wd188 wd4887 wd4958 wd902 wd388 wd1454 wd2902 wd282 wd2805 wd267 wd3841 wd3584 wd4604 wd205 wd4007 wd1677 wd4352 wd2714 wd4230 \n",
      "40\t0.00352\twd3224 wd630 wd1487 wd3286 wd3482 wd2880 wd241 wd3426 wd158 wd3921 wd952 wd4352 wd627 wd361 wd1833 wd2899 wd3323 wd1033 wd1971 wd3017 \n",
      "41\t0.00359\twd3621 wd1726 wd3110 wd1520 wd2882 wd3395 wd2291 wd321 wd912 wd1760 wd3941 wd3742 wd4955 wd1182 wd1776 wd427 wd4735 wd2969 wd3448 wd45 \n",
      "42\t0.007\twd4337 wd188 wd4887 wd4958 wd902 wd1454 wd388 wd2902 wd267 wd282 wd2805 wd3584 wd3841 wd205 wd4604 wd4007 wd1677 wd4352 wd2714 wd4230 \n",
      "43\t0.00357\twd4094 wd165 wd3583 wd1336 wd4569 wd4794 wd3491 wd4388 wd1999 wd4037 wd2423 wd1300 wd1276 wd548 wd3938 wd3687 wd1939 wd3584 wd414 wd2140 \n",
      "44\t0.00054\twd2266 wd931 wd4288 wd515 wd2274 wd1228 wd962 wd4604 wd2421 wd3316 wd3089 wd4993 wd4164 wd4850 wd17 wd1315 wd4605 wd4401 wd4601 wd2889 \n",
      "45\t0.00358\twd61 wd3117 wd2907 wd781 wd2836 wd1801 wd1031 wd1095 wd3383 wd1334 wd2295 wd4461 wd1854 wd3766 wd2663 wd2182 wd2652 wd4573 wd57 wd1102 \n",
      "46\t0.00361\twd1219 wd2392 wd562 wd973 wd4579 wd2311 wd3188 wd2701 wd1915 wd3366 wd2051 wd2935 wd4759 wd220 wd3967 wd3121 wd1954 wd3145 wd2706 wd477 \n",
      "47\t0.01317\twd4783 wd4610 wd2933 wd3310 wd157 wd4432 wd28 wd3649 wd4521 wd3176 wd1091 wd2941 wd3478 wd468 wd4878 wd318 wd2329 wd3562 wd221 wd479 \n",
      "48\t0.00695\twd225 wd938 wd988 wd1880 wd2410 wd205 wd4586 wd4447 wd3251 wd1330 wd71 wd2218 wd4960 wd1654 wd2296 wd4879 wd893 wd916 wd1366 wd4838 \n",
      "49\t0.00367\twd3776 wd132 wd1361 wd224 wd2474 wd979 wd285 wd1561 wd3142 wd2182 wd4569 wd135 wd2689 wd4119 wd2122 wd1804 wd255 wd3886 wd2379 wd3729 \n",
      "\n"
     ]
    },
    {
     "name": "stderr",
     "output_type": "stream",
     "text": [
      "[beta: 0.01178] \n",
      "<800> LL/token: -5.02149\n",
      "[beta: 0.01173] \n",
      "<810> LL/token: -5.02162\n",
      "[beta: 0.01175] \n",
      "<820> LL/token: -5.02141\n",
      "[beta: 0.01181] \n",
      "<830> LL/token: -5.02146\n",
      "[beta: 0.01175] \n",
      "<840> LL/token: -5.02165\n",
      "\n",
      "0\t0.00364\twd1535 wd4319 wd3749 wd622 wd109 wd2749 wd2036 wd1894 wd3899 wd904 wd1063 wd4845 wd1492 wd1962 wd4540 wd2065 wd4908 wd1217 wd2793 wd2687 \n",
      "1\t0.00347\twd4257 wd649 wd3714 wd2947 wd1760 wd2902 wd3489 wd4410 wd4854 wd3227 wd1573 wd3643 wd3725 wd4713 wd2650 wd3357 wd4162 wd3590 wd2676 wd792 \n",
      "2\t0.00357\twd3245 wd1961 wd2772 wd818 wd1192 wd1641 wd30 wd4946 wd592 wd3138 wd3497 wd3049 wd435 wd120 wd2132 wd3311 wd974 wd894 wd2511 wd674 \n",
      "3\t0.00351\twd3909 wd1371 wd2180 wd311 wd1862 wd1606 wd240 wd1373 wd1673 wd2978 wd1065 wd1813 wd3108 wd1514 wd1710 wd4163 wd2111 wd3620 wd329 wd4222 \n",
      "4\t0.00372\twd3522 wd4169 wd3607 wd2632 wd2795 wd472 wd1666 wd3037 wd4374 wd4421 wd2691 wd824 wd2504 wd3400 wd2822 wd3835 wd1432 wd980 wd4158 wd4423 \n",
      "5\t0.00326\twd2266 wd4288 wd931 wd515 wd2274 wd962 wd1228 wd4604 wd3089 wd2421 wd3316 wd4164 wd17 wd4850 wd4993 wd2889 wd1315 wd4601 wd4401 wd4605 \n",
      "6\t0.00354\twd4809 wd2505 wd1067 wd4182 wd133 wd1214 wd390 wd2461 wd3551 wd2292 wd394 wd3393 wd3496 wd689 wd4206 wd1943 wd956 wd1750 wd1559 wd753 \n",
      "7\t0.00347\twd309 wd2859 wd3519 wd1487 wd771 wd2052 wd1165 wd4592 wd1391 wd3719 wd1728 wd293 wd2200 wd967 wd3493 wd156 wd3671 wd3887 wd2424 wd3803 \n",
      "8\t0.00329\twd2927 wd1815 wd4312 wd1342 wd202 wd4409 wd2982 wd1357 wd1280 wd1748 wd2557 wd3275 wd1049 wd4077 wd4459 wd4912 wd3363 wd2382 wd919 wd361 \n",
      "9\t0.00348\twd639 wd2561 wd363 wd1075 wd2910 wd4554 wd4660 wd1866 wd2107 wd4893 wd2637 wd1927 wd4569 wd679 wd627 wd2123 wd3638 wd4267 wd3090 wd1558 \n",
      "10\t0.00772\twd3934 wd3747 wd1625 wd2222 wd1903 wd3422 wd3526 wd54 wd648 wd218 wd201 wd4773 wd2315 wd1966 wd316 wd3262 wd732 wd4061 wd4784 wd4957 \n",
      "11\t0.00674\twd3626 wd3624 wd3557 wd1541 wd1041 wd3379 wd1124 wd2247 wd1058 wd1286 wd150 wd3587 wd1471 wd807 wd1750 wd84 wd3401 wd4778 wd933 wd2881 \n",
      "12\t0.00362\twd565 wd2636 wd1795 wd1988 wd802 wd154 wd2745 wd2567 wd765 wd3559 wd3454 wd4646 wd1803 wd1760 wd2412 wd2548 wd4380 wd636 wd3004 wd619 \n",
      "13\t0.00724\twd343 wd3958 wd4577 wd4259 wd4009 wd1022 wd4531 wd757 wd2048 wd2304 wd4037 wd1757 wd4909 wd637 wd4915 wd3957 wd1865 wd144 wd1453 wd3081 \n",
      "14\t0.0075\twd1819 wd1535 wd2823 wd4479 wd418 wd4328 wd267 wd1787 wd1600 wd2165 wd881 wd3517 wd995 wd1599 wd170 wd4035 wd4644 wd824 wd3182 wd790 \n",
      "15\t0.0072\twd1796 wd4512 wd3323 wd3231 wd697 wd1257 wd2984 wd3005 wd4390 wd4580 wd674 wd3949 wd3569 wd4963 wd1818 wd4585 wd1976 wd2582 wd2995 wd2211 \n",
      "16\t0.013\twd3486 wd2431 wd3257 wd1235 wd215 wd1360 wd2972 wd2641 wd3943 wd759 wd142 wd1609 wd3408 wd2859 wd4111 wd2653 wd1484 wd2732 wd2710 wd1041 \n",
      "17\t0.00366\twd3826 wd812 wd1703 wd2975 wd3037 wd3824 wd4160 wd1426 wd1674 wd3672 wd4151 wd3766 wd4907 wd3277 wd1727 wd2199 wd4934 wd1907 wd2328 wd1205 \n",
      "18\t0.00371\twd2310 wd2372 wd1306 wd3748 wd4241 wd939 wd1143 wd4587 wd1799 wd3441 wd3644 wd1286 wd2154 wd1742 wd1919 wd3988 wd756 wd1222 wd1338 wd4468 \n",
      "19\t0.00153\twd3934 wd3747 wd2222 wd1625 wd1903 wd3422 wd3526 wd54 wd218 wd648 wd4773 wd2315 wd201 wd732 wd3262 wd316 wd4061 wd4957 wd1966 wd4784 \n",
      "20\t0.00364\twd405 wd32 wd1226 wd3437 wd4467 wd1409 wd4954 wd2561 wd4802 wd1579 wd4306 wd3572 wd2434 wd582 wd1522 wd2690 wd4394 wd2014 wd1726 wd2760 \n",
      "21\t0.00367\twd1786 wd2511 wd560 wd2752 wd4459 wd113 wd3735 wd2820 wd3397 wd2608 wd788 wd4624 wd1425 wd4528 wd2435 wd3917 wd4095 wd3429 wd1356 wd3309 \n",
      "22\t0.01022\twd3934 wd3747 wd1625 wd2222 wd1903 wd3422 wd3526 wd54 wd648 wd218 wd4773 wd201 wd2315 wd316 wd732 wd3262 wd1966 wd4957 wd4061 wd4784 \n",
      "23\t0.00679\twd1469 wd2867 wd2562 wd1209 wd3840 wd154 wd1541 wd984 wd2006 wd1913 wd943 wd2157 wd400 wd2311 wd2344 wd4803 wd1458 wd2289 wd4437 wd1191 \n",
      "24\t0.00366\twd3349 wd300 wd3878 wd1696 wd1886 wd4482 wd2504 wd2577 wd729 wd4560 wd2286 wd3370 wd16 wd503 wd316 wd4619 wd4642 wd1898 wd1126 wd3624 \n",
      "25\t0.0061\twd3486 wd2431 wd3257 wd1235 wd215 wd1360 wd2972 wd2641 wd759 wd3943 wd142 wd1609 wd3408 wd2859 wd2653 wd4111 wd2732 wd1484 wd1041 wd2710 \n",
      "26\t0.00354\twd1706 wd2137 wd1079 wd3662 wd1818 wd3356 wd3975 wd3697 wd4413 wd283 wd1904 wd3852 wd2671 wd3445 wd2991 wd4775 wd3679 wd3376 wd3144 wd3239 \n",
      "27\t0.00752\twd280 wd2268 wd4078 wd3925 wd1068 wd1204 wd3037 wd1626 wd1439 wd4827 wd2364 wd1198 wd1830 wd3896 wd688 wd1686 wd1059 wd180 wd4429 wd2954 \n",
      "28\t0.01382\twd384 wd3179 wd1690 wd547 wd3276 wd3726 wd1070 wd1721 wd2310 wd4563 wd2173 wd632 wd4961 wd4774 wd4397 wd4200 wd4357 wd4847 wd1892 wd921 \n",
      "29\t0.00355\twd1609 wd111 wd894 wd334 wd4530 wd4171 wd4100 wd3827 wd3831 wd4610 wd2740 wd1813 wd3542 wd2847 wd2867 wd1206 wd929 wd1582 wd1672 wd1857 \n",
      "30\t0.00364\twd2507 wd137 wd4803 wd1020 wd4920 wd1264 wd3714 wd4252 wd340 wd164 wd585 wd835 wd3044 wd1711 wd4795 wd3159 wd2262 wd902 wd1112 wd3277 \n",
      "31\t0.00527\twd384 wd3179 wd1690 wd547 wd3726 wd3276 wd1070 wd2310 wd1721 wd4563 wd2173 wd632 wd4961 wd4774 wd4357 wd4397 wd4200 wd1892 wd4847 wd921 \n",
      "32\t0.00366\twd2964 wd2910 wd893 wd97 wd4485 wd2901 wd2165 wd4468 wd2487 wd3417 wd164 wd1908 wd4211 wd4441 wd1351 wd886 wd3181 wd1916 wd181 wd4833 \n",
      "33\t0.0036\twd160 wd4558 wd1678 wd1999 wd1157 wd4065 wd3355 wd1916 wd2838 wd3388 wd3 wd4824 wd181 wd212 wd4679 wd2969 wd758 wd4659 wd3726 wd3420 \n",
      "34\t0.00364\twd1139 wd3009 wd1996 wd4879 wd1988 wd1208 wd1477 wd755 wd4167 wd509 wd4427 wd3369 wd2617 wd790 wd4684 wd4097 wd340 wd789 wd934 wd3784 \n",
      "35\t0.00357\twd1692 wd588 wd4564 wd2076 wd649 wd1310 wd4648 wd2441 wd1886 wd4891 wd3666 wd133 wd2311 wd3148 wd2822 wd4512 wd651 wd2366 wd154 wd4183 \n",
      "36\t0.00343\twd1248 wd3266 wd2013 wd1451 wd1435 wd3496 wd1562 wd1103 wd462 wd3151 wd1167 wd2911 wd2049 wd1055 wd2633 wd808 wd3591 wd4182 wd437 wd1626 \n",
      "37\t0.00584\twd4783 wd4610 wd2933 wd3310 wd157 wd4432 wd28 wd3649 wd4521 wd3176 wd1091 wd3478 wd2941 wd4878 wd468 wd2329 wd318 wd3562 wd479 wd221 \n",
      "38\t0.00366\twd1874 wd1831 wd4254 wd77 wd2677 wd1031 wd3636 wd2759 wd2998 wd2932 wd3202 wd3545 wd2929 wd2630 wd1782 wd4118 wd3892 wd365 wd4151 wd1667 \n",
      "39\t0.01186\twd4337 wd188 wd4887 wd4958 wd902 wd388 wd1454 wd2902 wd282 wd2805 wd267 wd3841 wd3584 wd4604 wd205 wd4007 wd1677 wd4352 wd2714 wd4230 \n",
      "40\t0.00351\twd3224 wd630 wd1487 wd3286 wd3482 wd2880 wd241 wd3426 wd158 wd3921 wd952 wd4352 wd627 wd361 wd1833 wd2899 wd3323 wd1033 wd1971 wd3017 \n",
      "41\t0.00363\twd3621 wd1726 wd3110 wd1520 wd2882 wd3395 wd2291 wd321 wd912 wd1760 wd3941 wd3742 wd4955 wd1182 wd1776 wd427 wd4735 wd2969 wd3448 wd45 \n",
      "42\t0.00709\twd4337 wd188 wd4887 wd4958 wd902 wd1454 wd388 wd2902 wd267 wd282 wd2805 wd3584 wd3841 wd205 wd4604 wd4007 wd1677 wd4352 wd2714 wd4230 \n",
      "43\t0.00357\twd4094 wd165 wd3583 wd1336 wd4569 wd4794 wd3491 wd4388 wd1999 wd4037 wd2423 wd1300 wd1276 wd548 wd3938 wd3687 wd1939 wd3584 wd414 wd2140 \n",
      "44\t0.00051\twd2266 wd931 wd515 wd4288 wd2274 wd1228 wd962 wd4604 wd2421 wd3316 wd3089 wd4993 wd4850 wd4164 wd1315 wd17 wd4401 wd4605 wd4601 wd2889 \n",
      "45\t0.00362\twd61 wd3117 wd2907 wd781 wd2836 wd1801 wd1031 wd1095 wd3383 wd1334 wd2295 wd4461 wd1854 wd3766 wd2663 wd2182 wd2652 wd4573 wd57 wd1102 \n",
      "46\t0.00356\twd1219 wd2392 wd562 wd973 wd4579 wd2311 wd3188 wd2701 wd1915 wd3366 wd2051 wd2935 wd4759 wd220 wd3967 wd3121 wd1954 wd3145 wd2706 wd477 \n",
      "47\t0.01322\twd4783 wd4610 wd2933 wd3310 wd157 wd4432 wd28 wd3649 wd4521 wd3176 wd1091 wd2941 wd3478 wd468 wd4878 wd318 wd2329 wd3562 wd221 wd479 \n",
      "48\t0.00697\twd225 wd938 wd988 wd1880 wd2410 wd205 wd4586 wd4447 wd3251 wd1330 wd71 wd2218 wd4960 wd1654 wd2296 wd4879 wd893 wd916 wd1366 wd4838 \n",
      "49\t0.00364\twd3776 wd132 wd1361 wd224 wd2474 wd979 wd285 wd1561 wd3142 wd2182 wd4569 wd135 wd2689 wd4119 wd2122 wd1804 wd3886 wd255 wd2379 wd3729 \n",
      "\n",
      "[beta: 0.01181] \n",
      "<850> LL/token: -5.02161\n",
      "[beta: 0.01174] \n",
      "<860> LL/token: -5.02166\n",
      "[beta: 0.01173] \n",
      "<870> LL/token: -5.02175\n",
      "[beta: 0.01172] \n",
      "<880> LL/token: -5.02177\n",
      "[beta: 0.01174] \n",
      "<890> LL/token: -5.02171\n",
      "\n",
      "0\t0.0037\twd1535 wd4319 wd3749 wd622 wd109 wd2749 wd2036 wd1894 wd3899 wd904 wd1063 wd4845 wd1492 wd1962 wd4540 wd2065 wd4908 wd1217 wd2793 wd2687 \n",
      "1\t0.00348\twd4257 wd649 wd3714 wd2947 wd1760 wd2902 wd3489 wd4410 wd4854 wd3227 wd1573 wd3643 wd3725 wd4713 wd2650 wd3357 wd4162 wd3590 wd2676 wd792 \n",
      "2\t0.00358\twd3245 wd1961 wd2772 wd818 wd1192 wd1641 wd30 wd4946 wd592 wd3138 wd3497 wd3049 wd435 wd120 wd2132 wd3311 wd974 wd894 wd2511 wd674 \n",
      "3\t0.00349\twd3909 wd1371 wd2180 wd311 wd1862 wd1606 wd240 wd1373 wd1673 wd2978 wd1065 wd1813 wd3108 wd1514 wd1710 wd4163 wd2111 wd3620 wd329 wd4222 \n",
      "4\t0.00372\twd3522 wd4169 wd3607 wd2632 wd2795 wd472 wd1666 wd3037 wd4374 wd4421 wd2691 wd824 wd2504 wd3400 wd2822 wd3835 wd1432 wd980 wd4158 wd4423 \n",
      "5\t0.0033\twd2266 wd4288 wd931 wd515 wd2274 wd962 wd1228 wd4604 wd3089 wd2421 wd3316 wd4164 wd4850 wd17 wd4993 wd2889 wd1315 wd4601 wd4401 wd4605 \n",
      "6\t0.00353\twd4809 wd2505 wd1067 wd4182 wd133 wd1214 wd390 wd2461 wd3551 wd2292 wd394 wd3393 wd3496 wd689 wd4206 wd956 wd1943 wd1750 wd1559 wd753 \n",
      "7\t0.00342\twd309 wd2859 wd3519 wd1487 wd771 wd2052 wd1165 wd4592 wd1391 wd3719 wd1728 wd293 wd2200 wd967 wd3493 wd156 wd3671 wd3887 wd2424 wd3803 \n",
      "8\t0.00332\twd2927 wd1815 wd4312 wd1342 wd202 wd4409 wd2982 wd1357 wd1280 wd1748 wd2557 wd3275 wd1049 wd4077 wd4459 wd4912 wd3363 wd2382 wd919 wd315 \n",
      "9\t0.0035\twd639 wd2561 wd363 wd1075 wd2910 wd4554 wd4660 wd1866 wd2107 wd4893 wd2637 wd1927 wd4569 wd679 wd627 wd2123 wd3638 wd4267 wd3090 wd1558 \n",
      "10\t0.00763\twd3934 wd3747 wd1625 wd2222 wd1903 wd3422 wd3526 wd54 wd648 wd218 wd201 wd4773 wd2315 wd1966 wd316 wd3262 wd732 wd4784 wd4061 wd4957 \n",
      "11\t0.00671\twd3626 wd3624 wd3557 wd1541 wd1041 wd3379 wd1124 wd2247 wd1286 wd1058 wd150 wd3587 wd1471 wd807 wd1750 wd84 wd3401 wd4778 wd933 wd2881 \n",
      "12\t0.00361\twd565 wd2636 wd1795 wd1988 wd802 wd154 wd2745 wd2567 wd765 wd3559 wd3454 wd4646 wd1803 wd1760 wd2412 wd4380 wd2548 wd636 wd3004 wd619 \n",
      "13\t0.00721\twd343 wd3958 wd4577 wd4259 wd4009 wd1022 wd4531 wd757 wd2048 wd2304 wd4037 wd1757 wd4909 wd637 wd4915 wd3957 wd1865 wd144 wd1453 wd3081 \n",
      "14\t0.00755\twd1819 wd1535 wd2823 wd4479 wd418 wd4328 wd267 wd1787 wd1600 wd2165 wd881 wd3517 wd995 wd1599 wd170 wd4035 wd4644 wd824 wd3182 wd790 \n",
      "15\t0.0072\twd1796 wd4512 wd3323 wd3231 wd697 wd1257 wd2984 wd3005 wd4390 wd4580 wd674 wd3949 wd3569 wd4963 wd1818 wd4585 wd1976 wd2582 wd2995 wd2211 \n",
      "16\t0.01299\twd3486 wd2431 wd3257 wd1235 wd215 wd1360 wd2972 wd2641 wd3943 wd759 wd142 wd1609 wd3408 wd2859 wd4111 wd2653 wd1484 wd2732 wd2710 wd1041 \n",
      "17\t0.00367\twd3826 wd812 wd1703 wd2975 wd3037 wd3824 wd4160 wd1426 wd1674 wd3672 wd4151 wd3766 wd4907 wd3277 wd1727 wd2199 wd4934 wd1907 wd2328 wd1205 \n",
      "18\t0.00371\twd2310 wd2372 wd1306 wd3748 wd4241 wd939 wd1143 wd4587 wd1799 wd3441 wd3644 wd1286 wd2154 wd1742 wd3988 wd1919 wd756 wd1222 wd1338 wd4468 \n",
      "19\t0.0015\twd3934 wd3747 wd2222 wd1625 wd1903 wd3422 wd3526 wd54 wd648 wd4773 wd218 wd2315 wd201 wd316 wd732 wd3262 wd4061 wd4957 wd1966 wd4784 \n",
      "20\t0.00362\twd405 wd32 wd1226 wd3437 wd4467 wd1409 wd4954 wd2561 wd4802 wd1579 wd4306 wd3572 wd2434 wd582 wd1522 wd2690 wd4394 wd2014 wd1726 wd2760 \n",
      "21\t0.00366\twd1786 wd2511 wd560 wd2752 wd4459 wd113 wd3735 wd2820 wd3397 wd2608 wd788 wd4624 wd1425 wd4528 wd2435 wd3917 wd4095 wd3429 wd1356 wd3309 \n",
      "22\t0.01034\twd3934 wd3747 wd1625 wd2222 wd1903 wd3422 wd3526 wd54 wd648 wd218 wd4773 wd201 wd2315 wd316 wd732 wd3262 wd1966 wd4957 wd4061 wd4784 \n",
      "23\t0.00678\twd1469 wd2867 wd2562 wd1209 wd3840 wd154 wd1541 wd984 wd2006 wd1913 wd943 wd2157 wd400 wd2311 wd2344 wd4803 wd1458 wd2289 wd4437 wd1191 \n",
      "24\t0.00366\twd3349 wd300 wd3878 wd1696 wd1886 wd4482 wd2504 wd2577 wd729 wd4560 wd2286 wd3370 wd16 wd503 wd316 wd4619 wd4642 wd1898 wd1126 wd3624 \n",
      "25\t0.0062\twd3486 wd2431 wd3257 wd1235 wd215 wd1360 wd2972 wd2641 wd759 wd3943 wd142 wd1609 wd3408 wd2859 wd2732 wd4111 wd2653 wd1484 wd1041 wd3085 \n",
      "26\t0.00353\twd1706 wd2137 wd1079 wd3662 wd1818 wd3356 wd3975 wd3697 wd4413 wd283 wd1904 wd3852 wd2671 wd3445 wd2991 wd4775 wd3679 wd3376 wd3144 wd3239 \n",
      "27\t0.00746\twd280 wd2268 wd4078 wd3925 wd1068 wd1204 wd3037 wd1626 wd1439 wd4827 wd2364 wd1198 wd1830 wd3896 wd688 wd1686 wd1059 wd180 wd4429 wd2954 \n",
      "28\t0.0137\twd384 wd3179 wd1690 wd547 wd3276 wd3726 wd1070 wd1721 wd2310 wd4563 wd2173 wd632 wd4961 wd4774 wd4397 wd4200 wd4357 wd4847 wd1892 wd921 \n",
      "29\t0.00359\twd1609 wd111 wd894 wd334 wd4530 wd4171 wd4100 wd3827 wd3831 wd4610 wd2740 wd1813 wd3542 wd2847 wd2867 wd1206 wd929 wd1582 wd1672 wd1857 \n",
      "30\t0.00369\twd2507 wd137 wd4803 wd1020 wd4920 wd1264 wd3714 wd4252 wd340 wd164 wd585 wd3044 wd835 wd1711 wd4795 wd3159 wd902 wd2262 wd1112 wd3277 \n",
      "31\t0.00525\twd384 wd3179 wd1690 wd547 wd3276 wd3726 wd1070 wd1721 wd2310 wd4563 wd2173 wd632 wd4961 wd4774 wd4357 wd4397 wd4200 wd1892 wd4847 wd921 \n",
      "32\t0.00368\twd2964 wd2910 wd893 wd97 wd4485 wd2165 wd2901 wd4468 wd2487 wd3417 wd164 wd1908 wd4211 wd4441 wd1351 wd886 wd3181 wd1916 wd181 wd4833 \n",
      "33\t0.00361\twd160 wd4558 wd1678 wd1999 wd1157 wd4065 wd3355 wd1916 wd2838 wd3388 wd3 wd4824 wd181 wd212 wd2969 wd4679 wd758 wd4659 wd3726 wd3420 \n",
      "34\t0.00359\twd1139 wd3009 wd1996 wd4879 wd1988 wd1208 wd1477 wd755 wd4167 wd509 wd4427 wd3369 wd2617 wd790 wd4684 wd4097 wd340 wd789 wd934 wd3784 \n",
      "35\t0.00364\twd1692 wd588 wd4564 wd2076 wd649 wd1310 wd4648 wd2441 wd1886 wd4891 wd3666 wd133 wd2311 wd3148 wd2822 wd4512 wd651 wd2366 wd154 wd4183 \n",
      "36\t0.00347\twd1248 wd3266 wd2013 wd1451 wd1435 wd3496 wd1562 wd1103 wd462 wd3151 wd1167 wd2911 wd2049 wd1055 wd2633 wd808 wd3591 wd4182 wd437 wd1626 \n",
      "37\t0.00578\twd4783 wd4610 wd2933 wd3310 wd157 wd4432 wd28 wd3649 wd4521 wd3176 wd1091 wd3478 wd2941 wd4878 wd468 wd318 wd2329 wd3562 wd479 wd221 \n",
      "38\t0.00373\twd1874 wd1831 wd4254 wd77 wd2677 wd1031 wd3636 wd2759 wd2998 wd2932 wd3202 wd3545 wd2929 wd2630 wd1782 wd4118 wd3892 wd365 wd4151 wd1667 \n",
      "39\t0.01192\twd4337 wd188 wd4887 wd4958 wd902 wd388 wd1454 wd2902 wd282 wd2805 wd267 wd3841 wd3584 wd205 wd4604 wd4007 wd1677 wd4352 wd2714 wd4230 \n",
      "40\t0.00352\twd3224 wd630 wd1487 wd3286 wd3482 wd2880 wd241 wd3426 wd158 wd3921 wd952 wd4352 wd627 wd361 wd1833 wd2899 wd3323 wd1033 wd1971 wd3017 \n",
      "41\t0.00362\twd3621 wd1726 wd3110 wd1520 wd2882 wd3395 wd2291 wd321 wd912 wd1760 wd3941 wd3742 wd4955 wd1182 wd1776 wd427 wd4735 wd2969 wd3448 wd45 \n",
      "42\t0.00709\twd4337 wd188 wd4887 wd4958 wd902 wd1454 wd388 wd2902 wd267 wd282 wd2805 wd3584 wd3841 wd205 wd4604 wd4007 wd1677 wd4352 wd2714 wd4230 \n",
      "43\t0.00362\twd4094 wd165 wd3583 wd1336 wd4569 wd4794 wd3491 wd4388 wd1999 wd4037 wd2423 wd1300 wd1276 wd548 wd3938 wd3687 wd1939 wd3584 wd414 wd2140 \n",
      "44\t0.00047\twd2266 wd931 wd4288 wd515 wd2274 wd1228 wd962 wd4604 wd2421 wd3316 wd3089 wd4993 wd4850 wd4164 wd1315 wd17 wd4605 wd4401 wd4601 wd3877 \n",
      "45\t0.00359\twd61 wd3117 wd2907 wd781 wd2836 wd1801 wd1031 wd1095 wd3383 wd1334 wd2295 wd4461 wd1854 wd3766 wd2663 wd2182 wd2652 wd4573 wd57 wd1102 \n",
      "46\t0.00361\twd1219 wd2392 wd562 wd973 wd4579 wd2311 wd3188 wd2701 wd1915 wd3366 wd2051 wd2935 wd4759 wd220 wd3967 wd3121 wd1954 wd3145 wd2706 wd477 \n",
      "47\t0.01328\twd4783 wd4610 wd2933 wd3310 wd157 wd4432 wd28 wd3649 wd4521 wd3176 wd1091 wd2941 wd3478 wd468 wd4878 wd318 wd2329 wd3562 wd221 wd479 \n",
      "48\t0.00696\twd225 wd938 wd988 wd1880 wd2410 wd205 wd4586 wd4447 wd3251 wd1330 wd71 wd2218 wd4960 wd1654 wd2296 wd4879 wd893 wd916 wd1366 wd4838 \n",
      "49\t0.00364\twd3776 wd132 wd1361 wd224 wd2474 wd979 wd285 wd1561 wd3142 wd2182 wd4569 wd135 wd2689 wd4119 wd2122 wd1804 wd3886 wd255 wd2379 wd3729 \n",
      "\n"
     ]
    },
    {
     "name": "stderr",
     "output_type": "stream",
     "text": [
      "[beta: 0.0117] \n",
      "<900> LL/token: -5.0217\n",
      "[beta: 0.01175] \n",
      "<910> LL/token: -5.0217\n",
      "[beta: 0.01178] \n",
      "<920> LL/token: -5.02139\n",
      "[beta: 0.01178] \n",
      "<930> LL/token: -5.02156\n",
      "[beta: 0.01176] \n",
      "<940> LL/token: -5.0214\n",
      "\n",
      "0\t0.00366\twd1535 wd4319 wd3749 wd622 wd109 wd2749 wd2036 wd1894 wd3899 wd904 wd1063 wd4845 wd1492 wd1962 wd4540 wd2065 wd4908 wd1217 wd2793 wd2687 \n",
      "1\t0.00349\twd4257 wd649 wd3714 wd2947 wd1760 wd2902 wd3489 wd4410 wd4854 wd3227 wd1573 wd3643 wd3725 wd4713 wd2650 wd3357 wd4162 wd3590 wd2676 wd792 \n",
      "2\t0.0036\twd3245 wd1961 wd2772 wd818 wd1192 wd1641 wd30 wd4946 wd592 wd3138 wd3497 wd3049 wd435 wd2132 wd120 wd3311 wd974 wd894 wd2511 wd674 \n",
      "3\t0.00347\twd3909 wd1371 wd2180 wd311 wd1862 wd1606 wd240 wd1373 wd1673 wd2978 wd1065 wd1813 wd1514 wd3108 wd1710 wd4163 wd2111 wd3620 wd329 wd4222 \n",
      "4\t0.00374\twd3522 wd4169 wd3607 wd2632 wd2795 wd472 wd1666 wd3037 wd4374 wd4421 wd2691 wd824 wd2504 wd3400 wd2822 wd3835 wd1432 wd980 wd4158 wd4423 \n",
      "5\t0.00331\twd2266 wd4288 wd931 wd515 wd2274 wd962 wd1228 wd4604 wd3089 wd2421 wd3316 wd4164 wd17 wd4993 wd4850 wd2889 wd1315 wd4601 wd4401 wd4605 \n",
      "6\t0.00355\twd4809 wd2505 wd1067 wd4182 wd133 wd1214 wd390 wd2461 wd3551 wd2292 wd394 wd3393 wd3496 wd689 wd4206 wd956 wd1943 wd1750 wd1559 wd753 \n",
      "7\t0.00349\twd309 wd2859 wd3519 wd1487 wd771 wd2052 wd1165 wd4592 wd1391 wd3719 wd1728 wd293 wd2200 wd967 wd3493 wd156 wd3671 wd3887 wd2424 wd3803 \n",
      "8\t0.0033\twd2927 wd1815 wd4312 wd1342 wd202 wd4409 wd2982 wd1357 wd1280 wd1748 wd2557 wd3275 wd1049 wd4077 wd4912 wd4459 wd3363 wd2382 wd919 wd315 \n",
      "9\t0.00357\twd639 wd2561 wd363 wd1075 wd2910 wd4554 wd4660 wd1866 wd2107 wd4893 wd2637 wd1927 wd4569 wd679 wd627 wd2123 wd3638 wd4267 wd3090 wd1558 \n",
      "10\t0.00758\twd3934 wd3747 wd1625 wd2222 wd1903 wd3422 wd3526 wd54 wd218 wd648 wd201 wd4773 wd2315 wd1966 wd316 wd3262 wd732 wd4784 wd4061 wd4957 \n",
      "11\t0.00669\twd3626 wd3624 wd3557 wd1541 wd1041 wd3379 wd1124 wd2247 wd1286 wd1058 wd150 wd3587 wd1471 wd807 wd1750 wd84 wd3401 wd4778 wd933 wd2881 \n",
      "12\t0.00363\twd565 wd2636 wd1795 wd1988 wd802 wd154 wd2745 wd2567 wd765 wd3559 wd3454 wd4646 wd1803 wd1760 wd2412 wd4380 wd2548 wd636 wd3004 wd619 \n",
      "13\t0.00721\twd343 wd3958 wd4577 wd4259 wd4009 wd1022 wd4531 wd757 wd2048 wd2304 wd4037 wd1757 wd4909 wd637 wd4915 wd3957 wd1865 wd144 wd1453 wd3081 \n",
      "14\t0.0075\twd1819 wd1535 wd2823 wd4479 wd418 wd4328 wd267 wd1787 wd1600 wd2165 wd881 wd3517 wd995 wd1599 wd170 wd4035 wd4644 wd824 wd3182 wd790 \n",
      "15\t0.00723\twd1796 wd4512 wd3323 wd3231 wd697 wd1257 wd2984 wd3005 wd4390 wd4580 wd674 wd3949 wd3569 wd4963 wd1818 wd4585 wd1976 wd2582 wd2995 wd2211 \n",
      "16\t0.01302\twd3486 wd2431 wd3257 wd1235 wd215 wd1360 wd2972 wd2641 wd3943 wd759 wd142 wd1609 wd3408 wd2859 wd4111 wd2653 wd1484 wd2732 wd2710 wd1041 \n",
      "17\t0.00366\twd3826 wd812 wd1703 wd2975 wd3037 wd3824 wd4160 wd1426 wd1674 wd3672 wd4151 wd3766 wd4907 wd3277 wd1727 wd2199 wd4934 wd1907 wd2328 wd1205 \n",
      "18\t0.00371\twd2310 wd2372 wd1306 wd3748 wd4241 wd939 wd1143 wd4587 wd1799 wd3441 wd3644 wd1286 wd2154 wd1742 wd1919 wd3988 wd756 wd1222 wd1338 wd4468 \n",
      "19\t0.00147\twd3934 wd3747 wd2222 wd1625 wd1903 wd3422 wd3526 wd54 wd218 wd648 wd4773 wd2315 wd201 wd732 wd316 wd4061 wd3262 wd4957 wd1966 wd4784 \n",
      "20\t0.00362\twd405 wd32 wd1226 wd3437 wd4467 wd1409 wd4954 wd2561 wd4802 wd1579 wd4306 wd3572 wd2434 wd582 wd1522 wd2690 wd4394 wd2014 wd1726 wd2760 \n",
      "21\t0.00368\twd1786 wd2511 wd560 wd2752 wd4459 wd113 wd3735 wd2820 wd3397 wd2608 wd788 wd4624 wd1425 wd4528 wd2435 wd3917 wd4095 wd3429 wd1356 wd3309 \n",
      "22\t0.01032\twd3934 wd3747 wd1625 wd2222 wd1903 wd3422 wd3526 wd54 wd648 wd218 wd4773 wd201 wd2315 wd316 wd732 wd3262 wd1966 wd4957 wd4061 wd4784 \n",
      "23\t0.00679\twd1469 wd2867 wd2562 wd1209 wd3840 wd154 wd1541 wd984 wd2006 wd1913 wd943 wd2157 wd400 wd2311 wd2344 wd4803 wd1458 wd2289 wd4437 wd1191 \n",
      "24\t0.00364\twd3349 wd300 wd3878 wd1696 wd1886 wd4482 wd2504 wd2577 wd729 wd4560 wd2286 wd3370 wd16 wd503 wd316 wd4619 wd4642 wd1898 wd1126 wd3624 \n",
      "25\t0.00612\twd3486 wd2431 wd3257 wd1235 wd215 wd1360 wd2972 wd2641 wd759 wd3943 wd142 wd1609 wd3408 wd2859 wd4111 wd2732 wd2653 wd1484 wd1041 wd3085 \n",
      "26\t0.00355\twd1706 wd2137 wd1079 wd3662 wd1818 wd3356 wd3975 wd3697 wd4413 wd283 wd1904 wd3852 wd2671 wd3445 wd2991 wd4775 wd3679 wd3376 wd3144 wd3239 \n",
      "27\t0.00748\twd280 wd2268 wd4078 wd3925 wd1068 wd1204 wd3037 wd1626 wd1439 wd4827 wd2364 wd1198 wd1830 wd3896 wd688 wd1686 wd1059 wd180 wd4429 wd2954 \n",
      "28\t0.0137\twd384 wd3179 wd1690 wd547 wd3276 wd3726 wd1070 wd1721 wd2310 wd4563 wd2173 wd632 wd4961 wd4774 wd4397 wd4200 wd4357 wd4847 wd1892 wd921 \n",
      "29\t0.00358\twd1609 wd111 wd894 wd334 wd4530 wd4171 wd4100 wd3827 wd3831 wd4610 wd2740 wd1813 wd3542 wd2847 wd2867 wd1206 wd929 wd1582 wd1672 wd1857 \n",
      "30\t0.00365\twd2507 wd137 wd4803 wd1020 wd4920 wd1264 wd3714 wd4252 wd340 wd164 wd585 wd3044 wd835 wd1711 wd4795 wd3159 wd2262 wd902 wd1112 wd3277 \n",
      "31\t0.00528\twd384 wd3179 wd1690 wd547 wd3726 wd3276 wd1070 wd2310 wd1721 wd4563 wd2173 wd632 wd4961 wd4774 wd4357 wd4397 wd4200 wd1892 wd4847 wd507 \n",
      "32\t0.00367\twd2964 wd2910 wd893 wd97 wd4485 wd2165 wd2901 wd4468 wd2487 wd3417 wd164 wd1908 wd4211 wd4441 wd1351 wd886 wd3181 wd1916 wd181 wd4833 \n",
      "33\t0.00361\twd160 wd4558 wd1678 wd1999 wd1157 wd4065 wd3355 wd1916 wd2838 wd3388 wd3 wd4824 wd181 wd212 wd4679 wd2969 wd758 wd4659 wd3726 wd3420 \n",
      "34\t0.00361\twd1139 wd3009 wd1996 wd4879 wd1988 wd1208 wd1477 wd755 wd4167 wd509 wd4427 wd3369 wd2617 wd790 wd4684 wd4097 wd340 wd789 wd934 wd3784 \n",
      "35\t0.00353\twd1692 wd588 wd4564 wd2076 wd649 wd1310 wd4648 wd2441 wd1886 wd4891 wd3666 wd133 wd2311 wd3148 wd2822 wd4512 wd651 wd2366 wd154 wd4183 \n",
      "36\t0.00343\twd1248 wd3266 wd2013 wd1451 wd1435 wd3496 wd1562 wd1103 wd462 wd3151 wd1167 wd2911 wd2049 wd1055 wd2633 wd808 wd3591 wd4182 wd437 wd1626 \n",
      "37\t0.00574\twd4783 wd4610 wd2933 wd3310 wd157 wd4432 wd28 wd3649 wd4521 wd3176 wd1091 wd3478 wd2941 wd4878 wd468 wd318 wd2329 wd3562 wd479 wd221 \n",
      "38\t0.00366\twd1874 wd1831 wd4254 wd77 wd2677 wd1031 wd3636 wd2759 wd2998 wd2932 wd3202 wd3545 wd2929 wd2630 wd1782 wd4118 wd3892 wd365 wd4151 wd1667 \n",
      "39\t0.01193\twd4337 wd188 wd4887 wd4958 wd902 wd388 wd1454 wd2902 wd282 wd2805 wd267 wd3841 wd3584 wd4604 wd205 wd4007 wd1677 wd4352 wd2714 wd4230 \n",
      "40\t0.00355\twd3224 wd630 wd1487 wd3286 wd3482 wd2880 wd241 wd3426 wd158 wd3921 wd952 wd4352 wd627 wd361 wd1833 wd2899 wd3323 wd1033 wd1971 wd3017 \n",
      "41\t0.00361\twd3621 wd1726 wd3110 wd1520 wd2882 wd3395 wd2291 wd321 wd912 wd1760 wd3941 wd3742 wd4955 wd1182 wd1776 wd427 wd4735 wd2969 wd3448 wd45 \n",
      "42\t0.007\twd4337 wd188 wd4887 wd4958 wd902 wd1454 wd388 wd2902 wd267 wd282 wd2805 wd3584 wd3841 wd205 wd4604 wd4007 wd1677 wd4352 wd2714 wd4230 \n",
      "43\t0.00359\twd4094 wd165 wd3583 wd1336 wd4569 wd4794 wd3491 wd4388 wd1999 wd4037 wd2423 wd1300 wd1276 wd548 wd3938 wd3687 wd1939 wd3584 wd414 wd2140 \n",
      "44\t0.00048\twd2266 wd931 wd4288 wd515 wd2274 wd1228 wd962 wd4604 wd2421 wd3316 wd3089 wd4850 wd4993 wd4164 wd1315 wd4401 wd17 wd4601 wd4605 wd2889 \n",
      "45\t0.0036\twd61 wd3117 wd2907 wd781 wd2836 wd1801 wd1031 wd1095 wd3383 wd1334 wd2295 wd4461 wd1854 wd3766 wd2663 wd2182 wd2652 wd4573 wd57 wd1102 \n",
      "46\t0.00356\twd1219 wd2392 wd562 wd973 wd4579 wd2311 wd3188 wd2701 wd1915 wd3366 wd2051 wd2935 wd4759 wd220 wd3967 wd3121 wd1954 wd3145 wd2706 wd477 \n",
      "47\t0.01332\twd4783 wd4610 wd2933 wd3310 wd157 wd4432 wd28 wd3649 wd4521 wd3176 wd1091 wd2941 wd3478 wd468 wd4878 wd318 wd2329 wd3562 wd221 wd479 \n",
      "48\t0.00697\twd225 wd938 wd988 wd1880 wd2410 wd205 wd4586 wd4447 wd3251 wd1330 wd71 wd2218 wd4960 wd1654 wd2296 wd4879 wd893 wd916 wd1366 wd4838 \n",
      "49\t0.00366\twd3776 wd132 wd1361 wd224 wd2474 wd979 wd285 wd1561 wd3142 wd2182 wd4569 wd135 wd2689 wd4119 wd2122 wd1804 wd3886 wd255 wd2379 wd3729 \n",
      "\n",
      "[beta: 0.01175] \n",
      "<950> LL/token: -5.02114\n",
      "[beta: 0.01172] \n",
      "<960> LL/token: -5.02133\n",
      "[beta: 0.0117] \n",
      "<970> LL/token: -5.02124\n",
      "[beta: 0.01177] \n",
      "<980> LL/token: -5.0213\n",
      "[beta: 0.01181] \n",
      "<990> LL/token: -5.02143\n",
      "\n",
      "0\t0.00365\twd1535 wd4319 wd622 wd3749 wd109 wd2749 wd2036 wd1894 wd3899 wd904 wd1063 wd4845 wd1492 wd1962 wd4540 wd2065 wd4908 wd1217 wd2793 wd2687 \n",
      "1\t0.00355\twd4257 wd649 wd3714 wd2947 wd1760 wd2902 wd3489 wd4410 wd4854 wd3227 wd1573 wd3643 wd3725 wd4713 wd2650 wd3357 wd4162 wd3590 wd2676 wd792 \n",
      "2\t0.00354\twd3245 wd1961 wd2772 wd818 wd1192 wd1641 wd30 wd4946 wd592 wd3138 wd3497 wd3049 wd435 wd120 wd2132 wd3311 wd974 wd894 wd2511 wd674 \n",
      "3\t0.00347\twd3909 wd1371 wd2180 wd311 wd1862 wd1606 wd240 wd1373 wd1673 wd2978 wd1065 wd1813 wd3108 wd1514 wd1710 wd4163 wd2111 wd3620 wd329 wd4222 \n",
      "4\t0.0037\twd3522 wd4169 wd3607 wd2632 wd2795 wd472 wd1666 wd3037 wd4374 wd4421 wd2691 wd824 wd2504 wd3400 wd2822 wd3835 wd1432 wd980 wd4158 wd4423 \n",
      "5\t0.0033\twd2266 wd4288 wd931 wd515 wd2274 wd962 wd1228 wd4604 wd3089 wd2421 wd3316 wd4164 wd4993 wd4850 wd17 wd2889 wd1315 wd4601 wd4401 wd4605 \n",
      "6\t0.00354\twd4809 wd2505 wd1067 wd4182 wd133 wd1214 wd390 wd2461 wd3551 wd2292 wd394 wd3393 wd3496 wd689 wd4206 wd956 wd1943 wd1750 wd1559 wd753 \n",
      "7\t0.00344\twd309 wd2859 wd3519 wd1487 wd771 wd2052 wd1165 wd4592 wd1391 wd3719 wd1728 wd293 wd2200 wd967 wd3493 wd156 wd3671 wd3887 wd2424 wd3803 \n",
      "8\t0.00333\twd2927 wd1815 wd4312 wd1342 wd202 wd4409 wd2982 wd1357 wd1280 wd1748 wd2557 wd3275 wd1049 wd4077 wd4459 wd4912 wd3363 wd2382 wd919 wd315 \n",
      "9\t0.00351\twd639 wd2561 wd363 wd1075 wd2910 wd4554 wd4660 wd1866 wd2107 wd4893 wd2637 wd1927 wd4569 wd679 wd627 wd2123 wd3638 wd4267 wd3090 wd1558 \n",
      "10\t0.00764\twd3934 wd3747 wd1625 wd2222 wd1903 wd3422 wd3526 wd54 wd218 wd648 wd201 wd4773 wd2315 wd1966 wd316 wd3262 wd732 wd4784 wd4061 wd4957 \n",
      "11\t0.00672\twd3626 wd3624 wd3557 wd1541 wd1041 wd3379 wd1124 wd2247 wd1058 wd1286 wd150 wd3587 wd1471 wd807 wd1750 wd84 wd3401 wd4778 wd933 wd2881 \n",
      "12\t0.00361\twd565 wd2636 wd1795 wd1988 wd802 wd154 wd2745 wd2567 wd765 wd3559 wd3454 wd4646 wd1803 wd1760 wd2412 wd2548 wd4380 wd636 wd3004 wd619 \n",
      "13\t0.00719\twd343 wd3958 wd4577 wd4259 wd4009 wd1022 wd4531 wd757 wd2048 wd2304 wd4037 wd1757 wd4909 wd637 wd4915 wd3957 wd1865 wd144 wd1453 wd3081 \n",
      "14\t0.00762\twd1819 wd1535 wd2823 wd4479 wd418 wd4328 wd267 wd1787 wd1600 wd2165 wd881 wd3517 wd995 wd170 wd1599 wd4035 wd4644 wd824 wd3182 wd790 \n",
      "15\t0.00718\twd1796 wd4512 wd3323 wd3231 wd697 wd1257 wd2984 wd3005 wd4390 wd4580 wd674 wd3949 wd3569 wd4963 wd1818 wd4585 wd1976 wd2582 wd2995 wd2211 \n",
      "16\t0.01302\twd3486 wd2431 wd3257 wd1235 wd215 wd1360 wd2972 wd2641 wd3943 wd759 wd142 wd1609 wd3408 wd2859 wd4111 wd2653 wd2732 wd1484 wd2710 wd1041 \n",
      "17\t0.00367\twd3826 wd812 wd1703 wd2975 wd3037 wd3824 wd4160 wd1426 wd1674 wd3672 wd4151 wd3766 wd4907 wd3277 wd1727 wd2199 wd4934 wd1907 wd2328 wd1205 \n",
      "18\t0.00369\twd2310 wd2372 wd1306 wd3748 wd4241 wd939 wd1143 wd4587 wd1799 wd3441 wd3644 wd1286 wd2154 wd1742 wd1919 wd3988 wd756 wd1222 wd1338 wd4468 \n",
      "19\t0.00149\twd3934 wd3747 wd2222 wd1625 wd1903 wd3422 wd3526 wd54 wd648 wd218 wd2315 wd4773 wd201 wd316 wd732 wd4061 wd4957 wd3262 wd1966 wd4784 \n",
      "20\t0.00357\twd405 wd32 wd1226 wd3437 wd4467 wd1409 wd4954 wd2561 wd4802 wd1579 wd4306 wd3572 wd2434 wd582 wd1522 wd2690 wd4394 wd2014 wd1726 wd2760 \n",
      "21\t0.00364\twd1786 wd2511 wd560 wd2752 wd4459 wd113 wd3735 wd2820 wd3397 wd2608 wd788 wd4624 wd1425 wd4528 wd2435 wd3917 wd4095 wd3429 wd1356 wd3309 \n",
      "22\t0.0103\twd3934 wd3747 wd1625 wd2222 wd1903 wd3422 wd3526 wd54 wd648 wd218 wd4773 wd201 wd2315 wd316 wd732 wd3262 wd1966 wd4957 wd4061 wd4784 \n",
      "23\t0.00684\twd1469 wd2867 wd2562 wd1209 wd3840 wd154 wd1541 wd984 wd2006 wd1913 wd943 wd2157 wd400 wd2311 wd2344 wd4803 wd1458 wd2289 wd4437 wd1191 \n",
      "24\t0.00362\twd3349 wd300 wd3878 wd1696 wd1886 wd4482 wd2504 wd2577 wd729 wd4560 wd2286 wd3370 wd16 wd503 wd316 wd4619 wd4642 wd1898 wd1126 wd3624 \n",
      "25\t0.00614\twd3486 wd2431 wd3257 wd1235 wd215 wd1360 wd2972 wd2641 wd759 wd3943 wd142 wd1609 wd3408 wd2859 wd4111 wd2653 wd2732 wd1484 wd1041 wd3085 \n",
      "26\t0.00356\twd1706 wd2137 wd1079 wd3662 wd1818 wd3356 wd3975 wd3697 wd4413 wd283 wd1904 wd3852 wd2671 wd3445 wd2991 wd4775 wd3679 wd3376 wd3144 wd3239 \n",
      "27\t0.00749\twd280 wd2268 wd4078 wd3925 wd1068 wd1204 wd3037 wd1626 wd1439 wd4827 wd2364 wd1198 wd1830 wd3896 wd688 wd1686 wd1059 wd180 wd4429 wd2954 \n",
      "28\t0.01382\twd384 wd3179 wd1690 wd547 wd3276 wd3726 wd1070 wd1721 wd2310 wd4563 wd2173 wd632 wd4961 wd4774 wd4397 wd4200 wd4357 wd4847 wd1892 wd921 \n",
      "29\t0.00363\twd1609 wd111 wd334 wd894 wd4530 wd4171 wd4100 wd3827 wd3831 wd4610 wd2740 wd1813 wd3542 wd2847 wd2867 wd1206 wd929 wd1582 wd1672 wd1857 \n",
      "30\t0.00365\twd2507 wd137 wd4803 wd1020 wd4920 wd1264 wd3714 wd4252 wd340 wd164 wd585 wd3044 wd835 wd1711 wd4795 wd3159 wd902 wd2262 wd1112 wd3277 \n",
      "31\t0.00512\twd384 wd3179 wd1690 wd547 wd3276 wd3726 wd1070 wd2310 wd1721 wd4563 wd2173 wd632 wd4961 wd4774 wd4357 wd4397 wd4200 wd1892 wd4847 wd507 \n",
      "32\t0.00368\twd2964 wd2910 wd893 wd97 wd4485 wd2165 wd2901 wd4468 wd2487 wd3417 wd164 wd1908 wd4211 wd4441 wd1351 wd886 wd3181 wd1916 wd181 wd4833 \n",
      "33\t0.00356\twd160 wd4558 wd1678 wd1999 wd1157 wd4065 wd3355 wd1916 wd2838 wd3388 wd3 wd4824 wd181 wd212 wd2969 wd4679 wd758 wd4659 wd3726 wd3420 \n",
      "34\t0.00359\twd1139 wd3009 wd1996 wd4879 wd1988 wd1208 wd1477 wd755 wd4167 wd509 wd4427 wd3369 wd2617 wd790 wd4684 wd4097 wd340 wd789 wd934 wd3784 \n",
      "35\t0.00363\twd1692 wd588 wd4564 wd2076 wd649 wd1310 wd4648 wd2441 wd1886 wd4891 wd3666 wd133 wd2311 wd3148 wd2822 wd4512 wd651 wd2366 wd154 wd4183 \n",
      "36\t0.0034\twd1248 wd3266 wd2013 wd1451 wd1435 wd3496 wd1562 wd1103 wd462 wd3151 wd1167 wd2911 wd2049 wd1055 wd2633 wd808 wd3591 wd4182 wd437 wd1626 \n",
      "37\t0.00568\twd4783 wd4610 wd2933 wd3310 wd157 wd4432 wd28 wd3649 wd4521 wd3176 wd1091 wd3478 wd2941 wd4878 wd468 wd318 wd2329 wd3562 wd479 wd221 \n",
      "38\t0.00366\twd1874 wd1831 wd4254 wd77 wd2677 wd1031 wd3636 wd2759 wd2998 wd2932 wd3202 wd3545 wd2929 wd2630 wd1782 wd4118 wd3892 wd365 wd4151 wd1667 \n",
      "39\t0.01201\twd4337 wd188 wd4887 wd4958 wd902 wd388 wd1454 wd2902 wd282 wd2805 wd267 wd3841 wd3584 wd4604 wd205 wd4007 wd1677 wd4352 wd2714 wd4230 \n",
      "40\t0.00351\twd3224 wd630 wd1487 wd3286 wd3482 wd2880 wd241 wd3426 wd158 wd3921 wd952 wd4352 wd627 wd361 wd1833 wd2899 wd3323 wd1033 wd1971 wd3017 \n",
      "41\t0.0036\twd3621 wd1726 wd3110 wd1520 wd2882 wd3395 wd2291 wd321 wd912 wd1760 wd3941 wd3742 wd4955 wd1182 wd1776 wd427 wd4735 wd2969 wd3448 wd45 \n",
      "42\t0.00699\twd4337 wd188 wd4887 wd4958 wd902 wd1454 wd388 wd2902 wd267 wd282 wd2805 wd3584 wd3841 wd205 wd4604 wd4007 wd1677 wd4352 wd2714 wd4230 \n",
      "43\t0.00358\twd4094 wd165 wd3583 wd1336 wd4569 wd4794 wd3491 wd4388 wd1999 wd4037 wd2423 wd1300 wd1276 wd548 wd3938 wd3687 wd1939 wd3584 wd414 wd2140 \n",
      "44\t0.00047\twd2266 wd931 wd4288 wd515 wd2274 wd1228 wd962 wd4604 wd2421 wd3316 wd3089 wd4993 wd4850 wd1315 wd4164 wd17 wd4605 wd4401 wd4601 wd3877 \n",
      "45\t0.00366\twd61 wd3117 wd2907 wd781 wd2836 wd1801 wd1031 wd1095 wd3383 wd1334 wd2295 wd4461 wd1854 wd3766 wd2663 wd2182 wd2652 wd4573 wd57 wd1102 \n",
      "46\t0.00357\twd1219 wd2392 wd562 wd973 wd4579 wd2311 wd3188 wd2701 wd1915 wd3366 wd2051 wd2935 wd4759 wd220 wd3967 wd3121 wd1954 wd3145 wd2706 wd477 \n",
      "47\t0.01341\twd4783 wd4610 wd2933 wd3310 wd157 wd4432 wd28 wd3649 wd4521 wd3176 wd1091 wd2941 wd3478 wd468 wd4878 wd318 wd2329 wd3562 wd221 wd479 \n",
      "48\t0.00695\twd225 wd938 wd988 wd1880 wd2410 wd205 wd4586 wd4447 wd3251 wd1330 wd71 wd2218 wd4960 wd1654 wd2296 wd4879 wd893 wd916 wd1366 wd4838 \n",
      "49\t0.00365\twd3776 wd132 wd1361 wd224 wd2474 wd979 wd285 wd1561 wd3142 wd2182 wd4569 wd135 wd2689 wd4119 wd2122 wd1804 wd255 wd3886 wd2379 wd3729 \n",
      "\n"
     ]
    },
    {
     "name": "stderr",
     "output_type": "stream",
     "text": [
      "[beta: 0.01174] \n",
      "<1000> LL/token: -5.0215\n",
      "\n",
      "Total time: 4 minutes 38 seconds\n"
     ]
    }
   ],
   "source": [
    "with open(configFile, 'w', encoding='utf8') as fout:\n",
    "    fout.write('input = ' + corpusMallet.resolve().as_posix() + '\\n')\n",
    "    fout.write('num-topics = ' + str(n_topics) + '\\n')\n",
    "    fout.write('alpha = 1\\n')\n",
    "    fout.write('optimize-interval = 10\\n')\n",
    "    fout.write('num-threads = 4\\n')\n",
    "    fout.write('num-iterations = 1000\\n')\n",
    "    fout.write('doc-topics-threshold = 0\\n')\n",
    "    fout.write('output-doc-topics = ' +\n",
    "                modeldir.joinpath('doc-topics.txt').resolve().as_posix() + '\\n')\n",
    "    fout.write('word-topic-counts-file = ' +\n",
    "               modeldir.joinpath('word-topic-counts.txt').resolve().as_posix() + '\\n')\n",
    "    fout.write('output-topic-keys = ' +\n",
    "               modeldir.joinpath('topickeys.txt').resolve().as_posix() + '\\n')\n",
    "    fout.write('inferencer-filename = ' + \n",
    "               modeldir.joinpath('inferencer.mallet').resolve().as_posix() + '\\n')\n",
    "cmd = mallet_path + ' train-topics --config ' + configFile.resolve().as_posix()\n",
    "print(cmd)\n",
    "try:\n",
    "    print(\n",
    "        f'-- -- Training mallet topic model. Command is {cmd}')\n",
    "    check_output(args=cmd, shell=True)\n",
    "except:\n",
    "    print('-- -- Model training failed. Revise command')"
   ]
  },
  {
   "cell_type": "code",
   "execution_count": 30,
   "id": "7ce64795",
   "metadata": {},
   "outputs": [],
   "source": [
    "#Recover and build beta matrix\n",
    "beta = np.zeros((n_topics, vocab_size))\n",
    "with open(modeldir.joinpath('word-topic-counts.txt').resolve().as_posix(), 'r', encoding='utf8') as fin:\n",
    "    for line in fin.readlines():\n",
    "        tokens = line.split()[1:]\n",
    "        pos = int(tokens[0][2:])\n",
    "        for el in tokens[1:]:\n",
    "            tpc = int(el.split(':')[0])\n",
    "            cnt = int(el.split(':')[1])\n",
    "            beta[tpc,pos] = cnt\n",
    "\n",
    "beta = normalize(beta,axis=1,norm='l1')"
   ]
  },
  {
   "cell_type": "code",
   "execution_count": 31,
   "id": "6129cc1f",
   "metadata": {},
   "outputs": [
    {
     "name": "stdout",
     "output_type": "stream",
     "text": [
      "Tópicos (equivalentes) evaluados correctamente: 45.996142003556066\n"
     ]
    }
   ],
   "source": [
    "print('Tópicos (equivalentes) evaluados correctamente:', np.sum(np.max(np.sqrt(beta).dot(np.sqrt(topic_vectors.T)), axis=0)))"
   ]
  },
  {
   "cell_type": "code",
   "execution_count": 32,
   "id": "b22f3bd1",
   "metadata": {},
   "outputs": [],
   "source": [
    "sim_mat_theoretical = np.sqrt(doc_topics_all[0][0:(n_docs-n_docs_inf)]).dot(np.sqrt(doc_topics_all[0][0:(n_docs-n_docs_inf)].T))"
   ]
  },
  {
   "cell_type": "code",
   "execution_count": 33,
   "id": "5bfa39ed",
   "metadata": {},
   "outputs": [
    {
     "name": "stdout",
     "output_type": "stream",
     "text": [
      "(10000, 50)\n"
     ]
    }
   ],
   "source": [
    "thetas = np.loadtxt(modeldir.joinpath('doc-topics.txt').resolve().as_posix(), delimiter='\\t', dtype=np.float32)[:,2:][:(n_docs-n_docs_inf),:]\n",
    "thetas[thetas<3e-3] = 0\n",
    "thetas = normalize(thetas,axis=1,norm='l1')\n",
    "print(thetas.shape)"
   ]
  },
  {
   "cell_type": "code",
   "execution_count": 34,
   "id": "827fef45",
   "metadata": {},
   "outputs": [],
   "source": [
    "sim_mat_actual = np.sqrt(thetas).dot(np.sqrt(thetas.T))"
   ]
  },
  {
   "cell_type": "code",
   "execution_count": 35,
   "id": "6f0e1d5f",
   "metadata": {},
   "outputs": [
    {
     "name": "stdout",
     "output_type": "stream",
     "text": [
      "Difference in evaluation of doc similarity: 450.62922411649225\n"
     ]
    }
   ],
   "source": [
    "print('Difference in evaluation of doc similarity:', np.sum(np.abs(sim_mat_theoretical - sim_mat_actual))/(n_docs-n_docs_inf))"
   ]
  },
  {
   "cell_type": "markdown",
   "id": "f456062f",
   "metadata": {},
   "source": [
    "### 2.1.1. Inference on the centralized approach"
   ]
  },
  {
   "cell_type": "code",
   "execution_count": 36,
   "id": "49ecb3a4",
   "metadata": {},
   "outputs": [
    {
     "name": "stdout",
     "output_type": "stream",
     "text": [
      "50000\n"
     ]
    }
   ],
   "source": [
    "# Inference corpus for centralized approach\n",
    "my_corpus_inf = [doc for docs_node in documents_all for doc in docs_node[(n_docs-n_docs_inf):n_docs]]\n",
    "print(len(my_corpus_inf))\n",
    "corpusFile = modeldir.joinpath(\"corpus_inf.txt\")\n",
    "with open(corpusFile, 'w') as fout:\n",
    "    [fout.write(str(idx) + ' 0 ' + ' '.join(doc) + '\\n') for idx,doc in enumerate(my_corpus)]"
   ]
  },
  {
   "cell_type": "code",
   "execution_count": 37,
   "id": "6bb99b37",
   "metadata": {},
   "outputs": [
    {
     "name": "stdout",
     "output_type": "stream",
     "text": [
      "-- Extracting pipeline\n",
      "-- Running command /export/usuarios_ml4ds/jarenas/github/IntelComp/ITMT/topicmodeler/src/topicmodeling/mallet-2.0.8/bin/mallet import-file --use-pipe-from /export/usuarios_ml4ds/lbartolome/data/project_folder/TMmodels/Federated_test/mallet_centralized/corpus.mallet --input /export/usuarios_ml4ds/lbartolome/data/project_folder/TMmodels/Federated_test/mallet_centralized/corpus_aux.txt --output /export/usuarios_ml4ds/lbartolome/data/project_folder/TMmodels/Federated_test/mallet_centralized/import.pipe\n",
      "-- Inference: Mallet Data Import\n",
      "-- Running command /export/usuarios_ml4ds/jarenas/github/IntelComp/ITMT/topicmodeler/src/topicmodeling/mallet-2.0.8/bin/mallet import-file --use-pipe-from /export/usuarios_ml4ds/lbartolome/data/project_folder/TMmodels/Federated_test/mallet_centralized/import.pipe --input /export/usuarios_ml4ds/lbartolome/data/project_folder/TMmodels/Federated_test/mallet_centralized/corpus_inf.txt --output /export/usuarios_ml4ds/lbartolome/data/project_folder/TMmodels/Federated_test/mallet_centralized/corpus_inf.mallet\n",
      "-- Inference: Inferring Topic Proportions\n",
      "-- Running command /export/usuarios_ml4ds/jarenas/github/IntelComp/ITMT/topicmodeler/src/topicmodeling/mallet-2.0.8/bin/mallet infer-topics --inferencer /export/usuarios_ml4ds/lbartolome/data/project_folder/TMmodels/Federated_test/mallet_centralized/inferencer.mallet --input /export/usuarios_ml4ds/lbartolome/data/project_folder/TMmodels/Federated_test/mallet_centralized/corpus_inf.mallet --output-doc-topics /export/usuarios_ml4ds/lbartolome/data/project_folder/TMmodels/Federated_test/mallet_centralized/doc-topics-inf.txt  --doc-topics-threshold 0 --num-iterations 100\n"
     ]
    }
   ],
   "source": [
    "extractPipe(modeldir)\n",
    "inference(modeldir)"
   ]
  },
  {
   "cell_type": "code",
   "execution_count": 38,
   "id": "2c6f9aac",
   "metadata": {},
   "outputs": [
    {
     "name": "stdout",
     "output_type": "stream",
     "text": [
      "(10000, 50)\n"
     ]
    }
   ],
   "source": [
    "thetas_inf = np.loadtxt(modeldir.joinpath('doc-topics-inf.txt').resolve().as_posix(), delimiter='\\t', dtype=np.float32)[:,2:][:n_docs_inf,:]\n",
    "thetas_inf[thetas_inf<3e-3] = 0\n",
    "thetas_inf = normalize(thetas_inf,axis=1,norm='l1')\n",
    "print(thetas_inf.shape)"
   ]
  },
  {
   "cell_type": "code",
   "execution_count": 39,
   "id": "f655d1c4",
   "metadata": {},
   "outputs": [
    {
     "name": "stdout",
     "output_type": "stream",
     "text": [
      "Difference in evaluation of doc similarity of inferred docs: 2064.6542869832606\n"
     ]
    }
   ],
   "source": [
    "sim_mat_theoretical_inf = np.sqrt(doc_topics_all[0][(n_docs-n_docs_inf):n_docs]).dot(np.sqrt(doc_topics_all[0][(n_docs-n_docs_inf):n_docs].T))\n",
    "sim_mat_actual_inf = np.sqrt(thetas_inf).dot(np.sqrt(thetas_inf.T))\n",
    "print('Difference in evaluation of doc similarity of inferred docs:', np.sum(np.abs(sim_mat_theoretical_inf - sim_mat_actual_inf))/n_docs_inf)"
   ]
  },
  {
   "cell_type": "code",
   "execution_count": 44,
   "id": "2329bdea",
   "metadata": {},
   "outputs": [
    {
     "name": "stdout",
     "output_type": "stream",
     "text": [
      "50000\n"
     ]
    }
   ],
   "source": [
    "# Inference corpus for centralized approach\n",
    "my_corpus_inf2 = [doc for docs_node in documents_all2 for doc in docs_node]\n",
    "print(len(my_corpus_inf2))\n",
    "corpusFile = modeldir.joinpath(\"corpus_inf.txt\")\n",
    "with open(corpusFile, 'w') as fout:\n",
    "    [fout.write(str(idx) + ' 0 ' + ' '.join(doc) + '\\n') for idx,doc in enumerate(my_corpus)]"
   ]
  },
  {
   "cell_type": "code",
   "execution_count": 45,
   "id": "bd5b8e43",
   "metadata": {},
   "outputs": [
    {
     "name": "stdout",
     "output_type": "stream",
     "text": [
      "-- Extracting pipeline\n",
      "-- Running command /export/usuarios_ml4ds/jarenas/github/IntelComp/ITMT/topicmodeler/src/topicmodeling/mallet-2.0.8/bin/mallet import-file --use-pipe-from /export/usuarios_ml4ds/lbartolome/data/project_folder/TMmodels/Federated_test/mallet_centralized/corpus.mallet --input /export/usuarios_ml4ds/lbartolome/data/project_folder/TMmodels/Federated_test/mallet_centralized/corpus_aux.txt --output /export/usuarios_ml4ds/lbartolome/data/project_folder/TMmodels/Federated_test/mallet_centralized/import.pipe\n",
      "-- Inference: Mallet Data Import\n",
      "-- Running command /export/usuarios_ml4ds/jarenas/github/IntelComp/ITMT/topicmodeler/src/topicmodeling/mallet-2.0.8/bin/mallet import-file --use-pipe-from /export/usuarios_ml4ds/lbartolome/data/project_folder/TMmodels/Federated_test/mallet_centralized/import.pipe --input /export/usuarios_ml4ds/lbartolome/data/project_folder/TMmodels/Federated_test/mallet_centralized/corpus_inf.txt --output /export/usuarios_ml4ds/lbartolome/data/project_folder/TMmodels/Federated_test/mallet_centralized/corpus_inf.mallet\n",
      "-- Inference: Inferring Topic Proportions\n",
      "-- Running command /export/usuarios_ml4ds/jarenas/github/IntelComp/ITMT/topicmodeler/src/topicmodeling/mallet-2.0.8/bin/mallet infer-topics --inferencer /export/usuarios_ml4ds/lbartolome/data/project_folder/TMmodels/Federated_test/mallet_centralized/inferencer.mallet --input /export/usuarios_ml4ds/lbartolome/data/project_folder/TMmodels/Federated_test/mallet_centralized/corpus_inf.mallet --output-doc-topics /export/usuarios_ml4ds/lbartolome/data/project_folder/TMmodels/Federated_test/mallet_centralized/doc-topics-inf.txt  --doc-topics-threshold 0 --num-iterations 100\n"
     ]
    }
   ],
   "source": [
    "extractPipe(modeldir)\n",
    "inference(modeldir)"
   ]
  },
  {
   "cell_type": "code",
   "execution_count": 46,
   "id": "e9a1ec2e",
   "metadata": {},
   "outputs": [
    {
     "name": "stdout",
     "output_type": "stream",
     "text": [
      "(10000, 50)\n"
     ]
    }
   ],
   "source": [
    "thetas_inf = np.loadtxt(modeldir.joinpath('doc-topics-inf.txt').resolve().as_posix(), delimiter='\\t', dtype=np.float32)[:,2:][:n_docs_inf,:]\n",
    "thetas_inf[thetas_inf<3e-3] = 0\n",
    "thetas_inf = normalize(thetas_inf,axis=1,norm='l1')\n",
    "print(thetas_inf.shape)"
   ]
  },
  {
   "cell_type": "code",
   "execution_count": 47,
   "id": "0130fc85",
   "metadata": {},
   "outputs": [
    {
     "name": "stdout",
     "output_type": "stream",
     "text": [
      "Difference in evaluation of doc similarity of inferred docs: 2064.6542869832606\n"
     ]
    }
   ],
   "source": [
    "sim_mat_theoretical_inf = np.sqrt(doc_topics_all[0][(n_docs-n_docs_inf):n_docs]).dot(np.sqrt(doc_topics_all[0][(n_docs-n_docs_inf):n_docs].T))\n",
    "sim_mat_actual_inf = np.sqrt(thetas_inf).dot(np.sqrt(thetas_inf.T))\n",
    "print('Difference in evaluation of doc similarity of inferred docs:', np.sum(np.abs(sim_mat_theoretical_inf - sim_mat_actual_inf))/n_docs_inf)"
   ]
  },
  {
   "cell_type": "markdown",
   "id": "c6972755",
   "metadata": {},
   "source": [
    "## 2.2. Just in one node approach"
   ]
  },
  {
   "cell_type": "code",
   "execution_count": null,
   "id": "8d25d424",
   "metadata": {},
   "outputs": [],
   "source": [
    "# Create model folder and save model training configuration\n",
    "modelname = \"mallet_node0\"\n",
    "modeldir = Path(\"/export/usuarios_ml4ds/lbartolome/data/project_folder/TMmodels/Federated_test\").joinpath(modelname)\n",
    "if modeldir.exists():\n",
    "\n",
    "    # Remove current backup folder, if it exists\n",
    "    old_model_dir = Path(str(modeldir) + '_old/')\n",
    "    if old_model_dir.exists():\n",
    "        shutil.rmtree(old_model_dir)\n",
    "\n",
    "    # Copy current model folder to the backup folder.\n",
    "    shutil.move(modeldir, old_model_dir)\n",
    "    print(f'-- -- Creating backup of existing model in {old_model_dir}')\n",
    "\n",
    "modeldir.mkdir()\n",
    "configFile = modeldir.joinpath('trainconfig.json')"
   ]
  },
  {
   "cell_type": "code",
   "execution_count": null,
   "id": "29007d3b",
   "metadata": {},
   "outputs": [],
   "source": [
    "my_corpus = documents_all[0][0:(n_docs-n_docs_inf)]"
   ]
  },
  {
   "cell_type": "code",
   "execution_count": null,
   "id": "82e7e28d",
   "metadata": {},
   "outputs": [],
   "source": [
    "corpusFile = modeldir.joinpath(\"corpus.txt\")\n",
    "with open(corpusFile, 'w') as fout:\n",
    "    [fout.write(str(idx) + ' 0 ' + ' '.join(doc) + '\\n') for idx,doc in enumerate(my_corpus)]"
   ]
  },
  {
   "cell_type": "code",
   "execution_count": null,
   "id": "a640617f",
   "metadata": {},
   "outputs": [],
   "source": [
    "corpusMallet = modeldir.joinpath('corpus.mallet')\n",
    "\n",
    "cmd = mallet_path + \\\n",
    "    ' import-file --preserve-case --keep-sequence ' + \\\n",
    "    '--remove-stopwords --token-regex \"' + '[\\p{L}\\p{N}][\\p{L}\\p{N}\\p{P}]*' + \\\n",
    "    '\" --input %s --output %s'\n",
    "cmd = cmd % (corpusFile, corpusMallet)\n",
    "\n",
    "try:\n",
    "    print(f'-- -- Running command {cmd}')\n",
    "    check_output(args=cmd, shell=True)\n",
    "except:\n",
    "    print('-- -- Mallet failed to import data. Revise command')"
   ]
  },
  {
   "cell_type": "code",
   "execution_count": null,
   "id": "fc3cc653",
   "metadata": {},
   "outputs": [],
   "source": [
    "with open(configFile, 'w', encoding='utf8') as fout:\n",
    "    fout.write('input = ' + corpusMallet.resolve().as_posix() + '\\n')\n",
    "    fout.write('num-topics = ' + str(n_topics) + '\\n')\n",
    "    fout.write('alpha = 1\\n')\n",
    "    fout.write('optimize-interval = 10\\n')\n",
    "    fout.write('num-threads = 4\\n')\n",
    "    fout.write('num-iterations = 1000\\n')\n",
    "    fout.write('doc-topics-threshold = 0\\n')\n",
    "    fout.write('output-doc-topics = ' +\n",
    "                modeldir.joinpath('doc-topics.txt').resolve().as_posix() + '\\n')\n",
    "    fout.write('word-topic-counts-file = ' +\n",
    "               modeldir.joinpath('word-topic-counts.txt').resolve().as_posix() + '\\n')\n",
    "    fout.write('output-topic-keys = ' +\n",
    "               modeldir.joinpath('topickeys.txt').resolve().as_posix() + '\\n')\n",
    "    fout.write('inferencer-filename = ' + \n",
    "               modeldir.joinpath('inferencer.mallet').resolve().as_posix() + '\\n')\n",
    "cmd = mallet_path + ' train-topics --config ' + configFile.resolve().as_posix()\n",
    "print(cmd)\n",
    "try:\n",
    "    print(\n",
    "        f'-- -- Training mallet topic model. Command is {cmd}')\n",
    "    check_output(args=cmd, shell=True)\n",
    "except:\n",
    "    print('-- -- Model training failed. Revise command')"
   ]
  },
  {
   "cell_type": "code",
   "execution_count": null,
   "id": "11740f20",
   "metadata": {},
   "outputs": [],
   "source": [
    "#Recover and build beta matrix\n",
    "beta = np.zeros((n_topics, vocab_size))\n",
    "with open(modeldir.joinpath('word-topic-counts.txt').resolve().as_posix(), 'r', encoding='utf8') as fin:\n",
    "    for line in fin.readlines():\n",
    "        tokens = line.split()[1:]\n",
    "        pos = int(tokens[0][2:])\n",
    "        for el in tokens[1:]:\n",
    "            tpc = int(el.split(':')[0])\n",
    "            cnt = int(el.split(':')[1])\n",
    "            beta[tpc,pos] = cnt\n",
    "\n",
    "beta = normalize(beta,axis=1,norm='l1')"
   ]
  },
  {
   "cell_type": "code",
   "execution_count": null,
   "id": "9bf3c4ed",
   "metadata": {},
   "outputs": [],
   "source": [
    "print('Tópicos (equivalentes) evaluados correctamente:', np.sum(np.max(np.sqrt(beta).dot(np.sqrt(topic_vectors.T)), axis=0)))"
   ]
  },
  {
   "cell_type": "code",
   "execution_count": null,
   "id": "4b16f33f",
   "metadata": {},
   "outputs": [],
   "source": [
    "sim_mat_theoretical = np.sqrt(doc_topics_all[0][0:(n_docs-n_docs_inf)]).dot(np.sqrt(doc_topics_all[0][0:(n_docs-n_docs_inf)].T))"
   ]
  },
  {
   "cell_type": "code",
   "execution_count": null,
   "id": "2b9297e7",
   "metadata": {},
   "outputs": [],
   "source": [
    "thetas = np.loadtxt(modeldir.joinpath('doc-topics.txt').resolve().as_posix(), delimiter='\\t', dtype=np.float32)[:,2:][:n_docs,:]\n",
    "thetas[thetas<3e-3] = 0\n",
    "thetas = normalize(thetas,axis=1,norm='l1')"
   ]
  },
  {
   "cell_type": "code",
   "execution_count": null,
   "id": "dff2a52b",
   "metadata": {},
   "outputs": [],
   "source": [
    "sim_mat_actual = np.sqrt(thetas).dot(np.sqrt(thetas.T))"
   ]
  },
  {
   "cell_type": "code",
   "execution_count": null,
   "id": "c08b355c",
   "metadata": {},
   "outputs": [],
   "source": [
    "print('Difference in evaluation of doc similarity:', np.sum(np.abs(sim_mat_theoretical - sim_mat_actual))/n_docs)"
   ]
  },
  {
   "cell_type": "markdown",
   "id": "e28ff4bb",
   "metadata": {},
   "source": [
    "### 2.2.1. Inference on one node approach"
   ]
  },
  {
   "cell_type": "code",
   "execution_count": null,
   "id": "968fc85c",
   "metadata": {},
   "outputs": [],
   "source": [
    "# Inference corpus for centralized approach\n",
    "my_corpus_inf = documents_all[0][(n_docs-n_docs_inf):n_docs]\n",
    "corpusFile = modeldir.joinpath(\"corpus_inf.txt\")\n",
    "with open(corpusFile, 'w') as fout:\n",
    "    [fout.write(str(idx) + ' 0 ' + ' '.join(doc) + '\\n') for idx,doc in enumerate(my_corpus)]"
   ]
  },
  {
   "cell_type": "code",
   "execution_count": null,
   "id": "1e12177f",
   "metadata": {},
   "outputs": [],
   "source": [
    "extractPipe(modeldir)\n",
    "inference(modeldir)"
   ]
  },
  {
   "cell_type": "code",
   "execution_count": null,
   "id": "2c2d9eec",
   "metadata": {},
   "outputs": [],
   "source": [
    "thetas_inf = np.loadtxt(modeldir.joinpath('doc-topics-inf.txt').resolve().as_posix(), delimiter='\\t', dtype=np.float32)[:,2:][:n_docs_inf,:]\n",
    "thetas_inf[thetas_inf<3e-3] = 0\n",
    "thetas_inf = normalize(thetas_inf,axis=1,norm='l1')\n",
    "print(thetas_inf.shape)"
   ]
  },
  {
   "cell_type": "code",
   "execution_count": null,
   "id": "1a29a505",
   "metadata": {},
   "outputs": [],
   "source": [
    "sim_mat_theoretical_inf = np.sqrt(doc_topics_all[0][(n_docs-n_docs_inf):n_docs]).dot(np.sqrt(doc_topics_all[0][(n_docs-n_docs_inf):n_docs].T))\n",
    "sim_mat_actual_inf = np.sqrt(thetas_inf).dot(np.sqrt(thetas_inf.T))\n",
    "print('Difference in evaluation of doc similarity of inferred docs:', np.sum(np.abs(sim_mat_theoretical_inf - sim_mat_actual_inf))/n_docs_inf)"
   ]
  },
  {
   "cell_type": "markdown",
   "id": "b5b6e7de",
   "metadata": {},
   "source": [
    "# 3. ProdLDA"
   ]
  },
  {
   "cell_type": "code",
   "execution_count": null,
   "id": "860e7992",
   "metadata": {},
   "outputs": [],
   "source": [
    "import numpy as np\n",
    "from sklearn.feature_extraction.text import CountVectorizer\n",
    "from scipy import sparse"
   ]
  },
  {
   "cell_type": "code",
   "execution_count": null,
   "id": "e7fdb059",
   "metadata": {},
   "outputs": [],
   "source": [
    "cd /export/usuarios_ml4ds/lbartolome/topicmodeler"
   ]
  },
  {
   "cell_type": "code",
   "execution_count": null,
   "id": "0640f909",
   "metadata": {},
   "outputs": [],
   "source": [
    "from src.topicmodeling.neural_models.pytorchavitm.datasets.bow_dataset import BOWDataset\n",
    "from src.topicmodeling.neural_models.pytorchavitm.avitm_network.avitm import AVITM"
   ]
  },
  {
   "cell_type": "code",
   "execution_count": null,
   "id": "4772f920",
   "metadata": {},
   "outputs": [],
   "source": [
    "def convert_topic_word_to_init_size(vocab_size, model, model_type,\n",
    "                                    ntopics, id2token, all_words):\n",
    "    \"\"\"It converts the topic-word distribution matrix obtained from the training of a model into a matrix with the dimensions of the original topic-word distribution, assigning zeros to those words that are not present in the corpus. \n",
    "    It is only of use in case we are training a model over a synthetic dataset, so as to later compare the performance of the attained model in what regards to the similarity between the original and the trained model.\n",
    "\n",
    "    Args:\n",
    "        * vocab_size (int):       Size of the synethic'data vocabulary.\n",
    "        * model (AVITM/CTM):      Model whose topic-word matrix is being transformed.\n",
    "        * model_type (str):       Type of the trained model (e.g. AVITM)\n",
    "        * ntopics (int):          Number of topics of the trained model.\n",
    "        * id2token (List[tuple]): Mappings with the content of the document-term matrix.\n",
    "        * all_words (List[str]):  List of all the words of the vocabulary of size vocab_size.\n",
    "\n",
    "    Returns:\n",
    "        * ndarray: Normalized transormed topic-word distribution.\n",
    "    \"\"\"\n",
    "    if model_type == \"avitm\":\n",
    "        w_t_distrib = np.zeros((ntopics, vocab_size), dtype=np.float64)\n",
    "        wd = model.get_topic_word_distribution()\n",
    "        for i in np.arange(ntopics):\n",
    "            for idx, word in id2token.items():\n",
    "                for j in np.arange(len(all_words)):\n",
    "                    if all_words[j] == word:\n",
    "                        w_t_distrib[i, j] = wd[i][idx]\n",
    "                        break\n",
    "        normalized_array = normalize(w_t_distrib,axis=1,norm='l1')\n",
    "        return normalized_array\n",
    "    else:\n",
    "        print(\"Method not impleemnted for the selected model type\")\n",
    "        return None"
   ]
  },
  {
   "cell_type": "markdown",
   "id": "d9d118c7",
   "metadata": {},
   "source": [
    "## 3.1. Centralized approach"
   ]
  },
  {
   "cell_type": "code",
   "execution_count": null,
   "id": "7324a6a4",
   "metadata": {},
   "outputs": [],
   "source": [
    "# Create model folder and save model training configuration\n",
    "modelname = \"prod_centralized\"\n",
    "modeldir = Path(\"/export/usuarios_ml4ds/lbartolome/data/project_folder/TMmodels/Federated_test\").joinpath(modelname)\n",
    "if modeldir.exists():\n",
    "\n",
    "    # Remove current backup folder, if it exists\n",
    "    old_model_dir = Path(str(modeldir) + '_old/')\n",
    "    if old_model_dir.exists():\n",
    "        shutil.rmtree(old_model_dir)\n",
    "\n",
    "    # Copy current model folder to the backup folder.\n",
    "    shutil.move(modeldir, old_model_dir)\n",
    "    print(f'-- -- Creating backup of existing model in {old_model_dir}')"
   ]
  },
  {
   "cell_type": "code",
   "execution_count": null,
   "id": "e2028ffb",
   "metadata": {},
   "outputs": [],
   "source": [
    "# Corpus for centralized approach\n",
    "my_corpus = [doc for docs_node in documents_all for doc in docs_node[0:(n_docs-n_docs_inf)]]\n",
    "print(len(my_corpus))"
   ]
  },
  {
   "cell_type": "code",
   "execution_count": null,
   "id": "374f0820",
   "metadata": {},
   "outputs": [],
   "source": [
    "cv = CountVectorizer(input='content', lowercase=True, stop_words='english', binary=False)\n",
    "docs = [\" \".join(my_corpus[i]) for i in np.arange(len(my_corpus))]\n",
    "train_bow = cv.fit_transform(docs).toarray()\n",
    "idx2token = cv.get_feature_names()\n",
    "train_dataset = BOWDataset(train_bow, idx2token)\n",
    "input_size = len(idx2token)\n",
    "id2token = {k: v for k, v in zip(range(0, len(idx2token)), idx2token)}"
   ]
  },
  {
   "cell_type": "code",
   "execution_count": null,
   "id": "3de403aa",
   "metadata": {},
   "outputs": [],
   "source": [
    "avitm = AVITM(logger=None,\n",
    "              input_size=input_size,\n",
    "              n_components=n_topics,\n",
    "              model_type=\"prodLDA\",\n",
    "              hidden_sizes=(100, 100),\n",
    "              activation='softplus',\n",
    "              dropout=0.2,\n",
    "              learn_priors=True,\n",
    "              batch_size=64,\n",
    "              lr=2e-3,\n",
    "              momentum=0.99,\n",
    "              solver='adam',\n",
    "              num_epochs=100,\n",
    "              reduce_on_plateau=False,\n",
    "              topic_prior_mean=0.0,\n",
    "              topic_prior_variance=None,\n",
    "              num_samples=10\n",
    "            \n",
    "              num_data_loader_workers=0,\n",
    "              verbose=True)\n",
    "avitm.fit(train_dataset)"
   ]
  },
  {
   "cell_type": "code",
   "execution_count": null,
   "id": "09a2b822",
   "metadata": {},
   "outputs": [],
   "source": [
    "thetas = np.asarray(avitm.get_doc_topic_distribution(avitm.train_data))[0:(n_docs-n_docs_inf),:] \n",
    "thetas[thetas < 3e-3] = 0\n",
    "thetas = normalize(thetas, axis=1, norm='l1')\n",
    "thetas = sparse.csr_matrix(thetas, copy=True)\n",
    "\n",
    "\n",
    "betas = avitm.get_topic_word_distribution()\n",
    "all_words = ['wd'+str(word) for word in np.arange(vocab_size+1) if word > 0]\n",
    "betas = convert_topic_word_to_init_size(vocab_size=vocab_size,\n",
    "                                        model=avitm,\n",
    "                                        model_type=\"avitm\",\n",
    "                                        ntopics=n_topics,\n",
    "                                        id2token=id2token,\n",
    "                                        all_words=all_words)\n",
    "print(thetas.shape)"
   ]
  },
  {
   "cell_type": "code",
   "execution_count": null,
   "id": "077a5fbf",
   "metadata": {},
   "outputs": [],
   "source": [
    "print('Tópicos (equivalentes) evaluados correctamente:', np.sum(np.max(np.sqrt(betas).dot(np.sqrt(topic_vectors.T)), axis=0)))"
   ]
  },
  {
   "cell_type": "code",
   "execution_count": null,
   "id": "dac62300",
   "metadata": {},
   "outputs": [],
   "source": [
    "sim_mat_theoretical = np.sqrt(doc_topics_all[0][0:(n_docs-n_docs_inf)]).dot(np.sqrt(doc_topics_all[0][0:(n_docs-n_docs_inf)].T))\n",
    "sim_mat_actual = np.sqrt(thetas).dot(np.sqrt(thetas.T))\n",
    "print('Difference in evaluation of doc similarity:', np.sum(np.abs(sim_mat_theoretical - sim_mat_actual))/n_docs)"
   ]
  },
  {
   "cell_type": "markdown",
   "id": "ddc61710",
   "metadata": {},
   "source": [
    "### 3.1.1. Inference on the centralized approach"
   ]
  },
  {
   "cell_type": "code",
   "execution_count": null,
   "id": "43b0be79",
   "metadata": {},
   "outputs": [],
   "source": [
    "my_corpus_inf = [doc for docs_node in documents_all for doc in docs_node[(n_docs-n_docs_inf):n_docs]]\n",
    "\n",
    "docs_val_conv = [\" \".join(my_corpus_inf[i]) for i in np.arange(len(my_corpus_inf))]\n",
    "val_bow = cv.transform(docs_val_conv)\n",
    "val_bow = val_bow.toarray()\n",
    "val_data = BOWDataset(val_bow, idx2token)"
   ]
  },
  {
   "cell_type": "code",
   "execution_count": null,
   "id": "72b5558d",
   "metadata": {},
   "outputs": [],
   "source": [
    "thetas_inf = np.asarray(avitm.get_doc_topic_distribution(val_data))[(n_docs-n_docs_inf):n_docs,:] \n",
    "thetas_inf[thetas_inf < 3e-3] = 0\n",
    "thetas_inf = normalize(thetas_inf, axis=1, norm='l1')\n",
    "thetas_inf = sparse.csr_matrix(thetas_inf, copy=True)"
   ]
  },
  {
   "cell_type": "code",
   "execution_count": null,
   "id": "179ae753",
   "metadata": {},
   "outputs": [],
   "source": [
    "sim_mat_theoretical = np.sqrt(doc_topics_all[0][(n_docs-n_docs_inf):n_docs]).dot(np.sqrt(doc_topics_all[0][(n_docs-n_docs_inf):n_docs].T))\n",
    "sim_mat_actual = np.sqrt(thetas_inf).dot(np.sqrt(thetas_inf.T))\n",
    "print('Difference in evaluation of doc similarity:', np.sum(np.abs(sim_mat_theoretical - sim_mat_actual))/n_docs_inf)"
   ]
  },
  {
   "cell_type": "markdown",
   "id": "e015abc5",
   "metadata": {},
   "source": [
    "## 3.2. Just in one node approach"
   ]
  },
  {
   "cell_type": "code",
   "execution_count": null,
   "id": "68c3f1b1",
   "metadata": {},
   "outputs": [],
   "source": [
    "# Create model folder and save model training configuration\n",
    "modelname = \"prod_node0\"\n",
    "modeldir = Path(\"/export/usuarios_ml4ds/lbartolome/data/project_folder/TMmodels/Federated_test\").joinpath(modelname)\n",
    "if modeldir.exists():\n",
    "\n",
    "    # Remove current backup folder, if it exists\n",
    "    old_model_dir = Path(str(modeldir) + '_old/')\n",
    "    if old_model_dir.exists():\n",
    "        shutil.rmtree(old_model_dir)\n",
    "\n",
    "    # Copy current model folder to the backup folder.\n",
    "    shutil.move(modeldir, old_model_dir)\n",
    "    print(f'-- -- Creating backup of existing model in {old_model_dir}')"
   ]
  },
  {
   "cell_type": "code",
   "execution_count": null,
   "id": "5927b050",
   "metadata": {},
   "outputs": [],
   "source": [
    "my_corpus = documents_all[0][0:(n_docs-n_docs_inf)]"
   ]
  },
  {
   "cell_type": "code",
   "execution_count": null,
   "id": "1142b412",
   "metadata": {},
   "outputs": [],
   "source": [
    "cv = CountVectorizer(input='content', lowercase=True, stop_words='english', binary=False)\n",
    "docs = [\" \".join(my_corpus[i]) for i in np.arange(len(my_corpus))]\n",
    "train_bow = cv.fit_transform(docs).toarray()\n",
    "idx2token = cv.get_feature_names()\n",
    "train_dataset = BOWDataset(train_bow, idx2token)\n",
    "input_size = len(idx2token)\n",
    "id2token = {k: v for k, v in zip(range(0, len(idx2token)), idx2token)}"
   ]
  },
  {
   "cell_type": "code",
   "execution_count": null,
   "id": "2a352509",
   "metadata": {},
   "outputs": [],
   "source": [
    "avitm = AVITM(logger=None,\n",
    "              input_size=input_size,\n",
    "              n_components=n_topics,\n",
    "              model_type=\"prodLDA\",\n",
    "              hidden_sizes=(100, 100),\n",
    "              activation='softplus',\n",
    "              dropout=0.2,\n",
    "              learn_priors=True,\n",
    "              batch_size=64,\n",
    "              lr=2e-3,\n",
    "              momentum=0.99,\n",
    "              solver='adam',\n",
    "              num_epochs=100,\n",
    "              reduce_on_plateau=False,\n",
    "              topic_prior_mean=0.0,\n",
    "              topic_prior_variance=None,\n",
    "              num_samples=10,\n",
    "              num_data_loader_workers=0,\n",
    "              verbose=True)\n",
    "avitm.fit(train_dataset)"
   ]
  },
  {
   "cell_type": "code",
   "execution_count": null,
   "id": "f84c3630",
   "metadata": {},
   "outputs": [],
   "source": [
    "thetas = np.asarray(avitm.get_doc_topic_distribution(avitm.train_data)) \n",
    "thetas[thetas < 3e-3] = 0\n",
    "thetas = normalize(thetas, axis=1, norm='l1')\n",
    "thetas = sparse.csr_matrix(thetas, copy=True)\n",
    "\n",
    "betas = avitm.get_topic_word_distribution()\n",
    "all_words = ['wd'+str(word) for word in np.arange(vocab_size+1) if word > 0]\n",
    "betas = convert_topic_word_to_init_size(vocab_size=vocab_size,\n",
    "                                        model=avitm,\n",
    "                                        model_type=\"avitm\",\n",
    "                                        ntopics=n_topics,\n",
    "                                        id2token=id2token,\n",
    "                                        all_words=all_words)"
   ]
  },
  {
   "cell_type": "code",
   "execution_count": null,
   "id": "1155e69b",
   "metadata": {},
   "outputs": [],
   "source": [
    "print('Tópicos (equivalentes) evaluados correctamente:', np.sum(np.max(np.sqrt(betas).dot(np.sqrt(topic_vectors.T)), axis=0)))"
   ]
  },
  {
   "cell_type": "code",
   "execution_count": null,
   "id": "c6f2c403",
   "metadata": {},
   "outputs": [],
   "source": [
    "sim_mat_theoretical = np.sqrt(doc_topics_all[0][0:(n_docs-n_docs_inf)]).dot(np.sqrt(doc_topics_all[0][0:(n_docs-n_docs_inf)].T))\n",
    "print('Difference in evaluation of doc similarity:', np.sum(np.abs(sim_mat_theoretical - sim_mat_actual))/n_docs)"
   ]
  },
  {
   "cell_type": "markdown",
   "id": "55aa3c73",
   "metadata": {},
   "source": [
    "### 3.2.1. Inference on node approach"
   ]
  },
  {
   "cell_type": "code",
   "execution_count": null,
   "id": "e5760211",
   "metadata": {},
   "outputs": [],
   "source": [
    "my_corpus_inf = documents_all[0][(n_docs-n_docs_inf):n_docs]\n",
    "docs_val_conv = [\" \".join(my_corpus_inf[i]) for i in np.arange(len(my_corpus_inf))]\n",
    "val_bow = cv.transform(docs_val_conv)\n",
    "val_bow = val_bow.toarray()\n",
    "val_data = BOWDataset(val_bow, idx2token)"
   ]
  },
  {
   "cell_type": "code",
   "execution_count": null,
   "id": "706b09f1",
   "metadata": {},
   "outputs": [],
   "source": [
    "thetas_inf = np.asarray(avitm.get_doc_topic_distribution(val_data))\n",
    "thetas_inf[thetas_inf < 3e-3] = 0\n",
    "thetas_inf = normalize(thetas_inf, axis=1, norm='l1')\n",
    "thetas_inf = sparse.csr_matrix(thetas_inf, copy=True)"
   ]
  },
  {
   "cell_type": "code",
   "execution_count": null,
   "id": "aee6a694",
   "metadata": {},
   "outputs": [],
   "source": [
    "print(thetas_inf.shape)"
   ]
  },
  {
   "cell_type": "code",
   "execution_count": null,
   "id": "798e6a3d",
   "metadata": {},
   "outputs": [],
   "source": [
    "sim_mat_theoretical_inf = np.sqrt(doc_topics_all[0][(n_docs-n_docs_inf):n_docs]).dot(np.sqrt(doc_topics_all[0][(n_docs-n_docs_inf):n_docs].T))\n",
    "sim_mat_actual_inf = np.sqrt(thetas_inf).dot(np.sqrt(thetas_inf.T))\n",
    "print('Difference in evaluation of doc similarity of inferred docs:', np.sum(np.abs(sim_mat_theoretical_inf - sim_mat_actual_inf))/n_docs_inf)"
   ]
  }
 ],
 "metadata": {
  "kernelspec": {
   "display_name": "Python 3 (ipykernel)",
   "language": "python",
   "name": "python3"
  },
  "language_info": {
   "codemirror_mode": {
    "name": "ipython",
    "version": 3
   },
   "file_extension": ".py",
   "mimetype": "text/x-python",
   "name": "python",
   "nbconvert_exporter": "python",
   "pygments_lexer": "ipython3",
   "version": "3.8.13"
  }
 },
 "nbformat": 4,
 "nbformat_minor": 5
}

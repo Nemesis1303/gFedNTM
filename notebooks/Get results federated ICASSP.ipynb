{
 "cells": [
  {
   "cell_type": "code",
   "execution_count": 1,
   "id": "2eb69fe3",
   "metadata": {},
   "outputs": [],
   "source": [
    "from pathlib import Path\n",
    "import numpy as np\n",
    "import pandas as pd\n",
    "from tqdm import tqdm\n",
    "import matplotlib.pyplot as plt\n",
    "%matplotlib inline\n",
    "%config InlineBackend.figure_format = 'retina' \n",
    "plt.rcParams.update({'font.size': 16})"
   ]
  },
  {
   "cell_type": "code",
   "execution_count": 3,
   "id": "e7e962c2",
   "metadata": {},
   "outputs": [
    {
     "name": "stdout",
     "output_type": "stream",
     "text": [
      "/export/usuarios_ml4ds/lbartolome/experiments_federated/centralized_model_50_20221025\n",
      "(50, 65926)\n",
      "/export/usuarios_ml4ds/lbartolome/experiments_federated/centralized_model_20221022\n",
      "(10, 65926)\n",
      "/export/usuarios_ml4ds/lbartolome/experiments_federated/model_node_1_20221023\n",
      "(10, 53053)\n",
      "/export/usuarios_ml4ds/lbartolome/experiments_federated/model_node_2_20221023\n",
      "(10, 51812)\n",
      "/export/usuarios_ml4ds/lbartolome/experiments_federated/centralized_model_25_20221025\n",
      "(25, 65926)\n",
      "/export/usuarios_ml4ds/lbartolome/experiments_federated/model_node_5_20221023\n",
      "(10, 51251)\n",
      "/export/usuarios_ml4ds/lbartolome/experiments_federated/model_node_3_20221023\n",
      "(10, 56010)\n",
      "/export/usuarios_ml4ds/lbartolome/experiments_federated/model_node_4_20221023\n",
      "(10, 46157)\n"
     ]
    }
   ],
   "source": [
    "path_new = Path(\"/export/usuarios_ml4ds/lbartolome/experiments_federated\")\n",
    "res = []\n",
    "for entry in path_new.iterdir():\n",
    "    print(entry)\n",
    "    path_betas = entry.joinpath('TMmodel/betas.npy')\n",
    "    if path_betas.is_file():\n",
    "        betas = np.load(path_betas)\n",
    "        print(betas.shape)"
   ]
  },
  {
   "cell_type": "code",
   "execution_count": 4,
   "id": "9dae59df",
   "metadata": {},
   "outputs": [
    {
     "data": {
      "text/html": [
       "<div>\n",
       "<style scoped>\n",
       "    .dataframe tbody tr th:only-of-type {\n",
       "        vertical-align: middle;\n",
       "    }\n",
       "\n",
       "    .dataframe tbody tr th {\n",
       "        vertical-align: top;\n",
       "    }\n",
       "\n",
       "    .dataframe thead th {\n",
       "        text-align: right;\n",
       "    }\n",
       "</style>\n",
       "<table border=\"1\" class=\"dataframe\">\n",
       "  <thead>\n",
       "    <tr style=\"text-align: right;\">\n",
       "      <th></th>\n",
       "      <th>id</th>\n",
       "      <th>cohrs</th>\n",
       "      <th>topics</th>\n",
       "      <th>alphas</th>\n",
       "    </tr>\n",
       "  </thead>\n",
       "  <tbody>\n",
       "    <tr>\n",
       "      <th>0</th>\n",
       "      <td>0</td>\n",
       "      <td>[]</td>\n",
       "      <td>[]</td>\n",
       "      <td>[]</td>\n",
       "    </tr>\n",
       "    <tr>\n",
       "      <th>1</th>\n",
       "      <td>0</td>\n",
       "      <td>[]</td>\n",
       "      <td>[]</td>\n",
       "      <td>[]</td>\n",
       "    </tr>\n",
       "    <tr>\n",
       "      <th>2</th>\n",
       "      <td>0</td>\n",
       "      <td>[0.7465482067275782, 0.7357006733445852, 0.161...</td>\n",
       "      <td>[film, philosophy, literary, aesthetic, charac...</td>\n",
       "      <td>[0.11403965438585839, 0.10487708309351067, 0.1...</td>\n",
       "    </tr>\n",
       "    <tr>\n",
       "      <th>3</th>\n",
       "      <td>1</td>\n",
       "      <td>[0.7252653308650905, 0.7509436912263135, 0.318...</td>\n",
       "      <td>[notation, calculus, clause, rewrite, verb, pa...</td>\n",
       "      <td>[0.10623854496530644, 0.10532112575415824, 0.1...</td>\n",
       "    </tr>\n",
       "    <tr>\n",
       "      <th>4</th>\n",
       "      <td>2</td>\n",
       "      <td>[0.6947086815561072, 0.74657128695276, 0.68268...</td>\n",
       "      <td>[political, law, right, democracy, conflict, e...</td>\n",
       "      <td>[0.10882447538693371, 0.104504554863989, 0.103...</td>\n",
       "    </tr>\n",
       "    <tr>\n",
       "      <th>5</th>\n",
       "      <td>0</td>\n",
       "      <td>[]</td>\n",
       "      <td>[]</td>\n",
       "      <td>[]</td>\n",
       "    </tr>\n",
       "    <tr>\n",
       "      <th>6</th>\n",
       "      <td>0</td>\n",
       "      <td>[0.7950342576905022, 0.6693135626485827, 0.771...</td>\n",
       "      <td>[violation, enforcement, crime, duty, voting, ...</td>\n",
       "      <td>[0.04703833344930664, 0.04516255968710147, 0.0...</td>\n",
       "    </tr>\n",
       "    <tr>\n",
       "      <th>7</th>\n",
       "      <td>5</td>\n",
       "      <td>[0.27432689022162837, 0.7576529844944123, 0.26...</td>\n",
       "      <td>[modification, fine, inmate, judgement, redres...</td>\n",
       "      <td>[0.10793634612797814, 0.10447233996241827, 0.1...</td>\n",
       "    </tr>\n",
       "    <tr>\n",
       "      <th>8</th>\n",
       "      <td>3</td>\n",
       "      <td>[0.19696038097565213, 0.5822359655274469, 0.64...</td>\n",
       "      <td>[execution, restorative, riot, consolidation, ...</td>\n",
       "      <td>[0.10727765941286499, 0.1066796837178229, 0.10...</td>\n",
       "    </tr>\n",
       "    <tr>\n",
       "      <th>9</th>\n",
       "      <td>4</td>\n",
       "      <td>[0.37534602160360897, 0.5146439129618607, 0.45...</td>\n",
       "      <td>[marxist, socialism, freudian, intersubjectivi...</td>\n",
       "      <td>[0.11571239602784736, 0.10542280445010561, 0.1...</td>\n",
       "    </tr>\n",
       "  </tbody>\n",
       "</table>\n",
       "</div>"
      ],
      "text/plain": [
       "   id                                              cohrs  \\\n",
       "0   0                                                 []   \n",
       "1   0                                                 []   \n",
       "2   0  [0.7465482067275782, 0.7357006733445852, 0.161...   \n",
       "3   1  [0.7252653308650905, 0.7509436912263135, 0.318...   \n",
       "4   2  [0.6947086815561072, 0.74657128695276, 0.68268...   \n",
       "5   0                                                 []   \n",
       "6   0  [0.7950342576905022, 0.6693135626485827, 0.771...   \n",
       "7   5  [0.27432689022162837, 0.7576529844944123, 0.26...   \n",
       "8   3  [0.19696038097565213, 0.5822359655274469, 0.64...   \n",
       "9   4  [0.37534602160360897, 0.5146439129618607, 0.45...   \n",
       "\n",
       "                                              topics  \\\n",
       "0                                                 []   \n",
       "1                                                 []   \n",
       "2  [film, philosophy, literary, aesthetic, charac...   \n",
       "3  [notation, calculus, clause, rewrite, verb, pa...   \n",
       "4  [political, law, right, democracy, conflict, e...   \n",
       "5                                                 []   \n",
       "6  [violation, enforcement, crime, duty, voting, ...   \n",
       "7  [modification, fine, inmate, judgement, redres...   \n",
       "8  [execution, restorative, riot, consolidation, ...   \n",
       "9  [marxist, socialism, freudian, intersubjectivi...   \n",
       "\n",
       "                                              alphas  \n",
       "0                                                 []  \n",
       "1                                                 []  \n",
       "2  [0.11403965438585839, 0.10487708309351067, 0.1...  \n",
       "3  [0.10623854496530644, 0.10532112575415824, 0.1...  \n",
       "4  [0.10882447538693371, 0.104504554863989, 0.103...  \n",
       "5                                                 []  \n",
       "6  [0.04703833344930664, 0.04516255968710147, 0.0...  \n",
       "7  [0.10793634612797814, 0.10447233996241827, 0.1...  \n",
       "8  [0.10727765941286499, 0.1066796837178229, 0.10...  \n",
       "9  [0.11571239602784736, 0.10542280445010561, 0.1...  "
      ]
     },
     "execution_count": 4,
     "metadata": {},
     "output_type": "execute_result"
    }
   ],
   "source": [
    "path_new = Path(\"/export/usuarios_ml4ds/lbartolome/experiments_federated\")\n",
    "res = []\n",
    "for entry in path_new.iterdir():\n",
    "    # check if it is a file\n",
    "    if \"centralized\" in entry.as_posix():\n",
    "        model_id = 0\n",
    "    else:\n",
    "        model_id = int(entry.as_posix().split(\"node_\")[1].split(\"_\")[0])\n",
    "    path_cohrs = entry.joinpath('TMmodel/topic_coherence.npy')\n",
    "    if path_cohrs.is_file():\n",
    "        cohrs = np.load(path_cohrs)\n",
    "    else:\n",
    "        cohrs = []\n",
    "    path_desc = entry.joinpath('TMmodel/tpc_descriptions.txt')\n",
    "    if path_desc.is_file():\n",
    "        with path_desc.open('r', encoding='utf8') as fin:\n",
    "            topics = [el.strip() for el in fin.readlines()]\n",
    "    else:\n",
    "        topics = []\n",
    "    path_alphas = entry.joinpath('TMmodel/alphas.npy')\n",
    "    if path_alphas.is_file():\n",
    "        alphas = np.load(path_alphas)\n",
    "    else:\n",
    "        alphas = []\n",
    "    res.append([model_id, cohrs, topics, alphas])\n",
    "\n",
    "df = pd.DataFrame(res)\n",
    "df.columns = [\"id\", \"cohrs\", \"topics\", \"alphas\"]\n",
    "df"
   ]
  },
  {
   "cell_type": "code",
   "execution_count": 58,
   "id": "eceeb816",
   "metadata": {},
   "outputs": [
    {
     "data": {
      "text/plain": [
       "['execution, restorative, riot, consolidation, penal, criminology, assembly, outbreak, constituency, scottish, veteran, genocide, bureaucracy, populist, aggression',\n",
       " 'confucian, harmonious, cultivation, connotation, humanistic, round, outlook, realistic, carrier, harmony, humanism, modernization, socialism, chinese, talent',\n",
       " 'law, legal, party, state, right, constitutional, military, international, rule, government, democracy, democratic, regime, judicial, security',\n",
       " 'learner, literacy, engineering, competency, competence, classroom, pedagogical, teaching, instruction, pedagogy, programme, lecturer, undergraduate, educator, curriculum',\n",
       " 'migrant, household, immigrant, migration, neighborhood, resident, housing, rural, income, youth, adolescent, labour, parental, elderly, employment',\n",
       " 'feminist, writer, religion, character, jewish, novel, christian, story, religious, feminism, history, sexuality, poetry, queer, film',\n",
       " 'ranking, handbook, email, tip, inventory, consultant, rating, catalog, load, date, telephone, mail, ceo, bibliometric, romanian',\n",
       " 'coffee, hidden, crossing, romanian, interrupt, restaurant, trans, interior, autoethnography, skin, textile, liminal, stone, caribbean, internalize',\n",
       " 'linguistic, translation, semantic, brand, news, speaker, communicative, semiotic, cognitive, game, pragmatic, conceptual, metaphor, epistemology, discursive',\n",
       " 'change, understanding, social, important, value, people, different, problem, education, society, school, individual, life, year, practice']"
      ]
     },
     "execution_count": 58,
     "metadata": {},
     "output_type": "execute_result"
    }
   ],
   "source": [
    "model = 3\n",
    "topics = df[df.id == model].topics.tolist()[0]\n",
    "alphas = df[df.id == model].alphas.tolist()[0]\n",
    "cohrs = df[df.id == model].cohrs.tolist()[0]\n",
    "topics_alphas_cohrs = [[el[0],el[1],el[2]] for el in zip(topics,alphas,cohrs)]\n",
    "df_el = pd.DataFrame(topics_alphas_cohrs)\n",
    "df_el.columns = [\"topics\", \"alphas\", \"cohrs\"]\n",
    "df_el = df_el.sort_values(by=['alphas'],ascending=False)\n",
    "df_el.topics.tolist()"
   ]
  },
  {
   "cell_type": "code",
   "execution_count": 40,
   "id": "79ce3706",
   "metadata": {},
   "outputs": [
    {
     "name": "stdout",
     "output_type": "stream",
     "text": [
      "65926\n",
      "(10, 65926)\n"
     ]
    }
   ],
   "source": [
    "path_fed = Path(\"/export/usuarios_ml4ds/lbartolome/experiments_federated/centralized_model_20221022\")\n",
    "vocab_w2id = {}\n",
    "vocab_id2w = {}\n",
    "vocab_fed = []\n",
    "with path_fed.joinpath(\"TMmodel/vocab.txt\").open('r', encoding='utf8') as fin:\n",
    "    for i, line in enumerate(fin):\n",
    "        wd = line.strip()\n",
    "        vocab_w2id[wd] = int(i)\n",
    "        vocab_id2w[str(i)] = wd\n",
    "        vocab_fed.append(wd)\n",
    "print(len(vocab_w2id))\n",
    "betas = np.load(path_fed.joinpath('TMmodel/betas.npy'))\n",
    "print(betas.shape)"
   ]
  },
  {
   "cell_type": "code",
   "execution_count": 66,
   "id": "fc92ade8",
   "metadata": {},
   "outputs": [
    {
     "name": "stdout",
     "output_type": "stream",
     "text": [
      "(25, 65926)\n",
      "(50, 65926)\n"
     ]
    }
   ],
   "source": [
    "path_fed = Path(\"/export/usuarios_ml4ds/lbartolome/experiments_federated/centralized_model_25_20221025\")\n",
    "betas25 = np.load(path_fed.joinpath('TMmodel/betas.npy'))\n",
    "print(betas25.shape)\n",
    "\n",
    "path_fed = Path(\"/export/usuarios_ml4ds/lbartolome/experiments_federated/centralized_model_50_20221025\")\n",
    "betas50 = np.load(path_fed.joinpath('TMmodel/betas.npy'))\n",
    "print(betas50.shape)"
   ]
  },
  {
   "cell_type": "code",
   "execution_count": 127,
   "id": "8b7f7ad8",
   "metadata": {},
   "outputs": [
    {
     "name": "stdout",
     "output_type": "stream",
     "text": [
      "TOPIC 0: violation, enforcement, crime, duty, voting, judicial, vote, jurisdiction, legislative, judge, trial, obligation, procedural, litigation, punishment\n",
      "\n",
      "TOPIC 1: image, color, segmentation, brain, segment, reconstruction, synthetic, registration, wavelet, fusion, scene, diagnosis, resolution, label, recognition\n",
      "\n",
      "TOPIC 2: portfolio, default, bond, conditional, equity, dividend, trading, announcement, valuation, return, hedge, trader, investor, risky, asymmetry\n",
      "\n",
      "TOPIC 3: famous, passage, greek, letter, manuscript, forget, tragedy, sacrifice, painting, die, infectious, catholic, edition, remember, beauty\n",
      "\n",
      "TOPIC 4: retirement, occupational, demographic, job, fertility, elderly, pension, mortality, housing, occupation, employer, hospital, cohort, resident, birth\n",
      "\n",
      "TOPIC 5: theorem, bound, formula, player, infinite, generalized, converge, polynomial, deterministic, exact, bind, exponential, quadratic, theoretic, algebraic\n",
      "\n",
      "TOPIC 6: talent, cultivate, cultivation, specialty, countermeasure, campus, popularization, innovate, harmonious, qualified, talented, vocational, connotation, pupil, cadre\n",
      "\n",
      "TOPIC 7: nominal, causality, deficit, macro, openness, euro, accumulation, unidirectional, cyclical, keynesian, lag, rigidity, float, panel, adjustment\n",
      "\n",
      "TOPIC 8: indigenous, sport, news, identity, dominant, everyday, heritage, citizenship, ethnographic, race, diversity, television, racism, sphere, discursive\n",
      "\n",
      "TOPIC 9: disclose, invention, mechanical, comprise, motor, assembly, apparatus, plurality, contact, robot, electrical, flight, arm, driving, mount\n",
      "\n",
      "TOPIC 10: secure, internet, attack, privacy, cloud, smart, deployment, encryption, phone, protocol, request, deploy, sharing, secret, route\n",
      "\n",
      "TOPIC 11: epistemic, logical, rationality, universal, epistemology, ontological, realism, distinction, cognition, epistemological, proposition, pragmatic, psychology, metaphor, intuition\n",
      "\n",
      "TOPIC 12: grade, secondary, literacy, classroom, elementary, faculty, learner, instruction, undergraduate, educator, preparation, prepare, pedagogical, skill, campus\n",
      "\n",
      "TOPIC 13: stakeholder, organization, entrepreneurship, managerial, entrepreneur, originality, tourism, team, accounting, collaboration, practitioner, hospital, satisfaction, marketing, partnership\n",
      "\n",
      "TOPIC 14: quantifiable, attainable, unforeseen, longterm, reliant, caveat, commensurate, timeframe, dependant, complimentary, finalize, daunting, appreciable, allot, entice\n",
      "\n",
      "TOPIC 15: plant, electricity, gas, producer, crop, pollution, transportation, water, fuel, waste, forest, conservation, green, renewable, coal\n",
      "\n",
      "TOPIC 16: quantifiable, extrapolate, commensurate, complimentary, http, org, timeframe, daunting, deleterious, existing, unplanned, infancy, unforeseen, advisable, caveat\n",
      "\n",
      "TOPIC 17: advisable, quantifiable, existing, daunting, outdated, longterm, http, unforeseen, commensurate, intended, org, caveat, deleterious, keeping, complimentary\n",
      "\n",
      "TOPIC 18: spectrum, fade, propagation, hybrid, symbol, interference, channel, carrier, coding, conventional, band, division, radio, modulation, transient\n",
      "\n",
      "TOPIC 19: mining, protein, genome, label, visualization, gene, graphical, corpus, dictionary, annotation, format, molecular, dependency, biological, retrieve\n",
      "\n",
      "TOPIC 20: cooperation, transition, russian, negotiation, border, globalization, nuclear, bilateral, diplomacy, soviet, capitalist, decentralization, military, multilateral, asian\n",
      "\n",
      "TOPIC 21: reader, tell, editor, church, title, character, day, figure, want, leave, bear, ask, feel, die, late\n",
      "\n",
      "TOPIC 22: indicator, net, negative, banking, panel, finance, positive, credit, percent, run, loan, aggregate, industrial, direct, index\n",
      "\n",
      "TOPIC 23: member, legal, state, private, federal, right, protection, action, law, group, local, standard, goal, agency, public\n",
      "\n",
      "TOPIC 24: thesis, game, selection, physical, planning, interaction, experiment, stage, material, specific, spatial, different, scenario, agent, mathematical\n",
      "\n"
     ]
    }
   ],
   "source": [
    "path_desc = Path(\"/export/usuarios_ml4ds/lbartolome/experiments_federated/centralized_model_25_20221025\").joinpath('TMmodel/tpc_descriptions.txt')\n",
    "with path_desc.open('r', encoding='utf8') as fin:\n",
    "    topics = [el.strip() for el in fin.readlines()]\n",
    "for topic in range(len(topics)):\n",
    "    print(\"TOPIC \" + str(topic) + \": \"+ topics[topic] + \"\\n\")"
   ]
  },
  {
   "cell_type": "code",
   "execution_count": 41,
   "id": "69983081",
   "metadata": {},
   "outputs": [
    {
     "name": "stdout",
     "output_type": "stream",
     "text": [
      "53053\n",
      "(10, 53053)\n"
     ]
    }
   ],
   "source": [
    "path_model = Path(\"/export/usuarios_ml4ds/lbartolome/experiments_federated/model_node_1_20221023\")\n",
    "vocab_w2id_node = {}\n",
    "vocab_id2w_node = {}\n",
    "vocab_fed_node = []\n",
    "with path_model.joinpath(\"TMmodel/vocab.txt\").open('r', encoding='utf8') as fin:\n",
    "    for i, line in enumerate(fin):\n",
    "        wd = line.strip()\n",
    "        vocab_w2id_node[wd] = int(i)\n",
    "        vocab_id2w_node[str(i)] = wd\n",
    "        vocab_fed_node.append(wd)\n",
    "print(len(vocab_w2id_node))\n",
    "betas_node = np.load(path_model.joinpath('TMmodel/betas.npy'))\n",
    "print(betas_node.shape)"
   ]
  },
  {
   "cell_type": "code",
   "execution_count": 50,
   "id": "e205b068",
   "metadata": {},
   "outputs": [
    {
     "name": "stdout",
     "output_type": "stream",
     "text": [
      "['0001', '001', '002', '009', '01', '02', '03', '0400', '05', '05월', '0d', '0f', '0n', '0s', '0v', '10', '100', '1002', '1007', '100k']\n",
      "['0001', '001', '002', '009', '01', '02', '03', '0400', '05', '05월', '0d', '0f', '0n', '0pt', '0s', '0v', '10', '100', '1002', '1007']\n"
     ]
    }
   ],
   "source": [
    "print(vocab_fed_node[0:20])\n",
    "print(vocab_fed[0:20])"
   ]
  },
  {
   "cell_type": "code",
   "execution_count": 54,
   "id": "982db52c",
   "metadata": {},
   "outputs": [
    {
     "name": "stderr",
     "output_type": "stream",
     "text": [
      "\r",
      "  0%|                                                                                                              | 0/10 [00:00<?, ?it/s]"
     ]
    },
    {
     "name": "stdout",
     "output_type": "stream",
     "text": [
      "0/53053\n",
      "10000/53053\n",
      "20000/53053\n",
      "30000/53053\n",
      "40000/53053\n",
      "50000/53053\n"
     ]
    },
    {
     "name": "stderr",
     "output_type": "stream",
     "text": [
      "\r",
      " 10%|█████████▊                                                                                        | 1/10 [28:12<4:13:49, 1692.19s/it]"
     ]
    },
    {
     "name": "stdout",
     "output_type": "stream",
     "text": [
      "0/53053\n",
      "10000/53053\n",
      "20000/53053\n",
      "30000/53053\n",
      "40000/53053\n",
      "50000/53053\n"
     ]
    },
    {
     "name": "stderr",
     "output_type": "stream",
     "text": [
      "\r",
      " 20%|███████████████████▌                                                                              | 2/10 [56:42<3:47:03, 1702.95s/it]"
     ]
    },
    {
     "name": "stdout",
     "output_type": "stream",
     "text": [
      "0/53053\n",
      "10000/53053\n",
      "20000/53053\n",
      "30000/53053\n",
      "40000/53053\n",
      "50000/53053\n"
     ]
    },
    {
     "name": "stderr",
     "output_type": "stream",
     "text": [
      "\r",
      " 30%|████████████████████████████▊                                                                   | 3/10 [1:25:44<3:20:46, 1720.90s/it]"
     ]
    },
    {
     "name": "stdout",
     "output_type": "stream",
     "text": [
      "0/53053\n",
      "10000/53053\n",
      "20000/53053\n",
      "30000/53053\n",
      "40000/53053\n",
      "50000/53053\n"
     ]
    },
    {
     "name": "stderr",
     "output_type": "stream",
     "text": [
      "\r",
      " 40%|██████████████████████████████████████▍                                                         | 4/10 [1:54:33<2:52:23, 1723.94s/it]"
     ]
    },
    {
     "name": "stdout",
     "output_type": "stream",
     "text": [
      "0/53053\n",
      "10000/53053\n",
      "20000/53053\n",
      "30000/53053\n",
      "40000/53053\n",
      "50000/53053\n"
     ]
    },
    {
     "name": "stderr",
     "output_type": "stream",
     "text": [
      "\r",
      " 50%|████████████████████████████████████████████████                                                | 5/10 [2:22:44<2:22:40, 1712.19s/it]"
     ]
    },
    {
     "name": "stdout",
     "output_type": "stream",
     "text": [
      "0/53053\n",
      "10000/53053\n",
      "20000/53053\n",
      "30000/53053\n",
      "40000/53053\n",
      "50000/53053\n"
     ]
    },
    {
     "name": "stderr",
     "output_type": "stream",
     "text": [
      "\r",
      " 60%|█████████████████████████████████████████████████████████▌                                      | 6/10 [2:52:53<1:56:19, 1744.83s/it]"
     ]
    },
    {
     "name": "stdout",
     "output_type": "stream",
     "text": [
      "0/53053\n",
      "10000/53053\n",
      "20000/53053\n",
      "30000/53053\n",
      "40000/53053\n",
      "50000/53053\n"
     ]
    },
    {
     "name": "stderr",
     "output_type": "stream",
     "text": [
      "\r",
      " 70%|███████████████████████████████████████████████████████████████████▏                            | 7/10 [3:20:26<1:25:44, 1714.88s/it]"
     ]
    },
    {
     "name": "stdout",
     "output_type": "stream",
     "text": [
      "0/53053\n",
      "10000/53053\n",
      "20000/53053\n",
      "30000/53053\n",
      "40000/53053\n",
      "50000/53053\n"
     ]
    },
    {
     "name": "stderr",
     "output_type": "stream",
     "text": [
      "\r",
      " 80%|██████████████████████████████████████████████████████████████████████████████▍                   | 8/10 [3:48:03<56:32, 1696.44s/it]"
     ]
    },
    {
     "name": "stdout",
     "output_type": "stream",
     "text": [
      "0/53053\n",
      "10000/53053\n",
      "20000/53053\n",
      "30000/53053\n",
      "40000/53053\n",
      "50000/53053\n"
     ]
    },
    {
     "name": "stderr",
     "output_type": "stream",
     "text": [
      "\r",
      " 90%|████████████████████████████████████████████████████████████████████████████████████████▏         | 9/10 [4:15:13<27:55, 1675.88s/it]"
     ]
    },
    {
     "name": "stdout",
     "output_type": "stream",
     "text": [
      "0/53053\n",
      "10000/53053\n",
      "20000/53053\n",
      "30000/53053\n",
      "40000/53053\n",
      "50000/53053\n"
     ]
    },
    {
     "name": "stderr",
     "output_type": "stream",
     "text": [
      "100%|█████████████████████████████████████████████████████████████████████████████████████████████████| 10/10 [4:42:43<00:00, 1696.39s/it]\n"
     ]
    }
   ],
   "source": [
    "w_t_distrib = np.zeros((betas.shape[0], betas.shape[1]), dtype=np.float64)\n",
    "for i in tqdm(np.arange(betas.shape[0])):\n",
    "    for idx in vocab_id2w_node:\n",
    "        if int(idx)%10000==0:\n",
    "            print(idx + \"/\" + str(len(vocab_id2w_node)))\n",
    "        for j in np.arange(betas.shape[1]):\n",
    "            if vocab_id2w_node[idx] == vocab_id2w[str(j)]:\n",
    "                w_t_distrib[i, j] = betas_node[i][int(idx)]\n",
    "                break"
   ]
  },
  {
   "cell_type": "code",
   "execution_count": 120,
   "id": "29f0cec6",
   "metadata": {},
   "outputs": [],
   "source": [
    "path_model1 = Path(\"/export/usuarios_ml4ds/lbartolome/experiments_federated/model_node_1_20221023\")\n",
    "np.save(path_model1.joinpath('TMmodel/betas_matched.npy'), w_t_distrib)"
   ]
  },
  {
   "cell_type": "code",
   "execution_count": 55,
   "id": "b770cf0d",
   "metadata": {},
   "outputs": [
    {
     "name": "stdout",
     "output_type": "stream",
     "text": [
      "51812\n",
      "(10, 51812)\n"
     ]
    }
   ],
   "source": [
    "path_model2 = Path(\"/export/usuarios_ml4ds/lbartolome/experiments_federated/model_node_2_20221023\")\n",
    "vocab_w2id_node2 = {}\n",
    "vocab_id2w_node2 = {}\n",
    "with path_model2.joinpath(\"TMmodel/vocab.txt\").open('r', encoding='utf8') as fin:\n",
    "    for i, line in enumerate(fin):\n",
    "        wd = line.strip()\n",
    "        vocab_w2id_node2[wd] = int(i)\n",
    "        vocab_id2w_node2[str(i)] = wd\n",
    "print(len(vocab_w2id_node2))\n",
    "betas_node2 = np.load(path_model2.joinpath('TMmodel/betas.npy'))\n",
    "print(betas_node2.shape)"
   ]
  },
  {
   "cell_type": "code",
   "execution_count": 56,
   "id": "c95633c5",
   "metadata": {
    "scrolled": true
   },
   "outputs": [
    {
     "name": "stderr",
     "output_type": "stream",
     "text": [
      "\r",
      "  0%|                                                                                                              | 0/10 [00:00<?, ?it/s]"
     ]
    },
    {
     "name": "stdout",
     "output_type": "stream",
     "text": [
      "0/51812\n",
      "10000/51812\n",
      "20000/51812\n",
      "30000/51812\n",
      "40000/51812\n",
      "50000/51812\n"
     ]
    },
    {
     "name": "stderr",
     "output_type": "stream",
     "text": [
      "\r",
      " 10%|█████████▊                                                                                        | 1/10 [26:51<4:01:39, 1611.09s/it]"
     ]
    },
    {
     "name": "stdout",
     "output_type": "stream",
     "text": [
      "0/51812\n",
      "10000/51812\n",
      "20000/51812\n",
      "30000/51812\n",
      "40000/51812\n",
      "50000/51812\n"
     ]
    },
    {
     "name": "stderr",
     "output_type": "stream",
     "text": [
      "\r",
      " 20%|███████████████████▌                                                                              | 2/10 [53:36<3:34:20, 1607.58s/it]"
     ]
    },
    {
     "name": "stdout",
     "output_type": "stream",
     "text": [
      "0/51812\n",
      "10000/51812\n",
      "20000/51812\n",
      "30000/51812\n",
      "40000/51812\n",
      "50000/51812\n"
     ]
    },
    {
     "name": "stderr",
     "output_type": "stream",
     "text": [
      "\r",
      " 30%|████████████████████████████▊                                                                   | 3/10 [1:20:10<3:06:49, 1601.35s/it]"
     ]
    },
    {
     "name": "stdout",
     "output_type": "stream",
     "text": [
      "0/51812\n",
      "10000/51812\n",
      "20000/51812\n",
      "30000/51812\n",
      "40000/51812\n",
      "50000/51812\n"
     ]
    },
    {
     "name": "stderr",
     "output_type": "stream",
     "text": [
      "\r",
      " 40%|██████████████████████████████████████▍                                                         | 4/10 [1:47:05<2:40:41, 1606.95s/it]"
     ]
    },
    {
     "name": "stdout",
     "output_type": "stream",
     "text": [
      "0/51812\n",
      "10000/51812\n",
      "20000/51812\n",
      "30000/51812\n",
      "40000/51812\n",
      "50000/51812\n"
     ]
    },
    {
     "name": "stderr",
     "output_type": "stream",
     "text": [
      "\r",
      " 50%|████████████████████████████████████████████████                                                | 5/10 [2:13:49<2:13:49, 1605.82s/it]"
     ]
    },
    {
     "name": "stdout",
     "output_type": "stream",
     "text": [
      "0/51812\n",
      "10000/51812\n",
      "20000/51812\n",
      "30000/51812\n",
      "40000/51812\n",
      "50000/51812\n"
     ]
    },
    {
     "name": "stderr",
     "output_type": "stream",
     "text": [
      "\r",
      " 60%|█████████████████████████████████████████████████████████▌                                      | 6/10 [2:40:45<1:47:16, 1609.16s/it]"
     ]
    },
    {
     "name": "stdout",
     "output_type": "stream",
     "text": [
      "0/51812\n",
      "10000/51812\n",
      "20000/51812\n",
      "30000/51812\n",
      "40000/51812\n",
      "50000/51812\n"
     ]
    },
    {
     "name": "stderr",
     "output_type": "stream",
     "text": [
      "\r",
      " 70%|███████████████████████████████████████████████████████████████████▏                            | 7/10 [3:09:08<1:22:00, 1640.08s/it]"
     ]
    },
    {
     "name": "stdout",
     "output_type": "stream",
     "text": [
      "0/51812\n",
      "10000/51812\n",
      "20000/51812\n",
      "30000/51812\n",
      "40000/51812\n",
      "50000/51812\n"
     ]
    },
    {
     "name": "stderr",
     "output_type": "stream",
     "text": [
      "\r",
      " 80%|██████████████████████████████████████████████████████████████████████████████▍                   | 8/10 [3:36:25<54:37, 1638.82s/it]"
     ]
    },
    {
     "name": "stdout",
     "output_type": "stream",
     "text": [
      "0/51812\n",
      "10000/51812\n",
      "20000/51812\n",
      "30000/51812\n",
      "40000/51812\n",
      "50000/51812\n"
     ]
    },
    {
     "name": "stderr",
     "output_type": "stream",
     "text": [
      "\r",
      " 90%|████████████████████████████████████████████████████████████████████████████████████████▏         | 9/10 [4:05:21<27:49, 1669.50s/it]"
     ]
    },
    {
     "name": "stdout",
     "output_type": "stream",
     "text": [
      "0/51812\n",
      "10000/51812\n",
      "20000/51812\n",
      "30000/51812\n",
      "40000/51812\n",
      "50000/51812\n"
     ]
    },
    {
     "name": "stderr",
     "output_type": "stream",
     "text": [
      "100%|█████████████████████████████████████████████████████████████████████████████████████████████████| 10/10 [4:33:51<00:00, 1643.11s/it]\n"
     ]
    }
   ],
   "source": [
    "w_t_distrib2 = np.zeros((betas.shape[0], betas.shape[1]), dtype=np.float64)\n",
    "for i in tqdm(np.arange(betas.shape[0])):\n",
    "    for idx in vocab_id2w_node2:\n",
    "        if int(idx)%10000==0:\n",
    "            print(idx + \"/\" + str(len(vocab_id2w_node2)))\n",
    "        for j in np.arange(betas.shape[1]):\n",
    "            if vocab_id2w_node2[idx] == vocab_id2w[str(j)]:\n",
    "                w_t_distrib2[i, j] = betas_node2[i][int(idx)]\n",
    "                break"
   ]
  },
  {
   "cell_type": "code",
   "execution_count": 121,
   "id": "e4fe05bb",
   "metadata": {},
   "outputs": [],
   "source": [
    "path_model2 = Path(\"/export/usuarios_ml4ds/lbartolome/experiments_federated/model_node_2_20221023\")\n",
    "np.save(path_model2.joinpath('TMmodel/betas_matched.npy'), w_t_distrib2)"
   ]
  },
  {
   "cell_type": "code",
   "execution_count": 72,
   "id": "1c67fede",
   "metadata": {},
   "outputs": [
    {
     "name": "stdout",
     "output_type": "stream",
     "text": [
      "(10, 65926)\n",
      "(10, 65926)\n",
      "(10, 65926)\n",
      "[0.99998316 0.99997851 0.99998657 0.99998751 0.99997914 0.99997754\n",
      " 0.99997838 0.99997932 0.99997865 0.99997934]\n"
     ]
    }
   ],
   "source": [
    "print(betas.shape)\n",
    "print(w_t_distrib.shape)\n",
    "print(w_t_distrib2.shape)\n",
    "print(np.sum(w_t_distrib,axis=1))"
   ]
  },
  {
   "cell_type": "code",
   "execution_count": 141,
   "id": "f78ac0e8",
   "metadata": {},
   "outputs": [
    {
     "name": "stdout",
     "output_type": "stream",
     "text": [
      "(10, 65926)\n"
     ]
    }
   ],
   "source": [
    "path_model3 = Path(\"/export/usuarios_ml4ds/lbartolome/experiments_federated/model_node_3_20221023\")\n",
    "w_t_distrib3 =  np.load(path_model3.joinpath('TMmodel/betas_matched.npy'))\n",
    "print(w_t_distrib3.shape)"
   ]
  },
  {
   "cell_type": "code",
   "execution_count": 112,
   "id": "1e8ffec9",
   "metadata": {},
   "outputs": [
    {
     "name": "stdout",
     "output_type": "stream",
     "text": [
      "(10, 65926)\n"
     ]
    }
   ],
   "source": [
    "path_model4 = Path(\"/export/usuarios_ml4ds/lbartolome/experiments_federated/model_node_4_20221023\")\n",
    "w_t_distrib4 =  np.load(path_model4.joinpath('TMmodel/betas_matched.npy'))\n",
    "print(w_t_distrib4.shape)"
   ]
  },
  {
   "cell_type": "code",
   "execution_count": 145,
   "id": "e932e7d9",
   "metadata": {},
   "outputs": [
    {
     "name": "stdout",
     "output_type": "stream",
     "text": [
      "(10, 65926)\n"
     ]
    }
   ],
   "source": [
    "path_model5 = Path(\"/export/usuarios_ml4ds/lbartolome/experiments_federated/model_node_5_20221023\")\n",
    "w_t_distrib5 =  np.load(path_model5.joinpath('TMmodel/betas_matched.npy'))\n",
    "print(w_t_distrib5.shape)"
   ]
  },
  {
   "cell_type": "code",
   "execution_count": 146,
   "id": "3bf9836b",
   "metadata": {},
   "outputs": [
    {
     "name": "stdout",
     "output_type": "stream",
     "text": [
      "8.139099909766426\n",
      "8.094392232533076\n",
      "8.513202686761367\n",
      "7.545049088274658\n",
      "7.545049088274658\n",
      "5.0420409738217336\n",
      "5.0585195098850955\n",
      "5.520204908774028\n",
      "4.673144043278356\n",
      "5.018029654686424\n",
      "2.553249759714019\n",
      "2.492021834089632\n",
      "2.497879026409809\n",
      "2.4597029705003055\n",
      "2.430455319438624\n"
     ]
    }
   ],
   "source": [
    "score_betas_node1 = np.sum(np.max(np.sqrt(betas).dot(np.sqrt(w_t_distrib.T)), axis=0))\n",
    "print(score_betas_node1)\n",
    "\n",
    "score_betas_node2 = np.sum(np.max(np.sqrt(betas).dot(np.sqrt(w_t_distrib2.T)), axis=0))\n",
    "print(score_betas_node2)\n",
    "\n",
    "score_betas_node3 = np.sum(np.max(np.sqrt(betas).dot(np.sqrt(w_t_distrib3.T)), axis=0))\n",
    "print(score_betas_node3)\n",
    "score_betas_node4 = np.sum(np.max(np.sqrt(betas).dot(np.sqrt(w_t_distrib4.T)), axis=0))\n",
    "print(score_betas_node4)\n",
    "score_betas_node5 = np.sum(np.max(np.sqrt(betas).dot(np.sqrt(w_t_distrib5.T)), axis=0))\n",
    "print(score_betas_node4)\n",
    "\n",
    "#####\n",
    "\n",
    "score_betas25_node1 = np.sum(np.max(np.sqrt(betas25).dot(np.sqrt(w_t_distrib.T)), axis=0))\n",
    "print(score_betas25_node1)\n",
    "\n",
    "score_betas25_node2 = np.sum(np.max(np.sqrt(betas25).dot(np.sqrt(w_t_distrib2.T)), axis=0))\n",
    "print(score_betas25_node2)\n",
    "\n",
    "score_betas25_node3 = np.sum(np.max(np.sqrt(betas25).dot(np.sqrt(w_t_distrib3.T)), axis=0))\n",
    "print(score_betas25_node3)\n",
    "score_betas25_node4 = np.sum(np.max(np.sqrt(betas25).dot(np.sqrt(w_t_distrib4.T)), axis=0))\n",
    "print(score_betas25_node4)\n",
    "score_betas25_node5 = np.sum(np.max(np.sqrt(betas25).dot(np.sqrt(w_t_distrib5.T)), axis=0))\n",
    "print(score_betas25_node5)\n",
    "\n",
    "score_betas50_node1 = np.sum(np.max(np.sqrt(betas50).dot(np.sqrt(w_t_distrib.T)), axis=0))\n",
    "print(score_betas50_node1)\n",
    "\n",
    "score_betas50_node2 = np.sum(np.max(np.sqrt(betas50).dot(np.sqrt(w_t_distrib2.T)), axis=0))\n",
    "print(score_betas50_node2)\n",
    "\n",
    "score_betas50_node3 = np.sum(np.max(np.sqrt(betas50).dot(np.sqrt(w_t_distrib3.T)), axis=0))\n",
    "print(score_betas50_node3)\n",
    "score_betas50_node4 = np.sum(np.max(np.sqrt(betas50).dot(np.sqrt(w_t_distrib4.T)), axis=0))\n",
    "print(score_betas50_node4)\n",
    "score_betas50_node5 = np.sum(np.max(np.sqrt(betas50).dot(np.sqrt(w_t_distrib5.T)), axis=0))\n",
    "print(score_betas50_node5)"
   ]
  },
  {
   "cell_type": "code",
   "execution_count": 147,
   "id": "f8405589",
   "metadata": {},
   "outputs": [
    {
     "name": "stdout",
     "output_type": "stream",
     "text": [
      "9.999808127980206\n",
      "7.990993398743203\n",
      "7.865236468515959\n",
      "7.316418275619755\n",
      "7.614494957203701\n",
      "9.999801085930102\n",
      "8.47788713502344\n",
      "7.633512432259278\n",
      "8.483750095346307\n",
      "9.999626911309434\n",
      "8.54943664531036\n",
      "8.95706755140094\n",
      "9.999775443837962\n",
      "8.106802171860126\n",
      "9.999596497411972\n"
     ]
    }
   ],
   "source": [
    "score_node1_node1 = np.sum(np.max(np.sqrt(w_t_distrib).dot(np.sqrt(w_t_distrib.T)), axis=0))\n",
    "print(score_node1_node1)\n",
    "score_node1_node2 = np.sum(np.max(np.sqrt(w_t_distrib).dot(np.sqrt(w_t_distrib2.T)), axis=0))\n",
    "print(score_node1_node2)\n",
    "score_node1_node3 = np.sum(np.max(np.sqrt(w_t_distrib).dot(np.sqrt(w_t_distrib3.T)), axis=0))\n",
    "print(score_node1_node3)\n",
    "score_node1_node4 = np.sum(np.max(np.sqrt(w_t_distrib).dot(np.sqrt(w_t_distrib4.T)), axis=0))\n",
    "print(score_node1_node4)\n",
    "score_node1_node5 = np.sum(np.max(np.sqrt(w_t_distrib).dot(np.sqrt(w_t_distrib5.T)), axis=0))\n",
    "print(score_node1_node5)\n",
    "\n",
    "score_node2_node2 = np.sum(np.max(np.sqrt(w_t_distrib2).dot(np.sqrt(w_t_distrib2.T)), axis=0))\n",
    "print(score_node2_node2)\n",
    "score_node2_node3 = np.sum(np.max(np.sqrt(w_t_distrib2).dot(np.sqrt(w_t_distrib3.T)), axis=0))\n",
    "print(score_node2_node3)\n",
    "score_node2_node4 = np.sum(np.max(np.sqrt(w_t_distrib2).dot(np.sqrt(w_t_distrib4.T)), axis=0))\n",
    "print(score_node2_node4)\n",
    "score_node2_node5 = np.sum(np.max(np.sqrt(w_t_distrib2).dot(np.sqrt(w_t_distrib5.T)), axis=0))\n",
    "print(score_node2_node5)\n",
    "\n",
    "score_node3_node3 = np.sum(np.max(np.sqrt(w_t_distrib3).dot(np.sqrt(w_t_distrib3.T)), axis=0))\n",
    "print(score_node3_node3)\n",
    "score_node3_node4 = np.sum(np.max(np.sqrt(w_t_distrib3).dot(np.sqrt(w_t_distrib4.T)), axis=0))\n",
    "print(score_node3_node4)\n",
    "score_node3_node5 = np.sum(np.max(np.sqrt(w_t_distrib3).dot(np.sqrt(w_t_distrib5.T)), axis=0))\n",
    "print(score_node3_node5)\n",
    "\n",
    "score_node4_node4 = np.sum(np.max(np.sqrt(w_t_distrib4).dot(np.sqrt(w_t_distrib4.T)), axis=0))\n",
    "print(score_node4_node4)\n",
    "score_node4_node5 = np.sum(np.max(np.sqrt(w_t_distrib4).dot(np.sqrt(w_t_distrib5.T)), axis=0))\n",
    "print(score_node4_node5)\n",
    "\n",
    "score_node5_node5 = np.sum(np.max(np.sqrt(w_t_distrib5).dot(np.sqrt(w_t_distrib5.T)), axis=0))\n",
    "print(score_node5_node5)"
   ]
  },
  {
   "cell_type": "code",
   "execution_count": 176,
   "id": "8e78228c",
   "metadata": {},
   "outputs": [
    {
     "data": {
      "image/png": "[encoded data removed]",
      "text/plain": [
       "<Figure size 576x432 with 1 Axes>"
      ]
     },
     "metadata": {
      "image/png": {
       "height": 433,
       "width": 499
      },
      "needs_background": "light"
     },
     "output_type": "display_data"
    }
   ],
   "source": [
    "plt.rcParams['figure.figsize'] = [8, 6]\n",
    "plt.rcParams.update({'font.size': 12})\n",
    "# set width of bars\n",
    "barWidth = 1/9\n",
    " \n",
    "# set heights of bars\n",
    "bars1 = [score_node1_node1, score_node1_node2, score_node1_node3, score_node1_node4, score_node1_node5]\n",
    "bars2 = [score_node1_node2, score_node2_node2, score_node2_node3, score_node2_node4, score_node2_node5]\n",
    "bars3 = [score_node1_node3, score_node2_node3, score_node3_node3, score_node3_node4, score_node3_node5]\n",
    "bars4 = [score_node1_node4, score_node2_node4, score_node3_node4, score_node4_node4, score_node4_node5]\n",
    "bars5 = [score_node1_node5, score_node2_node5, score_node3_node5, score_node4_node5, score_node5_node5]\n",
    "bars6 = [score_betas_node1, score_betas_node2, score_betas_node3, score_betas_node4, score_betas_node5]\n",
    "bars7 = [score_betas25_node1, score_betas25_node2, score_betas25_node3, score_betas25_node4, score_betas25_node5]\n",
    "bars8 = [score_betas50_node1, score_betas50_node2, score_betas50_node3, score_betas50_node4, score_betas50_node5]\n",
    "\n",
    "\n",
    "# Set position of bar on X axis\n",
    "r1 = np.arange(len(bars1))\n",
    "r2 = [x + barWidth for x in r1]\n",
    "r3 = [x + barWidth for x in r2]\n",
    "r4 = [x + barWidth for x in r3]\n",
    "r5 = [x + barWidth for x in r4] \n",
    "r6 = [x + barWidth for x in r5]\n",
    "r7 = [x + barWidth for x in r6]\n",
    "r8 = [x + barWidth for x in r7]\n",
    "\n",
    "# Make the plot\n",
    "plt.bar(r1, bars1, color = \"#07478F\", width=barWidth, edgecolor='white', label='node 1')\n",
    "plt.bar(r2, bars2, color = \"#8F180E\", width=barWidth, edgecolor='white', label='node 2')\n",
    "plt.bar(r3, bars3, color = \"#008E8E\", width=barWidth, edgecolor='white', label='node 3')\n",
    "plt.bar(r4, bars4, color = \"#8F600E\", width=barWidth, edgecolor='white', label='node 4')\n",
    "plt.bar(r5, bars5, color = \"#078F42\", width=barWidth, edgecolor='white', label='node 5')\n",
    "plt.bar(r6, bars6, color = \"#07C9DE\", width=barWidth, edgecolor='white', label='fed-10')\n",
    "plt.bar(r7, bars7, color = \"#8A56B3\", width=barWidth, edgecolor='white', label='fed-25')\n",
    "plt.bar(r8, bars8, color = \"#809B0E\", width=barWidth, edgecolor='white', label='fed-50')\n",
    "\n",
    "# Add xticks on the middle of the group bars\n",
    "#plt.xlabel('group', fontweight='bold')\n",
    "plt.xticks([r + barWidth for r in range(len(bars1))], ['node 1', 'node 2', 'node 3', 'node 4', 'node 5'])\n",
    "plt.ylabel('Topics correctly identified')\n",
    "plt.title('Scores by model')\n",
    "# Create legend & Show graphic\n",
    "plt.legend(bbox_to_anchor=(0.5, -0.25), loc='lower center', ncol=4)\n",
    "plt.show()"
   ]
  },
  {
   "cell_type": "code",
   "execution_count": 129,
   "id": "99b2e923",
   "metadata": {},
   "outputs": [
    {
     "name": "stdout",
     "output_type": "stream",
     "text": [
      "Centralized with 10\n",
      "MAX 0.018776508\n",
      "MIN 1.3742105e-11\n",
      "\n",
      "\n",
      "Centralized with 25\n",
      "MAX 0.94527423\n",
      "MIN 1e-12\n",
      "[0.9999999  1.0000002  1.0000002  0.9999994  1.0000006  0.99999917\n",
      " 1.000001   1.000001   0.99999976 0.9999998  1.0000005  1.0000005\n",
      " 1.0000005  1.0000005  0.9999991  1.         0.9999996  0.9999988\n",
      " 0.9999999  0.9999992  0.99999976 1.         1.0000002  0.9999999\n",
      " 1.0000005 ]\n",
      "\n",
      "\n",
      "Centralized with 50\n",
      "MAX 0.998561\n",
      "MIN 1e-12\n",
      "\n",
      "\n",
      "Non-collab node 1\n",
      "MAX 0.0012827613\n",
      "MIN 1.5065755e-08\n",
      "\n",
      "\n",
      "Non-collab node 2\n",
      "MAX 0.0005266793\n",
      "MIN 2.1777254e-07\n",
      "\n",
      "\n"
     ]
    }
   ],
   "source": [
    "print(\"Centralized with 10\")\n",
    "print(\"MAX\", np.max(betas))\n",
    "print(\"MIN\", np.min(betas))\n",
    "print(\"\\n\")\n",
    "\n",
    "print(\"Centralized with 25\")\n",
    "print(\"MAX\", np.max(betas25))\n",
    "print(\"MIN\", np.min(betas25))\n",
    "print(np.sum(betas25,axis=1))\n",
    "print(\"\\n\")\n",
    "\n",
    "print(\"Centralized with 50\")\n",
    "print(\"MAX\", np.max(betas50))\n",
    "print(\"MIN\", np.min(betas50))\n",
    "print(\"\\n\")\n",
    "\n",
    "print(\"Non-collab node 1\")\n",
    "print(\"MAX\", np.max(betas_node))\n",
    "print(\"MIN\", np.min(betas_node))\n",
    "print(\"\\n\")\n",
    "\n",
    "print(\"Non-collab node 2\")\n",
    "print(\"MAX\", np.max(betas_node2))\n",
    "print(\"MIN\", np.min(betas_node2))\n",
    "print(\"\\n\")"
   ]
  },
  {
   "cell_type": "code",
   "execution_count": 140,
   "id": "c65b0bc5",
   "metadata": {},
   "outputs": [
    {
     "name": "stdout",
     "output_type": "stream",
     "text": [
      "Centralized with 25\n",
      "MAX OF ALL: 0.94527423\n",
      "MIN OF ALL: 1e-12\n",
      "MAX [0.11233511 0.63170755 0.333726   0.15356015 0.20543034 0.48666164\n",
      " 0.94527423 0.25959566 0.14693294 0.38122484 0.21011394 0.22448508\n",
      " 0.29888996 0.1606129  0.02851129 0.2639109  0.01871204 0.01318957\n",
      " 0.06670669 0.88753647 0.17051527 0.03216697 0.02658669 0.00978786\n",
      " 0.02502421]\n",
      "MIN [1.0000001e-12 1.0000008e-12 1.0000000e-12 1.0000000e-12 1.0000000e-12\n",
      " 1.0000000e-12 1.0000000e-12 1.0000000e-12 1.0000001e-12 1.0000001e-12\n",
      " 1.0000008e-12 1.0000000e-12 1.0000004e-12 1.0000000e-12 1.0000000e-12\n",
      " 1.0000000e-12 1.0000000e-12 1.0000000e-12 1.0000001e-12 1.0000000e-12\n",
      " 1.0000001e-12 1.0000019e-12 1.0000006e-12 1.0000000e-12 1.0000000e-12]\n",
      "\n",
      "\n",
      "2\n"
     ]
    }
   ],
   "source": [
    "print(\"Centralized with 25\")\n",
    "print(\"MAX OF ALL:\", np.max(betas25))\n",
    "print(\"MIN OF ALL:\", np.min(betas25))\n",
    "print(\"MAX\", np.max(betas25, axis=1))\n",
    "print(\"MIN\", np.min(betas25, axis=1))\n",
    "#print(np.sum(betas25,axis=1))\n",
    "print(\"\\n\")\n",
    "print(len(np.where(betas25==np.max(betas25))))"
   ]
  },
  {
   "cell_type": "code",
   "execution_count": 184,
   "id": "536a8bd9",
   "metadata": {},
   "outputs": [
    {
     "data": {
      "text/plain": [
       "dtype('float32')"
      ]
     },
     "execution_count": 184,
     "metadata": {},
     "output_type": "execute_result"
    }
   ],
   "source": [
    "betas25.dtype"
   ]
  }
 ],
 "metadata": {
  "kernelspec": {
   "display_name": "Python 3 (ipykernel)",
   "language": "python",
   "name": "python3"
  },
  "language_info": {
   "codemirror_mode": {
    "name": "ipython",
    "version": 3
   },
   "file_extension": ".py",
   "mimetype": "text/x-python",
   "name": "python",
   "nbconvert_exporter": "python",
   "pygments_lexer": "ipython3",
   "version": "3.10.6"
  }
 },
 "nbformat": 4,
 "nbformat_minor": 5
}
